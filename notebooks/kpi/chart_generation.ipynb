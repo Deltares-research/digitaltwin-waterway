{
 "cells": [
  {
   "cell_type": "code",
   "execution_count": 1,
   "metadata": {},
   "outputs": [],
   "source": [
    "import pathlib\n",
    "import json\n",
    "import copy\n",
    "\n",
    "import pandas as pd\n",
    "import geopandas as gpd\n",
    "import numpy as np\n",
    "\n",
    "import dtv_backend.chart_templates\n",
    "import dtv_backend.charts"
   ]
  },
  {
   "cell_type": "code",
   "execution_count": 2,
   "metadata": {},
   "outputs": [],
   "source": [
    "path = pathlib.Path('../../dtv_backend/tests/user/2022-09-08-result.json')"
   ]
  },
  {
   "cell_type": "code",
   "execution_count": 3,
   "metadata": {},
   "outputs": [],
   "source": [
    "with open(path) as f:\n",
    "    results = json.load(f)"
   ]
  },
  {
   "cell_type": "markdown",
   "metadata": {},
   "source": [
    "#### KPI trip duration"
   ]
  },
  {
   "cell_type": "code",
   "execution_count": 4,
   "metadata": {},
   "outputs": [
    {
     "name": "stdout",
     "output_type": "stream",
     "text": [
      "{\"title\": {\"text\": \"Trip duration\", \"subtext\": \"Example data\"}, \"tooltip\": {\"trigger\": \"axis\", \"axisPointer\": {\"type\": \"cross\"}}, \"toolbox\": {\"show\": true, \"feature\": {\"saveAsImage\": {}}}, \"xAxis\": {\"type\": \"category\", \"boundaryGap\": true, \"data\": [0, 1, 2, 3, 4, 5, 6]}, \"yAxis\": {\"type\": \"value\", \"axisLabel\": {\"formatter\": \"{value}\"}, \"axisPointer\": {\"snap\": true}}, \"visualMap\": {\"show\": true, \"dimension\": 1, \"pieces\": [{\"lte\": 32.98, \"color\": \"green\"}, {\"gt\": 32.98, \"color\": \"red\"}]}, \"series\": [{\"name\": \"Trip duration\", \"type\": \"scatter\", \"data\": [13.091111111111111, 5.010555555555555, 5.010555555555555, 5.010555555555555, 5.010277777777778, 5.010555555555555, 5.010555555555555]}]}\n"
     ]
    }
   ],
   "source": [
    "echart = dtv_backend.charts.trip_duration(results)\n",
    "print(json.dumps(echart))"
   ]
  },
  {
   "cell_type": "markdown",
   "metadata": {},
   "source": [
    "#### KPI duration breakdown"
   ]
  },
  {
   "cell_type": "code",
   "execution_count": 5,
   "metadata": {},
   "outputs": [
    {
     "name": "stdout",
     "output_type": "stream",
     "text": [
      "{\"tooltip\": {\"trigger\": \"item\", \"formatter\": \"{b} : {c}h ({d}%)\"}, \"legend\": {\"orient\": \"vertical\", \"left\": \"left\", \"data\": [\"Sailing\", \"Load request\", \"Unload request\"]}, \"series\": [{\"name\": \"Duration breakdown\", \"type\": \"pie\", \"radius\": \"80%\", \"center\": [\"50%\", \"50%\"], \"data\": [{\"value\": 8.080555555555556, \"name\": \"Load request\"}, {\"value\": 35.073611111111106, \"name\": \"Sailing\"}, {\"value\": 0.0, \"name\": \"Unload request\"}], \"emphasis\": {\"itemStyle\": {\"shadowBlur\": 10, \"shadowOffsetX\": 0, \"shadowColor\": \"rgba(0, 0, 0, 0.5)\"}}}]}\n"
     ]
    }
   ],
   "source": [
    "echart = dtv_backend.charts.duration_breakdown(results)\n",
    "print(json.dumps(echart))"
   ]
  }
 ],
 "metadata": {
  "kernelspec": {
   "display_name": "Python 3",
   "language": "python",
   "name": "python3"
  },
  "language_info": {
   "codemirror_mode": {
    "name": "ipython",
    "version": 3
   },
   "file_extension": ".py",
   "mimetype": "text/x-python",
   "name": "python",
   "nbconvert_exporter": "python",
   "pygments_lexer": "ipython3",
   "version": "3.8.6"
  }
 },
 "nbformat": 4,
 "nbformat_minor": 5
}
