{
 "cells": [
  {
   "cell_type": "code",
   "execution_count": 1,
   "id": "ade40029",
   "metadata": {},
   "outputs": [
    {
     "name": "stderr",
     "output_type": "stream",
     "text": [
      "/Users/baart_f/.virtualenvs/main/lib/python3.9/site-packages/geopandas/_compat.py:111: UserWarning: The Shapely GEOS version (3.10.2-CAPI-1.16.0) is incompatible with the GEOS version PyGEOS was compiled with (3.10.1-CAPI-1.16.0). Conversions between both will be slow.\n",
      "  warnings.warn(\n"
     ]
    }
   ],
   "source": [
    "import pathlib\n",
    "import json\n",
    "import copy\n",
    "\n",
    "import pandas as pd\n",
    "import geopandas as gpd\n",
    "import numpy as np\n",
    "\n",
    "import dtv_backend.chart_templates\n",
    "import dtv_backend.charts"
   ]
  },
  {
   "cell_type": "code",
   "execution_count": 2,
   "id": "19d2784b",
   "metadata": {},
   "outputs": [],
   "source": [
    "path = pathlib.Path('../../dtv_backend/tests/user/2022-09-08-result.json')"
   ]
  },
  {
   "cell_type": "code",
   "execution_count": 3,
   "id": "50bb69fa",
   "metadata": {},
   "outputs": [],
   "source": [
    "with open(path) as f:\n",
    "    results = json.load(f)"
   ]
  },
  {
   "cell_type": "code",
   "execution_count": 4,
   "id": "5b401caa",
   "metadata": {},
   "outputs": [
    {
     "name": "stdout",
     "output_type": "stream",
     "text": [
      "{\"title\": {\"text\": \"Trip duration\", \"subtext\": \"Example data\"}, \"tooltip\": {\"trigger\": \"axis\", \"axisPointer\": {\"type\": \"cross\"}}, \"toolbox\": {\"show\": true, \"feature\": {\"saveAsImage\": {}}}, \"xAxis\": {\"type\": \"category\", \"boundaryGap\": true, \"data\": [0, 1, 2, 3, 4, 5, 6]}, \"yAxis\": {\"type\": \"value\", \"axisLabel\": {\"formatter\": \"{value}\"}, \"axisPointer\": {\"snap\": true}}, \"visualMap\": {\"show\": true, \"dimension\": 1, \"pieces\": [{\"lte\": 32.98, \"color\": \"green\"}, {\"gt\": 32.98, \"color\": \"red\"}]}, \"series\": [{\"name\": \"Trip duration\", \"type\": \"scatter\", \"data\": [13.091111111111111, 5.010555555555555, 5.010555555555555, 5.010555555555555, 5.010277777777778, 5.010555555555555, 5.010555555555555]}]}\n"
     ]
    }
   ],
   "source": [
    "echart = dtv_backend.charts.trip_duration(results)\n",
    "print(json.dumps(echart))"
   ]
  },
  {
   "cell_type": "code",
   "execution_count": null,
   "id": "c5022c79",
   "metadata": {},
   "outputs": [],
   "source": []
  }
 ],
 "metadata": {
  "kernelspec": {
   "display_name": "Python 3 (ipykernel)",
   "language": "python",
   "name": "python3"
  },
  "language_info": {
   "codemirror_mode": {
    "name": "ipython",
    "version": 3
   },
   "file_extension": ".py",
   "mimetype": "text/x-python",
   "name": "python",
   "nbconvert_exporter": "python",
   "pygments_lexer": "ipython3",
   "version": "3.9.13"
  }
 },
 "nbformat": 4,
 "nbformat_minor": 5
}
