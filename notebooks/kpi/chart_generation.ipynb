{
 "cells": [
  {
   "cell_type": "code",
   "execution_count": 16,
   "id": "b6bbefe9",
   "metadata": {},
   "outputs": [],
   "source": [
    "import pathlib\n",
    "import json\n",
    "import copy\n",
    "\n",
    "import pandas as pd\n",
    "import geopandas as gpd\n",
    "import numpy as np\n",
    "\n",
    "import plotly.express as px\n",
    "\n",
    "import dtv_backend.chart_templates\n",
    "import dtv_backend.charts"
   ]
  },
  {
   "cell_type": "code",
   "execution_count": 2,
   "id": "8f904f7c",
   "metadata": {},
   "outputs": [],
   "source": [
    "path = pathlib.Path('../../dtv_backend/tests/user/2022-11-04-result.json')"
   ]
  },
  {
   "cell_type": "code",
   "execution_count": 3,
   "id": "e2d7b1b1",
   "metadata": {},
   "outputs": [],
   "source": [
    "with open(path) as f:\n",
    "    results = json.load(f)"
   ]
  },
  {
   "cell_type": "markdown",
   "id": "2a2a1771",
   "metadata": {},
   "source": [
    "#### KPI trip duration"
   ]
  },
  {
   "cell_type": "code",
   "execution_count": 4,
   "id": "aa69b6b6",
   "metadata": {},
   "outputs": [
    {
     "name": "stdout",
     "output_type": "stream",
     "text": [
      "{\"title\": {\"text\": \"Trip duration\", \"subtext\": \"Duration per trip\"}, \"tooltip\": {\"trigger\": \"axis\", \"axisPointer\": {\"type\": \"cross\"}}, \"toolbox\": {\"show\": true, \"feature\": {\"saveAsImage\": {}}}, \"xAxis\": {\"type\": \"category\", \"boundaryGap\": true, \"data\": [0, 1, 2, 3, 4]}, \"yAxis\": {\"type\": \"value\", \"axisLabel\": {\"formatter\": \"{value}\"}, \"axisPointer\": {\"snap\": true}}, \"visualMap\": {\"show\": true, \"dimension\": 1, \"pieces\": [{\"lte\": 32.98, \"color\": \"green\"}, {\"gt\": 32.98, \"color\": \"red\"}]}, \"series\": [{\"name\": \"Trip duration\", \"type\": \"scatter\", \"data\": [30.731666666666666, 37.88027777777778, 37.88055555555555, 37.88055555555555, 22.72888888888889]}]}\n"
     ]
    }
   ],
   "source": [
    "echart = dtv_backend.charts.trip_duration(results)\n",
    "print(json.dumps(echart))"
   ]
  },
  {
   "cell_type": "markdown",
   "id": "44dd2339",
   "metadata": {},
   "source": [
    "#### KPI duration breakdown"
   ]
  },
  {
   "cell_type": "code",
   "execution_count": 5,
   "id": "f1895f85",
   "metadata": {},
   "outputs": [
    {
     "name": "stdout",
     "output_type": "stream",
     "text": [
      "{\"tooltip\": {\"trigger\": \"item\", \"formatter\": \"{b} : {c}h ({d}%)\"}, \"legend\": {\"orient\": \"vertical\", \"left\": \"left\", \"data\": [\"Sailing\", \"Load\"]}, \"series\": [{\"name\": \"Duration breakdown\", \"type\": \"pie\", \"radius\": \"80%\", \"center\": [\"50%\", \"50%\"], \"data\": [{\"value\": 101.01, \"name\": \"Load\"}, {\"value\": 66.09194444444445, \"name\": \"Sailing\"}], \"emphasis\": {\"itemStyle\": {\"shadowBlur\": 10, \"shadowOffsetX\": 0, \"shadowColor\": \"rgba(0, 0, 0, 0.5)\"}}}]}\n"
     ]
    }
   ],
   "source": [
    "echart = dtv_backend.charts.duration_breakdown(results)\n",
    "print(json.dumps(echart))"
   ]
  },
  {
   "cell_type": "markdown",
   "id": "3885c63c",
   "metadata": {},
   "source": [
    "#### KPI trips\n",
    "\n",
    "What is intended to be shown here?"
   ]
  },
  {
   "cell_type": "code",
   "execution_count": 6,
   "id": "5ac1d0dc",
   "metadata": {},
   "outputs": [
    {
     "name": "stdout",
     "output_type": "stream",
     "text": [
      "22\n"
     ]
    },
    {
     "data": {
      "text/plain": [
       "(array([1, 0, 1, 0, 3]), array([22, 23, 27, 31, 35, 38]))"
      ]
     },
     "execution_count": 6,
     "metadata": {},
     "output_type": "execute_result"
    }
   ],
   "source": [
    "gdf = gpd.GeoDataFrame.from_features(results[\"log\"][\"features\"])\n",
    "\n",
    "cycle_idx = np.logical_and(\n",
    "    gdf[\"Actor type\"] == \"Ship\", gdf[\"Name\"] == \"Cycle\")\n",
    "selected = gdf[cycle_idx].reset_index(drop=True)\n",
    "echart = copy.deepcopy(dtv_backend.chart_templates.trip_duration_template)\n",
    "echart[\"xAxis\"][\"data\"] = selected.index.tolist()\n",
    "durations = pd.to_datetime(\n",
    "    selected[\"Stop\"]) - pd.to_datetime(selected[\"Start\"])\n",
    "hours = durations.dt.total_seconds() / 3600\n",
    "\n",
    "bins = np.histogram_bin_edges(hours, bins='sturges' )\n",
    "bins = np.ceil(bins)\n",
    "\n",
    "# make numbers prettier\n",
    "bins = np.unique(np.ceil(bins)).astype('int')\n",
    "min_hours = np.floor(hours.min()).astype('int')\n",
    "print(min_hours)\n",
    "counts, bins = np.histogram(hours.tolist(), [min_hours] +  bins.tolist())\n",
    "\n",
    "counts, bins\n"
   ]
  },
  {
   "cell_type": "code",
   "execution_count": 7,
   "id": "94ea8f27",
   "metadata": {},
   "outputs": [
    {
     "data": {
      "text/plain": [
       "<AxesSubplot:>"
      ]
     },
     "execution_count": 7,
     "metadata": {},
     "output_type": "execute_result"
    }
   ],
   "source": [
    "hours.hist()"
   ]
  },
  {
   "cell_type": "code",
   "execution_count": 8,
   "id": "997c45cc",
   "metadata": {},
   "outputs": [
    {
     "data": {
      "text/plain": [
       "'{\"xAxis\": {\"name\": \"Duration\", \"type\": \"category\", \"data\": [22, 23, 27, 31, 35, 38]}, \"yAxis\": {\"type\": \"value\", \"name\": \"Count\"}, \"legend\": {\"data\": [\"Duration [h]\"]}, \"series\": [{\"name\": \"Duration [h]\", \"data\": [1, 0, 1, 0, 3], \"type\": \"bar\", \"barWidth\": \"99.3%\"}]}'"
      ]
     },
     "execution_count": 8,
     "metadata": {},
     "output_type": "execute_result"
    }
   ],
   "source": [
    "echart = dtv_backend.charts.trip_histogram(results)\n",
    "echart['xAxis']['data'] = bins.tolist()\n",
    "echart['series'][0]['data'] = counts.tolist()\n",
    "json.dumps(echart)"
   ]
  },
  {
   "cell_type": "code",
   "execution_count": 21,
   "id": "80f8fd26",
   "metadata": {},
   "outputs": [
    {
     "data": {
      "application/vnd.plotly.v1+json": {
       "config": {
        "plotlyServerURL": "https://plot.ly"
       },
       "data": [
        {
         "alignmentgroup": "True",
         "base": [
          "2022-11-04 15:22:24",
          "2022-11-04 15:22:24",
          "2022-11-04 16:22:24",
          "2022-11-04 17:22:24",
          "2022-11-04 18:22:24",
          "2022-11-04 19:22:24"
         ],
         "hovertemplate": "Actor=Operator<br>Start=%{base}<br>Stop=%{x}<br>Name=%{y}<extra></extra>",
         "legendgroup": "Operator",
         "marker": {
          "color": "#636efa",
          "opacity": 0.3
         },
         "name": "Operator",
         "offsetgroup": "Operator",
         "orientation": "h",
         "showlegend": true,
         "textposition": "auto",
         "type": "bar",
         "x": [
          null,
          3600000,
          3600000,
          3600000,
          3600000,
          3600000
         ],
         "xaxis": "x",
         "y": [
          "Plan",
          "Task",
          "Task",
          "Task",
          "Task",
          "Task"
         ],
         "yaxis": "y"
        },
        {
         "alignmentgroup": "True",
         "base": [
          "2022-11-04 16:22:24",
          "2022-11-04 16:22:24",
          "2022-11-04 16:32:55",
          "2022-11-05 04:09:53",
          "2022-11-05 11:29:20",
          "2022-11-05 23:06:18",
          "2022-11-05 23:06:18",
          "2022-11-06 06:25:44",
          "2022-11-06 18:02:43",
          "2022-11-07 01:22:09",
          "2022-11-07 12:59:07",
          "2022-11-07 12:59:07",
          "2022-11-07 20:18:34",
          "2022-11-08 07:55:32",
          "2022-11-08 15:14:59",
          "2022-11-09 02:51:57",
          "2022-11-09 02:51:57",
          "2022-11-09 10:11:24",
          "2022-11-09 21:48:22",
          "2022-11-10 05:07:49",
          "2022-11-10 16:44:47",
          "2022-11-10 16:44:47",
          "2022-11-11 00:04:13",
          "2022-11-11 04:06:39",
          "2022-11-11 11:26:06"
         ],
         "hovertemplate": "Actor=Large Rhine vessel<br>Start=%{base}<br>Stop=%{x}<br>Name=%{y}<extra></extra>",
         "legendgroup": "Large Rhine vessel",
         "marker": {
          "color": "#EF553B",
          "opacity": 0.3
         },
         "name": "Large Rhine vessel",
         "offsetgroup": "Large Rhine vessel",
         "orientation": "h",
         "showlegend": true,
         "textposition": "auto",
         "type": "bar",
         "x": [
          110634000,
          631000,
          41818000,
          26367000,
          41818000,
          136369000,
          26366000,
          41819000,
          26366000,
          41818000,
          136370000,
          26367000,
          41818000,
          26367000,
          41818000,
          136370000,
          26367000,
          41818000,
          26367000,
          41818000,
          81824000,
          26366000,
          14546000,
          26367000,
          14545000
         ],
         "xaxis": "x",
         "y": [
          "Cycle",
          "Sailing",
          "Load request",
          "Sailing",
          "Unload request",
          "Cycle",
          "Sailing",
          "Load request",
          "Sailing",
          "Unload request",
          "Cycle",
          "Sailing",
          "Load request",
          "Sailing",
          "Unload request",
          "Cycle",
          "Sailing",
          "Load request",
          "Sailing",
          "Unload request",
          "Cycle",
          "Sailing",
          "Load request",
          "Sailing",
          "Unload request"
         ],
         "yaxis": "y"
        },
        {
         "alignmentgroup": "True",
         "base": [
          "2022-11-04 16:32:55",
          "2022-11-06 06:25:44",
          "2022-11-07 20:18:34",
          "2022-11-09 10:11:24",
          "2022-11-11 00:04:13"
         ],
         "hovertemplate": "Actor=8863919<br>Start=%{base}<br>Stop=%{x}<br>Name=%{y}<extra></extra>",
         "legendgroup": "8863919",
         "marker": {
          "color": "#00cc96",
          "opacity": 0.3
         },
         "name": "8863919",
         "offsetgroup": "8863919",
         "orientation": "h",
         "showlegend": true,
         "textposition": "auto",
         "type": "bar",
         "x": [
          41818000,
          41819000,
          41818000,
          41818000,
          14546000
         ],
         "xaxis": "x",
         "y": [
          "Load",
          "Load",
          "Load",
          "Load",
          "Load"
         ],
         "yaxis": "y"
        },
        {
         "alignmentgroup": "True",
         "base": [
          "2022-11-05 11:29:20",
          "2022-11-07 01:22:09",
          "2022-11-08 15:14:59",
          "2022-11-10 05:07:49",
          "2022-11-11 11:26:06"
         ],
         "hovertemplate": "Actor=Berth267<br>Start=%{base}<br>Stop=%{x}<br>Name=%{y}<extra></extra>",
         "legendgroup": "Berth267",
         "marker": {
          "color": "#ab63fa",
          "opacity": 0.3
         },
         "name": "Berth267",
         "offsetgroup": "Berth267",
         "orientation": "h",
         "showlegend": true,
         "textposition": "auto",
         "type": "bar",
         "x": [
          41818000,
          41818000,
          41818000,
          41818000,
          14545000
         ],
         "xaxis": "x",
         "y": [
          "Load",
          "Load",
          "Load",
          "Load",
          "Load"
         ],
         "yaxis": "y"
        }
       ],
       "layout": {
        "barmode": "overlay",
        "legend": {
         "title": {
          "text": "Actor"
         },
         "tracegroupgap": 0
        },
        "margin": {
         "t": 60
        },
        "template": {
         "data": {
          "bar": [
           {
            "error_x": {
             "color": "#f2f5fa"
            },
            "error_y": {
             "color": "#f2f5fa"
            },
            "marker": {
             "line": {
              "color": "rgb(17,17,17)",
              "width": 0.5
             },
             "pattern": {
              "fillmode": "overlay",
              "size": 10,
              "solidity": 0.2
             }
            },
            "type": "bar"
           }
          ],
          "barpolar": [
           {
            "marker": {
             "line": {
              "color": "rgb(17,17,17)",
              "width": 0.5
             },
             "pattern": {
              "fillmode": "overlay",
              "size": 10,
              "solidity": 0.2
             }
            },
            "type": "barpolar"
           }
          ],
          "carpet": [
           {
            "aaxis": {
             "endlinecolor": "#A2B1C6",
             "gridcolor": "#506784",
             "linecolor": "#506784",
             "minorgridcolor": "#506784",
             "startlinecolor": "#A2B1C6"
            },
            "baxis": {
             "endlinecolor": "#A2B1C6",
             "gridcolor": "#506784",
             "linecolor": "#506784",
             "minorgridcolor": "#506784",
             "startlinecolor": "#A2B1C6"
            },
            "type": "carpet"
           }
          ],
          "choropleth": [
           {
            "colorbar": {
             "outlinewidth": 0,
             "ticks": ""
            },
            "type": "choropleth"
           }
          ],
          "contour": [
           {
            "colorbar": {
             "outlinewidth": 0,
             "ticks": ""
            },
            "colorscale": [
             [
              0,
              "#0d0887"
             ],
             [
              0.1111111111111111,
              "#46039f"
             ],
             [
              0.2222222222222222,
              "#7201a8"
             ],
             [
              0.3333333333333333,
              "#9c179e"
             ],
             [
              0.4444444444444444,
              "#bd3786"
             ],
             [
              0.5555555555555556,
              "#d8576b"
             ],
             [
              0.6666666666666666,
              "#ed7953"
             ],
             [
              0.7777777777777778,
              "#fb9f3a"
             ],
             [
              0.8888888888888888,
              "#fdca26"
             ],
             [
              1,
              "#f0f921"
             ]
            ],
            "type": "contour"
           }
          ],
          "contourcarpet": [
           {
            "colorbar": {
             "outlinewidth": 0,
             "ticks": ""
            },
            "type": "contourcarpet"
           }
          ],
          "heatmap": [
           {
            "colorbar": {
             "outlinewidth": 0,
             "ticks": ""
            },
            "colorscale": [
             [
              0,
              "#0d0887"
             ],
             [
              0.1111111111111111,
              "#46039f"
             ],
             [
              0.2222222222222222,
              "#7201a8"
             ],
             [
              0.3333333333333333,
              "#9c179e"
             ],
             [
              0.4444444444444444,
              "#bd3786"
             ],
             [
              0.5555555555555556,
              "#d8576b"
             ],
             [
              0.6666666666666666,
              "#ed7953"
             ],
             [
              0.7777777777777778,
              "#fb9f3a"
             ],
             [
              0.8888888888888888,
              "#fdca26"
             ],
             [
              1,
              "#f0f921"
             ]
            ],
            "type": "heatmap"
           }
          ],
          "heatmapgl": [
           {
            "colorbar": {
             "outlinewidth": 0,
             "ticks": ""
            },
            "colorscale": [
             [
              0,
              "#0d0887"
             ],
             [
              0.1111111111111111,
              "#46039f"
             ],
             [
              0.2222222222222222,
              "#7201a8"
             ],
             [
              0.3333333333333333,
              "#9c179e"
             ],
             [
              0.4444444444444444,
              "#bd3786"
             ],
             [
              0.5555555555555556,
              "#d8576b"
             ],
             [
              0.6666666666666666,
              "#ed7953"
             ],
             [
              0.7777777777777778,
              "#fb9f3a"
             ],
             [
              0.8888888888888888,
              "#fdca26"
             ],
             [
              1,
              "#f0f921"
             ]
            ],
            "type": "heatmapgl"
           }
          ],
          "histogram": [
           {
            "marker": {
             "pattern": {
              "fillmode": "overlay",
              "size": 10,
              "solidity": 0.2
             }
            },
            "type": "histogram"
           }
          ],
          "histogram2d": [
           {
            "colorbar": {
             "outlinewidth": 0,
             "ticks": ""
            },
            "colorscale": [
             [
              0,
              "#0d0887"
             ],
             [
              0.1111111111111111,
              "#46039f"
             ],
             [
              0.2222222222222222,
              "#7201a8"
             ],
             [
              0.3333333333333333,
              "#9c179e"
             ],
             [
              0.4444444444444444,
              "#bd3786"
             ],
             [
              0.5555555555555556,
              "#d8576b"
             ],
             [
              0.6666666666666666,
              "#ed7953"
             ],
             [
              0.7777777777777778,
              "#fb9f3a"
             ],
             [
              0.8888888888888888,
              "#fdca26"
             ],
             [
              1,
              "#f0f921"
             ]
            ],
            "type": "histogram2d"
           }
          ],
          "histogram2dcontour": [
           {
            "colorbar": {
             "outlinewidth": 0,
             "ticks": ""
            },
            "colorscale": [
             [
              0,
              "#0d0887"
             ],
             [
              0.1111111111111111,
              "#46039f"
             ],
             [
              0.2222222222222222,
              "#7201a8"
             ],
             [
              0.3333333333333333,
              "#9c179e"
             ],
             [
              0.4444444444444444,
              "#bd3786"
             ],
             [
              0.5555555555555556,
              "#d8576b"
             ],
             [
              0.6666666666666666,
              "#ed7953"
             ],
             [
              0.7777777777777778,
              "#fb9f3a"
             ],
             [
              0.8888888888888888,
              "#fdca26"
             ],
             [
              1,
              "#f0f921"
             ]
            ],
            "type": "histogram2dcontour"
           }
          ],
          "mesh3d": [
           {
            "colorbar": {
             "outlinewidth": 0,
             "ticks": ""
            },
            "type": "mesh3d"
           }
          ],
          "parcoords": [
           {
            "line": {
             "colorbar": {
              "outlinewidth": 0,
              "ticks": ""
             }
            },
            "type": "parcoords"
           }
          ],
          "pie": [
           {
            "automargin": true,
            "type": "pie"
           }
          ],
          "scatter": [
           {
            "marker": {
             "line": {
              "color": "#283442"
             }
            },
            "type": "scatter"
           }
          ],
          "scatter3d": [
           {
            "line": {
             "colorbar": {
              "outlinewidth": 0,
              "ticks": ""
             }
            },
            "marker": {
             "colorbar": {
              "outlinewidth": 0,
              "ticks": ""
             }
            },
            "type": "scatter3d"
           }
          ],
          "scattercarpet": [
           {
            "marker": {
             "colorbar": {
              "outlinewidth": 0,
              "ticks": ""
             }
            },
            "type": "scattercarpet"
           }
          ],
          "scattergeo": [
           {
            "marker": {
             "colorbar": {
              "outlinewidth": 0,
              "ticks": ""
             }
            },
            "type": "scattergeo"
           }
          ],
          "scattergl": [
           {
            "marker": {
             "line": {
              "color": "#283442"
             }
            },
            "type": "scattergl"
           }
          ],
          "scattermapbox": [
           {
            "marker": {
             "colorbar": {
              "outlinewidth": 0,
              "ticks": ""
             }
            },
            "type": "scattermapbox"
           }
          ],
          "scatterpolar": [
           {
            "marker": {
             "colorbar": {
              "outlinewidth": 0,
              "ticks": ""
             }
            },
            "type": "scatterpolar"
           }
          ],
          "scatterpolargl": [
           {
            "marker": {
             "colorbar": {
              "outlinewidth": 0,
              "ticks": ""
             }
            },
            "type": "scatterpolargl"
           }
          ],
          "scatterternary": [
           {
            "marker": {
             "colorbar": {
              "outlinewidth": 0,
              "ticks": ""
             }
            },
            "type": "scatterternary"
           }
          ],
          "surface": [
           {
            "colorbar": {
             "outlinewidth": 0,
             "ticks": ""
            },
            "colorscale": [
             [
              0,
              "#0d0887"
             ],
             [
              0.1111111111111111,
              "#46039f"
             ],
             [
              0.2222222222222222,
              "#7201a8"
             ],
             [
              0.3333333333333333,
              "#9c179e"
             ],
             [
              0.4444444444444444,
              "#bd3786"
             ],
             [
              0.5555555555555556,
              "#d8576b"
             ],
             [
              0.6666666666666666,
              "#ed7953"
             ],
             [
              0.7777777777777778,
              "#fb9f3a"
             ],
             [
              0.8888888888888888,
              "#fdca26"
             ],
             [
              1,
              "#f0f921"
             ]
            ],
            "type": "surface"
           }
          ],
          "table": [
           {
            "cells": {
             "fill": {
              "color": "#506784"
             },
             "line": {
              "color": "rgb(17,17,17)"
             }
            },
            "header": {
             "fill": {
              "color": "#2a3f5f"
             },
             "line": {
              "color": "rgb(17,17,17)"
             }
            },
            "type": "table"
           }
          ]
         },
         "layout": {
          "annotationdefaults": {
           "arrowcolor": "#f2f5fa",
           "arrowhead": 0,
           "arrowwidth": 1
          },
          "autotypenumbers": "strict",
          "coloraxis": {
           "colorbar": {
            "outlinewidth": 0,
            "ticks": ""
           }
          },
          "colorscale": {
           "diverging": [
            [
             0,
             "#8e0152"
            ],
            [
             0.1,
             "#c51b7d"
            ],
            [
             0.2,
             "#de77ae"
            ],
            [
             0.3,
             "#f1b6da"
            ],
            [
             0.4,
             "#fde0ef"
            ],
            [
             0.5,
             "#f7f7f7"
            ],
            [
             0.6,
             "#e6f5d0"
            ],
            [
             0.7,
             "#b8e186"
            ],
            [
             0.8,
             "#7fbc41"
            ],
            [
             0.9,
             "#4d9221"
            ],
            [
             1,
             "#276419"
            ]
           ],
           "sequential": [
            [
             0,
             "#0d0887"
            ],
            [
             0.1111111111111111,
             "#46039f"
            ],
            [
             0.2222222222222222,
             "#7201a8"
            ],
            [
             0.3333333333333333,
             "#9c179e"
            ],
            [
             0.4444444444444444,
             "#bd3786"
            ],
            [
             0.5555555555555556,
             "#d8576b"
            ],
            [
             0.6666666666666666,
             "#ed7953"
            ],
            [
             0.7777777777777778,
             "#fb9f3a"
            ],
            [
             0.8888888888888888,
             "#fdca26"
            ],
            [
             1,
             "#f0f921"
            ]
           ],
           "sequentialminus": [
            [
             0,
             "#0d0887"
            ],
            [
             0.1111111111111111,
             "#46039f"
            ],
            [
             0.2222222222222222,
             "#7201a8"
            ],
            [
             0.3333333333333333,
             "#9c179e"
            ],
            [
             0.4444444444444444,
             "#bd3786"
            ],
            [
             0.5555555555555556,
             "#d8576b"
            ],
            [
             0.6666666666666666,
             "#ed7953"
            ],
            [
             0.7777777777777778,
             "#fb9f3a"
            ],
            [
             0.8888888888888888,
             "#fdca26"
            ],
            [
             1,
             "#f0f921"
            ]
           ]
          },
          "colorway": [
           "#636efa",
           "#EF553B",
           "#00cc96",
           "#ab63fa",
           "#FFA15A",
           "#19d3f3",
           "#FF6692",
           "#B6E880",
           "#FF97FF",
           "#FECB52"
          ],
          "font": {
           "color": "#f2f5fa"
          },
          "geo": {
           "bgcolor": "rgb(17,17,17)",
           "lakecolor": "rgb(17,17,17)",
           "landcolor": "rgb(17,17,17)",
           "showlakes": true,
           "showland": true,
           "subunitcolor": "#506784"
          },
          "hoverlabel": {
           "align": "left"
          },
          "hovermode": "closest",
          "mapbox": {
           "style": "dark"
          },
          "paper_bgcolor": "rgb(17,17,17)",
          "plot_bgcolor": "rgb(17,17,17)",
          "polar": {
           "angularaxis": {
            "gridcolor": "#506784",
            "linecolor": "#506784",
            "ticks": ""
           },
           "bgcolor": "rgb(17,17,17)",
           "radialaxis": {
            "gridcolor": "#506784",
            "linecolor": "#506784",
            "ticks": ""
           }
          },
          "scene": {
           "xaxis": {
            "backgroundcolor": "rgb(17,17,17)",
            "gridcolor": "#506784",
            "gridwidth": 2,
            "linecolor": "#506784",
            "showbackground": true,
            "ticks": "",
            "zerolinecolor": "#C8D4E3"
           },
           "yaxis": {
            "backgroundcolor": "rgb(17,17,17)",
            "gridcolor": "#506784",
            "gridwidth": 2,
            "linecolor": "#506784",
            "showbackground": true,
            "ticks": "",
            "zerolinecolor": "#C8D4E3"
           },
           "zaxis": {
            "backgroundcolor": "rgb(17,17,17)",
            "gridcolor": "#506784",
            "gridwidth": 2,
            "linecolor": "#506784",
            "showbackground": true,
            "ticks": "",
            "zerolinecolor": "#C8D4E3"
           }
          },
          "shapedefaults": {
           "line": {
            "color": "#f2f5fa"
           }
          },
          "sliderdefaults": {
           "bgcolor": "#C8D4E3",
           "bordercolor": "rgb(17,17,17)",
           "borderwidth": 1,
           "tickwidth": 0
          },
          "ternary": {
           "aaxis": {
            "gridcolor": "#506784",
            "linecolor": "#506784",
            "ticks": ""
           },
           "baxis": {
            "gridcolor": "#506784",
            "linecolor": "#506784",
            "ticks": ""
           },
           "bgcolor": "rgb(17,17,17)",
           "caxis": {
            "gridcolor": "#506784",
            "linecolor": "#506784",
            "ticks": ""
           }
          },
          "title": {
           "x": 0.05
          },
          "updatemenudefaults": {
           "bgcolor": "#506784",
           "borderwidth": 0
          },
          "xaxis": {
           "automargin": true,
           "gridcolor": "#283442",
           "linecolor": "#506784",
           "ticks": "",
           "title": {
            "standoff": 15
           },
           "zerolinecolor": "#283442",
           "zerolinewidth": 2
          },
          "yaxis": {
           "automargin": true,
           "gridcolor": "#283442",
           "linecolor": "#506784",
           "ticks": "",
           "title": {
            "standoff": 15
           },
           "zerolinecolor": "#283442",
           "zerolinewidth": 2
          }
         }
        },
        "xaxis": {
         "anchor": "y",
         "domain": [
          0,
          1
         ],
         "type": "date"
        },
        "yaxis": {
         "anchor": "x",
         "autorange": "reversed",
         "domain": [
          0,
          1
         ],
         "title": {
          "text": "Name"
         }
        }
       }
      },
      "text/html": [
       "<div>                            <div id=\"9d39d4bc-f8fd-4243-87c1-555ad148c356\" class=\"plotly-graph-div\" style=\"height:525px; width:100%;\"></div>            <script type=\"text/javascript\">                require([\"plotly\"], function(Plotly) {                    window.PLOTLYENV=window.PLOTLYENV || {};                                    if (document.getElementById(\"9d39d4bc-f8fd-4243-87c1-555ad148c356\")) {                    Plotly.newPlot(                        \"9d39d4bc-f8fd-4243-87c1-555ad148c356\",                        [{\"alignmentgroup\":\"True\",\"base\":[\"2022-11-04 15:22:24\",\"2022-11-04 15:22:24\",\"2022-11-04 16:22:24\",\"2022-11-04 17:22:24\",\"2022-11-04 18:22:24\",\"2022-11-04 19:22:24\"],\"hovertemplate\":\"Actor=Operator<br>Start=%{base}<br>Stop=%{x}<br>Name=%{y}<extra></extra>\",\"legendgroup\":\"Operator\",\"marker\":{\"color\":\"#636efa\",\"opacity\":0.3},\"name\":\"Operator\",\"offsetgroup\":\"Operator\",\"orientation\":\"h\",\"showlegend\":true,\"textposition\":\"auto\",\"x\":[null,3600000.0,3600000.0,3600000.0,3600000.0,3600000.0],\"xaxis\":\"x\",\"y\":[\"Plan\",\"Task\",\"Task\",\"Task\",\"Task\",\"Task\"],\"yaxis\":\"y\",\"type\":\"bar\"},{\"alignmentgroup\":\"True\",\"base\":[\"2022-11-04 16:22:24\",\"2022-11-04 16:22:24\",\"2022-11-04 16:32:55\",\"2022-11-05 04:09:53\",\"2022-11-05 11:29:20\",\"2022-11-05 23:06:18\",\"2022-11-05 23:06:18\",\"2022-11-06 06:25:44\",\"2022-11-06 18:02:43\",\"2022-11-07 01:22:09\",\"2022-11-07 12:59:07\",\"2022-11-07 12:59:07\",\"2022-11-07 20:18:34\",\"2022-11-08 07:55:32\",\"2022-11-08 15:14:59\",\"2022-11-09 02:51:57\",\"2022-11-09 02:51:57\",\"2022-11-09 10:11:24\",\"2022-11-09 21:48:22\",\"2022-11-10 05:07:49\",\"2022-11-10 16:44:47\",\"2022-11-10 16:44:47\",\"2022-11-11 00:04:13\",\"2022-11-11 04:06:39\",\"2022-11-11 11:26:06\"],\"hovertemplate\":\"Actor=Large Rhine vessel<br>Start=%{base}<br>Stop=%{x}<br>Name=%{y}<extra></extra>\",\"legendgroup\":\"Large Rhine vessel\",\"marker\":{\"color\":\"#EF553B\",\"opacity\":0.3},\"name\":\"Large Rhine vessel\",\"offsetgroup\":\"Large Rhine vessel\",\"orientation\":\"h\",\"showlegend\":true,\"textposition\":\"auto\",\"x\":[110634000.0,631000.0,41818000.0,26367000.0,41818000.0,136369000.0,26366000.0,41819000.0,26366000.0,41818000.0,136370000.0,26367000.0,41818000.0,26367000.0,41818000.0,136370000.0,26367000.0,41818000.0,26367000.0,41818000.0,81824000.0,26366000.0,14546000.0,26367000.0,14545000.0],\"xaxis\":\"x\",\"y\":[\"Cycle\",\"Sailing\",\"Load request\",\"Sailing\",\"Unload request\",\"Cycle\",\"Sailing\",\"Load request\",\"Sailing\",\"Unload request\",\"Cycle\",\"Sailing\",\"Load request\",\"Sailing\",\"Unload request\",\"Cycle\",\"Sailing\",\"Load request\",\"Sailing\",\"Unload request\",\"Cycle\",\"Sailing\",\"Load request\",\"Sailing\",\"Unload request\"],\"yaxis\":\"y\",\"type\":\"bar\"},{\"alignmentgroup\":\"True\",\"base\":[\"2022-11-04 16:32:55\",\"2022-11-06 06:25:44\",\"2022-11-07 20:18:34\",\"2022-11-09 10:11:24\",\"2022-11-11 00:04:13\"],\"hovertemplate\":\"Actor=8863919<br>Start=%{base}<br>Stop=%{x}<br>Name=%{y}<extra></extra>\",\"legendgroup\":\"8863919\",\"marker\":{\"color\":\"#00cc96\",\"opacity\":0.3},\"name\":\"8863919\",\"offsetgroup\":\"8863919\",\"orientation\":\"h\",\"showlegend\":true,\"textposition\":\"auto\",\"x\":[41818000.0,41819000.0,41818000.0,41818000.0,14546000.0],\"xaxis\":\"x\",\"y\":[\"Load\",\"Load\",\"Load\",\"Load\",\"Load\"],\"yaxis\":\"y\",\"type\":\"bar\"},{\"alignmentgroup\":\"True\",\"base\":[\"2022-11-05 11:29:20\",\"2022-11-07 01:22:09\",\"2022-11-08 15:14:59\",\"2022-11-10 05:07:49\",\"2022-11-11 11:26:06\"],\"hovertemplate\":\"Actor=Berth267<br>Start=%{base}<br>Stop=%{x}<br>Name=%{y}<extra></extra>\",\"legendgroup\":\"Berth267\",\"marker\":{\"color\":\"#ab63fa\",\"opacity\":0.3},\"name\":\"Berth267\",\"offsetgroup\":\"Berth267\",\"orientation\":\"h\",\"showlegend\":true,\"textposition\":\"auto\",\"x\":[41818000.0,41818000.0,41818000.0,41818000.0,14545000.0],\"xaxis\":\"x\",\"y\":[\"Load\",\"Load\",\"Load\",\"Load\",\"Load\"],\"yaxis\":\"y\",\"type\":\"bar\"}],                        {\"template\":{\"data\":{\"barpolar\":[{\"marker\":{\"line\":{\"color\":\"rgb(17,17,17)\",\"width\":0.5},\"pattern\":{\"fillmode\":\"overlay\",\"size\":10,\"solidity\":0.2}},\"type\":\"barpolar\"}],\"bar\":[{\"error_x\":{\"color\":\"#f2f5fa\"},\"error_y\":{\"color\":\"#f2f5fa\"},\"marker\":{\"line\":{\"color\":\"rgb(17,17,17)\",\"width\":0.5},\"pattern\":{\"fillmode\":\"overlay\",\"size\":10,\"solidity\":0.2}},\"type\":\"bar\"}],\"carpet\":[{\"aaxis\":{\"endlinecolor\":\"#A2B1C6\",\"gridcolor\":\"#506784\",\"linecolor\":\"#506784\",\"minorgridcolor\":\"#506784\",\"startlinecolor\":\"#A2B1C6\"},\"baxis\":{\"endlinecolor\":\"#A2B1C6\",\"gridcolor\":\"#506784\",\"linecolor\":\"#506784\",\"minorgridcolor\":\"#506784\",\"startlinecolor\":\"#A2B1C6\"},\"type\":\"carpet\"}],\"choropleth\":[{\"colorbar\":{\"outlinewidth\":0,\"ticks\":\"\"},\"type\":\"choropleth\"}],\"contourcarpet\":[{\"colorbar\":{\"outlinewidth\":0,\"ticks\":\"\"},\"type\":\"contourcarpet\"}],\"contour\":[{\"colorbar\":{\"outlinewidth\":0,\"ticks\":\"\"},\"colorscale\":[[0.0,\"#0d0887\"],[0.1111111111111111,\"#46039f\"],[0.2222222222222222,\"#7201a8\"],[0.3333333333333333,\"#9c179e\"],[0.4444444444444444,\"#bd3786\"],[0.5555555555555556,\"#d8576b\"],[0.6666666666666666,\"#ed7953\"],[0.7777777777777778,\"#fb9f3a\"],[0.8888888888888888,\"#fdca26\"],[1.0,\"#f0f921\"]],\"type\":\"contour\"}],\"heatmapgl\":[{\"colorbar\":{\"outlinewidth\":0,\"ticks\":\"\"},\"colorscale\":[[0.0,\"#0d0887\"],[0.1111111111111111,\"#46039f\"],[0.2222222222222222,\"#7201a8\"],[0.3333333333333333,\"#9c179e\"],[0.4444444444444444,\"#bd3786\"],[0.5555555555555556,\"#d8576b\"],[0.6666666666666666,\"#ed7953\"],[0.7777777777777778,\"#fb9f3a\"],[0.8888888888888888,\"#fdca26\"],[1.0,\"#f0f921\"]],\"type\":\"heatmapgl\"}],\"heatmap\":[{\"colorbar\":{\"outlinewidth\":0,\"ticks\":\"\"},\"colorscale\":[[0.0,\"#0d0887\"],[0.1111111111111111,\"#46039f\"],[0.2222222222222222,\"#7201a8\"],[0.3333333333333333,\"#9c179e\"],[0.4444444444444444,\"#bd3786\"],[0.5555555555555556,\"#d8576b\"],[0.6666666666666666,\"#ed7953\"],[0.7777777777777778,\"#fb9f3a\"],[0.8888888888888888,\"#fdca26\"],[1.0,\"#f0f921\"]],\"type\":\"heatmap\"}],\"histogram2dcontour\":[{\"colorbar\":{\"outlinewidth\":0,\"ticks\":\"\"},\"colorscale\":[[0.0,\"#0d0887\"],[0.1111111111111111,\"#46039f\"],[0.2222222222222222,\"#7201a8\"],[0.3333333333333333,\"#9c179e\"],[0.4444444444444444,\"#bd3786\"],[0.5555555555555556,\"#d8576b\"],[0.6666666666666666,\"#ed7953\"],[0.7777777777777778,\"#fb9f3a\"],[0.8888888888888888,\"#fdca26\"],[1.0,\"#f0f921\"]],\"type\":\"histogram2dcontour\"}],\"histogram2d\":[{\"colorbar\":{\"outlinewidth\":0,\"ticks\":\"\"},\"colorscale\":[[0.0,\"#0d0887\"],[0.1111111111111111,\"#46039f\"],[0.2222222222222222,\"#7201a8\"],[0.3333333333333333,\"#9c179e\"],[0.4444444444444444,\"#bd3786\"],[0.5555555555555556,\"#d8576b\"],[0.6666666666666666,\"#ed7953\"],[0.7777777777777778,\"#fb9f3a\"],[0.8888888888888888,\"#fdca26\"],[1.0,\"#f0f921\"]],\"type\":\"histogram2d\"}],\"histogram\":[{\"marker\":{\"pattern\":{\"fillmode\":\"overlay\",\"size\":10,\"solidity\":0.2}},\"type\":\"histogram\"}],\"mesh3d\":[{\"colorbar\":{\"outlinewidth\":0,\"ticks\":\"\"},\"type\":\"mesh3d\"}],\"parcoords\":[{\"line\":{\"colorbar\":{\"outlinewidth\":0,\"ticks\":\"\"}},\"type\":\"parcoords\"}],\"pie\":[{\"automargin\":true,\"type\":\"pie\"}],\"scatter3d\":[{\"line\":{\"colorbar\":{\"outlinewidth\":0,\"ticks\":\"\"}},\"marker\":{\"colorbar\":{\"outlinewidth\":0,\"ticks\":\"\"}},\"type\":\"scatter3d\"}],\"scattercarpet\":[{\"marker\":{\"colorbar\":{\"outlinewidth\":0,\"ticks\":\"\"}},\"type\":\"scattercarpet\"}],\"scattergeo\":[{\"marker\":{\"colorbar\":{\"outlinewidth\":0,\"ticks\":\"\"}},\"type\":\"scattergeo\"}],\"scattergl\":[{\"marker\":{\"line\":{\"color\":\"#283442\"}},\"type\":\"scattergl\"}],\"scattermapbox\":[{\"marker\":{\"colorbar\":{\"outlinewidth\":0,\"ticks\":\"\"}},\"type\":\"scattermapbox\"}],\"scatterpolargl\":[{\"marker\":{\"colorbar\":{\"outlinewidth\":0,\"ticks\":\"\"}},\"type\":\"scatterpolargl\"}],\"scatterpolar\":[{\"marker\":{\"colorbar\":{\"outlinewidth\":0,\"ticks\":\"\"}},\"type\":\"scatterpolar\"}],\"scatter\":[{\"marker\":{\"line\":{\"color\":\"#283442\"}},\"type\":\"scatter\"}],\"scatterternary\":[{\"marker\":{\"colorbar\":{\"outlinewidth\":0,\"ticks\":\"\"}},\"type\":\"scatterternary\"}],\"surface\":[{\"colorbar\":{\"outlinewidth\":0,\"ticks\":\"\"},\"colorscale\":[[0.0,\"#0d0887\"],[0.1111111111111111,\"#46039f\"],[0.2222222222222222,\"#7201a8\"],[0.3333333333333333,\"#9c179e\"],[0.4444444444444444,\"#bd3786\"],[0.5555555555555556,\"#d8576b\"],[0.6666666666666666,\"#ed7953\"],[0.7777777777777778,\"#fb9f3a\"],[0.8888888888888888,\"#fdca26\"],[1.0,\"#f0f921\"]],\"type\":\"surface\"}],\"table\":[{\"cells\":{\"fill\":{\"color\":\"#506784\"},\"line\":{\"color\":\"rgb(17,17,17)\"}},\"header\":{\"fill\":{\"color\":\"#2a3f5f\"},\"line\":{\"color\":\"rgb(17,17,17)\"}},\"type\":\"table\"}]},\"layout\":{\"annotationdefaults\":{\"arrowcolor\":\"#f2f5fa\",\"arrowhead\":0,\"arrowwidth\":1},\"autotypenumbers\":\"strict\",\"coloraxis\":{\"colorbar\":{\"outlinewidth\":0,\"ticks\":\"\"}},\"colorscale\":{\"diverging\":[[0,\"#8e0152\"],[0.1,\"#c51b7d\"],[0.2,\"#de77ae\"],[0.3,\"#f1b6da\"],[0.4,\"#fde0ef\"],[0.5,\"#f7f7f7\"],[0.6,\"#e6f5d0\"],[0.7,\"#b8e186\"],[0.8,\"#7fbc41\"],[0.9,\"#4d9221\"],[1,\"#276419\"]],\"sequential\":[[0.0,\"#0d0887\"],[0.1111111111111111,\"#46039f\"],[0.2222222222222222,\"#7201a8\"],[0.3333333333333333,\"#9c179e\"],[0.4444444444444444,\"#bd3786\"],[0.5555555555555556,\"#d8576b\"],[0.6666666666666666,\"#ed7953\"],[0.7777777777777778,\"#fb9f3a\"],[0.8888888888888888,\"#fdca26\"],[1.0,\"#f0f921\"]],\"sequentialminus\":[[0.0,\"#0d0887\"],[0.1111111111111111,\"#46039f\"],[0.2222222222222222,\"#7201a8\"],[0.3333333333333333,\"#9c179e\"],[0.4444444444444444,\"#bd3786\"],[0.5555555555555556,\"#d8576b\"],[0.6666666666666666,\"#ed7953\"],[0.7777777777777778,\"#fb9f3a\"],[0.8888888888888888,\"#fdca26\"],[1.0,\"#f0f921\"]]},\"colorway\":[\"#636efa\",\"#EF553B\",\"#00cc96\",\"#ab63fa\",\"#FFA15A\",\"#19d3f3\",\"#FF6692\",\"#B6E880\",\"#FF97FF\",\"#FECB52\"],\"font\":{\"color\":\"#f2f5fa\"},\"geo\":{\"bgcolor\":\"rgb(17,17,17)\",\"lakecolor\":\"rgb(17,17,17)\",\"landcolor\":\"rgb(17,17,17)\",\"showlakes\":true,\"showland\":true,\"subunitcolor\":\"#506784\"},\"hoverlabel\":{\"align\":\"left\"},\"hovermode\":\"closest\",\"mapbox\":{\"style\":\"dark\"},\"paper_bgcolor\":\"rgb(17,17,17)\",\"plot_bgcolor\":\"rgb(17,17,17)\",\"polar\":{\"angularaxis\":{\"gridcolor\":\"#506784\",\"linecolor\":\"#506784\",\"ticks\":\"\"},\"bgcolor\":\"rgb(17,17,17)\",\"radialaxis\":{\"gridcolor\":\"#506784\",\"linecolor\":\"#506784\",\"ticks\":\"\"}},\"scene\":{\"xaxis\":{\"backgroundcolor\":\"rgb(17,17,17)\",\"gridcolor\":\"#506784\",\"gridwidth\":2,\"linecolor\":\"#506784\",\"showbackground\":true,\"ticks\":\"\",\"zerolinecolor\":\"#C8D4E3\"},\"yaxis\":{\"backgroundcolor\":\"rgb(17,17,17)\",\"gridcolor\":\"#506784\",\"gridwidth\":2,\"linecolor\":\"#506784\",\"showbackground\":true,\"ticks\":\"\",\"zerolinecolor\":\"#C8D4E3\"},\"zaxis\":{\"backgroundcolor\":\"rgb(17,17,17)\",\"gridcolor\":\"#506784\",\"gridwidth\":2,\"linecolor\":\"#506784\",\"showbackground\":true,\"ticks\":\"\",\"zerolinecolor\":\"#C8D4E3\"}},\"shapedefaults\":{\"line\":{\"color\":\"#f2f5fa\"}},\"sliderdefaults\":{\"bgcolor\":\"#C8D4E3\",\"bordercolor\":\"rgb(17,17,17)\",\"borderwidth\":1,\"tickwidth\":0},\"ternary\":{\"aaxis\":{\"gridcolor\":\"#506784\",\"linecolor\":\"#506784\",\"ticks\":\"\"},\"baxis\":{\"gridcolor\":\"#506784\",\"linecolor\":\"#506784\",\"ticks\":\"\"},\"bgcolor\":\"rgb(17,17,17)\",\"caxis\":{\"gridcolor\":\"#506784\",\"linecolor\":\"#506784\",\"ticks\":\"\"}},\"title\":{\"x\":0.05},\"updatemenudefaults\":{\"bgcolor\":\"#506784\",\"borderwidth\":0},\"xaxis\":{\"automargin\":true,\"gridcolor\":\"#283442\",\"linecolor\":\"#506784\",\"ticks\":\"\",\"title\":{\"standoff\":15},\"zerolinecolor\":\"#283442\",\"zerolinewidth\":2},\"yaxis\":{\"automargin\":true,\"gridcolor\":\"#283442\",\"linecolor\":\"#506784\",\"ticks\":\"\",\"title\":{\"standoff\":15},\"zerolinecolor\":\"#283442\",\"zerolinewidth\":2}}},\"xaxis\":{\"anchor\":\"y\",\"domain\":[0.0,1.0],\"type\":\"date\"},\"yaxis\":{\"anchor\":\"x\",\"domain\":[0.0,1.0],\"title\":{\"text\":\"Name\"},\"autorange\":\"reversed\"},\"legend\":{\"title\":{\"text\":\"Actor\"},\"tracegroupgap\":0},\"margin\":{\"t\":60},\"barmode\":\"overlay\"},                        {\"responsive\": true}                    ).then(function(){\n",
       "                            \n",
       "var gd = document.getElementById('9d39d4bc-f8fd-4243-87c1-555ad148c356');\n",
       "var x = new MutationObserver(function (mutations, observer) {{\n",
       "        var display = window.getComputedStyle(gd).display;\n",
       "        if (!display || display === 'none') {{\n",
       "            console.log([gd, 'removed!']);\n",
       "            Plotly.purge(gd);\n",
       "            observer.disconnect();\n",
       "        }}\n",
       "}});\n",
       "\n",
       "// Listen for the removal of the full notebook cells\n",
       "var notebookContainer = gd.closest('#notebook-container');\n",
       "if (notebookContainer) {{\n",
       "    x.observe(notebookContainer, {childList: true});\n",
       "}}\n",
       "\n",
       "// Listen for the clearing of the current output cell\n",
       "var outputEl = gd.closest('.output');\n",
       "if (outputEl) {{\n",
       "    x.observe(outputEl, {childList: true});\n",
       "}}\n",
       "\n",
       "                        })                };                });            </script>        </div>"
      ]
     },
     "metadata": {},
     "output_type": "display_data"
    }
   ],
   "source": [
    "gdf = gpd.GeoDataFrame.from_features(results['log'])\n",
    "fig = px.timeline(\n",
    "    gdf, x_start=\"Start\", x_end=\"Stop\", y=\"Name\", color=\"Actor\", opacity=0.3,\n",
    "    template=\"plotly_dark\"\n",
    ")\n",
    "\n",
    "fig.update_yaxes(autorange=\"reversed\")\n",
    "# fig.to_plotly_json()"
   ]
  },
  {
   "cell_type": "markdown",
   "id": "b18b2f50",
   "metadata": {},
   "source": [
    "#### KPI TON km\n",
    "\n",
    "WIP"
   ]
  },
  {
   "cell_type": "code",
   "execution_count": 12,
   "id": "fdb59461",
   "metadata": {},
   "outputs": [],
   "source": [
    "echart = dtv_backend.charts.energy_per_distance(results)\n",
    "json.dumps(echart);"
   ]
  },
  {
   "cell_type": "code",
   "execution_count": 11,
   "id": "582a4cba",
   "metadata": {},
   "outputs": [],
   "source": [
    "echart = dtv_backend.charts.energy_per_time(results)\n",
    "json.dumps(echart);"
   ]
  },
  {
   "cell_type": "code",
   "execution_count": null,
   "id": "92b2aef8",
   "metadata": {},
   "outputs": [],
   "source": []
  }
 ],
 "metadata": {
  "kernelspec": {
   "display_name": "Python 3 (ipykernel)",
   "language": "python",
   "name": "python3"
  },
  "language_info": {
   "codemirror_mode": {
    "name": "ipython",
    "version": 3
   },
   "file_extension": ".py",
   "mimetype": "text/x-python",
   "name": "python",
   "nbconvert_exporter": "python",
   "pygments_lexer": "ipython3",
   "version": "3.9.15"
  }
 },
 "nbformat": 4,
 "nbformat_minor": 5
}
