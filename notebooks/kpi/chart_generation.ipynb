{
 "cells": [
  {
   "cell_type": "code",
   "execution_count": 1,
   "id": "b6bbefe9",
   "metadata": {},
   "outputs": [
    {
     "name": "stderr",
     "output_type": "stream",
     "text": [
      "/Users/baart_f/.virtualenvs/main/lib/python3.9/site-packages/geopandas/_compat.py:111: UserWarning: The Shapely GEOS version (3.10.2-CAPI-1.16.0) is incompatible with the GEOS version PyGEOS was compiled with (3.10.1-CAPI-1.16.0). Conversions between both will be slow.\n",
      "  warnings.warn(\n"
     ]
    }
   ],
   "source": [
    "import pathlib\n",
    "import json\n",
    "import copy\n",
    "\n",
    "import pandas as pd\n",
    "import geopandas as gpd\n",
    "import numpy as np\n",
    "\n",
    "import dtv_backend.chart_templates\n",
    "import dtv_backend.charts"
   ]
  },
  {
   "cell_type": "code",
   "execution_count": 2,
   "id": "8f904f7c",
   "metadata": {},
   "outputs": [],
   "source": [
    "path = pathlib.Path('../../dtv_backend/tests/user/2022-09-08-result.json')"
   ]
  },
  {
   "cell_type": "code",
   "execution_count": 3,
   "id": "e2d7b1b1",
   "metadata": {},
   "outputs": [],
   "source": [
    "with open(path) as f:\n",
    "    results = json.load(f)"
   ]
  },
  {
   "cell_type": "markdown",
   "id": "2a2a1771",
   "metadata": {},
   "source": [
    "#### KPI trip duration"
   ]
  },
  {
   "cell_type": "code",
   "execution_count": 4,
   "id": "aa69b6b6",
   "metadata": {},
   "outputs": [
    {
     "name": "stdout",
     "output_type": "stream",
     "text": [
      "{\"title\": {\"text\": \"Trip duration\", \"subtext\": \"Example data\"}, \"tooltip\": {\"trigger\": \"axis\", \"axisPointer\": {\"type\": \"cross\"}}, \"toolbox\": {\"show\": true, \"feature\": {\"saveAsImage\": {}}}, \"xAxis\": {\"type\": \"category\", \"boundaryGap\": true, \"data\": [0, 1, 2, 3, 4, 5, 6]}, \"yAxis\": {\"type\": \"value\", \"axisLabel\": {\"formatter\": \"{value}\"}, \"axisPointer\": {\"snap\": true}}, \"visualMap\": {\"show\": true, \"dimension\": 1, \"pieces\": [{\"lte\": 32.98, \"color\": \"green\"}, {\"gt\": 32.98, \"color\": \"red\"}]}, \"series\": [{\"name\": \"Trip duration\", \"type\": \"scatter\", \"data\": [13.091111111111111, 5.010555555555555, 5.010555555555555, 5.010555555555555, 5.010277777777778, 5.010555555555555, 5.010555555555555]}]}\n"
     ]
    }
   ],
   "source": [
    "echart = dtv_backend.charts.trip_duration(results)\n",
    "print(json.dumps(echart))"
   ]
  },
  {
   "cell_type": "markdown",
   "id": "44dd2339",
   "metadata": {},
   "source": [
    "#### KPI duration breakdown"
   ]
  },
  {
   "cell_type": "code",
   "execution_count": 10,
   "id": "f1895f85",
   "metadata": {},
   "outputs": [
    {
     "name": "stdout",
     "output_type": "stream",
     "text": [
      "{\"tooltip\": {\"trigger\": \"item\", \"formatter\": \"{b} : {c}h ({d}%)\"}, \"legend\": {\"orient\": \"vertical\", \"left\": \"left\", \"data\": [\"Sailing\", \"Load\"]}, \"series\": [{\"name\": \"Duration breakdown\", \"type\": \"pie\", \"radius\": \"80%\", \"center\": [\"50%\", \"50%\"], \"data\": [{\"value\": 8.080555555555556, \"name\": \"Load\"}, {\"value\": 35.07361111111111, \"name\": \"Sailing\"}], \"emphasis\": {\"itemStyle\": {\"shadowBlur\": 10, \"shadowOffsetX\": 0, \"shadowColor\": \"rgba(0, 0, 0, 0.5)\"}}}]}\n"
     ]
    }
   ],
   "source": [
    "echart = dtv_backend.charts.duration_breakdown(results)\n",
    "print(json.dumps(echart))"
   ]
  },
  {
   "cell_type": "markdown",
   "id": "3885c63c",
   "metadata": {},
   "source": [
    "#### KPI trips\n",
    "\n",
    "What is intended to be shown here?"
   ]
  },
  {
   "cell_type": "code",
   "execution_count": 9,
   "id": "5ac1d0dc",
   "metadata": {},
   "outputs": [
    {
     "name": "stdout",
     "output_type": "stream",
     "text": [
      "5\n"
     ]
    },
    {
     "data": {
      "text/plain": [
       "(array([6, 0, 0, 0, 1]), array([ 5,  6,  8, 10, 12, 14]))"
      ]
     },
     "execution_count": 9,
     "metadata": {},
     "output_type": "execute_result"
    }
   ],
   "source": [
    "gdf = gpd.GeoDataFrame.from_features(results[\"log\"][\"features\"])\n",
    "\n",
    "cycle_idx = np.logical_and(\n",
    "    gdf[\"Actor type\"] == \"Ship\", gdf[\"Name\"] == \"Cycle\")\n",
    "selected = gdf[cycle_idx].reset_index(drop=True)\n",
    "echart = copy.deepcopy(dtv_backend.chart_templates.trip_duration_template)\n",
    "echart[\"xAxis\"][\"data\"] = selected.index.tolist()\n",
    "durations = pd.to_datetime(\n",
    "    selected[\"Stop\"]) - pd.to_datetime(selected[\"Start\"])\n",
    "hours = durations.dt.total_seconds() / 3600\n",
    "\n",
    "bins = np.histogram_bin_edges(hours, bins='sturges' )\n",
    "bins = np.ceil(bins)\n",
    "\n",
    "# make numbers prettier\n",
    "bins = np.unique(np.ceil(bins)).astype('int')\n",
    "min_hours = np.floor(hours.min()).astype('int')\n",
    "print(min_hours)\n",
    "counts, bins = np.histogram(hours.tolist(), [min_hours] +  bins.tolist())\n",
    "\n",
    "counts, bins\n"
   ]
  },
  {
   "cell_type": "code",
   "execution_count": 7,
   "id": "94ea8f27",
   "metadata": {},
   "outputs": [
    {
     "data": {
      "text/plain": [
       "<AxesSubplot:>"
      ]
     },
     "execution_count": 7,
     "metadata": {},
     "output_type": "execute_result"
    },
    {
     "data": {
      "image/png": "[encoded data removed]",
      "text/plain": [
       "<Figure size 432x288 with 1 Axes>"
      ]
     },
     "metadata": {
      "needs_background": "light"
     },
     "output_type": "display_data"
    }
   ],
   "source": [
    "hours.hist()"
   ]
  },
  {
   "cell_type": "code",
   "execution_count": 8,
   "id": "997c45cc",
   "metadata": {},
   "outputs": [
    {
     "name": "stdout",
     "output_type": "stream",
     "text": [
      "{\n",
      "  \"xAxis\": {\n",
      "    \"name\": \"Duration\",\n",
      "    \"type\": \"category\",\n",
      "    \"boundaryGap\": false,\n",
      "    \"data\": [\n",
      "      5,\n",
      "      6,\n",
      "      8,\n",
      "      10,\n",
      "      12,\n",
      "      14\n",
      "    ]\n",
      "  },\n",
      "  \"yAxis\": {\n",
      "    \"type\": \"value\",\n",
      "    \"name\": \"Count\"\n",
      "  },\n",
      "  \"legend\": {\n",
      "    \"data\": [\n",
      "      \"Duration [h]\"\n",
      "    ]\n",
      "  },\n",
      "  \"series\": [\n",
      "    {\n",
      "      \"name\": \"Duration [h]\",\n",
      "      \"data\": [\n",
      "        6,\n",
      "        0,\n",
      "        0,\n",
      "        0,\n",
      "        1\n",
      "      ],\n",
      "      \"type\": \"bar\",\n",
      "      \"barWidth\": \"99.3%\"\n",
      "    }\n",
      "  ]\n",
      "}\n"
     ]
    }
   ],
   "source": [
    "echart = dtv_backend.charts.trips(results)\n",
    "echart['xAxis']['data'] = bins.tolist()\n",
    "echart['series'][0]['data'] = counts.tolist()\n",
    "print(json.dumps(echart, indent=2))"
   ]
  },
  {
   "cell_type": "code",
   "execution_count": null,
   "id": "80f8fd26",
   "metadata": {},
   "outputs": [],
   "source": []
  },
  {
   "cell_type": "markdown",
   "id": "b18b2f50",
   "metadata": {},
   "source": [
    "#### KPI TON km\n",
    "\n",
    "WIP"
   ]
  },
  {
   "cell_type": "code",
   "execution_count": null,
   "id": "152718cb",
   "metadata": {},
   "outputs": [],
   "source": []
  },
  {
   "cell_type": "code",
   "execution_count": null,
   "id": "cf659eab",
   "metadata": {},
   "outputs": [],
   "source": []
  },
  {
   "cell_type": "code",
   "execution_count": null,
   "id": "e9c9051f",
   "metadata": {},
   "outputs": [],
   "source": []
  }
 ],
 "metadata": {
  "kernelspec": {
   "display_name": "Python 3 (ipykernel)",
   "language": "python",
   "name": "python3"
  },
  "language_info": {
   "codemirror_mode": {
    "name": "ipython",
    "version": 3
   },
   "file_extension": ".py",
   "mimetype": "text/x-python",
   "name": "python",
   "nbconvert_exporter": "python",
   "pygments_lexer": "ipython3",
   "version": "3.9.13"
  }
 },
 "nbformat": 4,
 "nbformat_minor": 5
}
