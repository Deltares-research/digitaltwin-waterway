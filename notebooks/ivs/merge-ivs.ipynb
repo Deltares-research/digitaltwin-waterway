{
 "cells": [
  {
   "cell_type": "code",
   "execution_count": 9,
   "id": "f93b6e98-e0cb-4303-9ede-7e159ee55f31",
   "metadata": {},
   "outputs": [],
   "source": [
    "# use pathlib to scan for files\n",
    "import pathlib\n",
    "\n",
    "# use polars to read csv files faster\n",
    "import polars as pl \n",
    "# progress bar\n",
    "import tqdm.auto as tqdm\n",
    "# geopandas for coordinates\n",
    "import geopandas as gpd\n",
    "# dask for reading multiple files in parallel\n",
    "import dask.dataframe as dd"
   ]
  },
  {
   "cell_type": "markdown",
   "id": "11469369-f679-4136-add4-90555960a07f",
   "metadata": {},
   "source": [
    "# Combine all IVS data files into one dataset\n",
    "This notebook reads data from [goederenvervoer](https://downloads.rijkswaterstaatdata.nl/scheepvaart/goederenvervoer/archief/) IVS data and stores it as one files for easier processing."
   ]
  },
  {
   "cell_type": "code",
   "execution_count": 19,
   "id": "8e6c545f-adb4-43f2-821e-1ae06dd526ab",
   "metadata": {},
   "outputs": [],
   "source": [
    "# Download / update the files with the following command\n",
    "# wget -c -nd -r -np -l 1 -A zip 'https://downloads.rijkswaterstaatdata.nl/scheepvaart/goederenvervoer/archief/'"
   ]
  },
  {
   "cell_type": "code",
   "execution_count": 2,
   "id": "1a1f1c60-fcd2-45bf-afc7-3acb25f270d5",
   "metadata": {},
   "outputs": [],
   "source": [
    "# define all column names \n",
    "schema = dict([\n",
    "    ('Jaarmaand', pl.Int64),\n",
    "    ('Jaar', pl.Int64),\n",
    "    ('Maand', pl.Int64),\n",
    "    ('Weeknr', pl.Int64),\n",
    "    ('v05_06_begindt_evenement_iso', pl.String),\n",
    "    ('v05_06_Begindt_evenement', pl.String),\n",
    "    ('UNLO_herkomst', pl.String),\n",
    "    ('UNLO_bestemming', pl.String),\n",
    "    ('v15_1_Scheepstype_RWS', pl.String),\n",
    "    ('SK_CODE', pl.String),\n",
    "    ('v18_Laadvermogen', pl.Float64),\n",
    "    ('v28_Beladingscode', pl.Int64), \n",
    "    ('v38_Vervoerd_gewicht', pl.Int64), # check units in kg?\n",
    "    ('v30_4_Containers_TEU_S', pl.Int64),\n",
    "    ('nstr_nw', pl.String), # categories: see https://www.cbs.nl/en-gb/our-services/methods/definitions/commodity-nomenclature-nstr\n",
    "    ('nst2007_nw', pl.String)\n",
    "])\n"
   ]
  },
  {
   "cell_type": "code",
   "execution_count": 3,
   "id": "7c08e450-ce3d-401f-bc5a-1119940ceaea",
   "metadata": {},
   "outputs": [],
   "source": [
    "df = pl.read_csv('./IVS_weekmonitor_01APR2021.csv', separator=';', quote_char='\"', schema=schema, ignore_errors=False)"
   ]
  },
  {
   "cell_type": "code",
   "execution_count": 4,
   "id": "563f0680-5e5c-4155-8681-989854597ed5",
   "metadata": {},
   "outputs": [],
   "source": [
    "data_dir = pathlib.Path('.')\n",
    "paths = list(data_dir.glob('*.csv'))"
   ]
  },
  {
   "cell_type": "code",
   "execution_count": 5,
   "id": "956efc78-1da6-4c1f-8898-568cdd4eaffa",
   "metadata": {},
   "outputs": [
    {
     "data": {
      "application/vnd.jupyter.widget-view+json": {
       "model_id": "65ffe5ef5deb4be29b15d09e383431a4",
       "version_major": 2,
       "version_minor": 0
      },
      "text/plain": [
       "  0%|          | 0/1079 [00:00<?, ?it/s]"
      ]
     },
     "metadata": {},
     "output_type": "display_data"
    }
   ],
   "source": [
    "for path in tqdm.tqdm(paths):\n",
    "    df = pl.read_csv(path, separator=';', quote_char='\"', schema=schema, ignore_errors=True)\n",
    "    df.write_parquet(path.with_suffix('.parquet'))"
   ]
  },
  {
   "cell_type": "markdown",
   "id": "043220af-12aa-4dde-90a4-a815d93f04aa",
   "metadata": {},
   "source": [
    "Now we can re-read all the singular files. They should now all have static column types. We'll convert it into one file using dask. Dask can read multiple files and treat them as one. "
   ]
  },
  {
   "cell_type": "code",
   "execution_count": 7,
   "id": "81a70d38-8411-4260-922e-4a2061efe566",
   "metadata": {},
   "outputs": [],
   "source": [
    "ddf = dd.read_parquet('*.parquet')"
   ]
  },
  {
   "cell_type": "code",
   "execution_count": 8,
   "id": "76a4f3f3-18d2-42be-8b89-dd6666ba2f66",
   "metadata": {},
   "outputs": [],
   "source": [
    "# drop all double records (this might need some \n",
    "ddf = ddf.drop_duplicates()\n",
    "ddf.to_parquet('ivs-2024.parquet', overwrite=True)"
   ]
  },
  {
   "cell_type": "code",
   "execution_count": 10,
   "id": "ae885b79-fbb2-478e-9b44-ade2f23ec69b",
   "metadata": {},
   "outputs": [],
   "source": [
    "# convert to one file (to read into memory)\n",
    "ddf.compute().to_parquet('ivs-2024-one-file.parquet')\n"
   ]
  },
  {
   "cell_type": "code",
   "execution_count": 13,
   "id": "191a15fb-eac4-4857-88be-04c4cd1ebc02",
   "metadata": {},
   "outputs": [],
   "source": [
    "# test read performance\n",
    "ivs_df = pl.read_parquet('ivs-2024-one-file.parquet')"
   ]
  },
  {
   "cell_type": "code",
   "execution_count": null,
   "id": "77fdb721-6bc9-4d42-84a2-1881893948cf",
   "metadata": {},
   "outputs": [],
   "source": []
  }
 ],
 "metadata": {
  "kernelspec": {
   "display_name": "Python 3 (ipykernel)",
   "language": "python",
   "name": "python3"
  },
  "language_info": {
   "codemirror_mode": {
    "name": "ipython",
    "version": 3
   },
   "file_extension": ".py",
   "mimetype": "text/x-python",
   "name": "python",
   "nbconvert_exporter": "python",
   "pygments_lexer": "ipython3",
   "version": "3.12.0"
  }
 },
 "nbformat": 4,
 "nbformat_minor": 5
}
