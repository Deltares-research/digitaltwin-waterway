{
 "cells": [
  {
   "cell_type": "code",
   "execution_count": 75,
   "id": "f93b6e98-e0cb-4303-9ede-7e159ee55f31",
   "metadata": {},
   "outputs": [],
   "source": [
    "# use pathlib to scan for files\n",
    "import pathlib\n",
    "\n",
    "# use polars to read csv files faster\n",
    "import polars as pl \n",
    "# progress bar\n",
    "import tqdm.auto as tqdm\n",
    "# geopandas for coordinates\n",
    "import geopandas as gpd\n",
    "import pandas as pd\n",
    "# dask for reading multiple files in parallel\n",
    "import dask.dataframe as dd\n",
    "import dask.distributed \n",
    "import dask_geopandas\n",
    "import shapely"
   ]
  },
  {
   "cell_type": "code",
   "execution_count": 19,
   "id": "cfd0a20a-1583-4269-81c6-652cabac9049",
   "metadata": {},
   "outputs": [
    {
     "name": "stderr",
     "output_type": "stream",
     "text": [
      "/Users/baart_f/.virtualenvs/py312/lib/python3.12/site-packages/distributed/node.py:182: UserWarning: Port 8787 is already in use.\n",
      "Perhaps you already have a cluster running?\n",
      "Hosting the HTTP server on port 49633 instead\n",
      "  warnings.warn(\n"
     ]
    },
    {
     "data": {
      "text/html": [
       "<div>\n",
       "    <div style=\"width: 24px; height: 24px; background-color: #e1e1e1; border: 3px solid #9D9D9D; border-radius: 5px; position: absolute;\"> </div>\n",
       "    <div style=\"margin-left: 48px;\">\n",
       "        <h3 style=\"margin-bottom: 0px;\">Client</h3>\n",
       "        <p style=\"color: #9D9D9D; margin-bottom: 0px;\">Client-027633ee-0c45-11ef-b594-7ebe18db5f99</p>\n",
       "        <table style=\"width: 100%; text-align: left;\">\n",
       "\n",
       "        <tr>\n",
       "        \n",
       "            <td style=\"text-align: left;\"><strong>Connection method:</strong> Cluster object</td>\n",
       "            <td style=\"text-align: left;\"><strong>Cluster type:</strong> distributed.LocalCluster</td>\n",
       "        \n",
       "        </tr>\n",
       "\n",
       "        \n",
       "            <tr>\n",
       "                <td style=\"text-align: left;\">\n",
       "                    <strong>Dashboard: </strong> <a href=\"http://127.0.0.1:49633/status\" target=\"_blank\">http://127.0.0.1:49633/status</a>\n",
       "                </td>\n",
       "                <td style=\"text-align: left;\"></td>\n",
       "            </tr>\n",
       "        \n",
       "\n",
       "        </table>\n",
       "\n",
       "        \n",
       "\n",
       "        \n",
       "            <details>\n",
       "            <summary style=\"margin-bottom: 20px;\"><h3 style=\"display: inline;\">Cluster Info</h3></summary>\n",
       "            <div class=\"jp-RenderedHTMLCommon jp-RenderedHTML jp-mod-trusted jp-OutputArea-output\">\n",
       "    <div style=\"width: 24px; height: 24px; background-color: #e1e1e1; border: 3px solid #9D9D9D; border-radius: 5px; position: absolute;\">\n",
       "    </div>\n",
       "    <div style=\"margin-left: 48px;\">\n",
       "        <h3 style=\"margin-bottom: 0px; margin-top: 0px;\">LocalCluster</h3>\n",
       "        <p style=\"color: #9D9D9D; margin-bottom: 0px;\">a558fbd2</p>\n",
       "        <table style=\"width: 100%; text-align: left;\">\n",
       "            <tr>\n",
       "                <td style=\"text-align: left;\">\n",
       "                    <strong>Dashboard:</strong> <a href=\"http://127.0.0.1:49633/status\" target=\"_blank\">http://127.0.0.1:49633/status</a>\n",
       "                </td>\n",
       "                <td style=\"text-align: left;\">\n",
       "                    <strong>Workers:</strong> 5\n",
       "                </td>\n",
       "            </tr>\n",
       "            <tr>\n",
       "                <td style=\"text-align: left;\">\n",
       "                    <strong>Total threads:</strong> 10\n",
       "                </td>\n",
       "                <td style=\"text-align: left;\">\n",
       "                    <strong>Total memory:</strong> 64.00 GiB\n",
       "                </td>\n",
       "            </tr>\n",
       "            \n",
       "            <tr>\n",
       "    <td style=\"text-align: left;\"><strong>Status:</strong> running</td>\n",
       "    <td style=\"text-align: left;\"><strong>Using processes:</strong> True</td>\n",
       "</tr>\n",
       "\n",
       "            \n",
       "        </table>\n",
       "\n",
       "        <details>\n",
       "            <summary style=\"margin-bottom: 20px;\">\n",
       "                <h3 style=\"display: inline;\">Scheduler Info</h3>\n",
       "            </summary>\n",
       "\n",
       "            <div style=\"\">\n",
       "    <div>\n",
       "        <div style=\"width: 24px; height: 24px; background-color: #FFF7E5; border: 3px solid #FF6132; border-radius: 5px; position: absolute;\"> </div>\n",
       "        <div style=\"margin-left: 48px;\">\n",
       "            <h3 style=\"margin-bottom: 0px;\">Scheduler</h3>\n",
       "            <p style=\"color: #9D9D9D; margin-bottom: 0px;\">Scheduler-d1899ca8-911c-47c1-a58c-ceedab128041</p>\n",
       "            <table style=\"width: 100%; text-align: left;\">\n",
       "                <tr>\n",
       "                    <td style=\"text-align: left;\">\n",
       "                        <strong>Comm:</strong> tcp://127.0.0.1:49634\n",
       "                    </td>\n",
       "                    <td style=\"text-align: left;\">\n",
       "                        <strong>Workers:</strong> 5\n",
       "                    </td>\n",
       "                </tr>\n",
       "                <tr>\n",
       "                    <td style=\"text-align: left;\">\n",
       "                        <strong>Dashboard:</strong> <a href=\"http://127.0.0.1:49633/status\" target=\"_blank\">http://127.0.0.1:49633/status</a>\n",
       "                    </td>\n",
       "                    <td style=\"text-align: left;\">\n",
       "                        <strong>Total threads:</strong> 10\n",
       "                    </td>\n",
       "                </tr>\n",
       "                <tr>\n",
       "                    <td style=\"text-align: left;\">\n",
       "                        <strong>Started:</strong> Just now\n",
       "                    </td>\n",
       "                    <td style=\"text-align: left;\">\n",
       "                        <strong>Total memory:</strong> 64.00 GiB\n",
       "                    </td>\n",
       "                </tr>\n",
       "            </table>\n",
       "        </div>\n",
       "    </div>\n",
       "\n",
       "    <details style=\"margin-left: 48px;\">\n",
       "        <summary style=\"margin-bottom: 20px;\">\n",
       "            <h3 style=\"display: inline;\">Workers</h3>\n",
       "        </summary>\n",
       "\n",
       "        \n",
       "        <div style=\"margin-bottom: 20px;\">\n",
       "            <div style=\"width: 24px; height: 24px; background-color: #DBF5FF; border: 3px solid #4CC9FF; border-radius: 5px; position: absolute;\"> </div>\n",
       "            <div style=\"margin-left: 48px;\">\n",
       "            <details>\n",
       "                <summary>\n",
       "                    <h4 style=\"margin-bottom: 0px; display: inline;\">Worker: 0</h4>\n",
       "                </summary>\n",
       "                <table style=\"width: 100%; text-align: left;\">\n",
       "                    <tr>\n",
       "                        <td style=\"text-align: left;\">\n",
       "                            <strong>Comm: </strong> tcp://127.0.0.1:49650\n",
       "                        </td>\n",
       "                        <td style=\"text-align: left;\">\n",
       "                            <strong>Total threads: </strong> 2\n",
       "                        </td>\n",
       "                    </tr>\n",
       "                    <tr>\n",
       "                        <td style=\"text-align: left;\">\n",
       "                            <strong>Dashboard: </strong> <a href=\"http://127.0.0.1:49653/status\" target=\"_blank\">http://127.0.0.1:49653/status</a>\n",
       "                        </td>\n",
       "                        <td style=\"text-align: left;\">\n",
       "                            <strong>Memory: </strong> 12.80 GiB\n",
       "                        </td>\n",
       "                    </tr>\n",
       "                    <tr>\n",
       "                        <td style=\"text-align: left;\">\n",
       "                            <strong>Nanny: </strong> tcp://127.0.0.1:49637\n",
       "                        </td>\n",
       "                        <td style=\"text-align: left;\"></td>\n",
       "                    </tr>\n",
       "                    <tr>\n",
       "                        <td colspan=\"2\" style=\"text-align: left;\">\n",
       "                            <strong>Local directory: </strong> /var/folders/fh/tcbrjg6n28b0lzjzh07b5t6m0000gn/T/dask-scratch-space/worker-ayl5onmd\n",
       "                        </td>\n",
       "                    </tr>\n",
       "\n",
       "                    \n",
       "\n",
       "                    \n",
       "\n",
       "                </table>\n",
       "            </details>\n",
       "            </div>\n",
       "        </div>\n",
       "        \n",
       "        <div style=\"margin-bottom: 20px;\">\n",
       "            <div style=\"width: 24px; height: 24px; background-color: #DBF5FF; border: 3px solid #4CC9FF; border-radius: 5px; position: absolute;\"> </div>\n",
       "            <div style=\"margin-left: 48px;\">\n",
       "            <details>\n",
       "                <summary>\n",
       "                    <h4 style=\"margin-bottom: 0px; display: inline;\">Worker: 1</h4>\n",
       "                </summary>\n",
       "                <table style=\"width: 100%; text-align: left;\">\n",
       "                    <tr>\n",
       "                        <td style=\"text-align: left;\">\n",
       "                            <strong>Comm: </strong> tcp://127.0.0.1:49649\n",
       "                        </td>\n",
       "                        <td style=\"text-align: left;\">\n",
       "                            <strong>Total threads: </strong> 2\n",
       "                        </td>\n",
       "                    </tr>\n",
       "                    <tr>\n",
       "                        <td style=\"text-align: left;\">\n",
       "                            <strong>Dashboard: </strong> <a href=\"http://127.0.0.1:49654/status\" target=\"_blank\">http://127.0.0.1:49654/status</a>\n",
       "                        </td>\n",
       "                        <td style=\"text-align: left;\">\n",
       "                            <strong>Memory: </strong> 12.80 GiB\n",
       "                        </td>\n",
       "                    </tr>\n",
       "                    <tr>\n",
       "                        <td style=\"text-align: left;\">\n",
       "                            <strong>Nanny: </strong> tcp://127.0.0.1:49639\n",
       "                        </td>\n",
       "                        <td style=\"text-align: left;\"></td>\n",
       "                    </tr>\n",
       "                    <tr>\n",
       "                        <td colspan=\"2\" style=\"text-align: left;\">\n",
       "                            <strong>Local directory: </strong> /var/folders/fh/tcbrjg6n28b0lzjzh07b5t6m0000gn/T/dask-scratch-space/worker-r9mf0tyo\n",
       "                        </td>\n",
       "                    </tr>\n",
       "\n",
       "                    \n",
       "\n",
       "                    \n",
       "\n",
       "                </table>\n",
       "            </details>\n",
       "            </div>\n",
       "        </div>\n",
       "        \n",
       "        <div style=\"margin-bottom: 20px;\">\n",
       "            <div style=\"width: 24px; height: 24px; background-color: #DBF5FF; border: 3px solid #4CC9FF; border-radius: 5px; position: absolute;\"> </div>\n",
       "            <div style=\"margin-left: 48px;\">\n",
       "            <details>\n",
       "                <summary>\n",
       "                    <h4 style=\"margin-bottom: 0px; display: inline;\">Worker: 2</h4>\n",
       "                </summary>\n",
       "                <table style=\"width: 100%; text-align: left;\">\n",
       "                    <tr>\n",
       "                        <td style=\"text-align: left;\">\n",
       "                            <strong>Comm: </strong> tcp://127.0.0.1:49648\n",
       "                        </td>\n",
       "                        <td style=\"text-align: left;\">\n",
       "                            <strong>Total threads: </strong> 2\n",
       "                        </td>\n",
       "                    </tr>\n",
       "                    <tr>\n",
       "                        <td style=\"text-align: left;\">\n",
       "                            <strong>Dashboard: </strong> <a href=\"http://127.0.0.1:49652/status\" target=\"_blank\">http://127.0.0.1:49652/status</a>\n",
       "                        </td>\n",
       "                        <td style=\"text-align: left;\">\n",
       "                            <strong>Memory: </strong> 12.80 GiB\n",
       "                        </td>\n",
       "                    </tr>\n",
       "                    <tr>\n",
       "                        <td style=\"text-align: left;\">\n",
       "                            <strong>Nanny: </strong> tcp://127.0.0.1:49641\n",
       "                        </td>\n",
       "                        <td style=\"text-align: left;\"></td>\n",
       "                    </tr>\n",
       "                    <tr>\n",
       "                        <td colspan=\"2\" style=\"text-align: left;\">\n",
       "                            <strong>Local directory: </strong> /var/folders/fh/tcbrjg6n28b0lzjzh07b5t6m0000gn/T/dask-scratch-space/worker-v1adz8lp\n",
       "                        </td>\n",
       "                    </tr>\n",
       "\n",
       "                    \n",
       "\n",
       "                    \n",
       "\n",
       "                </table>\n",
       "            </details>\n",
       "            </div>\n",
       "        </div>\n",
       "        \n",
       "        <div style=\"margin-bottom: 20px;\">\n",
       "            <div style=\"width: 24px; height: 24px; background-color: #DBF5FF; border: 3px solid #4CC9FF; border-radius: 5px; position: absolute;\"> </div>\n",
       "            <div style=\"margin-left: 48px;\">\n",
       "            <details>\n",
       "                <summary>\n",
       "                    <h4 style=\"margin-bottom: 0px; display: inline;\">Worker: 3</h4>\n",
       "                </summary>\n",
       "                <table style=\"width: 100%; text-align: left;\">\n",
       "                    <tr>\n",
       "                        <td style=\"text-align: left;\">\n",
       "                            <strong>Comm: </strong> tcp://127.0.0.1:49647\n",
       "                        </td>\n",
       "                        <td style=\"text-align: left;\">\n",
       "                            <strong>Total threads: </strong> 2\n",
       "                        </td>\n",
       "                    </tr>\n",
       "                    <tr>\n",
       "                        <td style=\"text-align: left;\">\n",
       "                            <strong>Dashboard: </strong> <a href=\"http://127.0.0.1:49656/status\" target=\"_blank\">http://127.0.0.1:49656/status</a>\n",
       "                        </td>\n",
       "                        <td style=\"text-align: left;\">\n",
       "                            <strong>Memory: </strong> 12.80 GiB\n",
       "                        </td>\n",
       "                    </tr>\n",
       "                    <tr>\n",
       "                        <td style=\"text-align: left;\">\n",
       "                            <strong>Nanny: </strong> tcp://127.0.0.1:49643\n",
       "                        </td>\n",
       "                        <td style=\"text-align: left;\"></td>\n",
       "                    </tr>\n",
       "                    <tr>\n",
       "                        <td colspan=\"2\" style=\"text-align: left;\">\n",
       "                            <strong>Local directory: </strong> /var/folders/fh/tcbrjg6n28b0lzjzh07b5t6m0000gn/T/dask-scratch-space/worker-biz20o6r\n",
       "                        </td>\n",
       "                    </tr>\n",
       "\n",
       "                    \n",
       "\n",
       "                    \n",
       "\n",
       "                </table>\n",
       "            </details>\n",
       "            </div>\n",
       "        </div>\n",
       "        \n",
       "        <div style=\"margin-bottom: 20px;\">\n",
       "            <div style=\"width: 24px; height: 24px; background-color: #DBF5FF; border: 3px solid #4CC9FF; border-radius: 5px; position: absolute;\"> </div>\n",
       "            <div style=\"margin-left: 48px;\">\n",
       "            <details>\n",
       "                <summary>\n",
       "                    <h4 style=\"margin-bottom: 0px; display: inline;\">Worker: 4</h4>\n",
       "                </summary>\n",
       "                <table style=\"width: 100%; text-align: left;\">\n",
       "                    <tr>\n",
       "                        <td style=\"text-align: left;\">\n",
       "                            <strong>Comm: </strong> tcp://127.0.0.1:49651\n",
       "                        </td>\n",
       "                        <td style=\"text-align: left;\">\n",
       "                            <strong>Total threads: </strong> 2\n",
       "                        </td>\n",
       "                    </tr>\n",
       "                    <tr>\n",
       "                        <td style=\"text-align: left;\">\n",
       "                            <strong>Dashboard: </strong> <a href=\"http://127.0.0.1:49655/status\" target=\"_blank\">http://127.0.0.1:49655/status</a>\n",
       "                        </td>\n",
       "                        <td style=\"text-align: left;\">\n",
       "                            <strong>Memory: </strong> 12.80 GiB\n",
       "                        </td>\n",
       "                    </tr>\n",
       "                    <tr>\n",
       "                        <td style=\"text-align: left;\">\n",
       "                            <strong>Nanny: </strong> tcp://127.0.0.1:49645\n",
       "                        </td>\n",
       "                        <td style=\"text-align: left;\"></td>\n",
       "                    </tr>\n",
       "                    <tr>\n",
       "                        <td colspan=\"2\" style=\"text-align: left;\">\n",
       "                            <strong>Local directory: </strong> /var/folders/fh/tcbrjg6n28b0lzjzh07b5t6m0000gn/T/dask-scratch-space/worker-dns6sgn3\n",
       "                        </td>\n",
       "                    </tr>\n",
       "\n",
       "                    \n",
       "\n",
       "                    \n",
       "\n",
       "                </table>\n",
       "            </details>\n",
       "            </div>\n",
       "        </div>\n",
       "        \n",
       "\n",
       "    </details>\n",
       "</div>\n",
       "\n",
       "        </details>\n",
       "    </div>\n",
       "</div>\n",
       "            </details>\n",
       "        \n",
       "\n",
       "    </div>\n",
       "</div>"
      ],
      "text/plain": [
       "<Client: 'tcp://127.0.0.1:49634' processes=5 threads=10, memory=64.00 GiB>"
      ]
     },
     "execution_count": 19,
     "metadata": {},
     "output_type": "execute_result"
    }
   ],
   "source": [
    "cluster = dask.distributed.LocalCluster()          # Fully-featured local Dask cluster\n",
    "client = cluster.get_client()\n",
    "client"
   ]
  },
  {
   "cell_type": "markdown",
   "id": "11469369-f679-4136-add4-90555960a07f",
   "metadata": {},
   "source": [
    "# Combine all IVS data files into one dataset\n",
    "This notebook reads data from [goederenvervoer](https://downloads.rijkswaterstaatdata.nl/scheepvaart/goederenvervoer/archief/) IVS data and stores it as one files for easier processing."
   ]
  },
  {
   "cell_type": "code",
   "execution_count": 16,
   "id": "8e6c545f-adb4-43f2-821e-1ae06dd526ab",
   "metadata": {},
   "outputs": [],
   "source": [
    "# Download / update the files with the following command\n",
    "# wget -c -nd -r -np -l 1 -A zip 'https://downloads.rijkswaterstaatdata.nl/scheepvaart/goederenvervoer/archief/'"
   ]
  },
  {
   "cell_type": "code",
   "execution_count": 17,
   "id": "8cbb0c10-783f-4b81-a470-5721308358dc",
   "metadata": {},
   "outputs": [],
   "source": [
    "# Get the merged-unlo codes from Fedor (this is sent to UN in order to give them the opportunity to update their codes). \n",
    "unlo_path = pathlib.Path('~/data/unlo/arcgis-results-c0067387-935e-4cec-84e1-c32f8d503a67-merged-unlo.gpkg').expanduser()\n",
    "ivs_path = pathlib.Path('~/data/ivs').expanduser()"
   ]
  },
  {
   "cell_type": "code",
   "execution_count": 18,
   "id": "1a1f1c60-fcd2-45bf-afc7-3acb25f270d5",
   "metadata": {},
   "outputs": [],
   "source": [
    "# define all column names \n",
    "schema = dict([\n",
    "    ('Jaarmaand', pl.Int64),\n",
    "    ('Jaar', pl.Int64),\n",
    "    ('Maand', pl.Int64),\n",
    "    ('Weeknr', pl.Int64),\n",
    "    ('v05_06_begindt_evenement_iso', pl.String),\n",
    "    ('v05_06_Begindt_evenement', pl.String),\n",
    "    ('UNLO_herkomst', pl.String),\n",
    "    ('UNLO_bestemming', pl.String),\n",
    "    ('v15_1_Scheepstype_RWS', pl.String),\n",
    "    ('SK_CODE', pl.String),\n",
    "    ('v18_Laadvermogen', pl.Float64),\n",
    "    ('v28_Beladingscode', pl.Int64), \n",
    "    ('v38_Vervoerd_gewicht', pl.Int64), # check units in kg?\n",
    "    ('v30_4_Containers_TEU_S', pl.Int64),\n",
    "    ('nstr_nw', pl.String), # categories: see https://www.cbs.nl/en-gb/our-services/methods/definitions/commodity-nomenclature-nstr\n",
    "    ('nst2007_nw', pl.String)\n",
    "])\n"
   ]
  },
  {
   "cell_type": "code",
   "execution_count": 8,
   "id": "7c08e450-ce3d-401f-bc5a-1119940ceaea",
   "metadata": {},
   "outputs": [],
   "source": [
    "df = pl.read_csv(ivs_path / 'IVS_weekmonitor_01APR2021.csv', separator=';', quote_char='\"', schema=schema, ignore_errors=False)"
   ]
  },
  {
   "cell_type": "code",
   "execution_count": 9,
   "id": "563f0680-5e5c-4155-8681-989854597ed5",
   "metadata": {},
   "outputs": [],
   "source": [
    "paths = list(ivs_path.glob('*.csv'))"
   ]
  },
  {
   "cell_type": "code",
   "execution_count": 10,
   "id": "956efc78-1da6-4c1f-8898-568cdd4eaffa",
   "metadata": {},
   "outputs": [
    {
     "data": {
      "application/vnd.jupyter.widget-view+json": {
       "model_id": "c3205efad6764fd489034fdd4a407b9c",
       "version_major": 2,
       "version_minor": 0
      },
      "text/plain": [
       "  0%|          | 0/1079 [00:00<?, ?it/s]"
      ]
     },
     "metadata": {},
     "output_type": "display_data"
    }
   ],
   "source": [
    "for path in tqdm.tqdm(paths):\n",
    "    df = pl.read_csv(path, separator=';', quote_char='\"', schema=schema, ignore_errors=True)\n",
    "    df.write_parquet(path.with_suffix('.parquet'))"
   ]
  },
  {
   "cell_type": "markdown",
   "id": "043220af-12aa-4dde-90a4-a815d93f04aa",
   "metadata": {},
   "source": [
    "Now we can re-read all the singular files. They should now all have static column types. We'll convert it into one file using dask. Dask can read multiple files and treat them as one. "
   ]
  },
  {
   "cell_type": "code",
   "execution_count": 53,
   "id": "81a70d38-8411-4260-922e-4a2061efe566",
   "metadata": {},
   "outputs": [
    {
     "name": "stderr",
     "output_type": "stream",
     "text": [
      "2024-05-07 09:56:57,822 - distributed.shuffle._scheduler_plugin - WARNING - Shuffle c1bc2c2433ae59ffb60ac01318e53d70 initialized by task ('shuffle-transfer-c1bc2c2433ae59ffb60ac01318e53d70', 182) executed on worker tcp://127.0.0.1:49650\n",
      "2024-05-07 09:58:04,109 - distributed.shuffle._scheduler_plugin - WARNING - Shuffle c1bc2c2433ae59ffb60ac01318e53d70 deactivated due to stimulus 'task-finished-1715068684.107868'\n"
     ]
    }
   ],
   "source": [
    "ddf = dd.read_parquet(list(ivs_path.glob('IVS*.parquet')))\n",
    "ddf = ddf.drop_duplicates()\n",
    "ddf = ddf.persist()"
   ]
  },
  {
   "cell_type": "code",
   "execution_count": 24,
   "id": "76a4f3f3-18d2-42be-8b89-dd6666ba2f66",
   "metadata": {},
   "outputs": [
    {
     "name": "stderr",
     "output_type": "stream",
     "text": [
      "2024-05-07 09:45:54,028 - distributed.shuffle._scheduler_plugin - WARNING - Shuffle c1bc2c2433ae59ffb60ac01318e53d70 initialized by task ('shuffle-transfer-c1bc2c2433ae59ffb60ac01318e53d70', 182) executed on worker tcp://127.0.0.1:49650\n",
      "2024-05-07 09:46:38,238 - distributed.shuffle._scheduler_plugin - WARNING - Shuffle 3bd2f52dca42dc6a431fdd0a4a0ae3b6 initialized by task ('shuffle-transfer-3bd2f52dca42dc6a431fdd0a4a0ae3b6', 723) executed on worker tcp://127.0.0.1:49651\n",
      "2024-05-07 09:47:05,318 - distributed.shuffle._scheduler_plugin - WARNING - Shuffle c1bc2c2433ae59ffb60ac01318e53d70 deactivated due to stimulus 'task-finished-1715068025.317131'\n",
      "2024-05-07 09:47:10,616 - distributed.shuffle._scheduler_plugin - WARNING - Shuffle 3bd2f52dca42dc6a431fdd0a4a0ae3b6 deactivated due to stimulus 'task-finished-1715068030.6148648'\n"
     ]
    }
   ],
   "source": [
    "# drop all double records (this might need some \n",
    "\n",
    "ddf.to_parquet('ivs-2024.parquet', overwrite=True)"
   ]
  },
  {
   "cell_type": "code",
   "execution_count": 25,
   "id": "ae885b79-fbb2-478e-9b44-ade2f23ec69b",
   "metadata": {},
   "outputs": [
    {
     "name": "stderr",
     "output_type": "stream",
     "text": [
      "2024-05-07 09:48:02,829 - distributed.shuffle._scheduler_plugin - WARNING - Shuffle c1bc2c2433ae59ffb60ac01318e53d70 initialized by task ('shuffle-transfer-c1bc2c2433ae59ffb60ac01318e53d70', 182) executed on worker tcp://127.0.0.1:49650\n",
      "2024-05-07 09:48:46,605 - distributed.shuffle._scheduler_plugin - WARNING - Shuffle 3bd2f52dca42dc6a431fdd0a4a0ae3b6 initialized by task ('shuffle-transfer-3bd2f52dca42dc6a431fdd0a4a0ae3b6', 723) executed on worker tcp://127.0.0.1:49648\n",
      "2024-05-07 09:49:12,902 - distributed.shuffle._scheduler_plugin - WARNING - Shuffle c1bc2c2433ae59ffb60ac01318e53d70 deactivated due to stimulus 'task-finished-1715068152.90067'\n",
      "2024-05-07 09:49:17,461 - distributed.shuffle._scheduler_plugin - WARNING - Shuffle 3bd2f52dca42dc6a431fdd0a4a0ae3b6 deactivated due to stimulus 'task-finished-1715068157.46024'\n"
     ]
    }
   ],
   "source": [
    "# convert to one file (to read into memory)\n",
    "ddf.compute().to_parquet(ivs_path / 'ivs-2024-one-file.parquet')\n"
   ]
  },
  {
   "cell_type": "code",
   "execution_count": 67,
   "id": "191a15fb-eac4-4857-88be-04c4cd1ebc02",
   "metadata": {},
   "outputs": [],
   "source": [
    "# test read performance\n",
    "ivs_df = pd.read_parquet(ivs_path / 'ivs-2024-one-file.parquet')"
   ]
  },
  {
   "cell_type": "code",
   "execution_count": 93,
   "id": "77fdb721-6bc9-4d42-84a2-1881893948cf",
   "metadata": {},
   "outputs": [],
   "source": [
    "unlo_gdf = gpd.read_file(unlo_path)\n",
    "def unlo_code(row):\n",
    "    return row['country_code'] + row['location_code']\n",
    "unlo_gdf['unlo_code'] = unlo_gdf.apply(unlo_code, axis=1)\n",
    "unlo_gdf = unlo_gdf[['unlo_code', 'geometry']].set_index('unlo_code')\n",
    "# add the final missing record in Veghel\n",
    "unlo_gdf.loc['NLVEG'] = shapely.Point(5.509574, 51.619686)"
   ]
  },
  {
   "cell_type": "code",
   "execution_count": 97,
   "id": "9e1255e5-d104-48ca-a24c-d189b323ae20",
   "metadata": {
    "scrolled": true
   },
   "outputs": [],
   "source": [
    "ivs_gdf = (\n",
    "    ivs_df\n",
    "        .merge(unlo_gdf, left_on='UNLO_herkomst', right_index=True, how='left')\n",
    "        .merge(unlo_gdf, left_on='UNLO_bestemming', right_index=True, how='left')\n",
    ")                                                                                         "
   ]
  },
  {
   "cell_type": "code",
   "execution_count": 102,
   "id": "399e5f33-a4db-4908-96e3-7d40135b2b3c",
   "metadata": {},
   "outputs": [],
   "source": [
    "def points2line(row):\n",
    "    linestring = None\n",
    "    if row['geometry_x'] and row['geometry_y']:\n",
    "        linestring = shapely.LineString([row['geometry_x'], row['geometry_y']])\n",
    "    return linestring\n",
    "    \n",
    "ivs_gdf['geometry'] = ivs_gdf.apply(points2line, axis=1)"
   ]
  },
  {
   "cell_type": "code",
   "execution_count": 110,
   "id": "8997ebb7-d437-4171-8286-329ddbd3642b",
   "metadata": {},
   "outputs": [],
   "source": [
    "ivs_gdf = ivs_gdf.drop(columns=['geometry_x', 'geometry_y'])\n",
    "ivs_gdf = gpd.GeoDataFrame(ivs_gdf, geometry='geometry')"
   ]
  },
  {
   "cell_type": "code",
   "execution_count": 111,
   "id": "9e6bdd32-9ea8-4f47-9a38-a9b3b28e72c1",
   "metadata": {},
   "outputs": [],
   "source": [
    "ivs_gdf.to_file(ivs_path / 'ivs-2024-geocoded.gpkg')"
   ]
  },
  {
   "cell_type": "code",
   "execution_count": 112,
   "id": "7236428f-2ad2-4f23-a651-e6346ef966c9",
   "metadata": {},
   "outputs": [
    {
     "name": "stdout",
     "output_type": "stream",
     "text": [
      "The file /Users/baart_f/src/digitaltwin-waterway/notebooks/ivs/ivs_path does not exist.\n"
     ]
    }
   ],
   "source": [
    "!open ivs_path"
   ]
  },
  {
   "cell_type": "code",
   "execution_count": 113,
   "id": "c192349e-a23b-4d49-aeef-a737391a2c13",
   "metadata": {},
   "outputs": [],
   "source": [
    "import numpy as np"
   ]
  },
  {
   "cell_type": "code",
   "execution_count": 116,
   "id": "ccee3d77-952a-4b8e-baad-a9dec3a227c3",
   "metadata": {},
   "outputs": [
    {
     "data": {
      "text/plain": [
       "(0.6369616873214543, 0.6369616873214543)"
      ]
     },
     "execution_count": 116,
     "metadata": {},
     "output_type": "execute_result"
    }
   ],
   "source": [
    "rng = np.random.default_rng(0)\n",
    "x = rng.random()\n",
    "rng = np.random.default_rng(0)\n",
    "y = rng.random()\n",
    "\n",
    "x, y"
   ]
  },
  {
   "cell_type": "code",
   "execution_count": 117,
   "id": "0e927bbc-1ce8-4703-99a4-47c0732efa4a",
   "metadata": {},
   "outputs": [
    {
     "data": {
      "text/plain": [
       "\u001b[0;31mDocstring:\u001b[0m\n",
       "random(size=None, dtype=np.float64, out=None)\n",
       "\n",
       "Return random floats in the half-open interval [0.0, 1.0).\n",
       "\n",
       "Results are from the \"continuous uniform\" distribution over the\n",
       "stated interval.  To sample :math:`Unif[a, b), b > a` use `uniform`\n",
       "or multiply the output of `random` by ``(b - a)`` and add ``a``::\n",
       "\n",
       "    (b - a) * random() + a\n",
       "\n",
       "Parameters\n",
       "----------\n",
       "size : int or tuple of ints, optional\n",
       "    Output shape.  If the given shape is, e.g., ``(m, n, k)``, then\n",
       "    ``m * n * k`` samples are drawn.  Default is None, in which case a\n",
       "    single value is returned.\n",
       "dtype : dtype, optional\n",
       "    Desired dtype of the result, only `float64` and `float32` are supported.\n",
       "    Byteorder must be native. The default value is np.float64.\n",
       "out : ndarray, optional\n",
       "    Alternative output array in which to place the result. If size is not None,\n",
       "    it must have the same shape as the provided size and must match the type of\n",
       "    the output values.\n",
       "\n",
       "Returns\n",
       "-------\n",
       "out : float or ndarray of floats\n",
       "    Array of random floats of shape `size` (unless ``size=None``, in which\n",
       "    case a single float is returned).\n",
       "\n",
       "See Also\n",
       "--------\n",
       "uniform : Draw samples from the parameterized uniform distribution.\n",
       "\n",
       "Examples\n",
       "--------\n",
       ">>> rng = np.random.default_rng()\n",
       ">>> rng.random()\n",
       "0.47108547995356098 # random\n",
       ">>> type(rng.random())\n",
       "<class 'float'>\n",
       ">>> rng.random((5,))\n",
       "array([ 0.30220482,  0.86820401,  0.1654503 ,  0.11659149,  0.54323428]) # random\n",
       "\n",
       "Three-by-two array of random numbers from [-5, 0):\n",
       "\n",
       ">>> 5 * rng.random((3, 2)) - 5\n",
       "array([[-3.99149989, -0.52338984], # random\n",
       "       [-2.99091858, -0.79479508],\n",
       "       [-1.23204345, -1.75224494]])\n",
       "\u001b[0;31mType:\u001b[0m      builtin_function_or_method"
      ]
     },
     "metadata": {},
     "output_type": "display_data"
    }
   ],
   "source": []
  },
  {
   "cell_type": "code",
   "execution_count": null,
   "id": "ed803a7f-15f7-4b73-be39-1315c6642f4f",
   "metadata": {},
   "outputs": [],
   "source": []
  }
 ],
 "metadata": {
  "kernelspec": {
   "display_name": "Python 3 (ipykernel)",
   "language": "python",
   "name": "python3"
  },
  "language_info": {
   "codemirror_mode": {
    "name": "ipython",
    "version": 3
   },
   "file_extension": ".py",
   "mimetype": "text/x-python",
   "name": "python",
   "nbconvert_exporter": "python",
   "pygments_lexer": "ipython3",
   "version": "3.12.0"
  }
 },
 "nbformat": 4,
 "nbformat_minor": 5
}
