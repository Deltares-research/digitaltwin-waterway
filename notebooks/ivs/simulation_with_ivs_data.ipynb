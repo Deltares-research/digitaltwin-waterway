{
 "cells": [
  {
   "cell_type": "markdown",
   "metadata": {},
   "source": [
    "# simulation with ivs data"
   ]
  },
  {
   "cell_type": "markdown",
   "metadata": {},
   "source": [
    "### Imports\n",
    "Import the required libraries"
   ]
  },
  {
   "cell_type": "code",
   "execution_count": 251,
   "metadata": {},
   "outputs": [],
   "source": [
    "# package(s) related to time, space and id\n",
    "import datetime, time\n",
    "import platform\n",
    "import random\n",
    "import os\n",
    "import pathlib\n",
    "\n",
    "# you need these dependencies (you can get these from anaconda)\n",
    "# package(s) related to the simulation\n",
    "import simpy\n",
    "\n",
    "# spatial libraries \n",
    "import pyproj\n",
    "import shapely.geometry\n",
    "from shapely.geometry import Point\n",
    "import shapely\n",
    "import geopandas as gpd\n",
    "import movingpandas as mpd\n",
    "\n",
    "# package(s) for data handling\n",
    "import pandas as pd\n",
    "import numpy as np\n",
    "import matplotlib.pyplot as plt\n",
    "import matplotlib.animation as animation\n",
    "\n",
    "# OpenTNSIM\n",
    "import opentnsim\n",
    "import opentnsim.core as core\n",
    "import opentnsim.graph_module as graph_module\n",
    "import opentnsim.plot as plot\n",
    "\n",
    "\n",
    "# dtv_backend\n",
    "import dtv_backend.fis as fis\n",
    "import dtv_backend.network\n",
    "import dtv_backend.network.network_utilities\n",
    "import dtv_backend.postprocessing\n",
    "import dtv_backend.simple\n",
    "import dtv_backend.simulate\n",
    "\n",
    "# Used for mathematical functions\n",
    "import math             \n",
    "import numpy as np\n",
    "\n",
    "# Used for making the graph to visualize our problem\n",
    "import networkx as nx  "
   ]
  },
  {
   "cell_type": "markdown",
   "metadata": {},
   "source": [
    "### Create graph"
   ]
  },
  {
   "cell_type": "code",
   "execution_count": 252,
   "metadata": {},
   "outputs": [],
   "source": [
    "url = \"https://zenodo.org/record/6673604/files/network_digital_twin_v0.3.pickle?download=1\"\n",
    "graph1 = dtv_backend.fis.load_fis_network(url)\n",
    "graph = graph_module.Graph()\n",
    "graph.graph = graph1\n",
    "graph.graph_info = opentnsim.utils.info(graph.graph)"
   ]
  },
  {
   "cell_type": "code",
   "execution_count": 271,
   "metadata": {},
   "outputs": [
    {
     "name": "stderr",
     "output_type": "stream",
     "text": [
      "D:\\Users\\ALPF\\AppData\\Local\\Temp\\ipykernel_13888\\3434610182.py:3: UserWarning:\n",
      "\n",
      "Column names longer than 10 characters will be truncated when saved to ESRI Shapefile.\n",
      "\n"
     ]
    }
   ],
   "source": [
    "df_edges = nx.to_pandas_edgelist(graph1)\n",
    "gpd_edges = gpd.GeoDataFrame(df_edges[['source', 'target', 'Name', 'length', 'GeoType', 'Wkt', 'Code', 'Classification', 'geometry']])\n",
    "gpd_edges.to_file(\"plots_routes/edges_zonder_afzetting\")"
   ]
  },
  {
   "cell_type": "markdown",
   "metadata": {},
   "source": [
    "### Make vessels and paths"
   ]
  },
  {
   "cell_type": "markdown",
   "metadata": {},
   "source": [
    "##### read data"
   ]
  },
  {
   "cell_type": "code",
   "execution_count": 230,
   "metadata": {},
   "outputs": [
    {
     "name": "stderr",
     "output_type": "stream",
     "text": [
      "D:\\Users\\ALPF\\AppData\\Local\\Temp\\ipykernel_13888\\1000675606.py:2: FutureWarning:\n",
      "\n",
      "In a future version of pandas, parsing datetimes with mixed time zones will raise an error unless `utc=True`. Please specify `utc=True` to opt in to the new behaviour and silence this warning. To create a `Series` with mixed offsets and `object` dtype, please use `apply` and `datetime.datetime.strptime`\n",
      "\n"
     ]
    }
   ],
   "source": [
    "data = gpd.read_file(\"data\\ivs\\ivs-2024-geocoded-sample.gpkg\")\n",
    "data['datetime'] = pd.to_datetime(data['v05_06_begindt_evenement_iso'], format = 'ISO8601', errors = 'coerce')\n",
    "data.dropna(subset = ['datetime', 'geometry'], inplace = True)\n",
    "data1=data"
   ]
  },
  {
   "cell_type": "markdown",
   "metadata": {},
   "source": [
    "filter only on rotterdam to duisburg, 2023. Only keep 5 ships"
   ]
  },
  {
   "cell_type": "code",
   "execution_count": 243,
   "metadata": {},
   "outputs": [
    {
     "data": {
      "text/html": [
       "<div>\n",
       "<style scoped>\n",
       "    .dataframe tbody tr th:only-of-type {\n",
       "        vertical-align: middle;\n",
       "    }\n",
       "\n",
       "    .dataframe tbody tr th {\n",
       "        vertical-align: top;\n",
       "    }\n",
       "\n",
       "    .dataframe thead th {\n",
       "        text-align: right;\n",
       "    }\n",
       "</style>\n",
       "<table border=\"1\" class=\"dataframe\">\n",
       "  <thead>\n",
       "    <tr style=\"text-align: right;\">\n",
       "      <th></th>\n",
       "      <th>Jaarmaand</th>\n",
       "      <th>Jaar</th>\n",
       "      <th>Maand</th>\n",
       "      <th>Weeknr</th>\n",
       "      <th>v05_06_begindt_evenement_iso</th>\n",
       "      <th>v05_06_Begindt_evenement</th>\n",
       "      <th>UNLO_herkomst</th>\n",
       "      <th>UNLO_bestemming</th>\n",
       "      <th>v15_1_Scheepstype_RWS</th>\n",
       "      <th>SK_CODE</th>\n",
       "      <th>v18_Laadvermogen</th>\n",
       "      <th>v28_Beladingscode</th>\n",
       "      <th>v38_Vervoerd_gewicht</th>\n",
       "      <th>v30_4_Containers_TEU_S</th>\n",
       "      <th>nstr_nw</th>\n",
       "      <th>nst2007_nw</th>\n",
       "      <th>geometry</th>\n",
       "      <th>datetime</th>\n",
       "    </tr>\n",
       "  </thead>\n",
       "  <tbody>\n",
       "    <tr>\n",
       "      <th>14694</th>\n",
       "      <td>2308</td>\n",
       "      <td>2023</td>\n",
       "      <td>8</td>\n",
       "      <td>32</td>\n",
       "      <td>2023-08-10T08:00:00+02:00</td>\n",
       "      <td>10 augustus 2023 08:00:00 uur</td>\n",
       "      <td>NLDOR</td>\n",
       "      <td>DEDUI</td>\n",
       "      <td>9</td>\n",
       "      <td>C3l</td>\n",
       "      <td>4320.0</td>\n",
       "      <td>5.0</td>\n",
       "      <td>0.0</td>\n",
       "      <td>0.0</td>\n",
       "      <td>9</td>\n",
       "      <td>16</td>\n",
       "      <td>LINESTRING (4.63333 51.78333, 6.75000 51.46667)</td>\n",
       "      <td>2023-08-10 08:00:00+02:00</td>\n",
       "    </tr>\n",
       "    <tr>\n",
       "      <th>20814</th>\n",
       "      <td>2301</td>\n",
       "      <td>2023</td>\n",
       "      <td>1</td>\n",
       "      <td>1</td>\n",
       "      <td>2023-01-04T16:00:00+01:00</td>\n",
       "      <td>04 januari 2023 16:00:00 uur</td>\n",
       "      <td>NLDOR</td>\n",
       "      <td>DEMHG</td>\n",
       "      <td>9</td>\n",
       "      <td>C3l</td>\n",
       "      <td>5730.0</td>\n",
       "      <td>7.0</td>\n",
       "      <td>3550000.0</td>\n",
       "      <td>0.0</td>\n",
       "      <td>2</td>\n",
       "      <td>2.1</td>\n",
       "      <td>LINESTRING (4.63333 51.78333, 8.45000 49.48333)</td>\n",
       "      <td>2023-01-04 16:00:00+01:00</td>\n",
       "    </tr>\n",
       "    <tr>\n",
       "      <th>27391</th>\n",
       "      <td>2309</td>\n",
       "      <td>2023</td>\n",
       "      <td>9</td>\n",
       "      <td>39</td>\n",
       "      <td>2023-09-25T10:00:00+02:00</td>\n",
       "      <td>25 september 2023 10:00:00 uur</td>\n",
       "      <td>NLDOR</td>\n",
       "      <td>DENSS</td>\n",
       "      <td>2</td>\n",
       "      <td>M3</td>\n",
       "      <td>690.0</td>\n",
       "      <td>5.0</td>\n",
       "      <td>0.0</td>\n",
       "      <td>0.0</td>\n",
       "      <td>9</td>\n",
       "      <td>16</td>\n",
       "      <td>LINESTRING (4.63333 51.78333, 6.68333 51.18333)</td>\n",
       "      <td>2023-09-25 10:00:00+02:00</td>\n",
       "    </tr>\n",
       "    <tr>\n",
       "      <th>32727</th>\n",
       "      <td>2309</td>\n",
       "      <td>2023</td>\n",
       "      <td>9</td>\n",
       "      <td>39</td>\n",
       "      <td>2023-09-26T06:00:00+02:00</td>\n",
       "      <td>26 september 2023 06:00:00 uur</td>\n",
       "      <td>NLDOR</td>\n",
       "      <td>DEGEK</td>\n",
       "      <td>1</td>\n",
       "      <td>M2</td>\n",
       "      <td>510.0</td>\n",
       "      <td>7.0</td>\n",
       "      <td>375000.0</td>\n",
       "      <td>0.0</td>\n",
       "      <td>0</td>\n",
       "      <td>1.1</td>\n",
       "      <td>LINESTRING (4.63333 51.78333, 7.11667 51.51667)</td>\n",
       "      <td>2023-09-26 06:00:00+02:00</td>\n",
       "    </tr>\n",
       "    <tr>\n",
       "      <th>35894</th>\n",
       "      <td>2308</td>\n",
       "      <td>2023</td>\n",
       "      <td>8</td>\n",
       "      <td>32</td>\n",
       "      <td>2023-08-12T15:00:00+02:00</td>\n",
       "      <td>12 augustus 2023 15:00:00 uur</td>\n",
       "      <td>NLDOR</td>\n",
       "      <td>DEFRA</td>\n",
       "      <td>21</td>\n",
       "      <td>BII-2L</td>\n",
       "      <td>5320.0</td>\n",
       "      <td>5.0</td>\n",
       "      <td>0.0</td>\n",
       "      <td>0.0</td>\n",
       "      <td>9</td>\n",
       "      <td>16</td>\n",
       "      <td>LINESTRING (4.63333 51.78333, 8.68333 50.11667)</td>\n",
       "      <td>2023-08-12 15:00:00+02:00</td>\n",
       "    </tr>\n",
       "  </tbody>\n",
       "</table>\n",
       "</div>"
      ],
      "text/plain": [
       "       Jaarmaand  Jaar  Maand  Weeknr v05_06_begindt_evenement_iso  \\\n",
       "14694       2308  2023      8      32    2023-08-10T08:00:00+02:00   \n",
       "20814       2301  2023      1       1    2023-01-04T16:00:00+01:00   \n",
       "27391       2309  2023      9      39    2023-09-25T10:00:00+02:00   \n",
       "32727       2309  2023      9      39    2023-09-26T06:00:00+02:00   \n",
       "35894       2308  2023      8      32    2023-08-12T15:00:00+02:00   \n",
       "\n",
       "             v05_06_Begindt_evenement UNLO_herkomst UNLO_bestemming  \\\n",
       "14694   10 augustus 2023 08:00:00 uur         NLDOR           DEDUI   \n",
       "20814    04 januari 2023 16:00:00 uur         NLDOR           DEMHG   \n",
       "27391  25 september 2023 10:00:00 uur         NLDOR           DENSS   \n",
       "32727  26 september 2023 06:00:00 uur         NLDOR           DEGEK   \n",
       "35894   12 augustus 2023 15:00:00 uur         NLDOR           DEFRA   \n",
       "\n",
       "      v15_1_Scheepstype_RWS SK_CODE  v18_Laadvermogen  v28_Beladingscode  \\\n",
       "14694                     9     C3l            4320.0                5.0   \n",
       "20814                     9     C3l            5730.0                7.0   \n",
       "27391                     2      M3             690.0                5.0   \n",
       "32727                     1      M2             510.0                7.0   \n",
       "35894                    21  BII-2L            5320.0                5.0   \n",
       "\n",
       "       v38_Vervoerd_gewicht  v30_4_Containers_TEU_S nstr_nw nst2007_nw  \\\n",
       "14694                   0.0                     0.0       9         16   \n",
       "20814             3550000.0                     0.0       2        2.1   \n",
       "27391                   0.0                     0.0       9         16   \n",
       "32727              375000.0                     0.0       0        1.1   \n",
       "35894                   0.0                     0.0       9         16   \n",
       "\n",
       "                                              geometry  \\\n",
       "14694  LINESTRING (4.63333 51.78333, 6.75000 51.46667)   \n",
       "20814  LINESTRING (4.63333 51.78333, 8.45000 49.48333)   \n",
       "27391  LINESTRING (4.63333 51.78333, 6.68333 51.18333)   \n",
       "32727  LINESTRING (4.63333 51.78333, 7.11667 51.51667)   \n",
       "35894  LINESTRING (4.63333 51.78333, 8.68333 50.11667)   \n",
       "\n",
       "                        datetime  \n",
       "14694  2023-08-10 08:00:00+02:00  \n",
       "20814  2023-01-04 16:00:00+01:00  \n",
       "27391  2023-09-25 10:00:00+02:00  \n",
       "32727  2023-09-26 06:00:00+02:00  \n",
       "35894  2023-08-12 15:00:00+02:00  "
      ]
     },
     "execution_count": 243,
     "metadata": {},
     "output_type": "execute_result"
    }
   ],
   "source": [
    "data = data1\n",
    "data = data[\n",
    "    (data.UNLO_herkomst== \"NLDOR\")\n",
    "    #(data.UNLO_herkomst== \"NLGOR\")\n",
    "     & (data.UNLO_bestemming.str.startswith(\"DE\"))\n",
    "     & (data.v05_06_begindt_evenement_iso.str.startswith(\"2023\"))\n",
    "     ].head()\n",
    "data"
   ]
  },
  {
   "cell_type": "markdown",
   "metadata": {},
   "source": [
    "#### Create vessels"
   ]
  },
  {
   "cell_type": "code",
   "execution_count": 281,
   "metadata": {},
   "outputs": [],
   "source": [
    "# Make a class out of mix-ins\n",
    "TransportResource = type('TransportResource', \n",
    "                         (core.Identifiable, core.ContainerDependentMovable, \n",
    "                          core.HasResource, core.Routable,\n",
    "                          core.VesselProperties,\n",
    "                         core.ExtraMetadata), \n",
    "                         {})\n",
    "\n",
    "#define speed: \n",
    "def compute_v_provider(v_empty, v_full):\n",
    "    return lambda x: 1\n",
    "\n",
    "vessels = []\n",
    "for index, row in data.iterrows():\n",
    "    #determine path\n",
    "    point_1 = fis.find_closest_node(graph.graph, Point(row.geometry.coords[0]))\n",
    "    point_2 = fis.find_closest_node(graph.graph, Point(row.geometry.coords[-1]))\n",
    "    path = nx.dijkstra_path(graph.graph, point_1[0], point_2[0])\n",
    "    #determine capacity\n",
    "    capacity = max(row.v18_Laadvermogen*1000, row.v38_Vervoerd_gewicht, 1)\n",
    "    data_vessel = {\"env\": None,\n",
    "               \"name\": row.name,\n",
    "               \"type\": row['v15_1_Scheepstype_RWS'],\n",
    "               \"B\": 1,\n",
    "               \"L\": 10,\n",
    "               \"route\": path,\n",
    "               \"geometry\": Point(row.geometry.coords[0]),  # lon, lat\n",
    "               \"capacity\": capacity,\n",
    "               \"v\": 1,\n",
    "               \"compute_v\": compute_v_provider(v_empty=1, v_full=1),\n",
    "               }\n",
    "    vessel = TransportResource(**data_vessel)\n",
    "    vessels.append(vessel)\n",
    "    break\n",
    "\n",
    "# vessels = [TransportResource(**{\n",
    "#     \"env\" : None,\n",
    "#     \"name\": 'korte_route', \n",
    "#     \"type\": 'M6',\n",
    "#     \"B\": 1, \n",
    "#     \"L\": 10,\n",
    "#     \"route\": nx.dijkstra_path(graph.graph, \"8865735\", \"8861687\"),\n",
    "#     \"geometry\": Point(row.geometry.coords[0]),  # lon, lat\n",
    "#     \"capacity\": capacity,\n",
    "#     \"v\": 1,\n",
    "#     \"compute_v\": compute_v_provider(v_empty=1, v_full=1),\n",
    "# })]"
   ]
  },
  {
   "cell_type": "markdown",
   "metadata": {},
   "source": [
    "### Define general outline of env and simulation"
   ]
  },
  {
   "cell_type": "code",
   "execution_count": 282,
   "metadata": {},
   "outputs": [],
   "source": [
    "def start(env, vessel):\n",
    "    while True:\n",
    "        vessel.log_entry_v0(\"Start sailing\", env.now, \"\", vessel.geometry)\n",
    "        yield from vessel.move()\n",
    "        vessel.log_entry_v0(\"Stop sailing\", env.now, \"\", vessel.geometry)\n",
    "        \n",
    "        if vessel.geometry == nx.get_node_attributes(env.FG, \"geometry\")[vessel.route[-1]]:\n",
    "            break"
   ]
  },
  {
   "cell_type": "code",
   "execution_count": 283,
   "metadata": {},
   "outputs": [],
   "source": [
    "# Start simpy environment\n",
    "simulation_start = datetime.datetime.now()\n",
    "env = simpy.Environment(initial_time = time.mktime(simulation_start.timetuple()))\n",
    "env.epoch = time.mktime(simulation_start.timetuple())\n",
    "\n",
    "\n",
    "# Add graph to environment\n",
    "graph.add_resources(list(graph.graph.edges), np.ones(len(list(graph.graph.edges))), env)\n",
    "\n"
   ]
  },
  {
   "cell_type": "code",
   "execution_count": 284,
   "metadata": {},
   "outputs": [],
   "source": [
    "vessels = vessels\n",
    "for i, vessel in enumerate(vessels):\n",
    "    # Add environment and path to the vessel\n",
    "    vessel.env = env\n",
    "\n",
    "    # Add the movements of the vessel to the simulation\n",
    "    env.process(start(env, vessel))\n",
    "\n",
    "\n"
   ]
  },
  {
   "cell_type": "markdown",
   "metadata": {},
   "source": [
    "### Run code for original graph"
   ]
  },
  {
   "cell_type": "code",
   "execution_count": 285,
   "metadata": {},
   "outputs": [],
   "source": [
    "env.FG = graph.graph.copy()\n",
    "env.epoch = datetime.datetime.now()\n",
    "\n",
    "env.run()"
   ]
  },
  {
   "cell_type": "markdown",
   "metadata": {},
   "source": [
    "##### Obtain vessel log information\n",
    "The cel below uses the vessel log. The core function *log_entry* is used, which takes four arguments:\n",
    "\n",
    "- **Log.** A text to describe what is logged.\n",
    "- **t.** The timestamp.\n",
    "- **Value.**  The value for the log (for sailing this is the distance).\n",
    "- **Geometry** The location of the vessel while loggin."
   ]
  },
  {
   "cell_type": "code",
   "execution_count": 286,
   "metadata": {},
   "outputs": [
    {
     "name": "stderr",
     "output_type": "stream",
     "text": [
      "d:\\Users\\ALPF\\AppData\\Local\\pypoetry\\Cache\\virtualenvs\\dtv-backend-pvs5eNot-py3.10\\lib\\site-packages\\movingpandas\\trajectory.py:166: MissingCRSWarning:\n",
      "\n",
      "Trajectory generated without CRS. Computations will use Euclidean distances.\n",
      "\n"
     ]
    }
   ],
   "source": [
    "vessel_log = gpd.GeoDataFrame(vessels[0].logbook, geometry='Geometry')\n",
    "vessel_log = mpd.Trajectory(vessel_log, traj_id='vessel_1_trip_1', obj_id='vessel_1', t='Timestamp')\n",
    "#vessel_log.to_line_gdf()\n",
    "vessel_log.to_line_gdf().to_file('plots_routes/original_graph_logboek_movingpandas.gpkg')"
   ]
  },
  {
   "cell_type": "markdown",
   "metadata": {},
   "source": [
    "### Run code for adapted graph"
   ]
  },
  {
   "cell_type": "markdown",
   "metadata": {},
   "source": [
    "### Visualization of path\n",
    "If you get an error regarding ffmpeg use [this](https://stackoverflow.com/questions/13316397/matplotlib-animation-no-moviewriters-available) answer. You have to install ffmpeg in your Conda environment. It can be done using the following command.\n",
    "\n",
    "```bash\n",
    "#Install ffmpeg using Conda\n",
    "conda install -c conda-forge ffmpeg\n",
    "```"
   ]
  },
  {
   "cell_type": "code",
   "execution_count": 250,
   "metadata": {},
   "outputs": [],
   "source": [
    "# # visualise vessel movements based on the information included in the vessel.log\n",
    "# plot.vessel_kml(env, vessels, stepsize = 60)\n",
    "# plot.graph_kml(env)\n"
   ]
  }
 ],
 "metadata": {
  "kernelspec": {
   "display_name": "Python 3 (ipykernel)",
   "language": "python",
   "name": "python3"
  },
  "language_info": {
   "codemirror_mode": {
    "name": "ipython",
    "version": 3
   },
   "file_extension": ".py",
   "mimetype": "text/x-python",
   "name": "python",
   "nbconvert_exporter": "python",
   "pygments_lexer": "ipython3",
   "version": "3.10.8"
  }
 },
 "nbformat": 4,
 "nbformat_minor": 2
}
