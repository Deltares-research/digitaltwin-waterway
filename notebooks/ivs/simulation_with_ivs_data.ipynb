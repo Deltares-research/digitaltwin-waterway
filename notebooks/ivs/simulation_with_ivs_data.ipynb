{
 "cells": [
  {
   "cell_type": "markdown",
   "metadata": {},
   "source": [
    "# simulation with ivs data"
   ]
  },
  {
   "cell_type": "markdown",
   "metadata": {},
   "source": [
    "### Imports\n",
    "Import the required libraries"
   ]
  },
  {
   "cell_type": "code",
   "execution_count": 1,
   "metadata": {},
   "outputs": [],
   "source": [
    "# package(s) related to time, space and id\n",
    "import datetime, time\n",
    "import platform\n",
    "import random\n",
    "import os\n",
    "import pathlib\n",
    "\n",
    "# you need these dependencies (you can get these from anaconda)\n",
    "# package(s) related to the simulation\n",
    "import simpy\n",
    "\n",
    "# spatial libraries \n",
    "import pyproj\n",
    "import shapely.geometry\n",
    "from shapely.geometry import Point\n",
    "import shapely\n",
    "import geopandas as gpd\n",
    "\n",
    "# package(s) for data handling\n",
    "import pandas as pd\n",
    "import numpy as np\n",
    "import matplotlib.pyplot as plt\n",
    "import matplotlib.animation as animation\n",
    "\n",
    "# OpenTNSIM\n",
    "import opentnsim\n",
    "import opentnsim.core as core\n",
    "import opentnsim.graph_module as graph_module\n",
    "import opentnsim.plot as plot\n",
    "\n",
    "\n",
    "# dtv_backend\n",
    "import dtv_backend.fis\n",
    "import dtv_backend.network\n",
    "import dtv_backend.network.network_utilities\n",
    "import dtv_backend.postprocessing\n",
    "import dtv_backend.simple\n",
    "import dtv_backend.simulate\n",
    "\n",
    "# Used for mathematical functions\n",
    "import math             \n",
    "import numpy as np\n",
    "\n",
    "# Used for making the graph to visualize our problem\n",
    "import networkx as nx  "
   ]
  },
  {
   "cell_type": "markdown",
   "metadata": {},
   "source": [
    "### Create graph"
   ]
  },
  {
   "cell_type": "code",
   "execution_count": 2,
   "metadata": {},
   "outputs": [],
   "source": [
    "url = \"https://zenodo.org/record/6673604/files/network_digital_twin_v0.3.pickle?download=1\"\n",
    "graph = dtv_backend.fis.load_fis_network(url)\n"
   ]
  },
  {
   "cell_type": "markdown",
   "metadata": {},
   "source": [
    "### Make vessels and paths"
   ]
  },
  {
   "cell_type": "code",
   "execution_count": 3,
   "metadata": {},
   "outputs": [
    {
     "name": "stderr",
     "output_type": "stream",
     "text": [
      "D:\\Users\\ALPF\\AppData\\Local\\Temp\\ipykernel_26456\\573042194.py:2: FutureWarning:\n",
      "\n",
      "In a future version of pandas, parsing datetimes with mixed time zones will raise an error unless `utc=True`. Please specify `utc=True` to opt in to the new behaviour and silence this warning. To create a `Series` with mixed offsets and `object` dtype, please use `apply` and `datetime.datetime.strptime`\n",
      "\n"
     ]
    }
   ],
   "source": [
    "data = gpd.read_file(\"data\\ivs\\ivs-2024-geocoded-sample.gpkg\")\n",
    "data['datetime'] = pd.to_datetime(data['v05_06_begindt_evenement_iso'], format = 'ISO8601', errors = 'coerce')\n",
    "data.dropna(subset = ['datetime', 'geometry'], inplace = True)\n",
    "data = data.head()"
   ]
  },
  {
   "cell_type": "code",
   "execution_count": 4,
   "metadata": {},
   "outputs": [],
   "source": [
    "def closest_node_in_graph(graph, point):\n",
    "    #get argument of closest node\n",
    "    arg_min = np.argmin(shapely.distance(point, list(nx.get_node_attributes(graph, \"geometry\").values()) ))\n",
    "    #get name of closest node\n",
    "    node= list(graph.nodes)[arg_min]\n",
    "    return node"
   ]
  },
  {
   "cell_type": "code",
   "execution_count": 14,
   "metadata": {},
   "outputs": [],
   "source": [
    "# Make a class out of mix-ins\n",
    "TransportResource = type('TransportResource', \n",
    "                         (core.Identifiable, core.Movable, \n",
    "                          core.HasResource, core.Routable,\n",
    "                         core.ExtraMetadata), {})\n",
    "\n",
    "\n",
    "vessels = []\n",
    "for index, row in data.iterrows():\n",
    "    #determine path\n",
    "    point_1 = closest_node_in_graph(graph, Point(row.geometry.coords[0]) )\n",
    "    point_2 = closest_node_in_graph(graph, Point(row.geometry.coords[-1]) )\n",
    "    path = nx.dijkstra_path(graph, point_1, point_2)\n",
    "    #determine capacity\n",
    "    capacity = max(row.v18_Laadvermogen*1000, row.v38_Vervoerd_gewicht, 1)\n",
    "    data_vessel = {\"env\": None,\n",
    "               \"name\": row.name,\n",
    "               \"route\": path,\n",
    "               \"geometry\": Point(row.geometry.coords[0]),  # lon, lat\n",
    "               \"capacity\": capacity,\n",
    "               \"v\": 1\n",
    "              }\n",
    "    vessel = TransportResource(**data_vessel)\n",
    "    vessel.name = \"Vessel \" + str(index + 1)\n",
    "    vessels.append(vessel)"
   ]
  },
  {
   "cell_type": "code",
   "execution_count": 6,
   "metadata": {},
   "outputs": [],
   "source": [
    "paths = []\n",
    "for i in range(5):\n",
    "    random_1 = random.choice(list(graph.nodes))\n",
    "    random_2 = random.choice(list(graph.nodes))\n",
    "    \n",
    "    path = nx.dijkstra_path(graph, random_1, random_2)\n",
    "    \n",
    "    paths.append(path)"
   ]
  },
  {
   "cell_type": "markdown",
   "metadata": {},
   "source": [
    "### Start simulation"
   ]
  },
  {
   "cell_type": "code",
   "execution_count": 7,
   "metadata": {},
   "outputs": [],
   "source": [
    "def start(env, vessel):\n",
    "    while True:\n",
    "        vessel.log_entry_v0(\"Start sailing\", env.now, \"\", vessel.geometry)\n",
    "        yield from vessel.move()\n",
    "        vessel.log_entry_v0(\"Stop sailing\", env.now, \"\", vessel.geometry)\n",
    "        \n",
    "        if vessel.geometry == nx.get_node_attributes(env.FG, \"geometry\")[vessel.route[-1]]:\n",
    "            break"
   ]
  },
  {
   "cell_type": "code",
   "execution_count": 15,
   "metadata": {},
   "outputs": [],
   "source": [
    "# Start simpy environment\n",
    "simulation_start = datetime.datetime.now()\n",
    "env = simpy.Environment(initial_time = time.mktime(simulation_start.timetuple()))\n",
    "env.epoch = time.mktime(simulation_start.timetuple())\n",
    "\n",
    "# Add graph to environment\n",
    "env.FG = graph\n",
    "\n",
    "vessels = vessels[0:3]\n",
    "for i, vessel in enumerate(vessels):\n",
    "    # Add environment and path to the vessel\n",
    "    vessel.env = env\n",
    "    vessel.geometry = nx.get_node_attributes(graph, \"geometry\")[paths[i][0]]\n",
    "\n",
    "    # Add the movements of the vessel to the simulation\n",
    "    env.process(start(env, vessel))\n",
    "\n",
    "\n",
    "env.epoch = datetime.datetime.now()\n",
    "\n",
    "env.run()"
   ]
  },
  {
   "cell_type": "markdown",
   "metadata": {},
   "source": [
    "### Obtain vessel log information\n",
    "The cel below uses the vessel log. The core function *log_entry* is used, which takes four arguments:\n",
    "\n",
    "- **Log.** A text to describe what is logged.\n",
    "- **t.** The timestamp.\n",
    "- **Value.**  The value for the log (for sailing this is the distance).\n",
    "- **Geometry** The location of the vessel while loggin."
   ]
  },
  {
   "cell_type": "code",
   "execution_count": 9,
   "metadata": {},
   "outputs": [
    {
     "data": {
      "text/html": [
       "<div>\n",
       "<style scoped>\n",
       "    .dataframe tbody tr th:only-of-type {\n",
       "        vertical-align: middle;\n",
       "    }\n",
       "\n",
       "    .dataframe tbody tr th {\n",
       "        vertical-align: top;\n",
       "    }\n",
       "\n",
       "    .dataframe thead th {\n",
       "        text-align: right;\n",
       "    }\n",
       "</style>\n",
       "<table border=\"1\" class=\"dataframe\">\n",
       "  <thead>\n",
       "    <tr style=\"text-align: right;\">\n",
       "      <th></th>\n",
       "      <th>Timestamp</th>\n",
       "    </tr>\n",
       "  </thead>\n",
       "  <tbody>\n",
       "    <tr>\n",
       "      <th>0</th>\n",
       "      <td>2024-05-17 15:04:54.000000</td>\n",
       "    </tr>\n",
       "    <tr>\n",
       "      <th>1</th>\n",
       "      <td>2024-05-18 12:37:11.668044</td>\n",
       "    </tr>\n",
       "    <tr>\n",
       "      <th>2</th>\n",
       "      <td>2024-05-18 12:37:11.668044</td>\n",
       "    </tr>\n",
       "    <tr>\n",
       "      <th>3</th>\n",
       "      <td>2024-05-18 12:40:38.090775</td>\n",
       "    </tr>\n",
       "    <tr>\n",
       "      <th>4</th>\n",
       "      <td>2024-05-18 12:40:38.090775</td>\n",
       "    </tr>\n",
       "  </tbody>\n",
       "</table>\n",
       "</div>"
      ],
      "text/plain": [
       "                   Timestamp\n",
       "0 2024-05-17 15:04:54.000000\n",
       "1 2024-05-18 12:37:11.668044\n",
       "2 2024-05-18 12:37:11.668044\n",
       "3 2024-05-18 12:40:38.090775\n",
       "4 2024-05-18 12:40:38.090775"
      ]
     },
     "execution_count": 9,
     "metadata": {},
     "output_type": "execute_result"
    }
   ],
   "source": [
    "vessel_log = pd.DataFrame.from_dict(vessels[0].log)\n",
    "vessel_log.head()"
   ]
  },
  {
   "cell_type": "markdown",
   "metadata": {},
   "source": [
    "### Visualization of path\n",
    "If you get an error regarding ffmpeg use [this](https://stackoverflow.com/questions/13316397/matplotlib-animation-no-moviewriters-available) answer. You have to install ffmpeg in your Conda environment. It can be done using the following command.\n",
    "\n",
    "```bash\n",
    "#Install ffmpeg using Conda\n",
    "conda install -c conda-forge ffmpeg\n",
    "```"
   ]
  },
  {
   "cell_type": "code",
   "execution_count": 10,
   "metadata": {},
   "outputs": [
    {
     "ename": "KeyboardInterrupt",
     "evalue": "",
     "output_type": "error",
     "traceback": [
      "\u001b[1;31m---------------------------------------------------------------------------\u001b[0m",
      "\u001b[1;31mKeyboardInterrupt\u001b[0m                         Traceback (most recent call last)",
      "Cell \u001b[1;32mIn[10], line 3\u001b[0m\n\u001b[0;32m      1\u001b[0m \u001b[38;5;66;03m# visualise vessel movements based on the information included in the vessel.log\u001b[39;00m\n\u001b[0;32m      2\u001b[0m plot\u001b[38;5;241m.\u001b[39mvessel_kml(env, vessels, stepsize \u001b[38;5;241m=\u001b[39m \u001b[38;5;241m60\u001b[39m)\n\u001b[1;32m----> 3\u001b[0m \u001b[43mplot\u001b[49m\u001b[38;5;241;43m.\u001b[39;49m\u001b[43mgraph_kml\u001b[49m\u001b[43m(\u001b[49m\u001b[43menv\u001b[49m\u001b[43m)\u001b[49m\n",
      "File \u001b[1;32md:\\Users\\ALPF\\AppData\\Local\\pypoetry\\Cache\\virtualenvs\\dtv-backend-pvs5eNot-py3.10\\lib\\site-packages\\opentnsim\\plot.py:287\u001b[0m, in \u001b[0;36mgraph_kml\u001b[1;34m(env, fname, icon, size, scale, width)\u001b[0m\n\u001b[0;32m    280\u001b[0m \u001b[38;5;66;03m# each timestep will be represented as a single point\u001b[39;00m\n\u001b[0;32m    281\u001b[0m \u001b[38;5;28;01mfor\u001b[39;00m log_index, value \u001b[38;5;129;01min\u001b[39;00m \u001b[38;5;28menumerate\u001b[39m(\u001b[38;5;28mlist\u001b[39m(env\u001b[38;5;241m.\u001b[39mFG\u001b[38;5;241m.\u001b[39mnodes)[\u001b[38;5;241m0\u001b[39m : \u001b[38;5;241m-\u001b[39m\u001b[38;5;241m1\u001b[39m \u001b[38;5;241m-\u001b[39m \u001b[38;5;241m1\u001b[39m]):\n\u001b[0;32m    282\u001b[0m     pnt \u001b[38;5;241m=\u001b[39m fol\u001b[38;5;241m.\u001b[39mnewpoint(\n\u001b[0;32m    283\u001b[0m         name\u001b[38;5;241m=\u001b[39m\u001b[38;5;124m\"\u001b[39m\u001b[38;5;124m\"\u001b[39m,\n\u001b[0;32m    284\u001b[0m         coords\u001b[38;5;241m=\u001b[39m[\n\u001b[0;32m    285\u001b[0m             (\n\u001b[0;32m    286\u001b[0m                 nx\u001b[38;5;241m.\u001b[39mget_node_attributes(env\u001b[38;5;241m.\u001b[39mFG, \u001b[38;5;124m\"\u001b[39m\u001b[38;5;124mgeometry\u001b[39m\u001b[38;5;124m\"\u001b[39m)[nodes[log_index]]\u001b[38;5;241m.\u001b[39mx,\n\u001b[1;32m--> 287\u001b[0m                 \u001b[43mnx\u001b[49m\u001b[38;5;241;43m.\u001b[39;49m\u001b[43mget_node_attributes\u001b[49m\u001b[43m(\u001b[49m\u001b[43menv\u001b[49m\u001b[38;5;241;43m.\u001b[39;49m\u001b[43mFG\u001b[49m\u001b[43m,\u001b[49m\u001b[43m \u001b[49m\u001b[38;5;124;43m\"\u001b[39;49m\u001b[38;5;124;43mgeometry\u001b[39;49m\u001b[38;5;124;43m\"\u001b[39;49m\u001b[43m)\u001b[49m\u001b[43m[\u001b[49m\u001b[43mnodes\u001b[49m\u001b[43m[\u001b[49m\u001b[43mlog_index\u001b[49m\u001b[43m]\u001b[49m\u001b[43m]\u001b[49m\u001b[38;5;241;43m.\u001b[39;49m\u001b[43my\u001b[49m,\n\u001b[0;32m    288\u001b[0m             )\n\u001b[0;32m    289\u001b[0m         ],\n\u001b[0;32m    290\u001b[0m     )\n\u001b[0;32m    291\u001b[0m     pnt\u001b[38;5;241m.\u001b[39mstyle \u001b[38;5;241m=\u001b[39m shared_style\n\u001b[0;32m    293\u001b[0m edges \u001b[38;5;241m=\u001b[39m \u001b[38;5;28mlist\u001b[39m(env\u001b[38;5;241m.\u001b[39mFG\u001b[38;5;241m.\u001b[39medges)\n",
      "File \u001b[1;32md:\\Users\\ALPF\\AppData\\Local\\pypoetry\\Cache\\virtualenvs\\dtv-backend-pvs5eNot-py3.10\\lib\\site-packages\\shapely\\geometry\\point.py:93\u001b[0m, in \u001b[0;36mPoint.y\u001b[1;34m(self)\u001b[0m\n\u001b[0;32m     90\u001b[0m \u001b[38;5;129m@property\u001b[39m\n\u001b[0;32m     91\u001b[0m \u001b[38;5;28;01mdef\u001b[39;00m \u001b[38;5;21my\u001b[39m(\u001b[38;5;28mself\u001b[39m):\n\u001b[0;32m     92\u001b[0m \u001b[38;5;250m    \u001b[39m\u001b[38;5;124;03m\"\"\"Return y coordinate.\"\"\"\u001b[39;00m\n\u001b[1;32m---> 93\u001b[0m     \u001b[38;5;28;01mreturn\u001b[39;00m \u001b[43mshapely\u001b[49m\u001b[38;5;241;43m.\u001b[39;49m\u001b[43mget_y\u001b[49m\u001b[43m(\u001b[49m\u001b[38;5;28;43mself\u001b[39;49m\u001b[43m)\u001b[49m\n",
      "File \u001b[1;32md:\\Users\\ALPF\\AppData\\Local\\pypoetry\\Cache\\virtualenvs\\dtv-backend-pvs5eNot-py3.10\\lib\\site-packages\\shapely\\decorators.py:77\u001b[0m, in \u001b[0;36mmultithreading_enabled.<locals>.wrapped\u001b[1;34m(*args, **kwargs)\u001b[0m\n\u001b[0;32m     75\u001b[0m     \u001b[38;5;28;01mfor\u001b[39;00m arr \u001b[38;5;129;01min\u001b[39;00m array_args:\n\u001b[0;32m     76\u001b[0m         arr\u001b[38;5;241m.\u001b[39mflags\u001b[38;5;241m.\u001b[39mwriteable \u001b[38;5;241m=\u001b[39m \u001b[38;5;28;01mFalse\u001b[39;00m\n\u001b[1;32m---> 77\u001b[0m     \u001b[38;5;28;01mreturn\u001b[39;00m func(\u001b[38;5;241m*\u001b[39margs, \u001b[38;5;241m*\u001b[39m\u001b[38;5;241m*\u001b[39mkwargs)\n\u001b[0;32m     78\u001b[0m \u001b[38;5;28;01mfinally\u001b[39;00m:\n\u001b[0;32m     79\u001b[0m     \u001b[38;5;28;01mfor\u001b[39;00m arr, old_flag \u001b[38;5;129;01min\u001b[39;00m \u001b[38;5;28mzip\u001b[39m(array_args, old_flags):\n",
      "File \u001b[1;32md:\\Users\\ALPF\\AppData\\Local\\pypoetry\\Cache\\virtualenvs\\dtv-backend-pvs5eNot-py3.10\\lib\\site-packages\\shapely\\_geometry.py:290\u001b[0m, in \u001b[0;36mget_y\u001b[1;34m(point, **kwargs)\u001b[0m\n\u001b[0;32m    267\u001b[0m \u001b[38;5;129m@multithreading_enabled\u001b[39m\n\u001b[0;32m    268\u001b[0m \u001b[38;5;28;01mdef\u001b[39;00m \u001b[38;5;21mget_y\u001b[39m(point, \u001b[38;5;241m*\u001b[39m\u001b[38;5;241m*\u001b[39mkwargs):\n\u001b[0;32m    269\u001b[0m \u001b[38;5;250m    \u001b[39m\u001b[38;5;124;03m\"\"\"Returns the y-coordinate of a point\u001b[39;00m\n\u001b[0;32m    270\u001b[0m \n\u001b[0;32m    271\u001b[0m \u001b[38;5;124;03m    Parameters\u001b[39;00m\n\u001b[1;32m   (...)\u001b[0m\n\u001b[0;32m    288\u001b[0m \u001b[38;5;124;03m    nan\u001b[39;00m\n\u001b[0;32m    289\u001b[0m \u001b[38;5;124;03m    \"\"\"\u001b[39;00m\n\u001b[1;32m--> 290\u001b[0m     \u001b[38;5;28;01mreturn\u001b[39;00m lib\u001b[38;5;241m.\u001b[39mget_y(point, \u001b[38;5;241m*\u001b[39m\u001b[38;5;241m*\u001b[39mkwargs)\n",
      "\u001b[1;31mKeyboardInterrupt\u001b[0m: "
     ]
    }
   ],
   "source": [
    "# visualise vessel movements based on the information included in the vessel.log\n",
    "plot.vessel_kml(env, vessels, stepsize = 60)\n",
    "plot.graph_kml(env)"
   ]
  }
 ],
 "metadata": {
  "kernelspec": {
   "display_name": "Python 3 (ipykernel)",
   "language": "python",
   "name": "python3"
  },
  "language_info": {
   "codemirror_mode": {
    "name": "ipython",
    "version": 3
   },
   "file_extension": ".py",
   "mimetype": "text/x-python",
   "name": "python",
   "nbconvert_exporter": "python",
   "pygments_lexer": "ipython3",
   "version": "3.10.8"
  }
 },
 "nbformat": 4,
 "nbformat_minor": 2
}
