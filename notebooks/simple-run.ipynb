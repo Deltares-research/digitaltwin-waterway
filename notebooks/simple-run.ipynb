{
 "cells": [
  {
   "cell_type": "markdown",
   "metadata": {},
   "source": [
    "# Digital Twin Fairways\n",
    "This notebook provides an example on how to use the digital twin backend. It runs a simulation based on fairway information system of the Netherlands. You can define sites (with cargo), climate conditions and ships. Ships will transport the goods from A to B."
   ]
  },
  {
   "cell_type": "code",
   "execution_count": 51,
   "metadata": {},
   "outputs": [
    {
     "name": "stdout",
     "output_type": "stream",
     "text": [
      "The autoreload extension is already loaded. To reload it, use:\n",
      "  %reload_ext autoreload\n"
     ]
    }
   ],
   "source": [
    "import datetime\n",
    "\n",
    "import geojson\n",
    "import simpy\n",
    "import time\n",
    "\n",
    "# library to load the fairway information network\n",
    "import dtv_backend.network.network\n",
    "# the simpy processes and objects\n",
    "import dtv_backend.simple\n",
    "\n",
    "# reload for debugging purposes\n",
    "%load_ext autoreload\n",
    "%autoreload 2"
   ]
  },
  {
   "cell_type": "markdown",
   "metadata": {},
   "source": [
    "## Input\n",
    "You can define your input in a json configuration file. The relevant parts are sites, fleet and climate."
   ]
  },
  {
   "cell_type": "code",
   "execution_count": 52,
   "metadata": {},
   "outputs": [
    {
     "data": {
      "text/plain": [
       "dict_keys(['sites', 'fleet', 'climate', 'activities'])"
      ]
     },
     "execution_count": 52,
     "metadata": {},
     "output_type": "execute_result"
    }
   ],
   "source": [
    "# example input\n",
    "with open('../dtv_backend/tests/test-01/config.json') as f:\n",
    "    config = geojson.load(f)\n",
    "config.keys()"
   ]
  },
  {
   "cell_type": "markdown",
   "metadata": {},
   "source": [
    "## Simulation environment\n",
    "Setup an simulation environment with a time that starts today. You can also choose a date in the past or future. Using the date 0 won't work on windows. "
   ]
  },
  {
   "cell_type": "code",
   "execution_count": 53,
   "metadata": {},
   "outputs": [],
   "source": [
    "# Initialize an environment with a real time\n",
    "now = datetime.datetime.now()\n",
    "initial_time = now.timestamp()\n",
    "env = simpy.Environment(initial_time=initial_time)\n",
    "env.epoch = now\n"
   ]
  },
  {
   "cell_type": "markdown",
   "metadata": {},
   "source": [
    "## Network\n",
    "Here we load the digital twin network. The topological fairway network derived from the Dutch Fairway Information System. The data is processed to be topological connected and usable for transport network analysis.  "
   ]
  },
  {
   "cell_type": "code",
   "execution_count": 54,
   "metadata": {},
   "outputs": [],
   "source": [
    "url = 'https://storage.googleapis.com/et-data-science/dtv/network_digital_twin_v0.1.yaml'\n",
    "G = dtv_backend.network.network.load_fis_network(url)\n",
    "env.FG = G"
   ]
  },
  {
   "cell_type": "markdown",
   "metadata": {},
   "source": [
    "## Connect ports to simulation environment\n",
    "We have a few different entities defined. The port contains cargo and a crane. The crane can be used to load and unload cargo from ships. The site objects (later to be extended with sluices, stopping areas, etc) are geojson features. "
   ]
  },
  {
   "cell_type": "code",
   "execution_count": 62,
   "metadata": {},
   "outputs": [],
   "source": [
    "ports = []\n",
    "for site in config['sites']:\n",
    "    port = dtv_backend.simple.Port(env, **site['properties'], **site)\n",
    "    ports.append(port)"
   ]
  },
  {
   "cell_type": "markdown",
   "metadata": {},
   "source": [
    "## Connect ships to simulation environment\n",
    "The ships can also contain cargo. The ships can move over the graph. They are instances of the prototype ships from the Rijkswaterstaat ship dataset. You can have multiple copies of the same ship. All ships can work at the same time. "
   ]
  },
  {
   "cell_type": "code",
   "execution_count": 63,
   "metadata": {},
   "outputs": [],
   "source": [
    "ships = []\n",
    "for ship in config['fleet']:\n",
    "    ship = dtv_backend.simple.Ship(env, **ship['properties'], **ship)\n",
    "    ships.append(ship)\n"
   ]
  },
  {
   "cell_type": "markdown",
   "metadata": {},
   "source": [
    "## Simulation loop\n",
    "Here we define the major simulation loop. It will run for a number of steps. It will wait for ships to become available. If a ship is available it will get a new assignment.  The assignment consists of a four step procedure. sail to source, load cargo, move to destination, unload cargo. All the activities that are logged in the corresponding object.\n",
    "\n",
    "We have three stop conditions:\n",
    "- Time span (2 weeks)\n",
    "- Number of iterations (n=100)\n",
    "- All cargo transported "
   ]
  },
  {
   "cell_type": "code",
   "execution_count": 65,
   "metadata": {},
   "outputs": [
    {
     "name": "stdout",
     "output_type": "stream",
     "text": [
      "preparing task\n",
      "preparing task\n",
      "waiting for ships to return\n",
      "got task (<dtv_backend.simple.Port object at 0x13fd468e0>, <dtv_backend.simple.Port object at 0x13fd46e20>, 3000)\n",
      "preparing task\n",
      "port empty 0\n"
     ]
    }
   ],
   "source": [
    "class Operator(object):\n",
    "    \"\"\"This class represents a fleet operator.\"\"\"\n",
    "    def __init__(self, env, ships):\n",
    "        self.env = env\n",
    "        self.fleet = simpy.Store(env, capacity=len(ships))\n",
    "        # create list of tasks, any ship can pick them up\n",
    "        self.tasks = simpy.Store(env, capacity=len(ships))\n",
    "        for ship in ships:\n",
    "            self.fleet.put(ship)\n",
    "\n",
    "    def send_task(self, task):\n",
    "        \"\"\"return send task request\"\"\"\n",
    "        return self.tasks.put(task)\n",
    "\n",
    "    def get_task(self):\n",
    "        \"\"\"return get task request\"\"\"\n",
    "        return self.tasks.get()\n",
    "\n",
    "    def run(self, source, destination):\n",
    "        \"\"\"A process which prepares tasks.\"\"\"\n",
    "        outstanding_work = 0\n",
    "        while True:\n",
    "            print('preparing task')\n",
    "            if source.cargo.level <= 0:\n",
    "                print('port empty', source.cargo.level)\n",
    "                break\n",
    "            if source.cargo.level - outstanding_work <= 0 :\n",
    "                print('waiting for ships to return')\n",
    "                # wait six hours for tasks to complete\n",
    "                yield self.env.timeout(3600 * 6)\n",
    "                # check again\n",
    "                continue\n",
    "            # Time it takes to send an assignment (1 minute)\n",
    "            yield self.env.timeout(60)\n",
    "            # check the maximuma load and set out tasks for that maximum load\n",
    "            max_load = min(\n",
    "                max(ship.max_load for ship in self.fleet.items),\n",
    "                source.cargo.level - outstanding_work\n",
    "            )\n",
    "            self.send_task((source, destination, max_load))\n",
    "            # if we set out a task with max_load, don't put more work than we have so keep track of the outstanding work\n",
    "            outstanding_work += max_load\n",
    "\n",
    "\n",
    "def ship(env, operator):\n",
    "    \"\"\"A process which consumes messages.\"\"\"\n",
    "    while True:\n",
    "        # Get event for message pipe\n",
    "        task = yield operator.get_task()\n",
    "        print('got task', task)\n",
    "        source, destination, max_load = task\n",
    "        source.cargo.get(max_load)\n",
    "        yield env.timeout(3600)\n",
    "        \n",
    "        \n",
    "# Setup and start the simulation\n",
    "env = simpy.Environment()\n",
    "\n",
    "operator = Operator(env, ships)\n",
    "env.process(operator.run(ports[0], ports[1]))\n",
    "env.process(ship(env, operator))\n",
    "SIM_DURATION = 3600 * 24\n",
    "env.run(until=SIM_DURATION)"
   ]
  },
  {
   "cell_type": "code",
   "execution_count": 7,
   "metadata": {},
   "outputs": [
    {
     "data": {
      "text/plain": [
       "<Process(loop) object at 0x12bddf9a0>"
      ]
     },
     "execution_count": 7,
     "metadata": {},
     "output_type": "execute_result"
    }
   ],
   "source": [
    "source, destination = ports[0], ports[1]\n",
    "\n",
    "def loop():\n",
    "    max_steps = 100\n",
    "    fleet = simpy.Store(env=env, capacity=len(ships))\n",
    "    for ship in ships:\n",
    "        fleet.put(ship)\n",
    "\n",
    "    for i in range(max_steps):\n",
    "        if source.cargo.level <= 0:\n",
    "            break\n",
    "        # put all ships to work, if one of them is done, \n",
    "        # check conditions\n",
    "        ship = yield fleet.get()\n",
    "        env.process(ship.load_move_unload(source, destination))\n",
    "        yield fleet.put(ship)\n",
    "# Define the work\n",
    "env.process(loop())"
   ]
  },
  {
   "cell_type": "code",
   "execution_count": 8,
   "metadata": {},
   "outputs": [
    {
     "ename": "KeyboardInterrupt",
     "evalue": "",
     "output_type": "error",
     "traceback": [
      "\u001b[0;31m---------------------------------------------------------------------------\u001b[0m",
      "\u001b[0;31mKeyboardInterrupt\u001b[0m                         Traceback (most recent call last)",
      "\u001b[0;32m~/src/digitaltwin-waterway/dtv_backend/dtv_backend/simple.py\u001b[0m in \u001b[0;36mload_move_unload\u001b[0;34m(self, source, destination)\u001b[0m\n\u001b[1;32m    218\u001b[0m         \u001b[0;32myield\u001b[0m \u001b[0;32mfrom\u001b[0m \u001b[0mself\u001b[0m\u001b[0;34m.\u001b[0m\u001b[0mload_at\u001b[0m\u001b[0;34m(\u001b[0m\u001b[0msource\u001b[0m\u001b[0;34m)\u001b[0m\u001b[0;34m\u001b[0m\u001b[0;34m\u001b[0m\u001b[0m\n\u001b[0;32m--> 219\u001b[0;31m         \u001b[0;32myield\u001b[0m \u001b[0;32mfrom\u001b[0m \u001b[0mself\u001b[0m\u001b[0;34m.\u001b[0m\u001b[0mmove_to\u001b[0m\u001b[0;34m(\u001b[0m\u001b[0mdestination\u001b[0m\u001b[0;34m)\u001b[0m\u001b[0;34m\u001b[0m\u001b[0;34m\u001b[0m\u001b[0m\n\u001b[0m\u001b[1;32m    220\u001b[0m         \u001b[0;32myield\u001b[0m \u001b[0;32mfrom\u001b[0m \u001b[0mself\u001b[0m\u001b[0;34m.\u001b[0m\u001b[0munload_at\u001b[0m\u001b[0;34m(\u001b[0m\u001b[0mdestination\u001b[0m\u001b[0;34m)\u001b[0m\u001b[0;34m\u001b[0m\u001b[0;34m\u001b[0m\u001b[0m\n",
      "\u001b[0;32m~/src/digitaltwin-waterway/dtv_backend/dtv_backend/simple.py\u001b[0m in \u001b[0;36mmove_to\u001b[0;34m(self, destination)\u001b[0m\n\u001b[1;32m    193\u001b[0m         \u001b[0mheight\u001b[0m \u001b[0;34m=\u001b[0m \u001b[0mself\u001b[0m\u001b[0;34m.\u001b[0m\u001b[0mmetadata\u001b[0m\u001b[0;34m[\u001b[0m\u001b[0;34m'Height average [m]'\u001b[0m\u001b[0;34m]\u001b[0m\u001b[0;34m\u001b[0m\u001b[0;34m\u001b[0m\u001b[0m\n\u001b[0;32m--> 194\u001b[0;31m         path = dtv_backend.network.network_utilities.shorted_path_by_dimensions(\n\u001b[0m\u001b[1;32m    195\u001b[0m             \u001b[0mgraph\u001b[0m\u001b[0;34m,\u001b[0m\u001b[0;34m\u001b[0m\u001b[0;34m\u001b[0m\u001b[0m\n",
      "\u001b[0;32m~/src/digitaltwin-waterway/dtv_backend/dtv_backend/network/network_utilities.py\u001b[0m in \u001b[0;36mshorted_path_by_dimensions\u001b[0;34m(graph, source, destination, width, height, depth, length)\u001b[0m\n\u001b[1;32m    155\u001b[0m     \u001b[0;32mfor\u001b[0m \u001b[0medge\u001b[0m \u001b[0;32min\u001b[0m \u001b[0medges\u001b[0m\u001b[0;34m:\u001b[0m\u001b[0;34m\u001b[0m\u001b[0;34m\u001b[0m\u001b[0m\n\u001b[0;32m--> 156\u001b[0;31m         \u001b[0mconstrained_graph\u001b[0m\u001b[0;34m.\u001b[0m\u001b[0madd_edge\u001b[0m\u001b[0;34m(\u001b[0m\u001b[0medge\u001b[0m\u001b[0;34m[\u001b[0m\u001b[0;36m0\u001b[0m\u001b[0;34m]\u001b[0m\u001b[0;34m,\u001b[0m \u001b[0medge\u001b[0m\u001b[0;34m[\u001b[0m\u001b[0;36m1\u001b[0m\u001b[0;34m]\u001b[0m\u001b[0;34m)\u001b[0m\u001b[0;34m\u001b[0m\u001b[0;34m\u001b[0m\u001b[0m\n\u001b[0m\u001b[1;32m    157\u001b[0m \u001b[0;34m\u001b[0m\u001b[0m\n",
      "\u001b[0;32m~/.virtualenvs/main/lib/python3.8/site-packages/networkx/classes/graph.py\u001b[0m in \u001b[0;36madd_edge\u001b[0;34m(self, u_of_edge, v_of_edge, **attr)\u001b[0m\n\u001b[1;32m    888\u001b[0m         \u001b[0;31m# add the edge\u001b[0m\u001b[0;34m\u001b[0m\u001b[0;34m\u001b[0m\u001b[0;34m\u001b[0m\u001b[0m\n\u001b[0;32m--> 889\u001b[0;31m         \u001b[0mdatadict\u001b[0m \u001b[0;34m=\u001b[0m \u001b[0mself\u001b[0m\u001b[0;34m.\u001b[0m\u001b[0m_adj\u001b[0m\u001b[0;34m[\u001b[0m\u001b[0mu\u001b[0m\u001b[0;34m]\u001b[0m\u001b[0;34m.\u001b[0m\u001b[0mget\u001b[0m\u001b[0;34m(\u001b[0m\u001b[0mv\u001b[0m\u001b[0;34m,\u001b[0m \u001b[0mself\u001b[0m\u001b[0;34m.\u001b[0m\u001b[0medge_attr_dict_factory\u001b[0m\u001b[0;34m(\u001b[0m\u001b[0;34m)\u001b[0m\u001b[0;34m)\u001b[0m\u001b[0;34m\u001b[0m\u001b[0;34m\u001b[0m\u001b[0m\n\u001b[0m\u001b[1;32m    890\u001b[0m         \u001b[0mdatadict\u001b[0m\u001b[0;34m.\u001b[0m\u001b[0mupdate\u001b[0m\u001b[0;34m(\u001b[0m\u001b[0mattr\u001b[0m\u001b[0;34m)\u001b[0m\u001b[0;34m\u001b[0m\u001b[0;34m\u001b[0m\u001b[0m\n",
      "\u001b[0;31mKeyboardInterrupt\u001b[0m: ",
      "\nThe above exception was the direct cause of the following exception:\n",
      "\u001b[0;31mKeyboardInterrupt\u001b[0m                         Traceback (most recent call last)",
      "\u001b[0;32m<ipython-input-8-2a1248373a22>\u001b[0m in \u001b[0;36m<module>\u001b[0;34m\u001b[0m\n\u001b[1;32m      1\u001b[0m \u001b[0mtwo_weeks\u001b[0m \u001b[0;34m=\u001b[0m \u001b[0mnow\u001b[0m \u001b[0;34m+\u001b[0m \u001b[0mdatetime\u001b[0m\u001b[0;34m.\u001b[0m\u001b[0mtimedelta\u001b[0m\u001b[0;34m(\u001b[0m\u001b[0mdays\u001b[0m\u001b[0;34m=\u001b[0m\u001b[0;36m140\u001b[0m\u001b[0;34m)\u001b[0m\u001b[0;34m\u001b[0m\u001b[0;34m\u001b[0m\u001b[0m\n\u001b[0;32m----> 2\u001b[0;31m \u001b[0menv\u001b[0m\u001b[0;34m.\u001b[0m\u001b[0mrun\u001b[0m\u001b[0;34m(\u001b[0m\u001b[0muntil\u001b[0m\u001b[0;34m=\u001b[0m\u001b[0mtwo_weeks\u001b[0m\u001b[0;34m.\u001b[0m\u001b[0mtimestamp\u001b[0m\u001b[0;34m(\u001b[0m\u001b[0;34m)\u001b[0m\u001b[0;34m)\u001b[0m\u001b[0;34m\u001b[0m\u001b[0;34m\u001b[0m\u001b[0m\n\u001b[0m",
      "\u001b[0;32m~/.virtualenvs/main/lib/python3.8/site-packages/simpy/core.py\u001b[0m in \u001b[0;36mrun\u001b[0;34m(self, until)\u001b[0m\n\u001b[1;32m    252\u001b[0m         \u001b[0;32mtry\u001b[0m\u001b[0;34m:\u001b[0m\u001b[0;34m\u001b[0m\u001b[0;34m\u001b[0m\u001b[0m\n\u001b[1;32m    253\u001b[0m             \u001b[0;32mwhile\u001b[0m \u001b[0;32mTrue\u001b[0m\u001b[0;34m:\u001b[0m\u001b[0;34m\u001b[0m\u001b[0;34m\u001b[0m\u001b[0m\n\u001b[0;32m--> 254\u001b[0;31m                 \u001b[0mself\u001b[0m\u001b[0;34m.\u001b[0m\u001b[0mstep\u001b[0m\u001b[0;34m(\u001b[0m\u001b[0;34m)\u001b[0m\u001b[0;34m\u001b[0m\u001b[0;34m\u001b[0m\u001b[0m\n\u001b[0m\u001b[1;32m    255\u001b[0m         \u001b[0;32mexcept\u001b[0m \u001b[0mStopSimulation\u001b[0m \u001b[0;32mas\u001b[0m \u001b[0mexc\u001b[0m\u001b[0;34m:\u001b[0m\u001b[0;34m\u001b[0m\u001b[0;34m\u001b[0m\u001b[0m\n\u001b[1;32m    256\u001b[0m             \u001b[0;32mreturn\u001b[0m \u001b[0mexc\u001b[0m\u001b[0;34m.\u001b[0m\u001b[0margs\u001b[0m\u001b[0;34m[\u001b[0m\u001b[0;36m0\u001b[0m\u001b[0;34m]\u001b[0m  \u001b[0;31m# == until.value\u001b[0m\u001b[0;34m\u001b[0m\u001b[0;34m\u001b[0m\u001b[0m\n",
      "\u001b[0;32m~/.virtualenvs/main/lib/python3.8/site-packages/simpy/core.py\u001b[0m in \u001b[0;36mstep\u001b[0;34m(self)\u001b[0m\n\u001b[1;32m    204\u001b[0m             \u001b[0mexc\u001b[0m \u001b[0;34m=\u001b[0m \u001b[0mtype\u001b[0m\u001b[0;34m(\u001b[0m\u001b[0mevent\u001b[0m\u001b[0;34m.\u001b[0m\u001b[0m_value\u001b[0m\u001b[0;34m)\u001b[0m\u001b[0;34m(\u001b[0m\u001b[0;34m*\u001b[0m\u001b[0mevent\u001b[0m\u001b[0;34m.\u001b[0m\u001b[0m_value\u001b[0m\u001b[0;34m.\u001b[0m\u001b[0margs\u001b[0m\u001b[0;34m)\u001b[0m\u001b[0;34m\u001b[0m\u001b[0;34m\u001b[0m\u001b[0m\n\u001b[1;32m    205\u001b[0m             \u001b[0mexc\u001b[0m\u001b[0;34m.\u001b[0m\u001b[0m__cause__\u001b[0m \u001b[0;34m=\u001b[0m \u001b[0mevent\u001b[0m\u001b[0;34m.\u001b[0m\u001b[0m_value\u001b[0m\u001b[0;34m\u001b[0m\u001b[0;34m\u001b[0m\u001b[0m\n\u001b[0;32m--> 206\u001b[0;31m             \u001b[0;32mraise\u001b[0m \u001b[0mexc\u001b[0m\u001b[0;34m\u001b[0m\u001b[0;34m\u001b[0m\u001b[0m\n\u001b[0m\u001b[1;32m    207\u001b[0m \u001b[0;34m\u001b[0m\u001b[0m\n\u001b[1;32m    208\u001b[0m     def run(\n",
      "\u001b[0;31mKeyboardInterrupt\u001b[0m: "
     ]
    }
   ],
   "source": [
    "two_weeks = now + datetime.timedelta(days=140)\n",
    "env.run(until=two_weeks.timestamp())"
   ]
  },
  {
   "cell_type": "markdown",
   "metadata": {},
   "source": [
    "## Postprocessing\n",
    "After the simulation is complete we can load the activity logs into a data frame and export them to our favorite formats or make charts. "
   ]
  },
  {
   "cell_type": "code",
   "execution_count": 9,
   "metadata": {},
   "outputs": [],
   "source": [
    "import pandas as pd\n",
    "dfs = [pd.DataFrame(ship.log) for ship in ships]\n",
    "df = pd.concat(dfs)\n",
    "df['Name'] = df['Meta'].apply(lambda x: x['ship'].name)\n",
    "df = df.sort_values(['Timestamp', 'AcitivityID'])\n"
   ]
  },
  {
   "cell_type": "code",
   "execution_count": 10,
   "metadata": {},
   "outputs": [
    {
     "data": {
      "text/html": [
       "<div>\n",
       "<style scoped>\n",
       "    .dataframe tbody tr th:only-of-type {\n",
       "        vertical-align: middle;\n",
       "    }\n",
       "\n",
       "    .dataframe tbody tr th {\n",
       "        vertical-align: top;\n",
       "    }\n",
       "\n",
       "    .dataframe thead th {\n",
       "        text-align: right;\n",
       "    }\n",
       "</style>\n",
       "<table border=\"1\" class=\"dataframe\">\n",
       "  <thead>\n",
       "    <tr style=\"text-align: right;\">\n",
       "      <th></th>\n",
       "      <th>Message</th>\n",
       "      <th>Timestamp</th>\n",
       "      <th>Value</th>\n",
       "      <th>geometry</th>\n",
       "      <th>AcitivityID</th>\n",
       "      <th>ActivityState</th>\n",
       "      <th>Meta</th>\n",
       "    </tr>\n",
       "  </thead>\n",
       "  <tbody>\n",
       "    <tr>\n",
       "      <th>0</th>\n",
       "      <td>Loading</td>\n",
       "      <td>2020-12-02 09:42:47.366782</td>\n",
       "      <td>7000</td>\n",
       "      <td>POINT (4.087406 51.936737)</td>\n",
       "      <td>5</td>\n",
       "      <td>STARTED</td>\n",
       "      <td>{'destination': &lt;dtv_backend.simple.Ship objec...</td>\n",
       "    </tr>\n",
       "    <tr>\n",
       "      <th>1</th>\n",
       "      <td>Loading</td>\n",
       "      <td>2020-12-02 12:42:47.366782</td>\n",
       "      <td>7000</td>\n",
       "      <td>POINT (4.087406 51.936737)</td>\n",
       "      <td>302</td>\n",
       "      <td>STOPPED</td>\n",
       "      <td>{'destination': &lt;dtv_backend.simple.Ship objec...</td>\n",
       "    </tr>\n",
       "    <tr>\n",
       "      <th>2</th>\n",
       "      <td>Loading</td>\n",
       "      <td>2020-12-02 12:42:47.366782</td>\n",
       "      <td>4000</td>\n",
       "      <td>POINT (4.087406 51.936737)</td>\n",
       "      <td>305</td>\n",
       "      <td>STARTED</td>\n",
       "      <td>{'destination': &lt;dtv_backend.simple.Ship objec...</td>\n",
       "    </tr>\n",
       "    <tr>\n",
       "      <th>3</th>\n",
       "      <td>Loading</td>\n",
       "      <td>2020-12-02 15:42:47.366782</td>\n",
       "      <td>4000</td>\n",
       "      <td>POINT (4.087406 51.936737)</td>\n",
       "      <td>306</td>\n",
       "      <td>STOPPED</td>\n",
       "      <td>{'destination': &lt;dtv_backend.simple.Ship objec...</td>\n",
       "    </tr>\n",
       "    <tr>\n",
       "      <th>4</th>\n",
       "      <td>Loading</td>\n",
       "      <td>2020-12-02 15:42:47.366782</td>\n",
       "      <td>1000</td>\n",
       "      <td>POINT (4.087406 51.936737)</td>\n",
       "      <td>318</td>\n",
       "      <td>STARTED</td>\n",
       "      <td>{'destination': &lt;dtv_backend.simple.Ship objec...</td>\n",
       "    </tr>\n",
       "  </tbody>\n",
       "</table>\n",
       "</div>"
      ],
      "text/plain": [
       "   Message                  Timestamp  Value                    geometry  \\\n",
       "0  Loading 2020-12-02 09:42:47.366782   7000  POINT (4.087406 51.936737)   \n",
       "1  Loading 2020-12-02 12:42:47.366782   7000  POINT (4.087406 51.936737)   \n",
       "2  Loading 2020-12-02 12:42:47.366782   4000  POINT (4.087406 51.936737)   \n",
       "3  Loading 2020-12-02 15:42:47.366782   4000  POINT (4.087406 51.936737)   \n",
       "4  Loading 2020-12-02 15:42:47.366782   1000  POINT (4.087406 51.936737)   \n",
       "\n",
       "   AcitivityID ActivityState  \\\n",
       "0            5       STARTED   \n",
       "1          302       STOPPED   \n",
       "2          305       STARTED   \n",
       "3          306       STOPPED   \n",
       "4          318       STARTED   \n",
       "\n",
       "                                                Meta  \n",
       "0  {'destination': <dtv_backend.simple.Ship objec...  \n",
       "1  {'destination': <dtv_backend.simple.Ship objec...  \n",
       "2  {'destination': <dtv_backend.simple.Ship objec...  \n",
       "3  {'destination': <dtv_backend.simple.Ship objec...  \n",
       "4  {'destination': <dtv_backend.simple.Ship objec...  "
      ]
     },
     "execution_count": 10,
     "metadata": {},
     "output_type": "execute_result"
    }
   ],
   "source": [
    "pd.DataFrame(ports[0].log).head()"
   ]
  },
  {
   "cell_type": "code",
   "execution_count": 11,
   "metadata": {},
   "outputs": [
    {
     "data": {
      "text/plain": [
       "<matplotlib.legend.Legend at 0x132d58c70>"
      ]
     },
     "execution_count": 11,
     "metadata": {},
     "output_type": "execute_result"
    },
    {
     "data": {
      "image/png": "[encoded data removed]",
      "text/plain": [
       "<Figure size 504x288 with 1 Axes>"
      ]
     },
     "metadata": {
      "needs_background": "light"
     },
     "output_type": "display_data"
    }
   ],
   "source": [
    "import matplotlib.pyplot as plt\n",
    "fig, ax = plt.subplots(figsize=(7, 4))\n",
    "\n",
    "source_port = pd.DataFrame(ports[0].log)\n",
    "source_port['level'] = source_port['Meta'].apply(lambda x: x['source_level'])\n",
    "destination_port = pd.DataFrame(ports[1].log)\n",
    "destination_port['level'] = destination_port['Meta'].apply(lambda x: x['destination_level'])\n",
    "\n",
    "ax.step(source_port['Timestamp'], source_port['level'], label='source')\n",
    "ax.step(destination_port['Timestamp'], destination_port['level'], label='destination')\n",
    "ax.set_ylabel('cargo [tonne]')\n",
    "ax.set_xlabel('time')\n",
    "\n",
    "ax.legend()"
   ]
  },
  {
   "cell_type": "code",
   "execution_count": 12,
   "metadata": {},
   "outputs": [
    {
     "data": {
      "image/png": "[encoded data removed]",
      "text/plain": [
       "<Figure size 504x288 with 1 Axes>"
      ]
     },
     "metadata": {
      "needs_background": "light"
     },
     "output_type": "display_data"
    }
   ],
   "source": [
    "fig, ax = plt.subplots(figsize=(7, 4))\n",
    "\n",
    "for ship in ships:\n",
    "    df = pd.DataFrame(ship.log)\n"
   ]
  },
  {
   "cell_type": "code",
   "execution_count": null,
   "metadata": {},
   "outputs": [],
   "source": []
  }
 ],
 "metadata": {
  "kernelspec": {
   "display_name": "Python 3",
   "language": "python",
   "name": "python3"
  },
  "language_info": {
   "codemirror_mode": {
    "name": "ipython",
    "version": 3
   },
   "file_extension": ".py",
   "mimetype": "text/x-python",
   "name": "python",
   "nbconvert_exporter": "python",
   "pygments_lexer": "ipython3",
   "version": "3.8.6"
  }
 },
 "nbformat": 4,
 "nbformat_minor": 4
}
