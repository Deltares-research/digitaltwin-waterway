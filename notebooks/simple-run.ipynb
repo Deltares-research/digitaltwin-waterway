{
 "cells": [
  {
   "cell_type": "markdown",
   "metadata": {},
   "source": [
    "# Digital Twin Fairways\n",
    "This notebook provides an example on how to use the digital twin backend. It runs a simulation based on fairway information system of the Netherlands. You can define sites (with cargo), climate conditions and ships. Ships will transport the goods from A to B."
   ]
  },
  {
   "cell_type": "code",
   "execution_count": 1,
   "metadata": {},
   "outputs": [],
   "source": [
    "import datetime\n",
    "\n",
    "import geojson\n",
    "import simpy\n",
    "import time\n",
    "\n",
    "# library to load the fairway information network\n",
    "import dtv_backend.network.network\n",
    "# the simpy processes and objects\n",
    "import dtv_backend.simple\n",
    "\n",
    "# reload for debugging purposes\n",
    "%load_ext autoreload\n",
    "%autoreload 2"
   ]
  },
  {
   "cell_type": "markdown",
   "metadata": {},
   "source": [
    "## Input\n",
    "You can define your input in a json configuration file. The relevant parts are sites, fleet and climate."
   ]
  },
  {
   "cell_type": "code",
   "execution_count": 2,
   "metadata": {},
   "outputs": [
    {
     "data": {
      "text/plain": [
       "dict_keys(['sites', 'fleet', 'climate', 'activities'])"
      ]
     },
     "execution_count": 2,
     "metadata": {},
     "output_type": "execute_result"
    }
   ],
   "source": [
    "# example input\n",
    "with open('../dtv_backend/tests/test-01/config.json') as f:\n",
    "    config = geojson.load(f)\n",
    "config.keys()"
   ]
  },
  {
   "cell_type": "markdown",
   "metadata": {},
   "source": [
    "## Simulation environment\n",
    "Setup an simulation environment with a time that starts today. You can also choose a date in the past or future. Using the date 0 won't work on windows. "
   ]
  },
  {
   "cell_type": "code",
   "execution_count": 3,
   "metadata": {},
   "outputs": [],
   "source": [
    "# Initialize an environment with a real time\n",
    "now = datetime.datetime.now()\n",
    "initial_time = now.timestamp()\n",
    "env = simpy.Environment(initial_time=initial_time)\n",
    "env.epoch = now\n"
   ]
  },
  {
   "cell_type": "markdown",
   "metadata": {},
   "source": [
    "## Network\n",
    "Here we load the digital twin network. The topological fairway network derived from the Dutch Fairway Information System. The data is processed to be topological connected and usable for transport network analysis.  "
   ]
  },
  {
   "cell_type": "code",
   "execution_count": 4,
   "metadata": {},
   "outputs": [],
   "source": [
    "url = 'https://storage.googleapis.com/et-data-science/dtv/network_digital_twin_v0.1.yaml'\n",
    "G = dtv_backend.network.network.load_fis_network(url)\n",
    "env.FG = G"
   ]
  },
  {
   "cell_type": "markdown",
   "metadata": {},
   "source": [
    "## Connect ports to simulation environment\n",
    "We have a few different entities defined. The port contains cargo and a crane. The crane can be used to load and unload cargo from ships. The site objects (later to be extended with sluices, stopping areas, etc) are geojson features. "
   ]
  },
  {
   "cell_type": "code",
   "execution_count": 5,
   "metadata": {},
   "outputs": [],
   "source": [
    "ports = []\n",
    "for site in config['sites']:\n",
    "    port = dtv_backend.simple.Port(env, **site['properties'], **site)\n",
    "    ports.append(port)"
   ]
  },
  {
   "cell_type": "markdown",
   "metadata": {},
   "source": [
    "## Connect ships to simulation environment\n",
    "The ships can also contain cargo. The ships can move over the graph. They are instances of the prototype ships from the Rijkswaterstaat ship dataset. You can have multiple copies of the same ship. All ships can work at the same time. "
   ]
  },
  {
   "cell_type": "code",
   "execution_count": 6,
   "metadata": {},
   "outputs": [],
   "source": [
    "ships = []\n",
    "for ship in config['fleet']:\n",
    "    ship = dtv_backend.simple.Ship(env, **ship['properties'], **ship)\n",
    "    ships.append(ship)\n"
   ]
  },
  {
   "cell_type": "markdown",
   "metadata": {},
   "source": [
    "## Simulation loop\n",
    "Here we define the major simulation loop. It will run for a number of steps. It will wait for ships to become available. If a ship is available it will get a new assignment.  The assignment consists of a four step procedure. sail to source, load cargo, move to destination, unload cargo. All the activities that are logged in the corresponding object.\n",
    "\n",
    "We have three stop conditions:\n",
    "- Time span (2 weeks)\n",
    "- Number of iterations (n=100)\n",
    "- All cargo transported "
   ]
  },
  {
   "cell_type": "code",
   "execution_count": 7,
   "metadata": {},
   "outputs": [
    {
     "data": {
      "text/plain": [
       "<Process(loop) object at 0x12a4d5340>"
      ]
     },
     "execution_count": 7,
     "metadata": {},
     "output_type": "execute_result"
    }
   ],
   "source": [
    "source, destination = ports[0], ports[1]\n",
    "\n",
    "def loop():\n",
    "    max_steps = 100\n",
    "    for i in range(max_steps):\n",
    "        if source.cargo.level <= 0:\n",
    "            break\n",
    "        # put all ships to work, if one of them is done, \n",
    "        # check conditions\n",
    "        yield env.any_of([\n",
    "            env.process(ship.load_move_unload(source, destination))\n",
    "            for ship\n",
    "            in ships\n",
    "        ])\n",
    "# Define the work\n",
    "env.process(loop())"
   ]
  },
  {
   "cell_type": "code",
   "execution_count": 8,
   "metadata": {},
   "outputs": [],
   "source": [
    "two_weeks = now + datetime.timedelta(days=140)\n",
    "env.run(until=two_weeks.timestamp())"
   ]
  },
  {
   "cell_type": "markdown",
   "metadata": {},
   "source": [
    "## Postprocessing\n",
    "After the simulation is complete we can load the activity logs into a data frame and export them to our favorite formats or make charts. "
   ]
  },
  {
   "cell_type": "code",
   "execution_count": 9,
   "metadata": {},
   "outputs": [],
   "source": [
    "import pandas as pd\n",
    "dfs = [pd.DataFrame(ship.log) for ship in ships]\n",
    "df = pd.concat(dfs)\n",
    "df['Name'] = df['Meta'].apply(lambda x: x['ship'].name)\n",
    "df = df.sort_values(['Timestamp', 'AcitivityID'])\n"
   ]
  },
  {
   "cell_type": "code",
   "execution_count": 10,
   "metadata": {},
   "outputs": [
    {
     "data": {
      "text/html": [
       "<div>\n",
       "<style scoped>\n",
       "    .dataframe tbody tr th:only-of-type {\n",
       "        vertical-align: middle;\n",
       "    }\n",
       "\n",
       "    .dataframe tbody tr th {\n",
       "        vertical-align: top;\n",
       "    }\n",
       "\n",
       "    .dataframe thead th {\n",
       "        text-align: right;\n",
       "    }\n",
       "</style>\n",
       "<table border=\"1\" class=\"dataframe\">\n",
       "  <thead>\n",
       "    <tr style=\"text-align: right;\">\n",
       "      <th></th>\n",
       "      <th>Message</th>\n",
       "      <th>Timestamp</th>\n",
       "      <th>Value</th>\n",
       "      <th>geometry</th>\n",
       "      <th>AcitivityID</th>\n",
       "      <th>ActivityState</th>\n",
       "      <th>Meta</th>\n",
       "    </tr>\n",
       "  </thead>\n",
       "  <tbody>\n",
       "    <tr>\n",
       "      <th>0</th>\n",
       "      <td>Loading</td>\n",
       "      <td>2020-12-02 01:27:05.842689</td>\n",
       "      <td>7000</td>\n",
       "      <td>POINT (4.087406 51.936737)</td>\n",
       "      <td>7</td>\n",
       "      <td>STARTED</td>\n",
       "      <td>{'destination': &lt;dtv_backend.simple.Ship objec...</td>\n",
       "    </tr>\n",
       "    <tr>\n",
       "      <th>1</th>\n",
       "      <td>Loading</td>\n",
       "      <td>2020-12-02 04:27:05.842689</td>\n",
       "      <td>7000</td>\n",
       "      <td>POINT (4.087406 51.936737)</td>\n",
       "      <td>8</td>\n",
       "      <td>STOPPED</td>\n",
       "      <td>{'destination': &lt;dtv_backend.simple.Ship objec...</td>\n",
       "    </tr>\n",
       "    <tr>\n",
       "      <th>2</th>\n",
       "      <td>Loading</td>\n",
       "      <td>2020-12-02 04:27:05.842689</td>\n",
       "      <td>4000</td>\n",
       "      <td>POINT (4.087406 51.936737)</td>\n",
       "      <td>11</td>\n",
       "      <td>STARTED</td>\n",
       "      <td>{'destination': &lt;dtv_backend.simple.Ship objec...</td>\n",
       "    </tr>\n",
       "    <tr>\n",
       "      <th>3</th>\n",
       "      <td>Loading</td>\n",
       "      <td>2020-12-02 07:27:05.842689</td>\n",
       "      <td>4000</td>\n",
       "      <td>POINT (4.087406 51.936737)</td>\n",
       "      <td>12</td>\n",
       "      <td>STOPPED</td>\n",
       "      <td>{'destination': &lt;dtv_backend.simple.Ship objec...</td>\n",
       "    </tr>\n",
       "    <tr>\n",
       "      <th>4</th>\n",
       "      <td>Loading</td>\n",
       "      <td>2020-12-04 19:40:12.453182</td>\n",
       "      <td>1000</td>\n",
       "      <td>POINT (4.087406 51.936737)</td>\n",
       "      <td>31</td>\n",
       "      <td>STARTED</td>\n",
       "      <td>{'destination': &lt;dtv_backend.simple.Ship objec...</td>\n",
       "    </tr>\n",
       "  </tbody>\n",
       "</table>\n",
       "</div>"
      ],
      "text/plain": [
       "   Message                  Timestamp  Value                    geometry  \\\n",
       "0  Loading 2020-12-02 01:27:05.842689   7000  POINT (4.087406 51.936737)   \n",
       "1  Loading 2020-12-02 04:27:05.842689   7000  POINT (4.087406 51.936737)   \n",
       "2  Loading 2020-12-02 04:27:05.842689   4000  POINT (4.087406 51.936737)   \n",
       "3  Loading 2020-12-02 07:27:05.842689   4000  POINT (4.087406 51.936737)   \n",
       "4  Loading 2020-12-04 19:40:12.453182   1000  POINT (4.087406 51.936737)   \n",
       "\n",
       "   AcitivityID ActivityState  \\\n",
       "0            7       STARTED   \n",
       "1            8       STOPPED   \n",
       "2           11       STARTED   \n",
       "3           12       STOPPED   \n",
       "4           31       STARTED   \n",
       "\n",
       "                                                Meta  \n",
       "0  {'destination': <dtv_backend.simple.Ship objec...  \n",
       "1  {'destination': <dtv_backend.simple.Ship objec...  \n",
       "2  {'destination': <dtv_backend.simple.Ship objec...  \n",
       "3  {'destination': <dtv_backend.simple.Ship objec...  \n",
       "4  {'destination': <dtv_backend.simple.Ship objec...  "
      ]
     },
     "execution_count": 10,
     "metadata": {},
     "output_type": "execute_result"
    }
   ],
   "source": [
    "pd.DataFrame(ports[0].log).head()"
   ]
  },
  {
   "cell_type": "code",
   "execution_count": 22,
   "metadata": {},
   "outputs": [
    {
     "data": {
      "text/plain": [
       "<matplotlib.legend.Legend at 0x13169c700>"
      ]
     },
     "execution_count": 22,
     "metadata": {},
     "output_type": "execute_result"
    },
    {
     "data": {
      "image/png": "[encoded data removed]",
      "text/plain": [
       "<Figure size 504x288 with 1 Axes>"
      ]
     },
     "metadata": {
      "needs_background": "light"
     },
     "output_type": "display_data"
    }
   ],
   "source": [
    "import matplotlib.pyplot as plt\n",
    "fig, ax = plt.subplots(figsize=(7, 4))\n",
    "\n",
    "source_port = pd.DataFrame(ports[0].log)\n",
    "source_port['level'] = source_port['Meta'].apply(lambda x: x['source_level'])\n",
    "destination_port = pd.DataFrame(ports[1].log)\n",
    "destination_port['level'] = destination_port['Meta'].apply(lambda x: x['destination_level'])\n",
    "\n",
    "ax.step(source_port['Timestamp'], source_port['level'], label='source')\n",
    "ax.step(destination_port['Timestamp'], destination_port['level'], label='destination')\n",
    "ax.set_ylabel('cargo [tonne]')\n",
    "ax.set_xlabel('time')\n",
    "\n",
    "ax.legend()"
   ]
  },
  {
   "cell_type": "code",
   "execution_count": 23,
   "metadata": {},
   "outputs": [
    {
     "data": {
      "text/html": [
       "<div>\n",
       "<style scoped>\n",
       "    .dataframe tbody tr th:only-of-type {\n",
       "        vertical-align: middle;\n",
       "    }\n",
       "\n",
       "    .dataframe tbody tr th {\n",
       "        vertical-align: top;\n",
       "    }\n",
       "\n",
       "    .dataframe thead th {\n",
       "        text-align: right;\n",
       "    }\n",
       "</style>\n",
       "<table border=\"1\" class=\"dataframe\">\n",
       "  <thead>\n",
       "    <tr style=\"text-align: right;\">\n",
       "      <th></th>\n",
       "      <th>Message</th>\n",
       "      <th>Timestamp</th>\n",
       "      <th>Value</th>\n",
       "      <th>geometry</th>\n",
       "      <th>AcitivityID</th>\n",
       "      <th>ActivityState</th>\n",
       "      <th>Meta</th>\n",
       "    </tr>\n",
       "  </thead>\n",
       "  <tbody>\n",
       "    <tr>\n",
       "      <th>0</th>\n",
       "      <td>Sailing</td>\n",
       "      <td>2020-12-02 01:27:05.842689</td>\n",
       "      <td>0.000000e+00</td>\n",
       "      <td>POINT (4.08441957198572 51.9376698026918)</td>\n",
       "      <td>2</td>\n",
       "      <td>STARTED</td>\n",
       "      <td>{'ship': &lt;dtv_backend.simple.Ship object at 0x...</td>\n",
       "    </tr>\n",
       "    <tr>\n",
       "      <th>1</th>\n",
       "      <td>Sailing</td>\n",
       "      <td>2020-12-02 01:27:05.842689</td>\n",
       "      <td>0.000000e+00</td>\n",
       "      <td>POINT (4.08441957198572 51.9376698026918)</td>\n",
       "      <td>5</td>\n",
       "      <td>STOPPED</td>\n",
       "      <td>{'ship': &lt;dtv_backend.simple.Ship object at 0x...</td>\n",
       "    </tr>\n",
       "    <tr>\n",
       "      <th>2</th>\n",
       "      <td>Crane</td>\n",
       "      <td>2020-12-02 01:27:05.842689</td>\n",
       "      <td>NaN</td>\n",
       "      <td>POINT (4.08441957198572 51.9376698026918)</td>\n",
       "      <td>6</td>\n",
       "      <td>REQUEST</td>\n",
       "      <td>{'ship': &lt;dtv_backend.simple.Ship object at 0x...</td>\n",
       "    </tr>\n",
       "    <tr>\n",
       "      <th>3</th>\n",
       "      <td>Crane</td>\n",
       "      <td>2020-12-02 07:27:05.842689</td>\n",
       "      <td>NaN</td>\n",
       "      <td>POINT (4.08441957198572 51.9376698026918)</td>\n",
       "      <td>13</td>\n",
       "      <td>RELEASE</td>\n",
       "      <td>{'ship': &lt;dtv_backend.simple.Ship object at 0x...</td>\n",
       "    </tr>\n",
       "    <tr>\n",
       "      <th>4</th>\n",
       "      <td>Sailing</td>\n",
       "      <td>2020-12-02 07:27:05.842689</td>\n",
       "      <td>1.083935e+06</td>\n",
       "      <td>POINT (7.584361254015838 47.57540886152157)</td>\n",
       "      <td>14</td>\n",
       "      <td>STARTED</td>\n",
       "      <td>{'ship': &lt;dtv_backend.simple.Ship object at 0x...</td>\n",
       "    </tr>\n",
       "    <tr>\n",
       "      <th>5</th>\n",
       "      <td>Sailing</td>\n",
       "      <td>2020-12-03 13:33:39.342340</td>\n",
       "      <td>1.083935e+06</td>\n",
       "      <td>POINT (7.584361254015838 47.57540886152157)</td>\n",
       "      <td>18</td>\n",
       "      <td>STOPPED</td>\n",
       "      <td>{'ship': &lt;dtv_backend.simple.Ship object at 0x...</td>\n",
       "    </tr>\n",
       "    <tr>\n",
       "      <th>6</th>\n",
       "      <td>Crane</td>\n",
       "      <td>2020-12-03 13:33:39.342340</td>\n",
       "      <td>NaN</td>\n",
       "      <td>POINT (7.584361254015838 47.57540886152157)</td>\n",
       "      <td>19</td>\n",
       "      <td>REQUEST</td>\n",
       "      <td>{'ship': &lt;dtv_backend.simple.Ship object at 0x...</td>\n",
       "    </tr>\n",
       "    <tr>\n",
       "      <th>7</th>\n",
       "      <td>Sailing</td>\n",
       "      <td>2020-12-03 13:33:39.342340</td>\n",
       "      <td>1.083931e+06</td>\n",
       "      <td>POINT (4.08441957198572 51.9376698026918)</td>\n",
       "      <td>24</td>\n",
       "      <td>STARTED</td>\n",
       "      <td>{'ship': &lt;dtv_backend.simple.Ship object at 0x...</td>\n",
       "    </tr>\n",
       "    <tr>\n",
       "      <th>8</th>\n",
       "      <td>Crane</td>\n",
       "      <td>2020-12-03 16:33:39.342340</td>\n",
       "      <td>NaN</td>\n",
       "      <td>POINT (4.08441957198572 51.9376698026918)</td>\n",
       "      <td>26</td>\n",
       "      <td>RELEASE</td>\n",
       "      <td>{'ship': &lt;dtv_backend.simple.Ship object at 0x...</td>\n",
       "    </tr>\n",
       "    <tr>\n",
       "      <th>9</th>\n",
       "      <td>Sailing</td>\n",
       "      <td>2020-12-04 19:40:12.453182</td>\n",
       "      <td>1.083931e+06</td>\n",
       "      <td>POINT (4.08441957198572 51.9376698026918)</td>\n",
       "      <td>29</td>\n",
       "      <td>STOPPED</td>\n",
       "      <td>{'ship': &lt;dtv_backend.simple.Ship object at 0x...</td>\n",
       "    </tr>\n",
       "    <tr>\n",
       "      <th>10</th>\n",
       "      <td>Crane</td>\n",
       "      <td>2020-12-04 19:40:12.453182</td>\n",
       "      <td>NaN</td>\n",
       "      <td>POINT (4.08441957198572 51.9376698026918)</td>\n",
       "      <td>30</td>\n",
       "      <td>REQUEST</td>\n",
       "      <td>{'ship': &lt;dtv_backend.simple.Ship object at 0x...</td>\n",
       "    </tr>\n",
       "    <tr>\n",
       "      <th>11</th>\n",
       "      <td>Crane</td>\n",
       "      <td>2020-12-04 23:40:12.453182</td>\n",
       "      <td>NaN</td>\n",
       "      <td>POINT (4.08441957198572 51.9376698026918)</td>\n",
       "      <td>37</td>\n",
       "      <td>RELEASE</td>\n",
       "      <td>{'ship': &lt;dtv_backend.simple.Ship object at 0x...</td>\n",
       "    </tr>\n",
       "    <tr>\n",
       "      <th>12</th>\n",
       "      <td>Sailing</td>\n",
       "      <td>2020-12-04 23:40:12.453182</td>\n",
       "      <td>1.083935e+06</td>\n",
       "      <td>POINT (7.584361254015838 47.57540886152157)</td>\n",
       "      <td>38</td>\n",
       "      <td>STARTED</td>\n",
       "      <td>{'ship': &lt;dtv_backend.simple.Ship object at 0x...</td>\n",
       "    </tr>\n",
       "    <tr>\n",
       "      <th>13</th>\n",
       "      <td>Sailing</td>\n",
       "      <td>2020-12-06 05:46:45.952833</td>\n",
       "      <td>1.083935e+06</td>\n",
       "      <td>POINT (7.584361254015838 47.57540886152157)</td>\n",
       "      <td>42</td>\n",
       "      <td>STOPPED</td>\n",
       "      <td>{'ship': &lt;dtv_backend.simple.Ship object at 0x...</td>\n",
       "    </tr>\n",
       "    <tr>\n",
       "      <th>14</th>\n",
       "      <td>Crane</td>\n",
       "      <td>2020-12-06 05:46:45.952833</td>\n",
       "      <td>NaN</td>\n",
       "      <td>POINT (7.584361254015838 47.57540886152157)</td>\n",
       "      <td>43</td>\n",
       "      <td>REQUEST</td>\n",
       "      <td>{'ship': &lt;dtv_backend.simple.Ship object at 0x...</td>\n",
       "    </tr>\n",
       "    <tr>\n",
       "      <th>15</th>\n",
       "      <td>Crane</td>\n",
       "      <td>2020-12-06 08:46:45.952833</td>\n",
       "      <td>NaN</td>\n",
       "      <td>POINT (7.584361254015838 47.57540886152157)</td>\n",
       "      <td>48</td>\n",
       "      <td>RELEASE</td>\n",
       "      <td>{'ship': &lt;dtv_backend.simple.Ship object at 0x...</td>\n",
       "    </tr>\n",
       "  </tbody>\n",
       "</table>\n",
       "</div>"
      ],
      "text/plain": [
       "    Message                  Timestamp         Value  \\\n",
       "0   Sailing 2020-12-02 01:27:05.842689  0.000000e+00   \n",
       "1   Sailing 2020-12-02 01:27:05.842689  0.000000e+00   \n",
       "2     Crane 2020-12-02 01:27:05.842689           NaN   \n",
       "3     Crane 2020-12-02 07:27:05.842689           NaN   \n",
       "4   Sailing 2020-12-02 07:27:05.842689  1.083935e+06   \n",
       "5   Sailing 2020-12-03 13:33:39.342340  1.083935e+06   \n",
       "6     Crane 2020-12-03 13:33:39.342340           NaN   \n",
       "7   Sailing 2020-12-03 13:33:39.342340  1.083931e+06   \n",
       "8     Crane 2020-12-03 16:33:39.342340           NaN   \n",
       "9   Sailing 2020-12-04 19:40:12.453182  1.083931e+06   \n",
       "10    Crane 2020-12-04 19:40:12.453182           NaN   \n",
       "11    Crane 2020-12-04 23:40:12.453182           NaN   \n",
       "12  Sailing 2020-12-04 23:40:12.453182  1.083935e+06   \n",
       "13  Sailing 2020-12-06 05:46:45.952833  1.083935e+06   \n",
       "14    Crane 2020-12-06 05:46:45.952833           NaN   \n",
       "15    Crane 2020-12-06 08:46:45.952833           NaN   \n",
       "\n",
       "                                       geometry  AcitivityID ActivityState  \\\n",
       "0     POINT (4.08441957198572 51.9376698026918)            2       STARTED   \n",
       "1     POINT (4.08441957198572 51.9376698026918)            5       STOPPED   \n",
       "2     POINT (4.08441957198572 51.9376698026918)            6       REQUEST   \n",
       "3     POINT (4.08441957198572 51.9376698026918)           13       RELEASE   \n",
       "4   POINT (7.584361254015838 47.57540886152157)           14       STARTED   \n",
       "5   POINT (7.584361254015838 47.57540886152157)           18       STOPPED   \n",
       "6   POINT (7.584361254015838 47.57540886152157)           19       REQUEST   \n",
       "7     POINT (4.08441957198572 51.9376698026918)           24       STARTED   \n",
       "8     POINT (4.08441957198572 51.9376698026918)           26       RELEASE   \n",
       "9     POINT (4.08441957198572 51.9376698026918)           29       STOPPED   \n",
       "10    POINT (4.08441957198572 51.9376698026918)           30       REQUEST   \n",
       "11    POINT (4.08441957198572 51.9376698026918)           37       RELEASE   \n",
       "12  POINT (7.584361254015838 47.57540886152157)           38       STARTED   \n",
       "13  POINT (7.584361254015838 47.57540886152157)           42       STOPPED   \n",
       "14  POINT (7.584361254015838 47.57540886152157)           43       REQUEST   \n",
       "15  POINT (7.584361254015838 47.57540886152157)           48       RELEASE   \n",
       "\n",
       "                                                 Meta  \n",
       "0   {'ship': <dtv_backend.simple.Ship object at 0x...  \n",
       "1   {'ship': <dtv_backend.simple.Ship object at 0x...  \n",
       "2   {'ship': <dtv_backend.simple.Ship object at 0x...  \n",
       "3   {'ship': <dtv_backend.simple.Ship object at 0x...  \n",
       "4   {'ship': <dtv_backend.simple.Ship object at 0x...  \n",
       "5   {'ship': <dtv_backend.simple.Ship object at 0x...  \n",
       "6   {'ship': <dtv_backend.simple.Ship object at 0x...  \n",
       "7   {'ship': <dtv_backend.simple.Ship object at 0x...  \n",
       "8   {'ship': <dtv_backend.simple.Ship object at 0x...  \n",
       "9   {'ship': <dtv_backend.simple.Ship object at 0x...  \n",
       "10  {'ship': <dtv_backend.simple.Ship object at 0x...  \n",
       "11  {'ship': <dtv_backend.simple.Ship object at 0x...  \n",
       "12  {'ship': <dtv_backend.simple.Ship object at 0x...  \n",
       "13  {'ship': <dtv_backend.simple.Ship object at 0x...  \n",
       "14  {'ship': <dtv_backend.simple.Ship object at 0x...  \n",
       "15  {'ship': <dtv_backend.simple.Ship object at 0x...  "
      ]
     },
     "execution_count": 23,
     "metadata": {},
     "output_type": "execute_result"
    },
    {
     "data": {
      "image/png": "[encoded data removed]",
      "text/plain": [
       "<Figure size 504x288 with 1 Axes>"
      ]
     },
     "metadata": {
      "needs_background": "light"
     },
     "output_type": "display_data"
    }
   ],
   "source": [
    "fig, ax = plt.subplots(figsize=(7, 4))\n",
    "\n",
    "for ship in ships:\n",
    "    df = pd.DataFrame(ship.log)\n"
   ]
  },
  {
   "cell_type": "code",
   "execution_count": null,
   "metadata": {},
   "outputs": [],
   "source": []
  }
 ],
 "metadata": {
  "kernelspec": {
   "display_name": "Python 3",
   "language": "python",
   "name": "python3"
  },
  "language_info": {
   "codemirror_mode": {
    "name": "ipython",
    "version": 3
   },
   "file_extension": ".py",
   "mimetype": "text/x-python",
   "name": "python",
   "nbconvert_exporter": "python",
   "pygments_lexer": "ipython3",
   "version": "3.8.6"
  }
 },
 "nbformat": 4,
 "nbformat_minor": 4
}
