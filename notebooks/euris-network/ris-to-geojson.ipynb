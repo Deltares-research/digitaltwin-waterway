{
 "cells": [
  {
   "cell_type": "code",
   "execution_count": null,
   "id": "366cc9d2-17ec-424b-9e56-cc5a4c3e7858",
   "metadata": {},
   "outputs": [],
   "source": [
    "import pathlib\n",
    "import shapely\n",
    "import tqdm\n",
    "\n",
    "import pandas as pd\n",
    "import geopandas as gpd"
   ]
  },
  {
   "cell_type": "code",
   "execution_count": 6,
   "id": "0e4583a0-2b93-4d51-9084-bd9bc2313605",
   "metadata": {},
   "outputs": [],
   "source": [
    "data_dir = pathlib.Path('~/data/euris').expanduser()"
   ]
  },
  {
   "cell_type": "code",
   "execution_count": null,
   "id": "9d6b8acf-282e-4976-988d-f3b5be0e097c",
   "metadata": {},
   "outputs": [
    {
     "name": "stderr",
     "output_type": "stream",
     "text": [
      "44it [53:46, 73.32s/it] \n"
     ]
    }
   ],
   "source": [
    "for excel_file in tqdm.tqdm(data_dir.glob('*.xlsx')):\n",
    "    ris_df = pd.read_excel(data_dir / excel_file)\n",
    "    ris_df_geoms = gpd.points_from_xy(x=ris_df[\"long_\"], y=ris_df[\"Lat\"], crs=\"EPSG:4326\")\n",
    "    \n",
    "    ris_gdf = gpd.GeoDataFrame(ris_df, geometry=ris_df_geoms)\n",
    "    ris_gdf.to_file((data_dir / excel_file).with_suffix('.geojson'))\n",
    "    ris_gdf.to_file((data_dir / excel_file).with_suffix('.gpkg'))"
   ]
  },
  {
   "cell_type": "code",
   "execution_count": null,
   "id": "48f123b7-e9cc-457f-b1a0-8bda48c2654e",
   "metadata": {},
   "outputs": [],
   "source": []
  }
 ],
 "metadata": {
  "kernelspec": {
   "display_name": "Python 3 (ipykernel)",
   "language": "python",
   "name": "python3"
  },
  "language_info": {
   "codemirror_mode": {
    "name": "ipython",
    "version": 3
   },
   "file_extension": ".py",
   "mimetype": "text/x-python",
   "name": "python",
   "nbconvert_exporter": "python",
   "pygments_lexer": "ipython3",
   "version": "3.12.0"
  }
 },
 "nbformat": 4,
 "nbformat_minor": 5
}
