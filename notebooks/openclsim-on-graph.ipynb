{
 "cells": [
  {
   "cell_type": "markdown",
   "metadata": {},
   "source": [
    "## Import modules and network graph"
   ]
  },
  {
   "cell_type": "code",
   "execution_count": 1,
   "metadata": {},
   "outputs": [],
   "source": [
    "#%% Import modules\n",
    "import os\n",
    "import shapely.geometry\n",
    "import pandas as pd\n",
    "import uuid\n",
    "\n",
    "# our software\n",
    "import opentnsim.core as TNcore\n",
    "import openclsim.model as CLmodel\n",
    "import openclsim.core as CLcore\n",
    "\n",
    "import dtv_backend.dtv_backend as backend\n"
   ]
  },
  {
   "cell_type": "markdown",
   "metadata": {},
   "source": [
    "## Initialize environment with network"
   ]
  },
  {
   "cell_type": "code",
   "execution_count": 2,
   "metadata": {},
   "outputs": [
    {
     "name": "stdout",
     "output_type": "stream",
     "text": [
      "Defining simulation environment\n",
      "Starting (down)loading the network\n",
      "Network succesfully added to simulation\n"
     ]
    }
   ],
   "source": [
    "#%% Initialize environment\n",
    "# set up environment\n",
    "env = backend.provide_environment()\n",
    "\n",
    "# load the network\n",
    "backend.load_DTV_network_to_env(env)"
   ]
  },
  {
   "cell_type": "markdown",
   "metadata": {},
   "source": [
    "## Define some locations to use"
   ]
  },
  {
   "cell_type": "code",
   "execution_count": 3,
   "metadata": {},
   "outputs": [],
   "source": [
    "# some interesting locations\n",
    "locations = {\n",
    "    'Transferium Maasvlakte': shapely.geometry.Point(4.087406, 51.936737),\n",
    "    'Neusse': shapely.geometry.Point(6.708892, 51.215737),\n",
    "    'Basel': shapely.geometry.Point(7.640572, 47.555449),\n",
    "    'Nijmegen': shapely.geometry.Point(5.8161152, 51.8570535),\n",
    "    'Waal at St. Andries': shapely.geometry.Point(5.350339, 51.803965)\n",
    "}"
   ]
  },
  {
   "cell_type": "markdown",
   "metadata": {},
   "source": [
    "## Define sites "
   ]
  },
  {
   "cell_type": "code",
   "execution_count": 4,
   "metadata": {},
   "outputs": [],
   "source": [
    "#%% define sites\n",
    "from dtv_backend.core import sites as backendSites\n",
    "\n",
    "# define origin\n",
    "origin = backendSites.provideSite(env = env, \n",
    "                           point = locations['Transferium Maasvlakte'], \n",
    "                           name = 'Transferium Maasvlakte',\n",
    "                           capacity = 10000,\n",
    "                           level = 10000,\n",
    "                           loading_rate = 1000,\n",
    "                           unloading_rate = 1000)\n",
    "\n",
    "# define destination\n",
    "destination = backendSites.provideSite(env = env, \n",
    "                           point = locations['Basel'], \n",
    "                           name = 'Basel',\n",
    "                           capacity = 10000,\n",
    "                           level = 0,\n",
    "                           loading_rate = 1000,\n",
    "                           unloading_rate = 1000)\n"
   ]
  },
  {
   "cell_type": "markdown",
   "metadata": {},
   "source": [
    "## Determine minimal waterlevel based on lobith discharge"
   ]
  },
  {
   "cell_type": "code",
   "execution_count": 6,
   "metadata": {},
   "outputs": [
    {
     "ename": "NodeNotFound",
     "evalue": "Source (22161408.0, 0.0) not in G",
     "output_type": "error",
     "traceback": [
      "\u001b[1;31m---------------------------------------------------------------------------\u001b[0m",
      "\u001b[1;31mNodeNotFound\u001b[0m                              Traceback (most recent call last)",
      "\u001b[1;32m<ipython-input-6-60b3f705d6e8>\u001b[0m in \u001b[0;36m<module>\u001b[1;34m\u001b[0m\n\u001b[0;32m      7\u001b[0m \u001b[1;33m\u001b[0m\u001b[0m\n\u001b[0;32m      8\u001b[0m \u001b[0mlobith_discharge\u001b[0m \u001b[1;33m=\u001b[0m \u001b[1;36m10000\u001b[0m\u001b[1;33m\u001b[0m\u001b[1;33m\u001b[0m\u001b[0m\n\u001b[1;32m----> 9\u001b[1;33m \u001b[0mmin_waterdepth_on_path\u001b[0m \u001b[1;33m=\u001b[0m \u001b[0mnetwork_utilities\u001b[0m\u001b[1;33m.\u001b[0m\u001b[0mdetermine_min_waterdepth_on_path\u001b[0m\u001b[1;33m(\u001b[0m\u001b[0menv\u001b[0m\u001b[1;33m.\u001b[0m\u001b[0mFG\u001b[0m\u001b[1;33m,\u001b[0m \u001b[0morigin\u001b[0m\u001b[1;33m,\u001b[0m \u001b[0mdestination\u001b[0m\u001b[1;33m,\u001b[0m \u001b[0mdischarge_df\u001b[0m\u001b[1;33m,\u001b[0m \u001b[0mlobith_discharge\u001b[0m\u001b[1;33m)\u001b[0m\u001b[1;33m\u001b[0m\u001b[1;33m\u001b[0m\u001b[0m\n\u001b[0m\u001b[0;32m     10\u001b[0m \u001b[1;33m\u001b[0m\u001b[0m\n\u001b[0;32m     11\u001b[0m \u001b[0munderkeel_clearance\u001b[0m \u001b[1;33m=\u001b[0m \u001b[1;36m0.30\u001b[0m\u001b[1;33m\u001b[0m\u001b[1;33m\u001b[0m\u001b[0m\n",
      "\u001b[1;32md:\\projecten\\[121074] digitwin vaarwegen\\digitaltwin-waterway\\dtv_backend\\dtv_backend\\network\\network_utilities.py\u001b[0m in \u001b[0;36mdetermine_min_waterdepth_on_path\u001b[1;34m(graph, origin, destination, discharge_df, lobith_discharge)\u001b[0m\n\u001b[0;32m     60\u001b[0m \u001b[1;33m\u001b[0m\u001b[0m\n\u001b[0;32m     61\u001b[0m     \u001b[1;31m# determine path and route (subgraph)\u001b[0m\u001b[1;33m\u001b[0m\u001b[1;33m\u001b[0m\u001b[1;33m\u001b[0m\u001b[0m\n\u001b[1;32m---> 62\u001b[1;33m     \u001b[0mpath\u001b[0m \u001b[1;33m=\u001b[0m \u001b[0mnx\u001b[0m\u001b[1;33m.\u001b[0m\u001b[0mdijkstra_path\u001b[0m\u001b[1;33m(\u001b[0m\u001b[0mgraph\u001b[0m\u001b[1;33m,\u001b[0m \u001b[0morigin_node\u001b[0m\u001b[1;33m,\u001b[0m \u001b[0mdestination_node\u001b[0m\u001b[1;33m,\u001b[0m \u001b[0mweight\u001b[0m\u001b[1;33m=\u001b[0m\u001b[1;34m'Length'\u001b[0m\u001b[1;33m)\u001b[0m\u001b[1;33m\u001b[0m\u001b[1;33m\u001b[0m\u001b[0m\n\u001b[0m\u001b[0;32m     63\u001b[0m     \u001b[0mroute\u001b[0m \u001b[1;33m=\u001b[0m \u001b[0mnx\u001b[0m\u001b[1;33m.\u001b[0m\u001b[0mDiGraph\u001b[0m\u001b[1;33m(\u001b[0m\u001b[0mgraph\u001b[0m\u001b[1;33m.\u001b[0m\u001b[0msubgraph\u001b[0m\u001b[1;33m(\u001b[0m\u001b[0mpath\u001b[0m\u001b[1;33m)\u001b[0m\u001b[1;33m)\u001b[0m\u001b[1;33m\u001b[0m\u001b[1;33m\u001b[0m\u001b[0m\n\u001b[0;32m     64\u001b[0m \u001b[1;33m\u001b[0m\u001b[0m\n",
      "\u001b[1;32mC:\\ProgramData\\Anaconda3\\envs\\py38_DTV\\lib\\site-packages\\networkx\\algorithms\\shortest_paths\\weighted.py\u001b[0m in \u001b[0;36mdijkstra_path\u001b[1;34m(G, source, target, weight)\u001b[0m\n\u001b[0;32m    155\u001b[0m     \u001b[0msingle_source_dijkstra\u001b[0m\u001b[1;33m(\u001b[0m\u001b[1;33m)\u001b[0m\u001b[1;33m\u001b[0m\u001b[1;33m\u001b[0m\u001b[0m\n\u001b[0;32m    156\u001b[0m     \"\"\"\n\u001b[1;32m--> 157\u001b[1;33m     \u001b[1;33m(\u001b[0m\u001b[0mlength\u001b[0m\u001b[1;33m,\u001b[0m \u001b[0mpath\u001b[0m\u001b[1;33m)\u001b[0m \u001b[1;33m=\u001b[0m \u001b[0msingle_source_dijkstra\u001b[0m\u001b[1;33m(\u001b[0m\u001b[0mG\u001b[0m\u001b[1;33m,\u001b[0m \u001b[0msource\u001b[0m\u001b[1;33m,\u001b[0m \u001b[0mtarget\u001b[0m\u001b[1;33m=\u001b[0m\u001b[0mtarget\u001b[0m\u001b[1;33m,\u001b[0m \u001b[0mweight\u001b[0m\u001b[1;33m=\u001b[0m\u001b[0mweight\u001b[0m\u001b[1;33m)\u001b[0m\u001b[1;33m\u001b[0m\u001b[1;33m\u001b[0m\u001b[0m\n\u001b[0m\u001b[0;32m    158\u001b[0m     \u001b[1;32mreturn\u001b[0m \u001b[0mpath\u001b[0m\u001b[1;33m\u001b[0m\u001b[1;33m\u001b[0m\u001b[0m\n\u001b[0;32m    159\u001b[0m \u001b[1;33m\u001b[0m\u001b[0m\n",
      "\u001b[1;32mC:\\ProgramData\\Anaconda3\\envs\\py38_DTV\\lib\\site-packages\\networkx\\algorithms\\shortest_paths\\weighted.py\u001b[0m in \u001b[0;36msingle_source_dijkstra\u001b[1;34m(G, source, target, cutoff, weight)\u001b[0m\n\u001b[0;32m    462\u001b[0m     \u001b[0msingle_source_bellman_ford\u001b[0m\u001b[1;33m(\u001b[0m\u001b[1;33m)\u001b[0m\u001b[1;33m\u001b[0m\u001b[1;33m\u001b[0m\u001b[0m\n\u001b[0;32m    463\u001b[0m     \"\"\"\n\u001b[1;32m--> 464\u001b[1;33m     return multi_source_dijkstra(\n\u001b[0m\u001b[0;32m    465\u001b[0m         \u001b[0mG\u001b[0m\u001b[1;33m,\u001b[0m \u001b[1;33m{\u001b[0m\u001b[0msource\u001b[0m\u001b[1;33m}\u001b[0m\u001b[1;33m,\u001b[0m \u001b[0mcutoff\u001b[0m\u001b[1;33m=\u001b[0m\u001b[0mcutoff\u001b[0m\u001b[1;33m,\u001b[0m \u001b[0mtarget\u001b[0m\u001b[1;33m=\u001b[0m\u001b[0mtarget\u001b[0m\u001b[1;33m,\u001b[0m \u001b[0mweight\u001b[0m\u001b[1;33m=\u001b[0m\u001b[0mweight\u001b[0m\u001b[1;33m\u001b[0m\u001b[1;33m\u001b[0m\u001b[0m\n\u001b[0;32m    466\u001b[0m     )\n",
      "\u001b[1;32mC:\\ProgramData\\Anaconda3\\envs\\py38_DTV\\lib\\site-packages\\networkx\\algorithms\\shortest_paths\\weighted.py\u001b[0m in \u001b[0;36mmulti_source_dijkstra\u001b[1;34m(G, sources, target, cutoff, weight)\u001b[0m\n\u001b[0;32m    720\u001b[0m     \u001b[0mweight\u001b[0m \u001b[1;33m=\u001b[0m \u001b[0m_weight_function\u001b[0m\u001b[1;33m(\u001b[0m\u001b[0mG\u001b[0m\u001b[1;33m,\u001b[0m \u001b[0mweight\u001b[0m\u001b[1;33m)\u001b[0m\u001b[1;33m\u001b[0m\u001b[1;33m\u001b[0m\u001b[0m\n\u001b[0;32m    721\u001b[0m     \u001b[0mpaths\u001b[0m \u001b[1;33m=\u001b[0m \u001b[1;33m{\u001b[0m\u001b[0msource\u001b[0m\u001b[1;33m:\u001b[0m \u001b[1;33m[\u001b[0m\u001b[0msource\u001b[0m\u001b[1;33m]\u001b[0m \u001b[1;32mfor\u001b[0m \u001b[0msource\u001b[0m \u001b[1;32min\u001b[0m \u001b[0msources\u001b[0m\u001b[1;33m}\u001b[0m  \u001b[1;31m# dictionary of paths\u001b[0m\u001b[1;33m\u001b[0m\u001b[1;33m\u001b[0m\u001b[0m\n\u001b[1;32m--> 722\u001b[1;33m     dist = _dijkstra_multisource(\n\u001b[0m\u001b[0;32m    723\u001b[0m         \u001b[0mG\u001b[0m\u001b[1;33m,\u001b[0m \u001b[0msources\u001b[0m\u001b[1;33m,\u001b[0m \u001b[0mweight\u001b[0m\u001b[1;33m,\u001b[0m \u001b[0mpaths\u001b[0m\u001b[1;33m=\u001b[0m\u001b[0mpaths\u001b[0m\u001b[1;33m,\u001b[0m \u001b[0mcutoff\u001b[0m\u001b[1;33m=\u001b[0m\u001b[0mcutoff\u001b[0m\u001b[1;33m,\u001b[0m \u001b[0mtarget\u001b[0m\u001b[1;33m=\u001b[0m\u001b[0mtarget\u001b[0m\u001b[1;33m\u001b[0m\u001b[1;33m\u001b[0m\u001b[0m\n\u001b[0;32m    724\u001b[0m     )\n",
      "\u001b[1;32mC:\\ProgramData\\Anaconda3\\envs\\py38_DTV\\lib\\site-packages\\networkx\\algorithms\\shortest_paths\\weighted.py\u001b[0m in \u001b[0;36m_dijkstra_multisource\u001b[1;34m(G, sources, weight, pred, paths, cutoff, target)\u001b[0m\n\u001b[0;32m    808\u001b[0m     \u001b[1;32mfor\u001b[0m \u001b[0msource\u001b[0m \u001b[1;32min\u001b[0m \u001b[0msources\u001b[0m\u001b[1;33m:\u001b[0m\u001b[1;33m\u001b[0m\u001b[1;33m\u001b[0m\u001b[0m\n\u001b[0;32m    809\u001b[0m         \u001b[1;32mif\u001b[0m \u001b[0msource\u001b[0m \u001b[1;32mnot\u001b[0m \u001b[1;32min\u001b[0m \u001b[0mG\u001b[0m\u001b[1;33m:\u001b[0m\u001b[1;33m\u001b[0m\u001b[1;33m\u001b[0m\u001b[0m\n\u001b[1;32m--> 810\u001b[1;33m             \u001b[1;32mraise\u001b[0m \u001b[0mnx\u001b[0m\u001b[1;33m.\u001b[0m\u001b[0mNodeNotFound\u001b[0m\u001b[1;33m(\u001b[0m\u001b[1;34mf\"Source {source} not in G\"\u001b[0m\u001b[1;33m)\u001b[0m\u001b[1;33m\u001b[0m\u001b[1;33m\u001b[0m\u001b[0m\n\u001b[0m\u001b[0;32m    811\u001b[0m         \u001b[0mseen\u001b[0m\u001b[1;33m[\u001b[0m\u001b[0msource\u001b[0m\u001b[1;33m]\u001b[0m \u001b[1;33m=\u001b[0m \u001b[1;36m0\u001b[0m\u001b[1;33m\u001b[0m\u001b[1;33m\u001b[0m\u001b[0m\n\u001b[0;32m    812\u001b[0m         \u001b[0mpush\u001b[0m\u001b[1;33m(\u001b[0m\u001b[0mfringe\u001b[0m\u001b[1;33m,\u001b[0m \u001b[1;33m(\u001b[0m\u001b[1;36m0\u001b[0m\u001b[1;33m,\u001b[0m \u001b[0mnext\u001b[0m\u001b[1;33m(\u001b[0m\u001b[0mc\u001b[0m\u001b[1;33m)\u001b[0m\u001b[1;33m,\u001b[0m \u001b[0msource\u001b[0m\u001b[1;33m)\u001b[0m\u001b[1;33m)\u001b[0m\u001b[1;33m\u001b[0m\u001b[1;33m\u001b[0m\u001b[0m\n",
      "\u001b[1;31mNodeNotFound\u001b[0m: Source (22161408.0, 0.0) not in G"
     ]
    }
   ],
   "source": [
    "import pathlib\n",
    "import dtv_backend\n",
    "from dtv_backend.network import network_utilities\n",
    "\n",
    "depth_path = pathlib.Path(os.path.join(dtv_backend.__path__[0], '..', 'data', 'depth.csv'))\n",
    "discharge_df = pd.read_csv(depth_path)\n",
    "\n",
    "lobith_discharge = 10000\n",
    "min_waterdepth_on_path = network_utilities.determine_min_waterdepth_on_path(env.FG, origin, destination, discharge_df, lobith_discharge)\n",
    "\n",
    "underkeel_clearance = 0.30\n",
    "max_draught = min_waterdepth_on_path - underkeel_clearance"
   ]
  },
  {
   "cell_type": "code",
   "execution_count": null,
   "metadata": {},
   "outputs": [],
   "source": [
    "min_waterdepth_on_path"
   ]
  },
  {
   "cell_type": "markdown",
   "metadata": {},
   "source": [
    "## Create a vessel"
   ]
  },
  {
   "cell_type": "code",
   "execution_count": null,
   "metadata": {},
   "outputs": [],
   "source": [
    "#%% define a vessel\n",
    "from dtv_backend.core import vessels as backendVessels\n",
    "\n",
    "data_110_a = {\n",
    "    \"env\": env,\n",
    "    \"name\": \"NPRC_110\",\n",
    "    \"geometry\": origin.geometry,\n",
    "    \"loading_rate\": 1,\n",
    "    \"unloading_rate\": 1,\n",
    "    \"capacity\": 3000,\n",
    "    \"allowable_draught\": max_draught,\n",
    "    \"route\": None,\n",
    "    'vessel_type': 'M8',\n",
    "    'installed_power': 1000,\n",
    "    'width': 10, \n",
    "    'length': 110, \n",
    "    'height_empty': 8, \n",
    "    'height_full': 4, \n",
    "    'draught_empty': 2, \n",
    "    'draught_full': 6\n",
    "}\n",
    "\n",
    "NPRC_110_a = backendVessels.provideVessel(**data_110_a)\n",
    "\n",
    "\n",
    "data_110_b = {\n",
    "    \"env\": env,\n",
    "    \"name\": \"NPRC_110\",\n",
    "    \"geometry\": origin.geometry,\n",
    "    \"loading_rate\": 1,\n",
    "    \"unloading_rate\": 1,\n",
    "    \"capacity\": 3000,\n",
    "    \"allowable_draught\": max_draught,\n",
    "    \"route\": None,\n",
    "    'vessel_type': 'M8',\n",
    "    'installed_power': 1000,\n",
    "    'width': 10, \n",
    "    'length': 110, \n",
    "    'height_empty': 8, \n",
    "    'height_full': 4, \n",
    "    'draught_empty': 2, \n",
    "    'draught_full': 6\n",
    "}\n",
    "\n",
    "NPRC_110_b = backendVessels.provideVessel(**data_110_b)\n"
   ]
  },
  {
   "cell_type": "markdown",
   "metadata": {},
   "source": [
    "## Functionality to create a single run process but with the moving functionalities of openTNsim"
   ]
  },
  {
   "cell_type": "code",
   "execution_count": null,
   "metadata": {},
   "outputs": [],
   "source": [
    "from dtv_backend.processes.single_run_process_fleet import single_run_process\n",
    "\n",
    "single_run_a, activity_a, while_activity_a  = single_run_process(\n",
    "    name=\"single_run_a\",\n",
    "    registry={},\n",
    "    env=env,\n",
    "    origin=origin,\n",
    "    destination=destination,\n",
    "    mover=NPRC_110_a,\n",
    "    loader=origin,\n",
    "    unloader=destination\n",
    ")\n",
    "\n",
    "single_run_b, activity_b, while_activity_b  = single_run_process(\n",
    "    name=\"single_run_b\",\n",
    "    registry={},\n",
    "    env=env,\n",
    "    origin=origin,\n",
    "    destination=destination,\n",
    "    mover=NPRC_110_b,\n",
    "    loader=origin,\n",
    "    unloader=destination\n",
    ")\n",
    "\n",
    "env.run()"
   ]
  },
  {
   "cell_type": "code",
   "execution_count": null,
   "metadata": {},
   "outputs": [],
   "source": [
    "pd.DataFrame(NPRC_110_a.log)"
   ]
  },
  {
   "cell_type": "code",
   "execution_count": null,
   "metadata": {},
   "outputs": [],
   "source": [
    "pd.DataFrame(NPRC_110_b.log)[]"
   ]
  },
  {
   "cell_type": "code",
   "execution_count": null,
   "metadata": {},
   "outputs": [],
   "source": [
    "origin.container.get_level()"
   ]
  },
  {
   "cell_type": "code",
   "execution_count": null,
   "metadata": {},
   "outputs": [],
   "source": [
    "# Export results \n",
    "import networkx as nx\n",
    "import json\n",
    "import shapely.wkt\n",
    "\n",
    "import geopandas as gpd\n",
    "\n",
    "import dtv_backend.postprocessing\n",
    "\n",
    "# Find route from A to B\n",
    "path = nx.dijkstra_path(env.network, origin_node, destination_node, weight='Length')\n",
    "\n",
    "result_objs = {\n",
    "    'origin': origin, \n",
    "    'destination': destination, \n",
    "    'equipment': NPRC_110\n",
    "}\n",
    "\n",
    "logs = {}\n",
    "for key, obj in result_objs.items():\n",
    "    log_gdf = gpd.GeoDataFrame(pd.DataFrame(NPRC_110.log), geometry='Geometry')\n",
    "    log_gdf['Timestamp'] = log_gdf['Timestamp'].dt.strftime('%Y-%m-%dT%H:%M:%S')\n",
    "    logs[key] = json.loads(log_gdf.to_json())\n",
    "\n",
    "path_gdf = dtv_backend.postprocessing.path2gdf(path, env.network)\n",
    "\n",
    "sites = []\n",
    "for site in [origin, destination]:\n",
    "    obj = {\n",
    "        key: getattr(site, key) \n",
    "        for key in vars(site) \n",
    "        if key not in [\"env\", \"resource\", \"container\", \"log\", \"wgs84\"]\n",
    "    }\n",
    "    sites.append(obj)\n",
    "sites_gdf = gpd.GeoDataFrame(sites, geometry='geometry')\n",
    "    \n",
    "result[\"sites\"] = json.loads(sites_gdf.to_json())\n",
    "    \n",
    "result[\"path\"] = json.loads(path_gdf.to_json())\n",
    "result[\"logs\"] = logs\n",
    "\n",
    "\n",
    "with open('sample-result.json', 'w') as f:\n",
    "    json.dump(result, f)\n",
    "\n"
   ]
  },
  {
   "cell_type": "code",
   "execution_count": null,
   "metadata": {},
   "outputs": [],
   "source": [
    "\n",
    "    "
   ]
  },
  {
   "cell_type": "markdown",
   "metadata": {},
   "source": [
    "## old code"
   ]
  },
  {
   "cell_type": "code",
   "execution_count": null,
   "metadata": {},
   "outputs": [],
   "source": [
    "# stop before execuring old code\n",
    "raise"
   ]
  },
  {
   "cell_type": "code",
   "execution_count": null,
   "metadata": {},
   "outputs": [],
   "source": [
    "# Find basic route\n",
    "start_point = locations_nodes['Transferium Maasvlakte']\n",
    "end_point = locations_nodes['Nijmegen']\n",
    "path = nx.dijkstra_path(env.FG, start_point, end_point, weight='Length')\n",
    "\n",
    "# blockin at...\n",
    "blocking = locations_nodes['Waal at St. Andries']\n",
    "\n",
    "# assert that the blocking is in the route\n",
    "print(f'The blocking is in the path: {blocking in path}')\n",
    "assert blocking in path, 'Blocking should be in the shortest path'\n",
    "\n",
    "# quick check on the graph: do the edges have resources?\n",
    "edge = list(env.FG.edges(blocking))[0]\n",
    "print(f'Edges have resources? {\"Resources\" in env.FG.edges[edge].keys()}')"
   ]
  },
  {
   "cell_type": "code",
   "execution_count": null,
   "metadata": {},
   "outputs": [],
   "source": [
    "# get all edges connecting to St. Andries\n",
    "blocked_edges = []\n",
    "for edge in env.FG.edges():\n",
    "    if blocking in edge:\n",
    "        blocked_edges.append(edge)\n",
    "\n",
    "# set a trigger (node) for the edge to be blocked 2/4 of the way towards the blocked node\n",
    "index = int(path.index(blocking)*(2/4))\n",
    "trigger_node = path[index]"
   ]
  },
  {
   "cell_type": "code",
   "execution_count": null,
   "metadata": {},
   "outputs": [],
   "source": [
    "# Make a transport resource class out of mix-ins\n",
    "TransportResource = type('TransportResource', \n",
    "                         (opentnsim.core.Identifiable, opentnsim.core.ContainerDependentMovable, \n",
    "                          opentnsim.core.HasResource, opentnsim.core.Routeable), {})\n",
    "\n",
    "# For testing purposes we only want v to be 1, whether empty or loaded\n",
    "def compute_v_provider(v_empty, v_full):\n",
    "    return lambda x: 1\n",
    "\n",
    "# Define vessel data, but do not yet link to env or route\n",
    "data_vessel = {\"env\": None,\n",
    "               \"name\": \"Vessel number 1\",\n",
    "               \"route\": None,\n",
    "               \"geometry\": G.nodes[start_point]['geometry'],  # lon, lat\n",
    "               \"capacity\": 1_000,\n",
    "               \"compute_v\": compute_v_provider(v_empty=1, v_full=1)}\n"
   ]
  },
  {
   "cell_type": "code",
   "execution_count": null,
   "metadata": {},
   "outputs": [],
   "source": [
    "# create the transport processing resource\n",
    "vessel1 = TransportResource(**data_vessel)\n",
    "\n",
    "# Add the vessel to the environment, and define the start and end point\n",
    "vessel1.env = env\n",
    "vessel1.start_loc = start_point\n",
    "vessel1.end_loc = end_point\n",
    "\n",
    "# also define its current location as the start point for now\n",
    "vessel1.current_loc = start_point\n",
    "\n",
    "# add the route\n",
    "vessel1.route = path\n",
    "\n",
    "# check route\n",
    "#vessel1.route"
   ]
  },
  {
   "cell_type": "code",
   "execution_count": null,
   "metadata": {},
   "outputs": [],
   "source": [
    "# create the transport processing resource\n",
    "vessel2 = TransportResource(**data_vessel)\n",
    "\n",
    "# Add the vessel to the environment, and define the start and end point\n",
    "vessel2.env = env\n",
    "vessel2.start_loc = start_point\n",
    "vessel2.end_loc = end_point\n",
    "\n",
    "# also define its current location as the start point for now\n",
    "vessel2.current_loc = start_point\n",
    "\n",
    "#--> seems as though this path is sailed even though it is updated on the while loop of the start function\n",
    "\n",
    "# add the route (is it needed to add it as an empty list?)\n",
    "#vessel2.route = []\n",
    "\n",
    "# check route\n",
    "#vessel2.route"
   ]
  },
  {
   "cell_type": "code",
   "execution_count": null,
   "metadata": {},
   "outputs": [],
   "source": [
    "# simply move a vessel accross a predefined route\n",
    "def start(env, vessel):\n",
    "    yield from vessel.move()\n",
    "    "
   ]
  },
  {
   "cell_type": "code",
   "execution_count": null,
   "metadata": {},
   "outputs": [],
   "source": [
    "# function to sail vessel with route decision\n",
    "def start_dynamic(env, vessel, blocked_edges, trigger_node):\n",
    "    \"\"\" Have a vessel sail from start_point to end_point, while after every\n",
    "    egde passed checking if the current route is still available\"\"\"\n",
    "    # while vessel's current location is not end location\n",
    "    while vessel.current_loc != vessel.end_loc:\n",
    "        # activate blockage if triggered\n",
    "        if vessel.current_loc == trigger_node:\n",
    "            for blocked_edge in blocked_edges:\n",
    "                env.FG.edges[blocked_edge]['Length'] = 999999\n",
    "        # determine the shortest path from the current to the end location given the current conditions\n",
    "        shortest_path = nx.dijkstra_path(env.FG, vessel.current_loc, vessel.end_loc, weight='Length')\n",
    "        # make sure the vessel passes only the first edge in the route\n",
    "        vessel.route = [shortest_path[0], shortest_path[1]]\n",
    "        # make sure the current location is now updated\n",
    "        vessel.current_loc = shortest_path[1]\n",
    "        yield from vessel.move()\n",
    "    "
   ]
  },
  {
   "cell_type": "code",
   "execution_count": null,
   "metadata": {},
   "outputs": [],
   "source": [
    "# add the processes and run the environments\n",
    "env.process(start(env, vessel1))\n",
    "env.process(start_dynamic(env, vessel2, blocked_edges, trigger_node))\n",
    "env.run()"
   ]
  },
  {
   "cell_type": "code",
   "execution_count": null,
   "metadata": {},
   "outputs": [],
   "source": [
    "# check the log of vessel 1\n",
    "df1 = pd.DataFrame.from_dict(vessel1.log)\n",
    "df1.head(4).append(df1.tail(4))"
   ]
  },
  {
   "cell_type": "code",
   "execution_count": null,
   "metadata": {},
   "outputs": [],
   "source": [
    "# check the log of vessel 2\n",
    "df2 = pd.DataFrame.from_dict(vessel2.log)\n",
    "df2.head(4).append(df2.tail(4))"
   ]
  },
  {
   "cell_type": "code",
   "execution_count": null,
   "metadata": {},
   "outputs": [],
   "source": [
    "# create figure\n",
    "fix, ax = plt.subplots()\n",
    "\n",
    "# get log and plot track of vessel 1\n",
    "df1['x'] = df1.Geometry.apply(lambda geom: geom.x)\n",
    "df1['y'] = df1.Geometry.apply(lambda geom: geom.y)\n",
    "df1.plot('x', 'y', label='vessel1', ax=ax)\n",
    "\n",
    "# get log and plot track of vessel 2\n",
    "df2['x'] = df2.Geometry.apply(lambda geom: geom.x)\n",
    "df2['y'] = df2.Geometry.apply(lambda geom: geom.y)\n",
    "df2.plot('x', 'y', label='vessel2', ax=ax)"
   ]
  },
  {
   "cell_type": "code",
   "execution_count": null,
   "metadata": {},
   "outputs": [],
   "source": [
    "gdf1 = gpd.GeoDataFrame(df1.rename(columns={'Geometry':'geometry'}), crs=\"EPSG:4326\")\n",
    "gdf2 = gpd.GeoDataFrame(df2.rename(columns={'Geometry':'geometry'}), crs=\"EPSG:4326\")"
   ]
  },
  {
   "cell_type": "code",
   "execution_count": null,
   "metadata": {},
   "outputs": [],
   "source": [
    "import folium\n",
    "import shapely\n",
    "m = folium.Map(location=[52, 5], zoom_start=9)\n",
    "col1 = '#ff0000'\n",
    "col2 = '#3785b8'\n",
    "\n",
    "style1 = {'fillColor': col1, 'color': col1, 'line_opacity': 0.2}\n",
    "style2 = {'fillColor': col2, 'color': col2, 'opacity': 0.8}\n",
    "\n",
    "folium.GeoJson(shapely.geometry.LineString(gdf1.geometry), style_function=lambda x:style1).add_to(m)\n",
    "folium.GeoJson(shapely.geometry.LineString(gdf2.geometry), style_function=lambda x:style2).add_to(m)\n",
    "\n",
    "folium.Marker([G.nodes[blocking]['Y'],G.nodes[blocking]['X']],\n",
    "          icon = folium.Icon(icon='times', color='red', prefix='fa'),\n",
    "          ).add_to(m)\n",
    "\n",
    "m"
   ]
  },
  {
   "cell_type": "code",
   "execution_count": null,
   "metadata": {},
   "outputs": [],
   "source": []
  }
 ],
 "metadata": {
  "kernelspec": {
   "display_name": "Python 3",
   "language": "python",
   "name": "python3"
  },
  "language_info": {
   "codemirror_mode": {
    "name": "ipython",
    "version": 3
   },
   "file_extension": ".py",
   "mimetype": "text/x-python",
   "name": "python",
   "nbconvert_exporter": "python",
   "pygments_lexer": "ipython3",
   "version": "3.8.6"
  }
 },
 "nbformat": 4,
 "nbformat_minor": 4
}
