{
 "cells": [
  {
   "cell_type": "markdown",
   "metadata": {},
   "source": [
    "# Digital Twin Fairways\n",
    "This notebook provides an example on how to use the digital twin backend. It runs a simulation based on fairway information system of the Netherlands. You can define sites (with cargo), climate conditions and ships. Ships will transport the goods from A to B."
   ]
  },
  {
   "cell_type": "code",
   "execution_count": 34,
   "metadata": {},
   "outputs": [
    {
     "name": "stdout",
     "output_type": "stream",
     "text": [
      "The autoreload extension is already loaded. To reload it, use:\n",
      "  %reload_ext autoreload\n"
     ]
    }
   ],
   "source": [
    "import sys\n",
    "sys.path.append(r\"D:\\01. Projecten\\[130878] DTV vaarwegen\\digitaltwin-waterway\\dtv_backend\")\n",
    "\n",
    "import datetime\n",
    "\n",
    "import logging\n",
    "import geojson\n",
    "import simpy\n",
    "import time\n",
    "import json\n",
    "import shapely\n",
    "import pandas as pd\n",
    "import networkx as nx\n",
    "from networkx.readwrite import json_graph\n",
    "\n",
    "# library to load the fairway information network\n",
    "import dtv_backend.fis\n",
    "# the simpy processes and objects\n",
    "import dtv_backend.simple\n",
    "import dtv_backend.network\n",
    "import dtv_backend.network.network_utilities\n",
    "import dtv_backend.berthing\n",
    "import dtv_backend.simulate\n",
    "import dtv_backend.postprocessing\n",
    "\n",
    "# reload for debugging purposes\n",
    "%load_ext autoreload\n",
    "%autoreload 2"
   ]
  },
  {
   "cell_type": "markdown",
   "metadata": {},
   "source": [
    "### Input\n",
    "You can define your input in a json configuration file. The relevant parts are sites, fleet and climate."
   ]
  },
  {
   "cell_type": "code",
   "execution_count": 2,
   "metadata": {},
   "outputs": [],
   "source": [
    "# example input\n",
    "with open('config.geojson') as f:\n",
    "    config = geojson.load(f)"
   ]
  },
  {
   "cell_type": "markdown",
   "metadata": {},
   "source": [
    "### Dummy env"
   ]
  },
  {
   "cell_type": "code",
   "execution_count": 5,
   "metadata": {},
   "outputs": [],
   "source": [
    "logger = logging.getLogger()\n",
    "\n",
    "now = datetime.datetime.now()\n",
    "initial_time = now.timestamp()\n",
    "env = simpy.Environment(initial_time=initial_time)\n",
    "env.epoch = now\n",
    "\n",
    "# default no berth\n",
    "with_berth = config.get(\"options\", {}).get(\"with_berth\", False)\n",
    "\n",
    "# read the network from google for performance reasons\n",
    "url = \"https://zenodo.org/record/6673604/files/network_digital_twin_v0.3.pickle?download=1\"\n",
    "G = dtv_backend.fis.load_fis_network(url)\n",
    "env.FG = G"
   ]
  },
  {
   "cell_type": "markdown",
   "metadata": {},
   "source": [
    "## WIP"
   ]
  },
  {
   "cell_type": "code",
   "execution_count": 35,
   "metadata": {},
   "outputs": [],
   "source": [
    "\n",
    "logger.info(\"Loading ports ⚓\")\n",
    "ports = []\n",
    "for site in config[\"sites\"]:\n",
    "    port = dtv_backend.simple.Port(env, **site[\"properties\"], **site)\n",
    "    ports.append(port)\n",
    "\n",
    "logger.info(\"Loading ships 🚢\")\n",
    "ships = []\n",
    "for ship in config[\"fleet\"]:\n",
    "    kwargs = {}\n",
    "    kwargs.update(ship)\n",
    "    kwargs.update(ship[\"properties\"])\n",
    "    # the ship needs to know about the climate\n",
    "    if \"climate\" in config:\n",
    "        kwargs[\"climate\"] = config[\"climate\"]\n",
    "    ship = dtv_backend.simple.Ship(env, **kwargs)\n",
    "    ships.append(ship)\n",
    "\n",
    "logger.info(\"Loadig operator 👩‍💼\")\n",
    "# Setup and start the simulation\n",
    "operator = dtv_backend.simple.Operator(env, ships=ships, **config[\"operator\"])\n",
    "# The ships do work for the operator\n",
    "for ship in ships:\n",
    "    env.process(ship.work_for(operator, with_berth=with_berth))\n",
    "# The opertor plans the work move everything from A to B\n",
    "env.process(operator.plan(ports[0], ports[1]))\n",
    "\n",
    "logger.info(\"Running simulation 👩‍💻\")\n",
    "# Run for n days\n",
    "n_days_in_future = now + datetime.timedelta(days=60)"
   ]
  },
  {
   "cell_type": "code",
   "execution_count": 8,
   "metadata": {},
   "outputs": [
    {
     "data": {
      "text/plain": [
       "[<dtv_backend.simple.Port at 0x29660e87e80>,\n",
       " <dtv_backend.simple.Port at 0x29660e87eb0>]"
      ]
     },
     "execution_count": 8,
     "metadata": {},
     "output_type": "execute_result"
    }
   ],
   "source": [
    "ports"
   ]
  },
  {
   "cell_type": "code",
   "execution_count": 9,
   "metadata": {},
   "outputs": [
    {
     "data": {
      "text/plain": [
       "[<dtv_backend.simple.Ship at 0x29660e87fa0>]"
      ]
     },
     "execution_count": 9,
     "metadata": {},
     "output_type": "execute_result"
    }
   ],
   "source": [
    "ships"
   ]
  },
  {
   "cell_type": "code",
   "execution_count": 10,
   "metadata": {},
   "outputs": [
    {
     "data": {
      "text/plain": [
       "<dtv_backend.simple.Operator at 0x29660e87d30>"
      ]
     },
     "execution_count": 10,
     "metadata": {},
     "output_type": "execute_result"
    }
   ],
   "source": [
    "operator"
   ]
  },
  {
   "cell_type": "code",
   "execution_count": 14,
   "metadata": {},
   "outputs": [
    {
     "data": {
      "text/plain": [
       "{'discharge_lobith': 6000, 'discharge_st_pieter': 1300, 'sealevel': 0}"
      ]
     },
     "execution_count": 14,
     "metadata": {},
     "output_type": "execute_result"
    }
   ],
   "source": [
    "config['climate']"
   ]
  },
  {
   "cell_type": "code",
   "execution_count": 24,
   "metadata": {},
   "outputs": [],
   "source": [
    "ship = ships[0]"
   ]
  },
  {
   "cell_type": "code",
   "execution_count": 33,
   "metadata": {},
   "outputs": [
    {
     "data": {
      "text/plain": [
       "{'CEMT-class': 'Va',\n",
       " 'RWS-class': 'M8',\n",
       " 'Vessel type': 'Motorvessel',\n",
       " 'Description (English)': 'Large Rhine vessel',\n",
       " 'Description (Dutch)': 'Groot Rijnschip',\n",
       " 'Beam [m]': 11.4,\n",
       " 'Beam 10% percentile [m]': 10.6,\n",
       " 'Beam 50% percentile [m]': 11.45,\n",
       " 'Beam 90% percentile [m]': 11.45,\n",
       " 'Length [m]': 110,\n",
       " 'Length 10% percentile [m]': 93,\n",
       " 'Length 50% percentile [m]': 110,\n",
       " 'Length 90% percentile [m]': 110,\n",
       " 'Draught loaded [m]': 3.5,\n",
       " 'Draught average [m]': 3.14,\n",
       " 'Draught empty [m]': 1.4,\n",
       " 'Height average [m]': 6.21,\n",
       " 'Load Weight average [ton]': 2286,\n",
       " 'Load weight maximum [ton]': 2689,\n",
       " 'speed': 3,\n",
       " 'image': 'https://encrypted-tbn0.gstatic.com/images?q=tbn:ANd9GcQRvKRniAxUXUWzmByw7CRFYD5fTqOtFTDVkw&usqp=CAU',\n",
       " 'capacity': 2286,\n",
       " 'name': 'Schip',\n",
       " 'count': 4}"
      ]
     },
     "execution_count": 33,
     "metadata": {},
     "output_type": "execute_result"
    }
   ],
   "source": [
    "config['fleet'][0]['properties']"
   ]
  },
  {
   "cell_type": "code",
   "execution_count": 40,
   "metadata": {},
   "outputs": [
    {
     "data": {
      "text/plain": [
       "2286"
      ]
     },
     "execution_count": 40,
     "metadata": {},
     "output_type": "execute_result"
    }
   ],
   "source": [
    "ship.cargo.level"
   ]
  },
  {
   "cell_type": "code",
   "execution_count": 48,
   "metadata": {},
   "outputs": [
    {
     "data": {
      "text/plain": [
       "{'Wkt': 'POINT (4.0874555158298396 51.9653093741551970)',\n",
       " 'X': 4.08745551582984,\n",
       " 'Y': 51.9653093741552,\n",
       " 'n': '8861022',\n",
       " 'name': '8861022',\n",
       " 'cargoType': 'Dry Bulk',\n",
       " 'capacity': 10000,\n",
       " 'level': 10000,\n",
       " 'loadingRate': 198,\n",
       " 'loadingRateVariation': 102}"
      ]
     },
     "execution_count": 48,
     "metadata": {},
     "output_type": "execute_result"
    }
   ],
   "source": [
    "config['sites'][0]['properties']"
   ]
  },
  {
   "cell_type": "code",
   "execution_count": 47,
   "metadata": {},
   "outputs": [
    {
     "data": {
      "text/plain": [
       "1"
      ]
     },
     "execution_count": 47,
     "metadata": {},
     "output_type": "execute_result"
    }
   ],
   "source": [
    "port = ports[0]\n",
    "port.loading_rate"
   ]
  },
  {
   "cell_type": "code",
   "execution_count": 36,
   "metadata": {},
   "outputs": [],
   "source": [
    "env.run(until=n_days_in_future.timestamp())"
   ]
  },
  {
   "cell_type": "code",
   "execution_count": null,
   "metadata": {},
   "outputs": [],
   "source": [
    "dtv_backend.network.network_utilities.path2gdf(path, graph)"
   ]
  },
  {
   "cell_type": "code",
   "execution_count": null,
   "metadata": {},
   "outputs": [],
   "source": [
    "ship = out['ships'][0]"
   ]
  },
  {
   "cell_type": "code",
   "execution_count": null,
   "metadata": {},
   "outputs": [],
   "source": [
    "ship.cargo.capacity"
   ]
  },
  {
   "cell_type": "code",
   "execution_count": null,
   "metadata": {},
   "outputs": [],
   "source": [
    "ship.logbook"
   ]
  },
  {
   "cell_type": "code",
   "execution_count": null,
   "metadata": {},
   "outputs": [],
   "source": [
    "df_log = pd.DataFrame(out['operator'].logbook)"
   ]
  },
  {
   "cell_type": "code",
   "execution_count": null,
   "metadata": {},
   "outputs": [],
   "source": [
    "df_log"
   ]
  },
  {
   "cell_type": "code",
   "execution_count": null,
   "metadata": {},
   "outputs": [],
   "source": [
    "dtv_backend.postprocessing.log2gantt(df_log)"
   ]
  }
 ],
 "metadata": {
  "kernelspec": {
   "display_name": "Python 3",
   "language": "python",
   "name": "python3"
  },
  "language_info": {
   "codemirror_mode": {
    "name": "ipython",
    "version": 3
   },
   "file_extension": ".py",
   "mimetype": "text/x-python",
   "name": "python",
   "nbconvert_exporter": "python",
   "pygments_lexer": "ipython3",
   "version": "3.8.6"
  }
 },
 "nbformat": 4,
 "nbformat_minor": 4
}
