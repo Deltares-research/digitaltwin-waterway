{
 "cells": [
  {
   "cell_type": "code",
   "execution_count": 1,
   "metadata": {},
   "outputs": [],
   "source": [
    "# all internal libraries\n",
    "import pathlib\n",
    "import time\n",
    "import datetime\n",
    "import io\n",
    "import urllib\n",
    "import tempfile\n",
    "\n",
    "# dependencies\n",
    "import shapely.geometry\n",
    "import networkx as nx\n",
    "import simpy\n",
    "import numpy as np\n",
    "import pandas as pd\n",
    "import geopandas as gpd\n",
    "import matplotlib.pyplot as plt\n",
    "\n",
    "# our software\n",
    "import opentnsim.core\n",
    "import dtv_backend.fis\n",
    "\n",
    "%matplotlib inline"
   ]
  },
  {
   "cell_type": "code",
   "execution_count": 4,
   "metadata": {},
   "outputs": [],
   "source": [
    "# link to the latets version of the network\n",
    "url = 'https://zenodo.org/record/3981105/files/network_digital_twin_v0.1.yaml'\n",
    "G = dtv_backend.fis.load_fis_network(url)"
   ]
  },
  {
   "cell_type": "markdown",
   "metadata": {},
   "source": [
    "## Repeat for real case"
   ]
  },
  {
   "cell_type": "code",
   "execution_count": 5,
   "metadata": {},
   "outputs": [],
   "source": [
    "# some interesting locations\n",
    "locations = {\n",
    "    'Transferium Maasvlakte': shapely.geometry.Point(4.087406, 51.936737),\n",
    "    'Neusse': shapely.geometry.Point(6.708892, 51.215737),\n",
    "    'Basel': shapely.geometry.Point(7.640572, 47.555449),\n",
    "    'Nijmegen': shapely.geometry.Point(5.8161152, 51.8570535),\n",
    "    'Waal at St. Andries': shapely.geometry.Point(5.350339, 51.803965)\n",
    "}\n",
    "\n",
    "# find the closest nodes on the graph\n",
    "locations_nodes = {n: dtv_backend.fis.find_closest_node(G, locations[n])[0] for n in locations}\n"
   ]
  },
  {
   "cell_type": "code",
   "execution_count": 6,
   "metadata": {},
   "outputs": [],
   "source": [
    "# define environment\n",
    "env = simpy.Environment()\n",
    "\n",
    "# set time for simulation\n",
    "simulation_start = datetime.datetime(2018, 7, 1)\n",
    "env = simpy.Environment(initial_time = time.mktime(simulation_start.timetuple()))\n",
    "env.epoch = time.mktime(simulation_start.timetuple())\n",
    "\n",
    "# Add graph to environment\n",
    "env.FG = G.copy()"
   ]
  },
  {
   "cell_type": "code",
   "execution_count": 7,
   "metadata": {},
   "outputs": [
    {
     "name": "stdout",
     "output_type": "stream",
     "text": [
      "The blocking is in the path: True\n",
      "Edges have resources? False\n"
     ]
    }
   ],
   "source": [
    "# Find basic route\n",
    "start_point = locations_nodes['Transferium Maasvlakte']\n",
    "end_point = locations_nodes['Nijmegen']\n",
    "path = nx.dijkstra_path(env.FG, start_point, end_point, weight='Length')\n",
    "\n",
    "# blockin at...\n",
    "blocking = locations_nodes['Waal at St. Andries']\n",
    "\n",
    "# assert that the blocking is in the route\n",
    "print(f'The blocking is in the path: {blocking in path}')\n",
    "assert blocking in path, 'Blocking should be in the shortest path'\n",
    "\n",
    "# quick check on the graph: do the edges have resources?\n",
    "edge = list(env.FG.edges(blocking))[0]\n",
    "print(f'Edges have resources? {\"Resources\" in env.FG.edges[edge].keys()}')"
   ]
  },
  {
   "cell_type": "code",
   "execution_count": 8,
   "metadata": {},
   "outputs": [],
   "source": [
    "# get all edges connecting to St. Andries\n",
    "blocked_edges = []\n",
    "for edge in env.FG.edges():\n",
    "    if blocking in edge:\n",
    "        blocked_edges.append(edge)\n",
    "\n",
    "# set a trigger (node) for the edge to be blocked 2/4 of the way towards the blocked node\n",
    "index = int(path.index(blocking)*(2/4))\n",
    "trigger_node = path[index]"
   ]
  },
  {
   "cell_type": "code",
   "execution_count": 9,
   "metadata": {},
   "outputs": [],
   "source": [
    "# Make a transport resource class out of mix-ins\n",
    "TransportResource = type('TransportResource', \n",
    "                         (opentnsim.core.Identifiable, opentnsim.core.ContainerDependentMovable, \n",
    "                          opentnsim.core.HasResource, opentnsim.core.Routeable), {})\n",
    "\n",
    "# For testing purposes we only want v to be 1, whether empty or loaded\n",
    "def compute_v_provider(v_empty, v_full):\n",
    "    return lambda x: 1\n",
    "\n",
    "# Define vessel data, but do not yet link to env or route\n",
    "data_vessel = {\"env\": None,\n",
    "               \"name\": \"Vessel number 1\",\n",
    "               \"route\": None,\n",
    "               \"geometry\": G.nodes[start_point]['geometry'],  # lon, lat\n",
    "               \"capacity\": 1_000,\n",
    "               \"compute_v\": compute_v_provider(v_empty=1, v_full=1)}\n"
   ]
  },
  {
   "cell_type": "code",
   "execution_count": 10,
   "metadata": {},
   "outputs": [],
   "source": [
    "# create the transport processing resource\n",
    "vessel1 = TransportResource(**data_vessel)\n",
    "\n",
    "# Add the vessel to the environment, and define the start and end point\n",
    "vessel1.env = env\n",
    "vessel1.start_loc = start_point\n",
    "vessel1.end_loc = end_point\n",
    "\n",
    "# also define its current location as the start point for now\n",
    "vessel1.current_loc = start_point\n",
    "\n",
    "# add the route\n",
    "vessel1.route = path\n",
    "\n",
    "# check route\n",
    "#vessel1.route"
   ]
  },
  {
   "cell_type": "code",
   "execution_count": 11,
   "metadata": {},
   "outputs": [],
   "source": [
    "# create the transport processing resource\n",
    "vessel2 = TransportResource(**data_vessel)\n",
    "\n",
    "# Add the vessel to the environment, and define the start and end point\n",
    "vessel2.env = env\n",
    "vessel2.start_loc = start_point\n",
    "vessel2.end_loc = end_point\n",
    "\n",
    "# also define its current location as the start point for now\n",
    "vessel2.current_loc = start_point\n",
    "\n",
    "#--> seems as though this path is sailed even though it is updated on the while loop of the start function\n",
    "\n",
    "# add the route (is it needed to add it as an empty list?)\n",
    "#vessel2.route = []\n",
    "\n",
    "# check route\n",
    "#vessel2.route"
   ]
  },
  {
   "cell_type": "code",
   "execution_count": 12,
   "metadata": {},
   "outputs": [],
   "source": [
    "# simply move a vessel accross a predefined route\n",
    "def start(env, vessel):\n",
    "    yield from vessel.move()\n",
    "    "
   ]
  },
  {
   "cell_type": "code",
   "execution_count": 13,
   "metadata": {},
   "outputs": [],
   "source": [
    "# function to sail vessel with route decision\n",
    "def start_dynamic(env, vessel, blocked_edges, trigger_node):\n",
    "    \"\"\" Have a vessel sail from start_point to end_point, while after every\n",
    "    egde passed checking if the current route is still available\"\"\"\n",
    "    # while vessel's current location is not end location\n",
    "    while vessel.current_loc != vessel.end_loc:\n",
    "        # activate blockage if triggered\n",
    "        if vessel.current_loc == trigger_node:\n",
    "            for blocked_edge in blocked_edges:\n",
    "                env.FG.edges[blocked_edge]['Length'] = 999999\n",
    "        # determine the shortest path from the current to the end location given the current conditions\n",
    "        shortest_path = nx.dijkstra_path(env.FG, vessel.current_loc, vessel.end_loc, weight='Length')\n",
    "        # make sure the vessel passes only the first edge in the route\n",
    "        vessel.route = [shortest_path[0], shortest_path[1]]\n",
    "        # make sure the current location is now updated\n",
    "        vessel.current_loc = shortest_path[1]\n",
    "        yield from vessel.move()\n",
    "    "
   ]
  },
  {
   "cell_type": "code",
   "execution_count": 14,
   "metadata": {},
   "outputs": [],
   "source": [
    "# add the processes and run the environments\n",
    "env.process(start(env, vessel1))\n",
    "env.process(start_dynamic(env, vessel2, blocked_edges, trigger_node))\n",
    "env.run()"
   ]
  },
  {
   "cell_type": "code",
   "execution_count": 15,
   "metadata": {},
   "outputs": [
    {
     "data": {
      "text/html": [
       "<div>\n",
       "<style scoped>\n",
       "    .dataframe tbody tr th:only-of-type {\n",
       "        vertical-align: middle;\n",
       "    }\n",
       "\n",
       "    .dataframe tbody tr th {\n",
       "        vertical-align: top;\n",
       "    }\n",
       "\n",
       "    .dataframe thead th {\n",
       "        text-align: right;\n",
       "    }\n",
       "</style>\n",
       "<table border=\"1\" class=\"dataframe\">\n",
       "  <thead>\n",
       "    <tr style=\"text-align: right;\">\n",
       "      <th></th>\n",
       "      <th>Message</th>\n",
       "      <th>Timestamp</th>\n",
       "      <th>Value</th>\n",
       "      <th>Geometry</th>\n",
       "    </tr>\n",
       "  </thead>\n",
       "  <tbody>\n",
       "    <tr>\n",
       "      <th>0</th>\n",
       "      <td>Sailing from node 22161408.0 to node 22161426....</td>\n",
       "      <td>2018-07-01 00:00:00.000000</td>\n",
       "      <td>0</td>\n",
       "      <td>POINT (4.08441957198572 51.9376698026918)</td>\n",
       "    </tr>\n",
       "    <tr>\n",
       "      <th>1</th>\n",
       "      <td>Sailing from node 22161408.0 to node 22161426....</td>\n",
       "      <td>2018-07-01 00:05:37.583934</td>\n",
       "      <td>0</td>\n",
       "      <td>POINT (4.08575840028067 51.9395520396609)</td>\n",
       "    </tr>\n",
       "    <tr>\n",
       "      <th>2</th>\n",
       "      <td>Sailing from node 22161426.0 to node 8863826.0...</td>\n",
       "      <td>2018-07-01 00:05:37.583934</td>\n",
       "      <td>0</td>\n",
       "      <td>POINT (4.08575840028067 51.9395520396609)</td>\n",
       "    </tr>\n",
       "    <tr>\n",
       "      <th>3</th>\n",
       "      <td>Sailing from node 22161426.0 to node 8863826.0...</td>\n",
       "      <td>2018-07-01 00:08:33.176166</td>\n",
       "      <td>0</td>\n",
       "      <td>POINT (4.08419044915029 51.9398020492115)</td>\n",
       "    </tr>\n",
       "    <tr>\n",
       "      <th>234</th>\n",
       "      <td>Sailing from node 8864190.0 to node L49032_B s...</td>\n",
       "      <td>2018-07-03 11:25:34.724602</td>\n",
       "      <td>0</td>\n",
       "      <td>POINT (5.82339965181606 51.8543638231455)</td>\n",
       "    </tr>\n",
       "    <tr>\n",
       "      <th>235</th>\n",
       "      <td>Sailing from node 8864190.0 to node L49032_B stop</td>\n",
       "      <td>2018-07-03 11:27:58.999406</td>\n",
       "      <td>0</td>\n",
       "      <td>POINT (5.822588443819979 51.85334354929841)</td>\n",
       "    </tr>\n",
       "    <tr>\n",
       "      <th>236</th>\n",
       "      <td>Sailing from node L49032_B to node L49032_A start</td>\n",
       "      <td>2018-07-03 11:27:58.999406</td>\n",
       "      <td>0</td>\n",
       "      <td>POINT (5.822588443819979 51.85334354929841)</td>\n",
       "    </tr>\n",
       "    <tr>\n",
       "      <th>237</th>\n",
       "      <td>Sailing from node L49032_B to node L49032_A stop</td>\n",
       "      <td>2018-07-03 11:28:43.273721</td>\n",
       "      <td>0</td>\n",
       "      <td>POINT (5.822339504594138 51.85303045304829)</td>\n",
       "    </tr>\n",
       "  </tbody>\n",
       "</table>\n",
       "</div>"
      ],
      "text/plain": [
       "                                               Message  \\\n",
       "0    Sailing from node 22161408.0 to node 22161426....   \n",
       "1    Sailing from node 22161408.0 to node 22161426....   \n",
       "2    Sailing from node 22161426.0 to node 8863826.0...   \n",
       "3    Sailing from node 22161426.0 to node 8863826.0...   \n",
       "234  Sailing from node 8864190.0 to node L49032_B s...   \n",
       "235  Sailing from node 8864190.0 to node L49032_B stop   \n",
       "236  Sailing from node L49032_B to node L49032_A start   \n",
       "237   Sailing from node L49032_B to node L49032_A stop   \n",
       "\n",
       "                     Timestamp  Value  \\\n",
       "0   2018-07-01 00:00:00.000000      0   \n",
       "1   2018-07-01 00:05:37.583934      0   \n",
       "2   2018-07-01 00:05:37.583934      0   \n",
       "3   2018-07-01 00:08:33.176166      0   \n",
       "234 2018-07-03 11:25:34.724602      0   \n",
       "235 2018-07-03 11:27:58.999406      0   \n",
       "236 2018-07-03 11:27:58.999406      0   \n",
       "237 2018-07-03 11:28:43.273721      0   \n",
       "\n",
       "                                        Geometry  \n",
       "0      POINT (4.08441957198572 51.9376698026918)  \n",
       "1      POINT (4.08575840028067 51.9395520396609)  \n",
       "2      POINT (4.08575840028067 51.9395520396609)  \n",
       "3      POINT (4.08419044915029 51.9398020492115)  \n",
       "234    POINT (5.82339965181606 51.8543638231455)  \n",
       "235  POINT (5.822588443819979 51.85334354929841)  \n",
       "236  POINT (5.822588443819979 51.85334354929841)  \n",
       "237  POINT (5.822339504594138 51.85303045304829)  "
      ]
     },
     "execution_count": 15,
     "metadata": {},
     "output_type": "execute_result"
    }
   ],
   "source": [
    "# check the log of vessel 1\n",
    "df1 = pd.DataFrame.from_dict(vessel1.log)\n",
    "df1.head(4).append(df1.tail(4))"
   ]
  },
  {
   "cell_type": "code",
   "execution_count": 16,
   "metadata": {},
   "outputs": [
    {
     "data": {
      "text/html": [
       "<div>\n",
       "<style scoped>\n",
       "    .dataframe tbody tr th:only-of-type {\n",
       "        vertical-align: middle;\n",
       "    }\n",
       "\n",
       "    .dataframe tbody tr th {\n",
       "        vertical-align: top;\n",
       "    }\n",
       "\n",
       "    .dataframe thead th {\n",
       "        text-align: right;\n",
       "    }\n",
       "</style>\n",
       "<table border=\"1\" class=\"dataframe\">\n",
       "  <thead>\n",
       "    <tr style=\"text-align: right;\">\n",
       "      <th></th>\n",
       "      <th>Message</th>\n",
       "      <th>Timestamp</th>\n",
       "      <th>Value</th>\n",
       "      <th>Geometry</th>\n",
       "    </tr>\n",
       "  </thead>\n",
       "  <tbody>\n",
       "    <tr>\n",
       "      <th>0</th>\n",
       "      <td>Sailing from node 22161408.0 to node 22161426....</td>\n",
       "      <td>2018-07-01 00:00:00.000000</td>\n",
       "      <td>0</td>\n",
       "      <td>POINT (4.08441957198572 51.9376698026918)</td>\n",
       "    </tr>\n",
       "    <tr>\n",
       "      <th>1</th>\n",
       "      <td>Sailing from node 22161408.0 to node 22161426....</td>\n",
       "      <td>2018-07-01 00:05:37.583934</td>\n",
       "      <td>0</td>\n",
       "      <td>POINT (4.08575840028067 51.9395520396609)</td>\n",
       "    </tr>\n",
       "    <tr>\n",
       "      <th>2</th>\n",
       "      <td>Sailing from node 22161426.0 to node 8863826.0...</td>\n",
       "      <td>2018-07-01 00:05:37.583934</td>\n",
       "      <td>0</td>\n",
       "      <td>POINT (4.08575840028067 51.9395520396609)</td>\n",
       "    </tr>\n",
       "    <tr>\n",
       "      <th>3</th>\n",
       "      <td>Sailing from node 22161426.0 to node 8863826.0...</td>\n",
       "      <td>2018-07-01 00:08:33.176166</td>\n",
       "      <td>0</td>\n",
       "      <td>POINT (4.08419044915029 51.9398020492115)</td>\n",
       "    </tr>\n",
       "    <tr>\n",
       "      <th>238</th>\n",
       "      <td>Sailing from node 8864190.0 to node L49032_B s...</td>\n",
       "      <td>2018-07-03 11:27:37.965403</td>\n",
       "      <td>0</td>\n",
       "      <td>POINT (5.82339965181606 51.8543638231455)</td>\n",
       "    </tr>\n",
       "    <tr>\n",
       "      <th>239</th>\n",
       "      <td>Sailing from node 8864190.0 to node L49032_B stop</td>\n",
       "      <td>2018-07-03 11:30:02.240207</td>\n",
       "      <td>0</td>\n",
       "      <td>POINT (5.822588443819979 51.85334354929841)</td>\n",
       "    </tr>\n",
       "    <tr>\n",
       "      <th>240</th>\n",
       "      <td>Sailing from node L49032_B to node L49032_A start</td>\n",
       "      <td>2018-07-03 11:30:02.240207</td>\n",
       "      <td>0</td>\n",
       "      <td>POINT (5.822588443819979 51.85334354929841)</td>\n",
       "    </tr>\n",
       "    <tr>\n",
       "      <th>241</th>\n",
       "      <td>Sailing from node L49032_B to node L49032_A stop</td>\n",
       "      <td>2018-07-03 11:30:46.514522</td>\n",
       "      <td>0</td>\n",
       "      <td>POINT (5.822339504594138 51.85303045304829)</td>\n",
       "    </tr>\n",
       "  </tbody>\n",
       "</table>\n",
       "</div>"
      ],
      "text/plain": [
       "                                               Message  \\\n",
       "0    Sailing from node 22161408.0 to node 22161426....   \n",
       "1    Sailing from node 22161408.0 to node 22161426....   \n",
       "2    Sailing from node 22161426.0 to node 8863826.0...   \n",
       "3    Sailing from node 22161426.0 to node 8863826.0...   \n",
       "238  Sailing from node 8864190.0 to node L49032_B s...   \n",
       "239  Sailing from node 8864190.0 to node L49032_B stop   \n",
       "240  Sailing from node L49032_B to node L49032_A start   \n",
       "241   Sailing from node L49032_B to node L49032_A stop   \n",
       "\n",
       "                     Timestamp  Value  \\\n",
       "0   2018-07-01 00:00:00.000000      0   \n",
       "1   2018-07-01 00:05:37.583934      0   \n",
       "2   2018-07-01 00:05:37.583934      0   \n",
       "3   2018-07-01 00:08:33.176166      0   \n",
       "238 2018-07-03 11:27:37.965403      0   \n",
       "239 2018-07-03 11:30:02.240207      0   \n",
       "240 2018-07-03 11:30:02.240207      0   \n",
       "241 2018-07-03 11:30:46.514522      0   \n",
       "\n",
       "                                        Geometry  \n",
       "0      POINT (4.08441957198572 51.9376698026918)  \n",
       "1      POINT (4.08575840028067 51.9395520396609)  \n",
       "2      POINT (4.08575840028067 51.9395520396609)  \n",
       "3      POINT (4.08419044915029 51.9398020492115)  \n",
       "238    POINT (5.82339965181606 51.8543638231455)  \n",
       "239  POINT (5.822588443819979 51.85334354929841)  \n",
       "240  POINT (5.822588443819979 51.85334354929841)  \n",
       "241  POINT (5.822339504594138 51.85303045304829)  "
      ]
     },
     "execution_count": 16,
     "metadata": {},
     "output_type": "execute_result"
    }
   ],
   "source": [
    "# check the log of vessel 2\n",
    "df2 = pd.DataFrame.from_dict(vessel2.log)\n",
    "df2.head(4).append(df2.tail(4))"
   ]
  },
  {
   "cell_type": "code",
   "execution_count": 17,
   "metadata": {},
   "outputs": [
    {
     "data": {
      "text/plain": [
       "<matplotlib.axes._subplots.AxesSubplot at 0x1362a9790>"
      ]
     },
     "execution_count": 17,
     "metadata": {},
     "output_type": "execute_result"
    },
    {
     "data": {
      "image/png": "[encoded data removed]",
      "text/plain": [
       "<Figure size 432x288 with 1 Axes>"
      ]
     },
     "metadata": {
      "needs_background": "light"
     },
     "output_type": "display_data"
    }
   ],
   "source": [
    "# create figure\n",
    "fix, ax = plt.subplots()\n",
    "\n",
    "# get log and plot track of vessel 1\n",
    "df1['x'] = df1.Geometry.apply(lambda geom: geom.x)\n",
    "df1['y'] = df1.Geometry.apply(lambda geom: geom.y)\n",
    "df1.plot('x', 'y', label='vessel1', ax=ax)\n",
    "\n",
    "# get log and plot track of vessel 2\n",
    "df2['x'] = df2.Geometry.apply(lambda geom: geom.x)\n",
    "df2['y'] = df2.Geometry.apply(lambda geom: geom.y)\n",
    "df2.plot('x', 'y', label='vessel2', ax=ax)"
   ]
  },
  {
   "cell_type": "code",
   "execution_count": 18,
   "metadata": {},
   "outputs": [],
   "source": [
    "gdf1 = gpd.GeoDataFrame(df1.rename(columns={'Geometry':'geometry'}), crs=\"EPSG:4326\")\n",
    "gdf2 = gpd.GeoDataFrame(df2.rename(columns={'Geometry':'geometry'}), crs=\"EPSG:4326\")"
   ]
  },
  {
   "cell_type": "code",
   "execution_count": 19,
   "metadata": {},
   "outputs": [
    {
     "data": {
      "text/html": [
       "<div style=\"width:100%;\"><div style=\"position:relative;width:100%;height:0;padding-bottom:60%;\"><span style=\"color:#565656\">Make this Notebook Trusted to load map: File -> Trust Notebook</span><iframe src=\"about:blank\" style=\"position:absolute;width:100%;height:100%;left:0;top:0;border:none !important;\" data-html=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 onload=\"this.contentDocument.open();this.contentDocument.write(atob(this.getAttribute('data-html')));this.contentDocument.close();\" allowfullscreen webkitallowfullscreen mozallowfullscreen></iframe></div></div>"
      ],
      "text/plain": [
       "<folium.folium.Map at 0x1377ae2e0>"
      ]
     },
     "execution_count": 19,
     "metadata": {},
     "output_type": "execute_result"
    }
   ],
   "source": [
    "import folium\n",
    "import shapely\n",
    "m = folium.Map(location=[52, 5], zoom_start=9)\n",
    "col1 = '#ff0000'\n",
    "col2 = '#3785b8'\n",
    "\n",
    "style1 = {'fillColor': col1, 'color': col1, 'line_opacity': 0.2}\n",
    "style2 = {'fillColor': col2, 'color': col2, 'opacity': 0.8}\n",
    "\n",
    "folium.GeoJson(shapely.geometry.LineString(gdf1.geometry), style_function=lambda x:style1).add_to(m)\n",
    "folium.GeoJson(shapely.geometry.LineString(gdf2.geometry), style_function=lambda x:style2).add_to(m)\n",
    "\n",
    "folium.Marker([G.nodes[blocking]['Y'],G.nodes[blocking]['X']],\n",
    "          icon = folium.Icon(icon='times', color='red', prefix='fa'),\n",
    "          ).add_to(m)\n",
    "\n",
    "m"
   ]
  }
 ],
 "metadata": {
  "kernelspec": {
   "display_name": "Python 3",
   "language": "python",
   "name": "python3"
  },
  "language_info": {
   "codemirror_mode": {
    "name": "ipython",
    "version": 3
   },
   "file_extension": ".py",
   "mimetype": "text/x-python",
   "name": "python",
   "nbconvert_exporter": "python",
   "pygments_lexer": "ipython3",
   "version": "3.8.6"
  }
 },
 "nbformat": 4,
 "nbformat_minor": 4
}
