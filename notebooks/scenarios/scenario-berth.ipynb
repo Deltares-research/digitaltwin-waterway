{
 "cells": [
  {
   "cell_type": "markdown",
   "metadata": {},
   "source": [
    "# Digital Twin Fairways\n",
    "This notebook provides an example on how to use the digital twin backend. It runs a simulation based on fairway information system of the Netherlands. You can define sites (with cargo), climate conditions and ships. Ships will transport the goods from A to B."
   ]
  },
  {
   "cell_type": "code",
   "execution_count": 1,
   "metadata": {},
   "outputs": [],
   "source": [
    "import sys\n",
    "sys.path.append(r\"D:\\01. Projecten\\[130878] DTV vaarwegen\\digitaltwin-waterway\\dtv_backend\")\n",
    "\n",
    "import datetime\n",
    "\n",
    "import geojson\n",
    "import simpy\n",
    "import time\n",
    "import json\n",
    "import shapely\n",
    "import pandas as pd\n",
    "import networkx as nx\n",
    "from networkx.readwrite import json_graph\n",
    "\n",
    "# library to load the fairway information network\n",
    "import dtv_backend.fis\n",
    "# the simpy processes and objects\n",
    "import dtv_backend.simple\n",
    "import dtv_backend.network.network_utilities\n",
    "import dtv_backend.berthing\n",
    "\n",
    "# reload for debugging purposes\n",
    "%load_ext autoreload\n",
    "%autoreload 2"
   ]
  },
  {
   "cell_type": "markdown",
   "metadata": {},
   "source": [
    "### Input\n",
    "You can define your input in a json configuration file. The relevant parts are sites, fleet and climate."
   ]
  },
  {
   "cell_type": "code",
   "execution_count": 2,
   "metadata": {},
   "outputs": [],
   "source": [
    "# example input\n",
    "with open('../../dtv_backend/tests/test-berth/config.json') as f:\n",
    "    config = geojson.load(f)"
   ]
  },
  {
   "cell_type": "markdown",
   "metadata": {},
   "source": [
    "### Simulation environment\n",
    "Setup an simulation environment with a time that starts today. You can also choose a date in the past or future. Using the date 0 won't work on windows. "
   ]
  },
  {
   "cell_type": "code",
   "execution_count": 3,
   "metadata": {},
   "outputs": [],
   "source": [
    "# Initialize an environment with a real time\n",
    "now = datetime.datetime.now()\n",
    "initial_time = now.timestamp()\n",
    "env = simpy.Environment(initial_time=initial_time)\n",
    "env.epoch = now"
   ]
  },
  {
   "cell_type": "markdown",
   "metadata": {},
   "source": [
    "### Network\n",
    "Here we load the digital twin network. The topological fairway network derived from the Dutch Fairway Information System. The data is processed to be topological connected and usable for transport network analysis.  "
   ]
  },
  {
   "cell_type": "code",
   "execution_count": 4,
   "metadata": {},
   "outputs": [],
   "source": [
    "## TEMPORARILY LOAD LOCAL FILE ##\n",
    "def read_json_file(filename):\n",
    "    with open(filename) as f:\n",
    "        js_graph = json.load(f)\n",
    "    return json_graph.node_link_graph(js_graph)\n",
    "\n",
    "file = r\"D:\\01. Projecten\\[130878] DTV vaarwegen\\02. Data\\network_digital_twin_v0.3.json\"\n",
    "G = read_json_file(file)\n",
    "\n",
    "for n in G.nodes:\n",
    "    G.nodes[n]['geometry'] = shapely.geometry.Point(G.nodes[n]['X'], G.nodes[n]['Y'])\n",
    "for e in G.edges:\n",
    "    edge = G.edges[e]\n",
    "    edge['geometry'] = shapely.wkt.loads(edge['Wkt'])\n",
    "\n",
    "env.FG = G"
   ]
  },
  {
   "cell_type": "markdown",
   "metadata": {},
   "source": [
    "### Connect ports to simulation environment\n",
    "We have a few different entities defined. The port contains cargo and a crane. The crane can be used to load and unload cargo from ships. The site objects (later to be extended with sluices, stopping areas, etc) are geojson features. "
   ]
  },
  {
   "cell_type": "code",
   "execution_count": 5,
   "metadata": {},
   "outputs": [],
   "source": [
    "ports = []\n",
    "for site in config['sites']:\n",
    "    port = dtv_backend.simple.Port(env, **site['properties'], **site)\n",
    "    ports.append(port)"
   ]
  },
  {
   "cell_type": "markdown",
   "metadata": {},
   "source": [
    "### Connect ships to simulation environment\n",
    "The ships can also contain cargo. The ships can move over the graph. They are instances of the prototype ships from the Rijkswaterstaat ship dataset. You can have multiple copies of the same ship. All ships can work at the same time. "
   ]
  },
  {
   "cell_type": "code",
   "execution_count": 6,
   "metadata": {},
   "outputs": [],
   "source": [
    "ships = []\n",
    "for ship in config['fleet']:\n",
    "    kwargs = {}\n",
    "    kwargs.update(ship)\n",
    "    kwargs.update(ship['properties'])\n",
    "    # the ship needs to know about the climate\n",
    "    if 'climate' in config:\n",
    "        kwargs['climate'] = config['climate']\n",
    "    kwargs['shift_start_time'] = datetime.time(6, 0)\n",
    "    kwargs['shift_end_time'] = datetime.time(23, 0)\n",
    "    \n",
    "    # add the keywords for berthing\n",
    "    kwargs.update({'graph': env.FG,\n",
    "                   'berth_keyword': 'Berth',\n",
    "                   'edge_distance':'length_m'})\n",
    "    \n",
    "    ship = dtv_backend.simple.Ship(env, **kwargs)\n",
    "    ships.append(ship)"
   ]
  },
  {
   "cell_type": "markdown",
   "metadata": {},
   "source": [
    "# Example on Berthing"
   ]
  },
  {
   "cell_type": "markdown",
   "metadata": {},
   "source": [
    "## Select a ship and set a source and destination"
   ]
  },
  {
   "cell_type": "code",
   "execution_count": 7,
   "metadata": {},
   "outputs": [],
   "source": [
    "# define nodes for source and destination\n",
    "src = ports[0].node\n",
    "dst = ports[1].node\n",
    "\n",
    "# get a ship by means of example\n",
    "ship = ships[0]"
   ]
  },
  {
   "cell_type": "markdown",
   "metadata": {},
   "source": [
    "### Set some fixed parameters for berthing"
   ]
  },
  {
   "cell_type": "code",
   "execution_count": 8,
   "metadata": {},
   "outputs": [],
   "source": [
    "# the maximum deviation from the shortest path to look for berths\n",
    "max_distance = 1000 # meters"
   ]
  },
  {
   "cell_type": "code",
   "execution_count": 9,
   "metadata": {},
   "outputs": [
    {
     "data": {
      "text/plain": [
       "Timestamp('2022-05-14 06:00:00')"
      ]
     },
     "execution_count": 9,
     "metadata": {},
     "output_type": "execute_result"
    }
   ],
   "source": [
    "ship.sleep_if_off_duty()\n",
    "ship.next_on_duty\n",
    "#ship.next_off_duty"
   ]
  },
  {
   "cell_type": "markdown",
   "metadata": {},
   "source": [
    "## Make the ship travel from src to dst with berthing"
   ]
  },
  {
   "cell_type": "code",
   "execution_count": 16,
   "metadata": {},
   "outputs": [
    {
     "name": "stdout",
     "output_type": "stream",
     "text": [
      "Sailing from 22161408 to Berth229.\n",
      "Sailing from Berth229 to Berth299.\n",
      "Sailing from Berth299 to B17568_A.\n"
     ]
    }
   ],
   "source": [
    "ship.move_to(src)\n",
    "current_node = ship.node\n",
    "\n",
    "while current_node != dst:\n",
    "    # if we're not at the dst we must find the next berth (dst included)\n",
    "    next_berth = ship.find_berth(src_node=current_node,\n",
    "                                 dst_node=dst,\n",
    "                                 max_timestamp=ship.next_off_duty,\n",
    "                                 max_distance=max_distance,\n",
    "                                 mean_speed=ship.speed,\n",
    "                                 include_dst=True)\n",
    "    \n",
    "    # sail from current to next_berth\n",
    "    ship.move_to(next_berth)\n",
    "    print(f\"Sailing from {current_node} to {next_berth}.\")\n",
    "    \n",
    "    # once the berth is reached, wait until the next duty\n",
    "    ship.sleep_till_next_duty()\n",
    "    \n",
    "    # set current to berth to continue\n",
    "    current_node = next_berth\n",
    "    "
   ]
  }
 ],
 "metadata": {
  "kernelspec": {
   "display_name": "Python 3",
   "language": "python",
   "name": "python3"
  },
  "language_info": {
   "codemirror_mode": {
    "name": "ipython",
    "version": 3
   },
   "file_extension": ".py",
   "mimetype": "text/x-python",
   "name": "python",
   "nbconvert_exporter": "python",
   "pygments_lexer": "ipython3",
   "version": "3.8.6"
  }
 },
 "nbformat": 4,
 "nbformat_minor": 4
}
