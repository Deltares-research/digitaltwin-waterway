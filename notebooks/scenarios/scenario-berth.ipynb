{
 "cells": [
  {
   "cell_type": "markdown",
   "metadata": {},
   "source": [
    "# Digital Twin Fairways\n",
    "This notebook provides an example on how to use the digital twin backend. It runs a simulation based on fairway information system of the Netherlands. You can define sites (with cargo), climate conditions and ships. Ships will transport the goods from A to B."
   ]
  },
  {
   "cell_type": "code",
   "execution_count": 1,
   "metadata": {},
   "outputs": [],
   "source": [
    "import sys\n",
    "sys.path.append(r\"D:\\01. Projecten\\[130878] DTV vaarwegen\\digitaltwin-waterway\\dtv_backend\")\n",
    "\n",
    "import datetime\n",
    "\n",
    "import geojson\n",
    "import simpy\n",
    "import time\n",
    "import json\n",
    "import shapely\n",
    "import pandas as pd\n",
    "import networkx as nx\n",
    "from networkx.readwrite import json_graph\n",
    "\n",
    "# library to load the fairway information network\n",
    "import dtv_backend.fis\n",
    "# the simpy processes and objects\n",
    "import dtv_backend.simple\n",
    "import dtv_backend.network.network_utilities\n",
    "\n",
    "# reload for debugging purposes\n",
    "%load_ext autoreload\n",
    "%autoreload 2"
   ]
  },
  {
   "cell_type": "markdown",
   "metadata": {},
   "source": [
    "### Input\n",
    "You can define your input in a json configuration file. The relevant parts are sites, fleet and climate."
   ]
  },
  {
   "cell_type": "code",
   "execution_count": 2,
   "metadata": {},
   "outputs": [],
   "source": [
    "# example input\n",
    "with open('../../dtv_backend/tests/test-berth/config.json') as f:\n",
    "    config = geojson.load(f)"
   ]
  },
  {
   "cell_type": "markdown",
   "metadata": {},
   "source": [
    "### Simulation environment\n",
    "Setup an simulation environment with a time that starts today. You can also choose a date in the past or future. Using the date 0 won't work on windows. "
   ]
  },
  {
   "cell_type": "code",
   "execution_count": 3,
   "metadata": {},
   "outputs": [],
   "source": [
    "# Initialize an environment with a real time\n",
    "now = datetime.datetime.now()\n",
    "initial_time = now.timestamp()\n",
    "env = simpy.Environment(initial_time=initial_time)\n",
    "env.epoch = now"
   ]
  },
  {
   "cell_type": "markdown",
   "metadata": {},
   "source": [
    "### Network\n",
    "Here we load the digital twin network. The topological fairway network derived from the Dutch Fairway Information System. The data is processed to be topological connected and usable for transport network analysis.  "
   ]
  },
  {
   "cell_type": "code",
   "execution_count": 4,
   "metadata": {},
   "outputs": [],
   "source": [
    "## TEMPORARILY LOAD LOCAL FILE ##\n",
    "def read_json_file(filename):\n",
    "    with open(filename) as f:\n",
    "        js_graph = json.load(f)\n",
    "    return json_graph.node_link_graph(js_graph)\n",
    "\n",
    "file = r\"D:\\01. Projecten\\[130878] DTV vaarwegen\\02. Data\\network_digital_twin_v0.3.json\"\n",
    "G = read_json_file(file)\n",
    "\n",
    "for n in G.nodes:\n",
    "    G.nodes[n]['geometry'] = shapely.geometry.Point(G.nodes[n]['X'], G.nodes[n]['Y'])\n",
    "for e in G.edges:\n",
    "    edge = G.edges[e]\n",
    "    edge['geometry'] = shapely.wkt.loads(edge['Wkt'])\n",
    "\n",
    "env.FG = G"
   ]
  },
  {
   "cell_type": "markdown",
   "metadata": {},
   "source": [
    "### Connect ports to simulation environment\n",
    "We have a few different entities defined. The port contains cargo and a crane. The crane can be used to load and unload cargo from ships. The site objects (later to be extended with sluices, stopping areas, etc) are geojson features. "
   ]
  },
  {
   "cell_type": "code",
   "execution_count": 5,
   "metadata": {},
   "outputs": [],
   "source": [
    "ports = []\n",
    "for site in config['sites']:\n",
    "    port = dtv_backend.simple.Port(env, **site['properties'], **site)\n",
    "    ports.append(port)"
   ]
  },
  {
   "cell_type": "markdown",
   "metadata": {},
   "source": [
    "## Connect ships to simulation environment\n",
    "The ships can also contain cargo. The ships can move over the graph. They are instances of the prototype ships from the Rijkswaterstaat ship dataset. You can have multiple copies of the same ship. All ships can work at the same time. "
   ]
  },
  {
   "cell_type": "code",
   "execution_count": 6,
   "metadata": {},
   "outputs": [],
   "source": [
    "ships = []\n",
    "for ship in config['fleet']:\n",
    "    kwargs = {}\n",
    "    kwargs.update(ship)\n",
    "    kwargs.update(ship['properties'])\n",
    "    # the ship needs to know about the climate\n",
    "    if 'climate' in config:\n",
    "        kwargs['climate'] = config['climate']\n",
    "    ship = dtv_backend.simple.Ship(env, **kwargs)\n",
    "    ships.append(ship)"
   ]
  },
  {
   "cell_type": "markdown",
   "metadata": {},
   "source": [
    "# Definition of functions\n",
    "\n",
    "This section defined functions to select berth places on a given route from source to destination."
   ]
  },
  {
   "cell_type": "code",
   "execution_count": 7,
   "metadata": {},
   "outputs": [],
   "source": [
    "# relevant imports for functions\n",
    "import datetime\n",
    "import pandas as pd\n",
    "import networkx as nx\n",
    "\n",
    "import dtv_backend"
   ]
  },
  {
   "cell_type": "code",
   "execution_count": 8,
   "metadata": {},
   "outputs": [],
   "source": [
    "def compute_path_length(graph, path, key='length_m'):\n",
    "    \"\"\" aux fcn to compute distance of a path \"\"\"\n",
    "    total_distance = 0\n",
    "    for e in zip(path[:-1], path[1:]):\n",
    "        edge_distance = graph.edges[e][key]\n",
    "        total_distance += edge_distance\n",
    "    return total_distance"
   ]
  },
  {
   "cell_type": "markdown",
   "metadata": {},
   "source": [
    "### Find berths on a route"
   ]
  },
  {
   "cell_type": "code",
   "execution_count": 9,
   "metadata": {},
   "outputs": [],
   "source": [
    "class BerthFinder:\n",
    "    \"\"\"\n",
    "    Class to find berths on a route.\n",
    "    \"\"\"\n",
    "    def __init__(self, env, graph, src_node, dst_node, keyword='Berth', distance='length_m'):\n",
    "        \"\"\"\n",
    "        Initialize with a graph, a path from source to destination, the keyword\n",
    "        to identify berth nodes in the graph\n",
    "        \"\"\"\n",
    "        self.env = env\n",
    "        self.graph = graph\n",
    "        self.src_node = src_node\n",
    "        self.dst_node = dst_node\n",
    "        self.path = self.find_path(src_node, dst_node)\n",
    "        \n",
    "        self.keyword = keyword\n",
    "        self.distance = distance\n",
    "    \n",
    "    @property\n",
    "    def time_now(self) -> datetime.datetime:\n",
    "        \"\"\"get the current time from the environment\"\"\"\n",
    "        return datetime.datetime.fromtimestamp(self.env.now)\n",
    "    \n",
    "    def find_path(self, src, dst):\n",
    "        \"\"\"finds a path from src to dst on the given graph\"\"\"\n",
    "        return dtv_backend.fis.shorted_path(self.graph, src, dst)\n",
    "        \n",
    "    def find_berths_near_route(self, max_distance=1000):\n",
    "        \"\"\"\n",
    "        Looks for berth places within a given distance from a given path on a \n",
    "        graph. \n",
    "        \"\"\"\n",
    "        # capture berths in a set\n",
    "        berths = set()\n",
    "        \n",
    "        # loop the nodes in the path\n",
    "        for node in self.path:\n",
    "            # generate a subgraph within given distance of the node\n",
    "            new_graph = nx.generators.ego_graph(self.graph,\n",
    "                                                node,\n",
    "                                                radius=max_distance,\n",
    "                                                distance=self.distance)\n",
    "            # look for berths\n",
    "            candidate_berths = [n for n in new_graph.nodes if n.startswith(self.keyword)]\n",
    "            berths = berths.union(set(candidate_berths))\n",
    "        \n",
    "        return list(berths)\n",
    "\n",
    "    def compute_eta_per_berth(self, berth_nodes, mean_speed):\n",
    "        \"\"\"\n",
    "        Computes a speed-based estimated time of arrival for a given set of \n",
    "        berths on a route from source to destination, on a graph.\n",
    "        \"\"\"\n",
    "        # define a set of candicate nodes\n",
    "        candidate_nodes = berth_nodes + [self.dst_node]\n",
    "        \n",
    "        # compute the ETA of all candidate nodes from the current node\n",
    "        rows = []\n",
    "        for berth in candidate_nodes:\n",
    "            # get the path from src_node to berth and compute distance and speed-based duration\n",
    "            path_src_to_node = self.find_path(self.src_node, berth)\n",
    "            distance_src_to_node = compute_path_length(self.graph, path_src_to_node)\n",
    "            duration_src_to_node = distance_src_to_node / mean_speed\n",
    "            \n",
    "            # compute the distance from berth to destination\n",
    "            path_node_to_dst = self.find_path(berth, self.dst_node)\n",
    "            distance_node_to_dst = compute_path_length(self.graph, path_node_to_dst)\n",
    "            \n",
    "            # define a row to add to rows\n",
    "            row = {'berth': berth,\n",
    "                   'distance from src': distance_src_to_node,\n",
    "                   'duration from src': duration_src_to_node,\n",
    "                   'eta': self.time_now + datetime.timedelta(seconds=duration_src_to_node),\n",
    "                   'distance to dst': distance_node_to_dst}\n",
    "            \n",
    "            # add the row\n",
    "            rows.append(row)\n",
    "        \n",
    "        # convert to dataframe\n",
    "        df = pd.DataFrame(rows)\n",
    "        \n",
    "        # compute the distance of the direct path from src to dst\n",
    "        direct_path = self.find_path(self.src_node, self.dst_node)\n",
    "        direct_distance = compute_path_length(self.graph, direct_path)\n",
    "        \n",
    "        # remove berths which take us away from the destination\n",
    "        df = df.loc[df['distance to dst']<=direct_distance]\n",
    "        \n",
    "        return df\n",
    "    \n",
    "    def find_best_berth(self, df, max_timestamp):\n",
    "        \"\"\"\n",
    "        Selects the 'best berth' based on the output of self.compute_eta_per_berth\n",
    "        \"\"\"\n",
    "        df['feasible'] = df['eta'] <= max_timestamp\n",
    "        \n",
    "        # get the berth which minimizes the distance to the destination\n",
    "        if sum(df['feasible']) == 0:\n",
    "            # select the one in minimal time?\n",
    "            next_berth = df.loc[df['eta'].idxmin(), 'berth']\n",
    "        else:\n",
    "            df_feas = df.loc[df['feasible']]\n",
    "            next_berth = df_feas.loc[df_feas['distance to dst'].idxmin(), 'berth']\n",
    "        \n",
    "        return next_berth\n",
    "    \n",
    "    def next_berth(self, max_timestamp, mean_speed, max_distance):\n",
    "        \"\"\"return the next berth\"\"\"\n",
    "        berths = self.find_berths_near_route(max_distance=max_distance)\n",
    "        eta = berth_finder.compute_eta_per_berth(berth_nodes=berths,\n",
    "                                                 mean_speed=mean_speed)\n",
    "        berth = self.find_best_berth(df=eta,\n",
    "                                     max_timestamp=max_timestamp)\n",
    "        \n",
    "        return berth"
   ]
  },
  {
   "cell_type": "markdown",
   "metadata": {},
   "source": [
    "### Remove Berths which require additional lock passings"
   ]
  },
  {
   "cell_type": "code",
   "execution_count": 10,
   "metadata": {},
   "outputs": [],
   "source": [
    "#TODO: add to class"
   ]
  },
  {
   "cell_type": "markdown",
   "metadata": {},
   "source": [
    "### Remove Berths for which dimensions do not comply"
   ]
  },
  {
   "cell_type": "code",
   "execution_count": 11,
   "metadata": {},
   "outputs": [],
   "source": [
    "#TODO: add to class"
   ]
  },
  {
   "cell_type": "markdown",
   "metadata": {},
   "source": [
    "## Route from src to dst"
   ]
  },
  {
   "cell_type": "code",
   "execution_count": 12,
   "metadata": {},
   "outputs": [],
   "source": [
    "# define nodes for source and destination\n",
    "src = ports[0].node\n",
    "dst = ports[1].node"
   ]
  },
  {
   "cell_type": "markdown",
   "metadata": {},
   "source": [
    "## Find berths within given distance from route"
   ]
  },
  {
   "cell_type": "code",
   "execution_count": 13,
   "metadata": {},
   "outputs": [],
   "source": [
    "berth_finder = BerthFinder(env, env.FG, src, dst)\n",
    "\n",
    "max_timestamp = datetime.datetime(2022, 5, 5, 22, 0) #dummy\n",
    "b = berth_finder.next_berth(max_timestamp,\n",
    "                            mean_speed=3,\n",
    "                            max_distance=1000)"
   ]
  },
  {
   "cell_type": "code",
   "execution_count": 14,
   "metadata": {},
   "outputs": [
    {
     "data": {
      "text/plain": [
       "'Berth229'"
      ]
     },
     "execution_count": 14,
     "metadata": {},
     "output_type": "execute_result"
    }
   ],
   "source": [
    "b"
   ]
  },
  {
   "cell_type": "code",
   "execution_count": null,
   "metadata": {},
   "outputs": [],
   "source": []
  }
 ],
 "metadata": {
  "kernelspec": {
   "display_name": "Python 3",
   "language": "python",
   "name": "python3"
  },
  "language_info": {
   "codemirror_mode": {
    "name": "ipython",
    "version": 3
   },
   "file_extension": ".py",
   "mimetype": "text/x-python",
   "name": "python",
   "nbconvert_exporter": "python",
   "pygments_lexer": "ipython3",
   "version": "3.8.6"
  }
 },
 "nbformat": 4,
 "nbformat_minor": 4
}
