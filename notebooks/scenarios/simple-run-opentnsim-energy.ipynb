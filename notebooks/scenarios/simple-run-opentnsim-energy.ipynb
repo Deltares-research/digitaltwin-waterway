{
 "cells": [
  {
   "cell_type": "markdown",
   "metadata": {},
   "source": [
    "# Digital Twin Fairways\n",
    "WIP to use the OpenTNSim engine"
   ]
  },
  {
   "cell_type": "code",
   "execution_count": 1,
   "metadata": {},
   "outputs": [
    {
     "name": "stderr",
     "output_type": "stream",
     "text": [
      "/Users/baart_f/.virtualenvs/main/lib/python3.9/site-packages/geopandas/_compat.py:111: UserWarning:\n",
      "\n",
      "The Shapely GEOS version (3.10.2-CAPI-1.16.0) is incompatible with the GEOS version PyGEOS was compiled with (3.10.1-CAPI-1.16.0). Conversions between both will be slow.\n",
      "\n"
     ]
    }
   ],
   "source": [
    "import datetime\n",
    "import json\n",
    "import logging\n",
    "import time\n",
    "\n",
    "import dtv_backend.berthing\n",
    "\n",
    "# the simpy processes and objects\n",
    "import dtv_backend.compat\n",
    "\n",
    "# library to load the fairway information network\n",
    "import dtv_backend.fis\n",
    "import dtv_backend.network\n",
    "import dtv_backend.network.network_utilities\n",
    "import dtv_backend.postprocessing\n",
    "import dtv_backend.simple\n",
    "import dtv_backend.simulate\n",
    "import geojson\n",
    "import networkx as nx\n",
    "import pandas as pd\n",
    "import shapely\n",
    "import simpy\n",
    "from networkx.readwrite import json_graph\n",
    "\n",
    "# opentnsim import\n",
    "from opentnsim import core\n",
    "\n",
    "# reload for debugging purposes\n",
    "%load_ext autoreload\n",
    "%autoreload 2\n",
    "\n",
    "logger = logging.getLogger(\"notebook\")"
   ]
  },
  {
   "cell_type": "markdown",
   "metadata": {},
   "source": [
    "### Input\n",
    "You can define your input in a json configuration file. The relevant parts are sites, fleet and climate."
   ]
  },
  {
   "cell_type": "code",
   "execution_count": 2,
   "metadata": {},
   "outputs": [],
   "source": [
    "# example input\n",
    "with open(\"../../dtv_backend/tests/user/2022-09-05.geojson\") as f:\n",
    "    config = geojson.load(f)"
   ]
  },
  {
   "cell_type": "code",
   "execution_count": 3,
   "metadata": {},
   "outputs": [
    {
     "name": "stdout",
     "output_type": "stream",
     "text": [
      "CEMT-class\n",
      "RWS-class\n",
      "Vessel type\n",
      "Description (English)\n",
      "Description (Dutch)\n",
      "Beam [m]\n",
      "Beam 10% percentile [m]\n",
      "Beam 50% percentile [m]\n",
      "Beam 90% percentile [m]\n",
      "Length [m]\n",
      "Length 10% percentile [m]\n",
      "Length 50% percentile [m]\n",
      "Length 90% percentile [m]\n",
      "Draught loaded [m]\n",
      "Draught average [m]\n",
      "Draught empty [m]\n",
      "Height average [m]\n",
      "Load Weight average [ton]\n",
      "Load weight maximum [ton]\n",
      "speed\n",
      "image\n",
      "capacity\n",
      "name\n",
      "count\n",
      "Velocity [m/s]\n",
      "Engine power maximum [kW]\n"
     ]
    }
   ],
   "source": [
    "print(\"\\n\".join(config['fleet'][0]['properties'].keys()))"
   ]
  },
  {
   "cell_type": "markdown",
   "metadata": {},
   "source": [
    "### Simulate with ``v3_run``"
   ]
  },
  {
   "cell_type": "code",
   "execution_count": 4,
   "metadata": {
    "tags": []
   },
   "outputs": [],
   "source": [
    "def v3_run(config):\n",
    "    \"\"\"run a simulation using the opentnsim compatibility kernel\"\"\"\n",
    "    logger.info(\"Running simulation 👩‍💻\")\n",
    "    # Run for n days\n",
    "\n",
    "    env = dtv_backend.simulate.create_env(config)\n",
    "    ports = dtv_backend.simulate.create_ports(env, config)\n",
    "    ships = dtv_backend.simulate.create_ships(env, config)\n",
    "    operator = dtv_backend.simulate.create_operator(env, ships, ports, config)\n",
    "\n",
    "    n_days = 60\n",
    "    n_days_in_future = env.epoch + datetime.timedelta(days=n_days)\n",
    "    env.run(until=n_days_in_future.timestamp())\n",
    "    result = {\n",
    "        \"env\": env,\n",
    "        \"operator\": operator,\n",
    "        \"ships\": ships,\n",
    "        \"config\": config,\n",
    "        \"ports\": ports,\n",
    "    }\n",
    "\n",
    "    return result\n"
   ]
  },
  {
   "cell_type": "code",
   "execution_count": 5,
   "metadata": {},
   "outputs": [],
   "source": [
    "def v3_dtv_backend_simulate(config):\n",
    "    result = v3_run(config)\n",
    "    env = result['env']\n",
    "    logbook = result['operator'].logbook\n",
    "    log_df = pd.DataFrame(logbook)\n",
    "    log_json = dtv_backend.postprocessing.log2json(log_df)\n",
    "    \n",
    "    response = {\n",
    "        \"log\": log_json,\n",
    "        \"config\": config,\n",
    "        \"env\": {\n",
    "            \"epoch\": env.epoch.timestamp(),\n",
    "            \"epoch_iso\": env.epoch.isoformat(),\n",
    "            \"now\": env.epoch,\n",
    "            \"now_iso\": datetime.datetime.fromtimestamp(env.now).isoformat(),\n",
    "        },\n",
    "    }\n",
    "    return response\n",
    "    "
   ]
  },
  {
   "cell_type": "code",
   "execution_count": 6,
   "metadata": {},
   "outputs": [
    {
     "name": "stderr",
     "output_type": "stream",
     "text": [
      "/Users/baart_f/src/digitaltwin-waterway/dtv_backend/dtv_backend/fis.py:118: ShapelyDeprecationWarning:\n",
      "\n",
      "The array interface is deprecated and will no longer work in Shapely 2.0. Convert the '.coords' to a numpy array instead.\n",
      "\n"
     ]
    },
    {
     "ename": "AssertionError",
     "evalue": "",
     "output_type": "error",
     "traceback": [
      "\u001b[0;31m---------------------------------------------------------------------------\u001b[0m",
      "\u001b[0;31mAssertionError\u001b[0m                            Traceback (most recent call last)",
      "File \u001b[0;32m~/src/digitaltwin-waterway/dtv_backend/dtv_backend/compat.py:47\u001b[0m, in \u001b[0;36mCanWork.work_for\u001b[0;34m(self, operator, with_berth)\u001b[0m\n\u001b[1;32m     44\u001b[0m \u001b[38;5;66;03m# TODO: consider notifying the operator on progress\u001b[39;00m\n\u001b[1;32m     45\u001b[0m \u001b[38;5;66;03m# Notify operator of load changes so extra tasks can be planned\u001b[39;00m\n\u001b[1;32m     46\u001b[0m \u001b[38;5;66;03m# operator.send_message() or something...\u001b[39;00m\n\u001b[0;32m---> 47\u001b[0m \u001b[38;5;28;01myield from\u001b[39;00m \u001b[38;5;28mself\u001b[39m\u001b[38;5;241m.\u001b[39mload_move_unload(\n\u001b[1;32m     48\u001b[0m     source, destination, max_load, with_berth\u001b[38;5;241m=\u001b[39mwith_berth\n\u001b[1;32m     49\u001b[0m )\n",
      "File \u001b[0;32m~/src/digitaltwin-waterway/dtv_backend/dtv_backend/compat.py:101\u001b[0m, in \u001b[0;36mCanWork.load_move_unload\u001b[0;34m(self, source, destination, max_load, with_berth)\u001b[0m\n\u001b[1;32m    100\u001b[0m \u001b[38;5;28;01mif\u001b[39;00m \u001b[38;5;129;01mnot\u001b[39;00m with_berth:\n\u001b[0;32m--> 101\u001b[0m     \u001b[38;5;28;01myield from\u001b[39;00m \u001b[38;5;28mself\u001b[39m\u001b[38;5;241m.\u001b[39mmove_to(source)\n\u001b[1;32m    102\u001b[0m \u001b[38;5;28;01melse\u001b[39;00m:\n",
      "File \u001b[0;32m~/src/digitaltwin-waterway/dtv_backend/dtv_backend/compat.py:122\u001b[0m, in \u001b[0;36mCanWork.move_to\u001b[0;34m(self, destination, limited)\u001b[0m\n\u001b[1;32m    120\u001b[0m \u001b[38;5;124;03m\"\"\"Move ship to location\"\"\"\u001b[39;00m\n\u001b[0;32m--> 122\u001b[0m \u001b[38;5;28;01massert\u001b[39;00m \u001b[38;5;28;01mFalse\u001b[39;00m\n\u001b[1;32m    123\u001b[0m graph \u001b[38;5;241m=\u001b[39m \u001b[38;5;28mself\u001b[39m\u001b[38;5;241m.\u001b[39menv\u001b[38;5;241m.\u001b[39mFG\n",
      "\u001b[0;31mAssertionError\u001b[0m: ",
      "\nThe above exception was the direct cause of the following exception:\n",
      "\u001b[0;31mAssertionError\u001b[0m                            Traceback (most recent call last)",
      "Input \u001b[0;32mIn [6]\u001b[0m, in \u001b[0;36m<module>\u001b[0;34m\u001b[0m\n\u001b[0;32m----> 1\u001b[0m resp \u001b[38;5;241m=\u001b[39m \u001b[43mv3_dtv_backend_simulate\u001b[49m\u001b[43m(\u001b[49m\u001b[43mconfig\u001b[49m\u001b[43m)\u001b[49m\n",
      "Input \u001b[0;32mIn [5]\u001b[0m, in \u001b[0;36mv3_dtv_backend_simulate\u001b[0;34m(config)\u001b[0m\n\u001b[1;32m      1\u001b[0m \u001b[38;5;28;01mdef\u001b[39;00m \u001b[38;5;21mv3_dtv_backend_simulate\u001b[39m(config):\n\u001b[0;32m----> 2\u001b[0m     result \u001b[38;5;241m=\u001b[39m \u001b[43mv3_run\u001b[49m\u001b[43m(\u001b[49m\u001b[43mconfig\u001b[49m\u001b[43m)\u001b[49m\n\u001b[1;32m      3\u001b[0m     env \u001b[38;5;241m=\u001b[39m result[\u001b[38;5;124m'\u001b[39m\u001b[38;5;124menv\u001b[39m\u001b[38;5;124m'\u001b[39m]\n\u001b[1;32m      4\u001b[0m     logbook \u001b[38;5;241m=\u001b[39m result[\u001b[38;5;124m'\u001b[39m\u001b[38;5;124moperator\u001b[39m\u001b[38;5;124m'\u001b[39m]\u001b[38;5;241m.\u001b[39mlogbook\n",
      "Input \u001b[0;32mIn [4]\u001b[0m, in \u001b[0;36mv3_run\u001b[0;34m(config)\u001b[0m\n\u001b[1;32m     11\u001b[0m n_days \u001b[38;5;241m=\u001b[39m \u001b[38;5;241m60\u001b[39m\n\u001b[1;32m     12\u001b[0m n_days_in_future \u001b[38;5;241m=\u001b[39m env\u001b[38;5;241m.\u001b[39mepoch \u001b[38;5;241m+\u001b[39m datetime\u001b[38;5;241m.\u001b[39mtimedelta(days\u001b[38;5;241m=\u001b[39mn_days)\n\u001b[0;32m---> 13\u001b[0m \u001b[43menv\u001b[49m\u001b[38;5;241;43m.\u001b[39;49m\u001b[43mrun\u001b[49m\u001b[43m(\u001b[49m\u001b[43muntil\u001b[49m\u001b[38;5;241;43m=\u001b[39;49m\u001b[43mn_days_in_future\u001b[49m\u001b[38;5;241;43m.\u001b[39;49m\u001b[43mtimestamp\u001b[49m\u001b[43m(\u001b[49m\u001b[43m)\u001b[49m\u001b[43m)\u001b[49m\n\u001b[1;32m     14\u001b[0m result \u001b[38;5;241m=\u001b[39m {\n\u001b[1;32m     15\u001b[0m     \u001b[38;5;124m\"\u001b[39m\u001b[38;5;124menv\u001b[39m\u001b[38;5;124m\"\u001b[39m: env,\n\u001b[1;32m     16\u001b[0m     \u001b[38;5;124m\"\u001b[39m\u001b[38;5;124moperator\u001b[39m\u001b[38;5;124m\"\u001b[39m: operator,\n\u001b[0;32m   (...)\u001b[0m\n\u001b[1;32m     19\u001b[0m     \u001b[38;5;124m\"\u001b[39m\u001b[38;5;124mports\u001b[39m\u001b[38;5;124m\"\u001b[39m: ports,\n\u001b[1;32m     20\u001b[0m }\n\u001b[1;32m     22\u001b[0m \u001b[38;5;28;01mreturn\u001b[39;00m result\n",
      "File \u001b[0;32m~/.virtualenvs/main/lib/python3.9/site-packages/simpy/core.py:254\u001b[0m, in \u001b[0;36mEnvironment.run\u001b[0;34m(self, until)\u001b[0m\n\u001b[1;32m    252\u001b[0m \u001b[38;5;28;01mtry\u001b[39;00m:\n\u001b[1;32m    253\u001b[0m     \u001b[38;5;28;01mwhile\u001b[39;00m \u001b[38;5;28;01mTrue\u001b[39;00m:\n\u001b[0;32m--> 254\u001b[0m         \u001b[38;5;28;43mself\u001b[39;49m\u001b[38;5;241;43m.\u001b[39;49m\u001b[43mstep\u001b[49m\u001b[43m(\u001b[49m\u001b[43m)\u001b[49m\n\u001b[1;32m    255\u001b[0m \u001b[38;5;28;01mexcept\u001b[39;00m StopSimulation \u001b[38;5;28;01mas\u001b[39;00m exc:\n\u001b[1;32m    256\u001b[0m     \u001b[38;5;28;01mreturn\u001b[39;00m exc\u001b[38;5;241m.\u001b[39margs[\u001b[38;5;241m0\u001b[39m]  \u001b[38;5;66;03m# == until.value\u001b[39;00m\n",
      "File \u001b[0;32m~/.virtualenvs/main/lib/python3.9/site-packages/simpy/core.py:206\u001b[0m, in \u001b[0;36mEnvironment.step\u001b[0;34m(self)\u001b[0m\n\u001b[1;32m    204\u001b[0m exc \u001b[38;5;241m=\u001b[39m \u001b[38;5;28mtype\u001b[39m(event\u001b[38;5;241m.\u001b[39m_value)(\u001b[38;5;241m*\u001b[39mevent\u001b[38;5;241m.\u001b[39m_value\u001b[38;5;241m.\u001b[39margs)\n\u001b[1;32m    205\u001b[0m exc\u001b[38;5;241m.\u001b[39m__cause__ \u001b[38;5;241m=\u001b[39m event\u001b[38;5;241m.\u001b[39m_value\n\u001b[0;32m--> 206\u001b[0m \u001b[38;5;28;01mraise\u001b[39;00m exc\n",
      "\u001b[0;31mAssertionError\u001b[0m: "
     ]
    }
   ],
   "source": [
    "resp = v3_dtv_backend_simulate(config)"
   ]
  },
  {
   "cell_type": "code",
   "execution_count": null,
   "metadata": {},
   "outputs": [],
   "source": []
  }
 ],
 "metadata": {
  "kernelspec": {
   "display_name": "Python 3 (ipykernel)",
   "language": "python",
   "name": "python3"
  },
  "language_info": {
   "codemirror_mode": {
    "name": "ipython",
    "version": 3
   },
   "file_extension": ".py",
   "mimetype": "text/x-python",
   "name": "python",
   "nbconvert_exporter": "python",
   "pygments_lexer": "ipython3",
   "version": "3.9.13"
  }
 },
 "nbformat": 4,
 "nbformat_minor": 4
}
