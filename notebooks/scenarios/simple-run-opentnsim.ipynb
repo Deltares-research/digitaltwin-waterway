{
 "cells": [
  {
   "cell_type": "markdown",
   "metadata": {},
   "source": [
    "# Digital Twin Fairways\n",
    "WIP to use the OpenTNSim engine"
   ]
  },
  {
   "cell_type": "code",
   "execution_count": 1,
   "metadata": {},
   "outputs": [],
   "source": [
    "import sys\n",
    "sys.path.append(r\"D:\\01. Projecten\\[130878] DTV vaarwegen\\digitaltwin-waterway\\dtv_backend\")\n",
    "sys.path.append(r\"D:\\02. Tools\\OpenTNSim\")\n",
    "\n",
    "import datetime\n",
    "\n",
    "import logging\n",
    "import geojson\n",
    "import simpy\n",
    "import time\n",
    "import json\n",
    "import shapely\n",
    "import pandas as pd\n",
    "import networkx as nx\n",
    "from networkx.readwrite import json_graph\n",
    "\n",
    "# opentnsim import\n",
    "from opentnsim import core\n",
    "\n",
    "# library to load the fairway information network\n",
    "import dtv_backend.fis\n",
    "# the simpy processes and objects\n",
    "import dtv_backend.simple\n",
    "import dtv_backend.network\n",
    "import dtv_backend.network.network_utilities\n",
    "import dtv_backend.berthing\n",
    "import dtv_backend.simulate\n",
    "import dtv_backend.postprocessing\n",
    "\n",
    "# reload for debugging purposes\n",
    "%load_ext autoreload\n",
    "%autoreload 2"
   ]
  },
  {
   "cell_type": "markdown",
   "metadata": {},
   "source": [
    "### Input\n",
    "You can define your input in a json configuration file. The relevant parts are sites, fleet and climate."
   ]
  },
  {
   "cell_type": "code",
   "execution_count": 2,
   "metadata": {},
   "outputs": [],
   "source": [
    "# example input\n",
    "with open('config.geojson') as f:\n",
    "    config = geojson.load(f)"
   ]
  },
  {
   "cell_type": "markdown",
   "metadata": {},
   "source": [
    "### Fixed content"
   ]
  },
  {
   "cell_type": "code",
   "execution_count": 14,
   "metadata": {},
   "outputs": [],
   "source": [
    "class CanWork(dtv_backend.berthing.CanBerth):\n",
    "    \"\"\"WIP\"\"\"\n",
    "    \n",
    "    def __init__(self, *args, **kwargs):\n",
    "        \"\"\"Initialize\"\"\"\n",
    "        #print(super().__init__)\n",
    "        super().__init__(*args, **kwargs)\n",
    "    \n",
    "    def work_for(self, operator, with_berth=False):\n",
    "        \"\"\"Work for an operator by listening to tasks\"\"\"\n",
    "        while True:\n",
    "            # Get event for message pipe\n",
    "            task = yield operator.get_task()\n",
    "            # Where to get the cargo\n",
    "            source = task.get(\"source\")\n",
    "            # Where to take it\n",
    "            destination = task.get(\"destination\")\n",
    "            # How much\n",
    "            max_load = task.get(\"max_load\")\n",
    "\n",
    "            # TODO: consider notifying the operator on progress\n",
    "            # Notify operator of load changes so extra tasks can be planned\n",
    "            # operator.send_message() or something...\n",
    "            yield from self.load_move_unload(\n",
    "                source, destination, max_load, with_berth=with_berth\n",
    "            )\n",
    "    \n",
    "    def load_move_unload(self, source, destination, max_load=None, with_berth=False):\n",
    "        \"\"\"do a full A to B cycle\"\"\"\n",
    "        with self.log_context(message=\"Cycle\", description=\"Load move unload cycle\"):\n",
    "            # Don't sail to empty source\n",
    "            if source.container.level <= 0:\n",
    "                return\n",
    "\n",
    "            if not with_berth:\n",
    "                yield from self.move_to(source)\n",
    "            else:\n",
    "                yield from self.move_to_with_berth(source)\n",
    "\n",
    "            # determine what the cargo to take\n",
    "            cargo_for_trip = self.container.capacity\n",
    "            yield from self.load_at(source, cargo_for_trip)\n",
    "\n",
    "            # Don't sail empty\n",
    "            if self.container.level <= 0:\n",
    "                return\n",
    "\n",
    "            if not with_berth:\n",
    "                yield from self.move_to(destination)\n",
    "            else:\n",
    "                yield from self.move_to_with_berth(destination)\n",
    "            yield from self.unload_at(destination)"
   ]
  },
  {
   "cell_type": "code",
   "execution_count": 15,
   "metadata": {},
   "outputs": [],
   "source": [
    "Port = type('Port', (core.Identifiable, core.HasResource, core.HasContainer, core.ExtraMetadata), {})"
   ]
  },
  {
   "cell_type": "code",
   "execution_count": 16,
   "metadata": {},
   "outputs": [],
   "source": [
    "Ship = type('Ship', (CanWork, dtv_backend.berthing.CanBerth, core.Identifiable, core.HasContainer, core.Movable, core.Locatable, core.ExtraMetadata), {})"
   ]
  },
  {
   "cell_type": "markdown",
   "metadata": {},
   "source": [
    "### What is to be v3_run"
   ]
  },
  {
   "cell_type": "code",
   "execution_count": 17,
   "metadata": {},
   "outputs": [],
   "source": [
    "# always start at now\n",
    "now = datetime.datetime.now()\n",
    "initial_time = now.timestamp()\n",
    "env = simpy.Environment(initial_time=initial_time)\n",
    "env.epoch = now\n",
    "\n",
    "# default no berth\n",
    "with_berth = config.get(\"options\", {}).get(\"with_berth\", False)\n",
    "\n",
    "# read the network from google for performance reasons\n",
    "url = \"https://zenodo.org/record/6673604/files/network_digital_twin_v0.3.pickle?download=1\"\n",
    "G = dtv_backend.fis.load_fis_network(url)\n",
    "env.FG = G"
   ]
  },
  {
   "cell_type": "code",
   "execution_count": 18,
   "metadata": {},
   "outputs": [],
   "source": [
    "# ports\n",
    "#logger.info(\"Loading ports ⚓\")\n",
    "ports = []\n",
    "for site in config[\"sites\"]:\n",
    "    #port = dtv_backend.simple.Port(env, **site[\"properties\"], **site)\n",
    "    port  = Port(env=env, **site[\"properties\"], **site)\n",
    "    ports.append(port)"
   ]
  },
  {
   "cell_type": "code",
   "execution_count": 19,
   "metadata": {},
   "outputs": [
    {
     "data": {
      "text/plain": [
       "{'Wkt': 'POINT (4.9348192175000651 52.0388091591562372)',\n",
       " 'X': 4.934819217500065,\n",
       " 'Y': 52.03880915915624,\n",
       " 'n': 'B21778_B',\n",
       " 'name': 'B21778_B',\n",
       " 'cargoType': 'Dry Bulk',\n",
       " 'capacity': 10000,\n",
       " 'level': 10000,\n",
       " 'loadingRate': 198,\n",
       " 'loadingRateVariation': 102}"
      ]
     },
     "execution_count": 19,
     "metadata": {},
     "output_type": "execute_result"
    }
   ],
   "source": [
    "site['properties']"
   ]
  },
  {
   "cell_type": "code",
   "execution_count": 20,
   "metadata": {},
   "outputs": [],
   "source": [
    "# ships\n",
    "#logger.info(\"Loading ships 🚢\")\n",
    "ships = []\n",
    "for ship in config[\"fleet\"]:\n",
    "    kwargs = {}\n",
    "    kwargs.update(ship)\n",
    "    kwargs.update(ship[\"properties\"])\n",
    "    kwargs['v'] = 3\n",
    "    kwargs['route'] = [feature['properties']['n'] for feature in config['route']]\n",
    "    # the ship needs to know about the climate\n",
    "    if \"climate\" in config:\n",
    "        kwargs[\"climate\"] = config[\"climate\"]\n",
    "    #ship = dtv_backend.simple.Ship(env, **kwargs)\n",
    "    ship = Ship(env=env, **kwargs)\n",
    "    ships.append(ship)"
   ]
  },
  {
   "cell_type": "code",
   "execution_count": 21,
   "metadata": {},
   "outputs": [],
   "source": [
    "route = [feature['properties']['n'] for feature in config['route']]"
   ]
  },
  {
   "cell_type": "code",
   "execution_count": 22,
   "metadata": {},
   "outputs": [
    {
     "data": {
      "text/plain": [
       "{'metadata': {'type': 'Feature',\n",
       "  'properties': {'CEMT-class': 'Va',\n",
       "   'RWS-class': 'M8',\n",
       "   'Vessel type': 'Motorvessel',\n",
       "   'Description (English)': 'Large Rhine vessel',\n",
       "   'Description (Dutch)': 'Groot Rijnschip',\n",
       "   'Beam [m]': 11.4,\n",
       "   'Beam 10% percentile [m]': 10.6,\n",
       "   'Beam 50% percentile [m]': 11.45,\n",
       "   'Beam 90% percentile [m]': 11.45,\n",
       "   'Length [m]': 110,\n",
       "   'Length 10% percentile [m]': 93,\n",
       "   'Length 50% percentile [m]': 110,\n",
       "   'Length 90% percentile [m]': 110,\n",
       "   'Draught loaded [m]': 3.5,\n",
       "   'Draught average [m]': 3.14,\n",
       "   'Draught empty [m]': 1.4,\n",
       "   'Height average [m]': 6.21,\n",
       "   'Load Weight average [ton]': 2286,\n",
       "   'Load weight maximum [ton]': 2689,\n",
       "   'speed': 3,\n",
       "   'image': 'https://encrypted-tbn0.gstatic.com/images?q=tbn:ANd9GcQRvKRniAxUXUWzmByw7CRFYD5fTqOtFTDVkw&usqp=CAU',\n",
       "   'capacity': 2286,\n",
       "   'name': 'Schip',\n",
       "   'count': 4},\n",
       "  'CEMT-class': 'Va',\n",
       "  'RWS-class': 'M8',\n",
       "  'Vessel type': 'Motorvessel',\n",
       "  'Description (English)': 'Large Rhine vessel',\n",
       "  'Description (Dutch)': 'Groot Rijnschip',\n",
       "  'Beam [m]': 11.4,\n",
       "  'Beam 10% percentile [m]': 10.6,\n",
       "  'Beam 50% percentile [m]': 11.45,\n",
       "  'Beam 90% percentile [m]': 11.45,\n",
       "  'Length [m]': 110,\n",
       "  'Length 10% percentile [m]': 93,\n",
       "  'Length 50% percentile [m]': 110,\n",
       "  'Length 90% percentile [m]': 110,\n",
       "  'Draught loaded [m]': 3.5,\n",
       "  'Draught average [m]': 3.14,\n",
       "  'Draught empty [m]': 1.4,\n",
       "  'Height average [m]': 6.21,\n",
       "  'Load Weight average [ton]': 2286,\n",
       "  'Load weight maximum [ton]': 2689,\n",
       "  'speed': 3,\n",
       "  'image': 'https://encrypted-tbn0.gstatic.com/images?q=tbn:ANd9GcQRvKRniAxUXUWzmByw7CRFYD5fTqOtFTDVkw&usqp=CAU',\n",
       "  'count': 4,\n",
       "  'climate': {'discharge_lobith': 6000,\n",
       "   'discharge_st_pieter': 1300,\n",
       "   'sealevel': 0}},\n",
       " 'env': <simpy.core.Environment at 0x19124260100>,\n",
       " 'log': {'Message': [], 'Timestamp': [], 'Value': [], 'Geometry': []},\n",
       " 'route': ['8861022',\n",
       "  '8860701',\n",
       "  '8864748',\n",
       "  '8866780',\n",
       "  '8864465',\n",
       "  'S14716_B',\n",
       "  'S14716_A',\n",
       "  '8860845',\n",
       "  '8861674',\n",
       "  '8861158',\n",
       "  '8861716',\n",
       "  '8862585',\n",
       "  '8863623',\n",
       "  '8864482',\n",
       "  '8868239',\n",
       "  '8863206',\n",
       "  '8863496',\n",
       "  '8861736',\n",
       "  '8866182',\n",
       "  '8866520',\n",
       "  '8865942',\n",
       "  '8863988',\n",
       "  '8861986',\n",
       "  '8861973',\n",
       "  '8867672',\n",
       "  '30985995',\n",
       "  '8865086',\n",
       "  '8860668',\n",
       "  '8865205',\n",
       "  '8865385',\n",
       "  '8865818',\n",
       "  '8865302',\n",
       "  '8860697',\n",
       "  '8861233',\n",
       "  '8867789',\n",
       "  '8860903',\n",
       "  '8866388',\n",
       "  '8861047',\n",
       "  '8863104',\n",
       "  '8867528',\n",
       "  '8863710',\n",
       "  'B45486_B',\n",
       "  'B45486_A',\n",
       "  '22161437',\n",
       "  '8863631',\n",
       "  'B47187_B',\n",
       "  'B47187_A',\n",
       "  'B4418_B',\n",
       "  'B4418_A',\n",
       "  '8864009',\n",
       "  '8866439',\n",
       "  '8861193',\n",
       "  'B4308_B',\n",
       "  'B4308_A',\n",
       "  '8861191',\n",
       "  '8867588',\n",
       "  '8863742',\n",
       "  '8867374',\n",
       "  'B4913_B',\n",
       "  'B4913_A',\n",
       "  'L24895_B',\n",
       "  'L24895_A',\n",
       "  '8864798',\n",
       "  '8867538',\n",
       "  '8867549',\n",
       "  '8860860',\n",
       "  '8868116',\n",
       "  '8865170',\n",
       "  'B5979547_B',\n",
       "  'B5979547_A',\n",
       "  '8864568',\n",
       "  'B52003_B',\n",
       "  'B52003_A',\n",
       "  '8861616',\n",
       "  'L7069906_A',\n",
       "  'B7069877_B',\n",
       "  'B7069877_A',\n",
       "  'B7069857_B',\n",
       "  'B7069857_A',\n",
       "  '8863774',\n",
       "  'B24934_B',\n",
       "  'B24934_A',\n",
       "  'B46985_B',\n",
       "  'B46985_A',\n",
       "  '30984425',\n",
       "  'B40405_B',\n",
       "  'B40405_A',\n",
       "  'B21778_B'],\n",
       " 'complete_path': None,\n",
       " 'geometry': {\"coordinates\": [[4.090019, 51.972115], [4.08745, 51.965318]], \"type\": \"LineString\"},\n",
       " 'node': None,\n",
       " 'v': 3,\n",
       " 'on_pass_edge_functions': [],\n",
       " 'wgs84': Geod(ellps='WGS84'),\n",
       " 'container': <simpy.resources.container.Container at 0x1913a518880>,\n",
       " 'total_requested': 0,\n",
       " 'name': 'Schip',\n",
       " 'id': '67b756c4-0293-11ed-a205-e4e749c2fa4a',\n",
       " 'logbook': [],\n",
       " 'shift_start_time': datetime.time(6, 0),\n",
       " 'shift_end_time': datetime.time(22, 0),\n",
       " 'timeboard': mrk_1723260307680 = Marker(each='D', at=[{'hours': 6, 'minutes': 0}, {'hours': 22, 'minutes': 0}], how='from_start_of_each')\n",
       " org_1723260307392 = Organizer(marker=mrk_1723260307680, structure=[0, 1])\n",
       " Timeboard('H', start=datetime.datetime(2022, 7, 13, 0, 0), end=datetime.datetime(2022, 8, 12, 0, 0), layout=org_1723260307392),\n",
       " 'graph': <networkx.classes.graph.Graph at 0x19124255550>,\n",
       " 'berth_keyword': 'Berth',\n",
       " 'edge_distance': 'length_m'}"
      ]
     },
     "execution_count": 22,
     "metadata": {},
     "output_type": "execute_result"
    }
   ],
   "source": [
    "ship = ships[0]\n",
    "vars(ship)\n"
   ]
  },
  {
   "cell_type": "code",
   "execution_count": 23,
   "metadata": {},
   "outputs": [
    {
     "data": {
      "text/plain": [
       "<Process(plan) object at 0x19140fe3190>"
      ]
     },
     "execution_count": 23,
     "metadata": {},
     "output_type": "execute_result"
    }
   ],
   "source": [
    "# operator\n",
    "#logger.info(\"Loadig operator 👩‍💼\")\n",
    "# Setup and start the simulation\n",
    "operator = dtv_backend.simple.Operator(\n",
    "    env=env, ships=ships, **config[\"operator\"])\n",
    "# The ships do work for the operator\n",
    "for ship in ships:\n",
    "    env.process(ship.work_for(operator, with_berth=with_berth))\n",
    "# The opertor plans the work move everything from A to B\n",
    "env.process(operator.plan(ports[0], ports[1]))"
   ]
  },
  {
   "cell_type": "code",
   "execution_count": 24,
   "metadata": {},
   "outputs": [
    {
     "ename": "AttributeError",
     "evalue": "'Ship' object has no attribute 'move_to'",
     "output_type": "error",
     "traceback": [
      "\u001b[1;31m---------------------------------------------------------------------------\u001b[0m",
      "\u001b[1;31mAttributeError\u001b[0m                            Traceback (most recent call last)",
      "\u001b[1;32m<ipython-input-14-76817449dc46>\u001b[0m in \u001b[0;36mwork_for\u001b[1;34m(self, operator, with_berth)\u001b[0m\n\u001b[0;32m     23\u001b[0m             \u001b[1;31m# operator.send_message() or something...\u001b[0m\u001b[1;33m\u001b[0m\u001b[1;33m\u001b[0m\u001b[1;33m\u001b[0m\u001b[0m\n\u001b[1;32m---> 24\u001b[1;33m             yield from self.load_move_unload(\n\u001b[0m\u001b[0;32m     25\u001b[0m                 \u001b[0msource\u001b[0m\u001b[1;33m,\u001b[0m \u001b[0mdestination\u001b[0m\u001b[1;33m,\u001b[0m \u001b[0mmax_load\u001b[0m\u001b[1;33m,\u001b[0m \u001b[0mwith_berth\u001b[0m\u001b[1;33m=\u001b[0m\u001b[0mwith_berth\u001b[0m\u001b[1;33m\u001b[0m\u001b[1;33m\u001b[0m\u001b[0m\n",
      "\u001b[1;32m<ipython-input-14-76817449dc46>\u001b[0m in \u001b[0;36mload_move_unload\u001b[1;34m(self, source, destination, max_load, with_berth)\u001b[0m\n\u001b[0;32m     35\u001b[0m             \u001b[1;32mif\u001b[0m \u001b[1;32mnot\u001b[0m \u001b[0mwith_berth\u001b[0m\u001b[1;33m:\u001b[0m\u001b[1;33m\u001b[0m\u001b[1;33m\u001b[0m\u001b[0m\n\u001b[1;32m---> 36\u001b[1;33m                 \u001b[1;32myield\u001b[0m \u001b[1;32mfrom\u001b[0m \u001b[0mself\u001b[0m\u001b[1;33m.\u001b[0m\u001b[0mmove_to\u001b[0m\u001b[1;33m(\u001b[0m\u001b[0msource\u001b[0m\u001b[1;33m)\u001b[0m\u001b[1;33m\u001b[0m\u001b[1;33m\u001b[0m\u001b[0m\n\u001b[0m\u001b[0;32m     37\u001b[0m             \u001b[1;32melse\u001b[0m\u001b[1;33m:\u001b[0m\u001b[1;33m\u001b[0m\u001b[1;33m\u001b[0m\u001b[0m\n",
      "\u001b[1;31mAttributeError\u001b[0m: 'Ship' object has no attribute 'move_to'",
      "\nThe above exception was the direct cause of the following exception:\n",
      "\u001b[1;31mAttributeError\u001b[0m                            Traceback (most recent call last)",
      "\u001b[1;32m<ipython-input-24-329ac59442bd>\u001b[0m in \u001b[0;36m<module>\u001b[1;34m\u001b[0m\n\u001b[0;32m      2\u001b[0m \u001b[1;31m# Run for n days\u001b[0m\u001b[1;33m\u001b[0m\u001b[1;33m\u001b[0m\u001b[1;33m\u001b[0m\u001b[0m\n\u001b[0;32m      3\u001b[0m \u001b[0mn_days_in_future\u001b[0m \u001b[1;33m=\u001b[0m \u001b[0mnow\u001b[0m \u001b[1;33m+\u001b[0m \u001b[0mdatetime\u001b[0m\u001b[1;33m.\u001b[0m\u001b[0mtimedelta\u001b[0m\u001b[1;33m(\u001b[0m\u001b[0mdays\u001b[0m\u001b[1;33m=\u001b[0m\u001b[1;36m60\u001b[0m\u001b[1;33m)\u001b[0m\u001b[1;33m\u001b[0m\u001b[1;33m\u001b[0m\u001b[0m\n\u001b[1;32m----> 4\u001b[1;33m \u001b[0menv\u001b[0m\u001b[1;33m.\u001b[0m\u001b[0mrun\u001b[0m\u001b[1;33m(\u001b[0m\u001b[0muntil\u001b[0m\u001b[1;33m=\u001b[0m\u001b[0mn_days_in_future\u001b[0m\u001b[1;33m.\u001b[0m\u001b[0mtimestamp\u001b[0m\u001b[1;33m(\u001b[0m\u001b[1;33m)\u001b[0m\u001b[1;33m)\u001b[0m\u001b[1;33m\u001b[0m\u001b[1;33m\u001b[0m\u001b[0m\n\u001b[0m",
      "\u001b[1;32mC:\\ProgramData\\Anaconda3\\envs\\py38_DTV\\lib\\site-packages\\simpy\\core.py\u001b[0m in \u001b[0;36mrun\u001b[1;34m(self, until)\u001b[0m\n\u001b[0;32m    252\u001b[0m         \u001b[1;32mtry\u001b[0m\u001b[1;33m:\u001b[0m\u001b[1;33m\u001b[0m\u001b[1;33m\u001b[0m\u001b[0m\n\u001b[0;32m    253\u001b[0m             \u001b[1;32mwhile\u001b[0m \u001b[1;32mTrue\u001b[0m\u001b[1;33m:\u001b[0m\u001b[1;33m\u001b[0m\u001b[1;33m\u001b[0m\u001b[0m\n\u001b[1;32m--> 254\u001b[1;33m                 \u001b[0mself\u001b[0m\u001b[1;33m.\u001b[0m\u001b[0mstep\u001b[0m\u001b[1;33m(\u001b[0m\u001b[1;33m)\u001b[0m\u001b[1;33m\u001b[0m\u001b[1;33m\u001b[0m\u001b[0m\n\u001b[0m\u001b[0;32m    255\u001b[0m         \u001b[1;32mexcept\u001b[0m \u001b[0mStopSimulation\u001b[0m \u001b[1;32mas\u001b[0m \u001b[0mexc\u001b[0m\u001b[1;33m:\u001b[0m\u001b[1;33m\u001b[0m\u001b[1;33m\u001b[0m\u001b[0m\n\u001b[0;32m    256\u001b[0m             \u001b[1;32mreturn\u001b[0m \u001b[0mexc\u001b[0m\u001b[1;33m.\u001b[0m\u001b[0margs\u001b[0m\u001b[1;33m[\u001b[0m\u001b[1;36m0\u001b[0m\u001b[1;33m]\u001b[0m  \u001b[1;31m# == until.value\u001b[0m\u001b[1;33m\u001b[0m\u001b[1;33m\u001b[0m\u001b[0m\n",
      "\u001b[1;32mC:\\ProgramData\\Anaconda3\\envs\\py38_DTV\\lib\\site-packages\\simpy\\core.py\u001b[0m in \u001b[0;36mstep\u001b[1;34m(self)\u001b[0m\n\u001b[0;32m    204\u001b[0m             \u001b[0mexc\u001b[0m \u001b[1;33m=\u001b[0m \u001b[0mtype\u001b[0m\u001b[1;33m(\u001b[0m\u001b[0mevent\u001b[0m\u001b[1;33m.\u001b[0m\u001b[0m_value\u001b[0m\u001b[1;33m)\u001b[0m\u001b[1;33m(\u001b[0m\u001b[1;33m*\u001b[0m\u001b[0mevent\u001b[0m\u001b[1;33m.\u001b[0m\u001b[0m_value\u001b[0m\u001b[1;33m.\u001b[0m\u001b[0margs\u001b[0m\u001b[1;33m)\u001b[0m\u001b[1;33m\u001b[0m\u001b[1;33m\u001b[0m\u001b[0m\n\u001b[0;32m    205\u001b[0m             \u001b[0mexc\u001b[0m\u001b[1;33m.\u001b[0m\u001b[0m__cause__\u001b[0m \u001b[1;33m=\u001b[0m \u001b[0mevent\u001b[0m\u001b[1;33m.\u001b[0m\u001b[0m_value\u001b[0m\u001b[1;33m\u001b[0m\u001b[1;33m\u001b[0m\u001b[0m\n\u001b[1;32m--> 206\u001b[1;33m             \u001b[1;32mraise\u001b[0m \u001b[0mexc\u001b[0m\u001b[1;33m\u001b[0m\u001b[1;33m\u001b[0m\u001b[0m\n\u001b[0m\u001b[0;32m    207\u001b[0m \u001b[1;33m\u001b[0m\u001b[0m\n\u001b[0;32m    208\u001b[0m     def run(\n",
      "\u001b[1;31mAttributeError\u001b[0m: 'Ship' object has no attribute 'move_to'"
     ]
    }
   ],
   "source": [
    "#logger.info(\"Running simulation 👩‍💻\")\n",
    "# Run for n days\n",
    "n_days_in_future = now + datetime.timedelta(days=60)\n",
    "env.run(until=n_days_in_future.timestamp())"
   ]
  },
  {
   "cell_type": "code",
   "execution_count": null,
   "metadata": {},
   "outputs": [],
   "source": [
    "# to be returned by function v3_run\n",
    "{\n",
    "    \"env\": env,\n",
    "    \"operator\": operator,\n",
    "    \"ships\": ships,\n",
    "    \"config\": config,\n",
    "    \"ports\": port,\n",
    "}"
   ]
  },
  {
   "cell_type": "markdown",
   "metadata": {},
   "source": [
    "### WIP snippets"
   ]
  },
  {
   "cell_type": "code",
   "execution_count": null,
   "metadata": {},
   "outputs": [],
   "source": []
  }
 ],
 "metadata": {
  "kernelspec": {
   "display_name": "Python 3",
   "language": "python",
   "name": "python3"
  },
  "language_info": {
   "codemirror_mode": {
    "name": "ipython",
    "version": 3
   },
   "file_extension": ".py",
   "mimetype": "text/x-python",
   "name": "python",
   "nbconvert_exporter": "python",
   "pygments_lexer": "ipython3",
   "version": "3.8.6"
  }
 },
 "nbformat": 4,
 "nbformat_minor": 4
}
