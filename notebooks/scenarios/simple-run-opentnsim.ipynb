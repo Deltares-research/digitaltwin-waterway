{
 "cells": [
  {
   "cell_type": "markdown",
   "metadata": {},
   "source": [
    "# Digital Twin Fairways\n",
    "WIP to use the OpenTNSim engine"
   ]
  },
  {
   "cell_type": "code",
   "execution_count": 1,
   "metadata": {},
   "outputs": [
    {
     "name": "stderr",
     "output_type": "stream",
     "text": [
      "/Users/baart_f/.virtualenvs/main/lib/python3.9/site-packages/geopandas/_compat.py:111: UserWarning:\n",
      "\n",
      "The Shapely GEOS version (3.10.2-CAPI-1.16.0) is incompatible with the GEOS version PyGEOS was compiled with (3.10.1-CAPI-1.16.0). Conversions between both will be slow.\n",
      "\n"
     ]
    }
   ],
   "source": [
    "import datetime\n",
    "import json\n",
    "import logging\n",
    "import time\n",
    "\n",
    "import dtv_backend.berthing\n",
    "\n",
    "# the simpy processes and objects\n",
    "import dtv_backend.compat\n",
    "\n",
    "# library to load the fairway information network\n",
    "import dtv_backend.fis\n",
    "import dtv_backend.network\n",
    "import dtv_backend.network.network_utilities\n",
    "import dtv_backend.postprocessing\n",
    "import dtv_backend.simple\n",
    "import dtv_backend.simulate\n",
    "import geojson\n",
    "import networkx as nx\n",
    "import pandas as pd\n",
    "import shapely\n",
    "import simpy\n",
    "from networkx.readwrite import json_graph\n",
    "\n",
    "# opentnsim import\n",
    "from opentnsim import core\n",
    "\n",
    "# reload for debugging purposes\n",
    "%load_ext autoreload\n",
    "%autoreload 2\n",
    "\n",
    "logger = logging.getLogger(\"notebook\")"
   ]
  },
  {
   "cell_type": "markdown",
   "metadata": {},
   "source": [
    "### Input\n",
    "You can define your input in a json configuration file. The relevant parts are sites, fleet and climate."
   ]
  },
  {
   "cell_type": "code",
   "execution_count": 3,
   "metadata": {},
   "outputs": [],
   "source": [
    "# example input\n",
    "with open(\"../../dtv_backend/tests/2022-09-05.geojson\") as f:\n",
    "    config = geojson.load(f)"
   ]
  },
  {
   "cell_type": "markdown",
   "metadata": {},
   "source": [
    "### Simulate with ``v3_run``"
   ]
  },
  {
   "cell_type": "code",
   "execution_count": 4,
   "metadata": {},
   "outputs": [],
   "source": [
    "def v3_dtv_backend_simulate(config):\n",
    "    result = dtv_backend.simulate.v3_run(config)\n",
    "    env = result['env']\n",
    "    logbook = result['operator'].logbook\n",
    "    log_df = pd.DataFrame(logbook)\n",
    "    log_json = dtv_backend.postprocessing.log2json(log_df)\n",
    "    \n",
    "    response = {\n",
    "        \"log\": log_json,\n",
    "        \"config\": config,\n",
    "        \"env\": {\n",
    "            \"epoch\": env.epoch.timestamp(),\n",
    "            \"epoch_iso\": env.epoch.isoformat(),\n",
    "            \"now\": env.epoch,\n",
    "            \"now_iso\": datetime.datetime.fromtimestamp(env.now).isoformat(),\n",
    "        },\n",
    "    }\n",
    "    return response\n",
    "    "
   ]
  },
  {
   "cell_type": "code",
   "execution_count": 5,
   "metadata": {},
   "outputs": [
    {
     "name": "stderr",
     "output_type": "stream",
     "text": [
      "/Users/baart_f/src/digitaltwin-waterway/dtv_backend/dtv_backend/fis.py:111: ShapelyDeprecationWarning:\n",
      "\n",
      "The array interface is deprecated and will no longer work in Shapely 2.0. Convert the '.coords' to a numpy array instead.\n",
      "\n"
     ]
    },
    {
     "name": "stdout",
     "output_type": "stream",
     "text": [
      "8862214\n",
      "8862214\n"
     ]
    }
   ],
   "source": [
    "resp = v3_dtv_backend_simulate(config)"
   ]
  },
  {
   "cell_type": "code",
   "execution_count": 5,
   "metadata": {},
   "outputs": [
    {
     "data": {
      "text/plain": [
       "{'CEMT-class': 'Va',\n",
       " 'RWS-class': 'M8',\n",
       " 'Vessel type': 'Motorvessel',\n",
       " 'Description (English)': 'Large Rhine vessel',\n",
       " 'Description (Dutch)': 'Groot Rijnschip',\n",
       " 'Beam [m]': 11.4,\n",
       " 'Beam 10% percentile [m]': 10.6,\n",
       " 'Beam 50% percentile [m]': 11.45,\n",
       " 'Beam 90% percentile [m]': 11.45,\n",
       " 'Length [m]': 110,\n",
       " 'Length 10% percentile [m]': 93,\n",
       " 'Length 50% percentile [m]': 110,\n",
       " 'Length 90% percentile [m]': 110,\n",
       " 'Draught loaded [m]': 3.5,\n",
       " 'Draught average [m]': 3.14,\n",
       " 'Draught empty [m]': 1.4,\n",
       " 'Height average [m]': 6.21,\n",
       " 'Load Weight average [ton]': 2286,\n",
       " 'Load weight maximum [ton]': 2689,\n",
       " 'speed': 3,\n",
       " 'image': 'https://encrypted-tbn0.gstatic.com/images?q=tbn:ANd9GcQRvKRniAxUXUWzmByw7CRFYD5fTqOtFTDVkw&usqp=CAU',\n",
       " 'capacity': 1600,\n",
       " 'name': 'Large Rhine vessel',\n",
       " 'count': 1}"
      ]
     },
     "execution_count": 5,
     "metadata": {},
     "output_type": "execute_result"
    }
   ],
   "source": [
    "config['fleet'][0]['properties']"
   ]
  },
  {
   "cell_type": "code",
   "execution_count": null,
   "metadata": {},
   "outputs": [],
   "source": []
  }
 ],
 "metadata": {
  "kernelspec": {
   "display_name": "Python 3 (ipykernel)",
   "language": "python",
   "name": "python3"
  },
  "language_info": {
   "codemirror_mode": {
    "name": "ipython",
    "version": 3
   },
   "file_extension": ".py",
   "mimetype": "text/x-python",
   "name": "python",
   "nbconvert_exporter": "python",
   "pygments_lexer": "ipython3",
   "version": "3.9.13"
  }
 },
 "nbformat": 4,
 "nbformat_minor": 4
}
