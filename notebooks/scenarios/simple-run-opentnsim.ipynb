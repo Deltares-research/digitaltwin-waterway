{
 "cells": [
  {
   "cell_type": "markdown",
   "metadata": {},
   "source": [
    "# Digital Twin Fairways\n",
    "WIP to use the OpenTNSim engine"
   ]
  },
  {
   "cell_type": "code",
   "execution_count": 1,
   "metadata": {},
   "outputs": [
    {
     "name": "stderr",
     "output_type": "stream",
     "text": [
      "/Users/baart_f/.virtualenvs/main/lib/python3.9/site-packages/geopandas/_compat.py:111: UserWarning:\n",
      "\n",
      "The Shapely GEOS version (3.10.2-CAPI-1.16.0) is incompatible with the GEOS version PyGEOS was compiled with (3.10.1-CAPI-1.16.0). Conversions between both will be slow.\n",
      "\n"
     ]
    }
   ],
   "source": [
    "import datetime\n",
    "import json\n",
    "import logging\n",
    "import time\n",
    "\n",
    "import dtv_backend.berthing\n",
    "\n",
    "# the simpy processes and objects\n",
    "import dtv_backend.compat\n",
    "\n",
    "# library to load the fairway information network\n",
    "import dtv_backend.fis\n",
    "import dtv_backend.network\n",
    "import dtv_backend.network.network_utilities\n",
    "import dtv_backend.postprocessing\n",
    "import dtv_backend.simple\n",
    "import dtv_backend.simulate\n",
    "import geojson\n",
    "import networkx as nx\n",
    "import pandas as pd\n",
    "import shapely\n",
    "import simpy\n",
    "from networkx.readwrite import json_graph\n",
    "\n",
    "# opentnsim import\n",
    "from opentnsim import core\n",
    "\n",
    "# reload for debugging purposes\n",
    "%load_ext autoreload\n",
    "%autoreload 2"
   ]
  },
  {
   "cell_type": "markdown",
   "metadata": {},
   "source": [
    "### Input\n",
    "You can define your input in a json configuration file. The relevant parts are sites, fleet and climate."
   ]
  },
  {
   "cell_type": "code",
   "execution_count": 2,
   "metadata": {},
   "outputs": [],
   "source": [
    "# example input\n",
    "with open(\"config.geojson\") as f:\n",
    "    config = geojson.load(f)"
   ]
  },
  {
   "cell_type": "markdown",
   "metadata": {},
   "source": [
    "### Fixed content"
   ]
  },
  {
   "cell_type": "code",
   "execution_count": 3,
   "metadata": {},
   "outputs": [],
   "source": [
    "Port = type(\n",
    "    \"Port\",\n",
    "    (\n",
    "        dtv_backend.compat.Processor,\n",
    "        core.Identifiable,\n",
    "        core.Locatable,\n",
    "        core.HasResource,\n",
    "        core.HasContainer,\n",
    "        core.ExtraMetadata,\n",
    "    ),\n",
    "    {},\n",
    ")"
   ]
  },
  {
   "cell_type": "code",
   "execution_count": 4,
   "metadata": {},
   "outputs": [],
   "source": [
    "Ship = type(\n",
    "    \"Ship\",\n",
    "    (\n",
    "        dtv_backend.compat.CanWork,\n",
    "        dtv_backend.berthing.CanBerth,\n",
    "        core.Identifiable,\n",
    "        core.HasContainer,\n",
    "        core.Movable,\n",
    "        core.Locatable,\n",
    "        core.ExtraMetadata,\n",
    "    ),\n",
    "    {},\n",
    ")"
   ]
  },
  {
   "cell_type": "markdown",
   "metadata": {},
   "source": [
    "### What is to be v3_run"
   ]
  },
  {
   "cell_type": "code",
   "execution_count": 5,
   "metadata": {},
   "outputs": [
    {
     "name": "stderr",
     "output_type": "stream",
     "text": [
      "/Users/baart_f/src/digitaltwin-waterway/dtv_backend/dtv_backend/fis.py:112: ShapelyDeprecationWarning:\n",
      "\n",
      "The array interface is deprecated and will no longer work in Shapely 2.0. Convert the '.coords' to a numpy array instead.\n",
      "\n"
     ]
    }
   ],
   "source": [
    "# always start at now\n",
    "now = datetime.datetime.now()\n",
    "initial_time = now.timestamp()\n",
    "env = simpy.Environment(initial_time=initial_time)\n",
    "env.epoch = now\n",
    "\n",
    "# default no berth\n",
    "with_berth = config.get(\"options\", {}).get(\"with_berth\", False)\n",
    "\n",
    "# read the network from google for performance reasons\n",
    "url = \"https://zenodo.org/record/6673604/files/network_digital_twin_v0.3.pickle?download=1\"\n",
    "G = dtv_backend.fis.load_fis_network(url)\n",
    "env.FG = G"
   ]
  },
  {
   "cell_type": "code",
   "execution_count": 7,
   "metadata": {},
   "outputs": [],
   "source": [
    "# ports\n",
    "# logger.info(\"Loading ports ⚓\")\n",
    "ports = []\n",
    "for site in config[\"sites\"]:\n",
    "    # port = dtv_backend.simple.Port(env, **site[\"properties\"], **site)\n",
    "    node = site[\"properties\"][\"n\"]\n",
    "    loading_rate = site[\"properties\"][\"loadingRate\"]\n",
    "    loading_rate_variation = site[\"properties\"][\"loadingRateVariation\"]\n",
    "    port = Port(\n",
    "        env=env,\n",
    "        node=node,\n",
    "        loading_rate=loading_rate,\n",
    "        loading_rate_variation=loading_rate_variation,\n",
    "        **site[\"properties\"],\n",
    "        **site\n",
    "    )\n",
    "    ports.append(port)"
   ]
  },
  {
   "cell_type": "code",
   "execution_count": null,
   "metadata": {},
   "outputs": [],
   "source": []
  },
  {
   "cell_type": "code",
   "execution_count": 8,
   "metadata": {},
   "outputs": [],
   "source": [
    "# ships\n",
    "# logger.info(\"Loading ships 🚢\")\n",
    "ships = []\n",
    "for ship in config[\"fleet\"]:\n",
    "    kwargs = {}\n",
    "    kwargs.update(ship)\n",
    "    kwargs.update(ship[\"properties\"])\n",
    "    kwargs[\"v\"] = 3\n",
    "    kwargs[\"route\"] = [feature[\"properties\"][\"n\"] for feature in config[\"route\"]]\n",
    "    geometry = shapely.geometry.shape(ship[\"geometry\"])\n",
    "    node, dist = dtv_backend.fis.find_closest_node(env.FG, geometry)\n",
    "    kwargs[\"node\"] = node\n",
    "    # the ship needs to know about the climate\n",
    "    if \"climate\" in config:\n",
    "        kwargs[\"climate\"] = config[\"climate\"]\n",
    "    # ship = dtv_backend.simple.Ship(env, **kwargs)\n",
    "    ship = Ship(env=env, **kwargs)\n",
    "    ships.append(ship)"
   ]
  },
  {
   "cell_type": "code",
   "execution_count": 9,
   "metadata": {},
   "outputs": [],
   "source": [
    "route = [feature[\"properties\"][\"n\"] for feature in config[\"route\"]]"
   ]
  },
  {
   "cell_type": "code",
   "execution_count": 10,
   "metadata": {},
   "outputs": [],
   "source": [
    "# vars(ship)"
   ]
  },
  {
   "cell_type": "code",
   "execution_count": 11,
   "metadata": {},
   "outputs": [
    {
     "data": {
      "text/plain": [
       "<Process(plan) object at 0x2bb409970>"
      ]
     },
     "execution_count": 11,
     "metadata": {},
     "output_type": "execute_result"
    }
   ],
   "source": [
    "# operator\n",
    "# logger.info(\"Loadig operator 👩‍💼\")\n",
    "# Setup and start the simulation\n",
    "operator = dtv_backend.simple.Operator(env=env, ships=ships, **config[\"operator\"])\n",
    "# The ships do work for the operator\n",
    "for ship in ships:\n",
    "    env.process(ship.work_for(operator, with_berth=with_berth))\n",
    "# The opertor plans the work move everything from A to B\n",
    "env.process(operator.plan(ports[0], ports[1]))"
   ]
  },
  {
   "cell_type": "code",
   "execution_count": 12,
   "metadata": {},
   "outputs": [],
   "source": [
    "# logger.info(\"Running simulation 👩‍💻\")\n",
    "# Run for n days\n",
    "n_days_in_future = now + datetime.timedelta(days=60)\n",
    "env.run(until=n_days_in_future.timestamp())"
   ]
  },
  {
   "cell_type": "markdown",
   "metadata": {},
   "source": [
    "### WIP snippets"
   ]
  },
  {
   "cell_type": "code",
   "execution_count": 13,
   "metadata": {},
   "outputs": [
    {
     "data": {
      "text/html": [
       "<div>\n",
       "<style scoped>\n",
       "    .dataframe tbody tr th:only-of-type {\n",
       "        vertical-align: middle;\n",
       "    }\n",
       "\n",
       "    .dataframe tbody tr th {\n",
       "        vertical-align: top;\n",
       "    }\n",
       "\n",
       "    .dataframe thead th {\n",
       "        text-align: right;\n",
       "    }\n",
       "</style>\n",
       "<table border=\"1\" class=\"dataframe\">\n",
       "  <thead>\n",
       "    <tr style=\"text-align: right;\">\n",
       "      <th></th>\n",
       "      <th>Message</th>\n",
       "      <th>Timestamp</th>\n",
       "      <th>Value</th>\n",
       "      <th>geometry</th>\n",
       "      <th>ActivityID</th>\n",
       "      <th>ActivityState</th>\n",
       "      <th>Meta</th>\n",
       "    </tr>\n",
       "  </thead>\n",
       "  <tbody>\n",
       "    <tr>\n",
       "      <th>0</th>\n",
       "      <td>Plan</td>\n",
       "      <td>2022-07-13 12:04:50.260389</td>\n",
       "      <td>NaN</td>\n",
       "      <td>None</td>\n",
       "      <td>1</td>\n",
       "      <td>None</td>\n",
       "      <td>{'state': 'START', 'actor': &lt;dtv_backend.simpl...</td>\n",
       "    </tr>\n",
       "    <tr>\n",
       "      <th>1</th>\n",
       "      <td>Task</td>\n",
       "      <td>2022-07-13 12:04:50.260389</td>\n",
       "      <td>NaN</td>\n",
       "      <td>None</td>\n",
       "      <td>2</td>\n",
       "      <td>None</td>\n",
       "      <td>{'state': 'START', 'actor': &lt;dtv_backend.simpl...</td>\n",
       "    </tr>\n",
       "    <tr>\n",
       "      <th>2</th>\n",
       "      <td>Task</td>\n",
       "      <td>2022-07-13 13:04:50.260389</td>\n",
       "      <td>NaN</td>\n",
       "      <td>None</td>\n",
       "      <td>2</td>\n",
       "      <td>None</td>\n",
       "      <td>{'state': 'STOP', 'actor': &lt;dtv_backend.simple...</td>\n",
       "    </tr>\n",
       "    <tr>\n",
       "      <th>3</th>\n",
       "      <td>Task</td>\n",
       "      <td>2022-07-13 13:04:50.260389</td>\n",
       "      <td>NaN</td>\n",
       "      <td>None</td>\n",
       "      <td>3</td>\n",
       "      <td>None</td>\n",
       "      <td>{'state': 'START', 'actor': &lt;dtv_backend.simpl...</td>\n",
       "    </tr>\n",
       "    <tr>\n",
       "      <th>4</th>\n",
       "      <td>Cycle</td>\n",
       "      <td>2022-07-13 13:04:50.260389</td>\n",
       "      <td>NaN</td>\n",
       "      <td>None</td>\n",
       "      <td>4</td>\n",
       "      <td>None</td>\n",
       "      <td>{'state': 'START', 'actor': &lt;__main__.Ship obj...</td>\n",
       "    </tr>\n",
       "    <tr>\n",
       "      <th>...</th>\n",
       "      <td>...</td>\n",
       "      <td>...</td>\n",
       "      <td>...</td>\n",
       "      <td>...</td>\n",
       "      <td>...</td>\n",
       "      <td>...</td>\n",
       "      <td>...</td>\n",
       "    </tr>\n",
       "    <tr>\n",
       "      <th>59</th>\n",
       "      <td>Sailing</td>\n",
       "      <td>2022-07-15 16:59:09.628819</td>\n",
       "      <td>107963.754982</td>\n",
       "      <td>LINESTRING (4.09001864901624 51.9721147516422,...</td>\n",
       "      <td>32</td>\n",
       "      <td>None</td>\n",
       "      <td>{'state': 'START', 'actor': &lt;__main__.Ship obj...</td>\n",
       "    </tr>\n",
       "    <tr>\n",
       "      <th>60</th>\n",
       "      <td>Sailing</td>\n",
       "      <td>2022-07-16 02:58:57.547146</td>\n",
       "      <td>107963.754982</td>\n",
       "      <td>LINESTRING (4.09001864901624 51.9721147516422,...</td>\n",
       "      <td>32</td>\n",
       "      <td>None</td>\n",
       "      <td>{'state': 'STOP', 'actor': &lt;__main__.Ship obje...</td>\n",
       "    </tr>\n",
       "    <tr>\n",
       "      <th>61</th>\n",
       "      <td>Unload request</td>\n",
       "      <td>2022-07-16 02:58:57.547146</td>\n",
       "      <td>NaN</td>\n",
       "      <td>POINT (4.934845473565718 52.03883776809355)</td>\n",
       "      <td>33</td>\n",
       "      <td>None</td>\n",
       "      <td>{'state': 'START', 'actor': &lt;__main__.Ship obj...</td>\n",
       "    </tr>\n",
       "    <tr>\n",
       "      <th>62</th>\n",
       "      <td>Unload request</td>\n",
       "      <td>2022-07-16 02:58:57.547146</td>\n",
       "      <td>NaN</td>\n",
       "      <td>POINT (4.934845473565718 52.03883776809355)</td>\n",
       "      <td>33</td>\n",
       "      <td>None</td>\n",
       "      <td>{'state': 'STOP', 'actor': &lt;__main__.Ship obje...</td>\n",
       "    </tr>\n",
       "    <tr>\n",
       "      <th>63</th>\n",
       "      <td>Cycle</td>\n",
       "      <td>2022-07-16 02:58:57.547146</td>\n",
       "      <td>NaN</td>\n",
       "      <td>None</td>\n",
       "      <td>29</td>\n",
       "      <td>None</td>\n",
       "      <td>{'state': 'STOP', 'actor': &lt;__main__.Ship obje...</td>\n",
       "    </tr>\n",
       "  </tbody>\n",
       "</table>\n",
       "<p>64 rows × 7 columns</p>\n",
       "</div>"
      ],
      "text/plain": [
       "           Message                  Timestamp          Value  \\\n",
       "0             Plan 2022-07-13 12:04:50.260389            NaN   \n",
       "1             Task 2022-07-13 12:04:50.260389            NaN   \n",
       "2             Task 2022-07-13 13:04:50.260389            NaN   \n",
       "3             Task 2022-07-13 13:04:50.260389            NaN   \n",
       "4            Cycle 2022-07-13 13:04:50.260389            NaN   \n",
       "..             ...                        ...            ...   \n",
       "59         Sailing 2022-07-15 16:59:09.628819  107963.754982   \n",
       "60         Sailing 2022-07-16 02:58:57.547146  107963.754982   \n",
       "61  Unload request 2022-07-16 02:58:57.547146            NaN   \n",
       "62  Unload request 2022-07-16 02:58:57.547146            NaN   \n",
       "63           Cycle 2022-07-16 02:58:57.547146            NaN   \n",
       "\n",
       "                                             geometry  ActivityID  \\\n",
       "0                                                None           1   \n",
       "1                                                None           2   \n",
       "2                                                None           2   \n",
       "3                                                None           3   \n",
       "4                                                None           4   \n",
       "..                                                ...         ...   \n",
       "59  LINESTRING (4.09001864901624 51.9721147516422,...          32   \n",
       "60  LINESTRING (4.09001864901624 51.9721147516422,...          32   \n",
       "61        POINT (4.934845473565718 52.03883776809355)          33   \n",
       "62        POINT (4.934845473565718 52.03883776809355)          33   \n",
       "63                                               None          29   \n",
       "\n",
       "   ActivityState                                               Meta  \n",
       "0           None  {'state': 'START', 'actor': <dtv_backend.simpl...  \n",
       "1           None  {'state': 'START', 'actor': <dtv_backend.simpl...  \n",
       "2           None  {'state': 'STOP', 'actor': <dtv_backend.simple...  \n",
       "3           None  {'state': 'START', 'actor': <dtv_backend.simpl...  \n",
       "4           None  {'state': 'START', 'actor': <__main__.Ship obj...  \n",
       "..           ...                                                ...  \n",
       "59          None  {'state': 'START', 'actor': <__main__.Ship obj...  \n",
       "60          None  {'state': 'STOP', 'actor': <__main__.Ship obje...  \n",
       "61          None  {'state': 'START', 'actor': <__main__.Ship obj...  \n",
       "62          None  {'state': 'STOP', 'actor': <__main__.Ship obje...  \n",
       "63          None  {'state': 'STOP', 'actor': <__main__.Ship obje...  \n",
       "\n",
       "[64 rows x 7 columns]"
      ]
     },
     "execution_count": 13,
     "metadata": {},
     "output_type": "execute_result"
    }
   ],
   "source": [
    "pd.DataFrame(operator.logbook)"
   ]
  },
  {
   "cell_type": "code",
   "execution_count": 15,
   "metadata": {},
   "outputs": [
    {
     "data": {
      "text/plain": [
       "True"
      ]
     },
     "execution_count": 15,
     "metadata": {},
     "output_type": "execute_result"
    }
   ],
   "source": [
    "ship.logbook is operator.logbook"
   ]
  },
  {
   "cell_type": "code",
   "execution_count": null,
   "metadata": {},
   "outputs": [],
   "source": []
  }
 ],
 "metadata": {
  "kernelspec": {
   "display_name": "Python 3 (ipykernel)",
   "language": "python",
   "name": "python3"
  },
  "language_info": {
   "codemirror_mode": {
    "name": "ipython",
    "version": 3
   },
   "file_extension": ".py",
   "mimetype": "text/x-python",
   "name": "python",
   "nbconvert_exporter": "python",
   "pygments_lexer": "ipython3",
   "version": "3.9.13"
  }
 },
 "nbformat": 4,
 "nbformat_minor": 4
}
