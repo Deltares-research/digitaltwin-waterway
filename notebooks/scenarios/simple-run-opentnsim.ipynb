{
 "cells": [
  {
   "cell_type": "markdown",
   "metadata": {},
   "source": [
    "# Digital Twin Fairways\n",
    "WIP to use the OpenTNSim engine"
   ]
  },
  {
   "cell_type": "code",
   "execution_count": 1,
   "metadata": {},
   "outputs": [],
   "source": [
    "import datetime\n",
    "import json\n",
    "import logging\n",
    "import time\n",
    "\n",
    "import dtv_backend.berthing\n",
    "\n",
    "# the simpy processes and objects\n",
    "import dtv_backend.compat\n",
    "\n",
    "# library to load the fairway information network\n",
    "import dtv_backend.fis\n",
    "import dtv_backend.network\n",
    "import dtv_backend.network.network_utilities\n",
    "import dtv_backend.postprocessing\n",
    "import dtv_backend.simple\n",
    "import dtv_backend.simulate\n",
    "import geojson\n",
    "import networkx as nx\n",
    "import pandas as pd\n",
    "import geopandas as gpd\n",
    "import shapely\n",
    "import simpy\n",
    "from networkx.readwrite import json_graph\n",
    "\n",
    "# opentnsim import\n",
    "from opentnsim import core\n",
    "\n",
    "import plotly.express as px\n",
    "\n",
    "\n",
    "# reload for debugging purposes\n",
    "%load_ext autoreload\n",
    "%autoreload 2\n",
    "\n",
    "logger = logging.getLogger(\"notebook\")"
   ]
  },
  {
   "cell_type": "markdown",
   "metadata": {},
   "source": [
    "### Input\n",
    "You can define your input in a json configuration file. The relevant parts are sites, fleet and climate."
   ]
  },
  {
   "cell_type": "code",
   "execution_count": 2,
   "metadata": {},
   "outputs": [],
   "source": [
    "# example input\n",
    "with open(\"../../dtv_backend/tests/user/2022-09-15-config.json\") as f:\n",
    "    config = geojson.load(f)"
   ]
  },
  {
   "cell_type": "markdown",
   "metadata": {},
   "source": [
    "### Simulate with ``v3_run``"
   ]
  },
  {
   "cell_type": "code",
   "execution_count": 3,
   "metadata": {},
   "outputs": [],
   "source": [
    "def v3_dtv_backend_simulate(config):\n",
    "    result = dtv_backend.simulate.v3_run(config)\n",
    "    env = result['env']\n",
    "    logbook = result['operator'].logbook\n",
    "    log_df = pd.DataFrame(logbook)\n",
    "    log_json = dtv_backend.postprocessing.log2json(log_df)\n",
    "    \n",
    "    response = {\n",
    "        \"log\": log_json,\n",
    "        \"config\": config,\n",
    "        \"env\": {\n",
    "            \"epoch\": env.epoch.timestamp(),\n",
    "            \"epoch_iso\": env.epoch.isoformat(),\n",
    "            \"now\": env.epoch,\n",
    "            \"now_iso\": datetime.datetime.fromtimestamp(env.now).isoformat(),\n",
    "        },\n",
    "    }\n",
    "    return response\n",
    "    "
   ]
  },
  {
   "cell_type": "code",
   "execution_count": 4,
   "metadata": {},
   "outputs": [
    {
     "data": {
      "text/plain": [
       "{'Wkt': 'POINT (4.4389420728918099 51.9065380788739006)',\n",
       " 'X': 4.43894207289181,\n",
       " 'Y': 51.9065380788739,\n",
       " 'n': '8865146',\n",
       " 'name': '8865146',\n",
       " 'cargo_type': 'Dry Bulk',\n",
       " 'capacity': 10000,\n",
       " 'level': 0,\n",
       " 'loading_rate': 198,\n",
       " 'loading_rate_variation': 102}"
      ]
     },
     "execution_count": 4,
     "metadata": {},
     "output_type": "execute_result"
    }
   ],
   "source": [
    "config['sites'][1]['properties']"
   ]
  },
  {
   "cell_type": "code",
   "execution_count": 5,
   "metadata": {
    "scrolled": true
   },
   "outputs": [
    {
     "name": "stderr",
     "output_type": "stream",
     "text": [
      "/Users/baart_f/src/digitaltwin-waterway/dtv_backend/dtv_backend/fis.py:118: ShapelyDeprecationWarning:\n",
      "\n",
      "The array interface is deprecated and will no longer work in Shapely 2.0. Convert the '.coords' to a numpy array instead.\n",
      "\n"
     ]
    },
    {
     "name": "stdout",
     "output_type": "stream",
     "text": [
      "{\"geometry\": {\"coordinates\": [[4.091169, 51.975139], [4.090019, 51.972115]], \"type\": \"LineString\"}, \"id\": 0, \"properties\": {\"Beam 10% percentile [m]\": 8.18, \"Beam 50% percentile [m]\": 8.2, \"Beam 90% percentile [m]\": 8.24, \"Beam [m]\": 8.2, \"CEMT-class\": \"III\", \"Description (Dutch)\": \"Verlengde Dortmund (L > 74m)\", \"Description (English)\": \"Verlengde Dortmunder\", \"Draught average [m]\": 2.4, \"Draught empty [m]\": 1.2, \"Draught loaded [m]\": 2.7, \"Height average [m]\": 4.95, \"Length 10% percentile [m]\": 76.95, \"Length 50% percentile [m]\": 79.97, \"Length 90% percentile [m]\": 84.96, \"Length [m]\": 85, \"Load Weight average [ton]\": 995, \"Load weight maximum [ton]\": 1171, \"RWS-class\": \"M5\", \"Vessel type\": \"Motorvessel\", \"capacity\": 1000, \"count\": 1, \"image\": \"https://encrypted-tbn0.gstatic.com/images?q=tbn:ANd9GcQRvKRniAxUXUWzmByw7CRFYD5fTqOtFTDVkw&usqp=CAU\", \"name\": \"Verlengde Dortmunder\", \"speed\": 3}, \"type\": \"Feature\"}\n"
     ]
    },
    {
     "ename": "KeyError",
     "evalue": "'Velocity [m/s]'",
     "output_type": "error",
     "traceback": [
      "\u001b[0;31m---------------------------------------------------------------------------\u001b[0m",
      "\u001b[0;31mKeyError\u001b[0m                                  Traceback (most recent call last)",
      "Input \u001b[0;32mIn [5]\u001b[0m, in \u001b[0;36m<module>\u001b[0;34m\u001b[0m\n\u001b[0;32m----> 1\u001b[0m resp \u001b[38;5;241m=\u001b[39m \u001b[43mv3_dtv_backend_simulate\u001b[49m\u001b[43m(\u001b[49m\u001b[43mconfig\u001b[49m\u001b[43m)\u001b[49m\n",
      "Input \u001b[0;32mIn [3]\u001b[0m, in \u001b[0;36mv3_dtv_backend_simulate\u001b[0;34m(config)\u001b[0m\n\u001b[1;32m      1\u001b[0m \u001b[38;5;28;01mdef\u001b[39;00m \u001b[38;5;21mv3_dtv_backend_simulate\u001b[39m(config):\n\u001b[0;32m----> 2\u001b[0m     result \u001b[38;5;241m=\u001b[39m \u001b[43mdtv_backend\u001b[49m\u001b[38;5;241;43m.\u001b[39;49m\u001b[43msimulate\u001b[49m\u001b[38;5;241;43m.\u001b[39;49m\u001b[43mv3_run\u001b[49m\u001b[43m(\u001b[49m\u001b[43mconfig\u001b[49m\u001b[43m)\u001b[49m\n\u001b[1;32m      3\u001b[0m     env \u001b[38;5;241m=\u001b[39m result[\u001b[38;5;124m'\u001b[39m\u001b[38;5;124menv\u001b[39m\u001b[38;5;124m'\u001b[39m]\n\u001b[1;32m      4\u001b[0m     logbook \u001b[38;5;241m=\u001b[39m result[\u001b[38;5;124m'\u001b[39m\u001b[38;5;124moperator\u001b[39m\u001b[38;5;124m'\u001b[39m]\u001b[38;5;241m.\u001b[39mlogbook\n",
      "File \u001b[0;32m~/src/digitaltwin-waterway/dtv_backend/dtv_backend/simulate.py:146\u001b[0m, in \u001b[0;36mv3_run\u001b[0;34m(config)\u001b[0m\n\u001b[1;32m    144\u001b[0m env \u001b[38;5;241m=\u001b[39m create_env(config)\n\u001b[1;32m    145\u001b[0m ports \u001b[38;5;241m=\u001b[39m create_ports(env, config)\n\u001b[0;32m--> 146\u001b[0m ships \u001b[38;5;241m=\u001b[39m \u001b[43mcreate_ships\u001b[49m\u001b[43m(\u001b[49m\u001b[43menv\u001b[49m\u001b[43m,\u001b[49m\u001b[43m \u001b[49m\u001b[43mconfig\u001b[49m\u001b[43m)\u001b[49m\n\u001b[1;32m    147\u001b[0m operator \u001b[38;5;241m=\u001b[39m create_operator(env, ships, ports, config)\n\u001b[1;32m    149\u001b[0m n_days \u001b[38;5;241m=\u001b[39m \u001b[38;5;241m60\u001b[39m\n",
      "File \u001b[0;32m~/src/digitaltwin-waterway/dtv_backend/dtv_backend/simulate.py:210\u001b[0m, in \u001b[0;36mcreate_ships\u001b[0;34m(env, config)\u001b[0m\n\u001b[1;32m    208\u001b[0m kwargs\u001b[38;5;241m.\u001b[39mupdate(ship)\n\u001b[1;32m    209\u001b[0m kwargs\u001b[38;5;241m.\u001b[39mupdate(ship[\u001b[38;5;124m\"\u001b[39m\u001b[38;5;124mproperties\u001b[39m\u001b[38;5;124m\"\u001b[39m])\n\u001b[0;32m--> 210\u001b[0m kwargs[\u001b[38;5;124m\"\u001b[39m\u001b[38;5;124mv\u001b[39m\u001b[38;5;124m\"\u001b[39m] \u001b[38;5;241m=\u001b[39m \u001b[38;5;28mfloat\u001b[39m(\u001b[43mship\u001b[49m\u001b[43m[\u001b[49m\u001b[38;5;124;43m\"\u001b[39;49m\u001b[38;5;124;43mproperties\u001b[39;49m\u001b[38;5;124;43m\"\u001b[39;49m\u001b[43m]\u001b[49m\u001b[43m[\u001b[49m\u001b[38;5;124;43m\"\u001b[39;49m\u001b[38;5;124;43mVelocity [m/s]\u001b[39;49m\u001b[38;5;124;43m\"\u001b[39;49m\u001b[43m]\u001b[49m)\n\u001b[1;32m    211\u001b[0m kwargs[\u001b[38;5;124m\"\u001b[39m\u001b[38;5;124mL\u001b[39m\u001b[38;5;124m\"\u001b[39m] \u001b[38;5;241m=\u001b[39m \u001b[38;5;28mfloat\u001b[39m(ship[\u001b[38;5;124m\"\u001b[39m\u001b[38;5;124mproperties\u001b[39m\u001b[38;5;124m\"\u001b[39m][\u001b[38;5;124m\"\u001b[39m\u001b[38;5;124mLength [m]\u001b[39m\u001b[38;5;124m\"\u001b[39m])\n\u001b[1;32m    212\u001b[0m kwargs[\u001b[38;5;124m\"\u001b[39m\u001b[38;5;124mB\u001b[39m\u001b[38;5;124m\"\u001b[39m] \u001b[38;5;241m=\u001b[39m \u001b[38;5;28mfloat\u001b[39m(ship[\u001b[38;5;124m\"\u001b[39m\u001b[38;5;124mproperties\u001b[39m\u001b[38;5;124m\"\u001b[39m][\u001b[38;5;124m\"\u001b[39m\u001b[38;5;124mBeam [m]\u001b[39m\u001b[38;5;124m\"\u001b[39m])\n",
      "\u001b[0;31mKeyError\u001b[0m: 'Velocity [m/s]'"
     ]
    }
   ],
   "source": [
    "resp = v3_dtv_backend_simulate(config)"
   ]
  },
  {
   "cell_type": "code",
   "execution_count": null,
   "metadata": {},
   "outputs": [],
   "source": [
    "gdf = gpd.GeoDataFrame.from_features(resp['log'])\n",
    "gdf.head(n=20)"
   ]
  },
  {
   "cell_type": "code",
   "execution_count": null,
   "metadata": {},
   "outputs": [],
   "source": [
    "fig = px.timeline(\n",
    "    gdf, x_start=\"Start\", x_end=\"Stop\", y=\"Name\", color=\"Actor\", opacity=0.3\n",
    ")\n",
    "\n",
    "fig.update_yaxes(autorange=\"reversed\")\n"
   ]
  },
  {
   "cell_type": "code",
   "execution_count": null,
   "metadata": {},
   "outputs": [],
   "source": []
  },
  {
   "cell_type": "code",
   "execution_count": null,
   "metadata": {},
   "outputs": [],
   "source": []
  }
 ],
 "metadata": {
  "kernelspec": {
   "display_name": "Python 3 (ipykernel)",
   "language": "python",
   "name": "python3"
  },
  "language_info": {
   "codemirror_mode": {
    "name": "ipython",
    "version": 3
   },
   "file_extension": ".py",
   "mimetype": "text/x-python",
   "name": "python",
   "nbconvert_exporter": "python",
   "pygments_lexer": "ipython3",
   "version": "3.9.15"
  }
 },
 "nbformat": 4,
 "nbformat_minor": 4
}
