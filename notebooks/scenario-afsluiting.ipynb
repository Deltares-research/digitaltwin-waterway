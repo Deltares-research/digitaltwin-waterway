{
 "cells": [
  {
   "cell_type": "code",
   "execution_count": 39,
   "metadata": {
    "collapsed": true
   },
   "outputs": [],
   "source": [
    "# all internal libraries\n",
    "import pathlib\n",
    "import time\n",
    "import datetime\n",
    "import io\n",
    "import urllib\n",
    "import tempfile\n",
    "\n",
    "# dependencies\n",
    "import shapely.geometry\n",
    "import networkx as nx\n",
    "import simpy\n",
    "import numpy as np\n",
    "import pandas as pd\n",
    "\n",
    "# our software\n",
    "import opentnsim.core\n",
    "\n",
    "%matplotlib inline"
   ]
  },
  {
   "cell_type": "code",
   "execution_count": 40,
   "metadata": {
    "collapsed": true
   },
   "outputs": [],
   "source": [
    "# link to the latets version of the network\n",
    "url = 'https://zenodo.org/record/3981105/files/network_digital_twin_v0.1.yaml'\n"
   ]
  },
  {
   "cell_type": "code",
   "execution_count": 41,
   "metadata": {
    "collapsed": true
   },
   "outputs": [],
   "source": [
    "# Reading network (might take a few minutes on a slow connection)\n",
    "\n",
    "# Create a temporary file\n",
    "f = tempfile.NamedTemporaryFile()\n",
    "f.close()\n",
    "\n",
    "urllib.request.urlretrieve(url, f.name)\n",
    "G = nx.read_yaml(f.name)\n",
    "\n",
    "# Making geometry really a geometry type\n",
    "for n in G.nodes:\n",
    "    G.nodes[n]['geometry'] = shapely.geometry.Point(G.nodes[n]['X'], G.nodes[n]['Y'])\n",
    "    \n",
    "del f"
   ]
  },
  {
   "cell_type": "markdown",
   "metadata": {},
   "source": [
    "## Repeat for real case"
   ]
  },
  {
   "cell_type": "code",
   "execution_count": 42,
   "metadata": {
    "collapsed": true
   },
   "outputs": [],
   "source": [
    "# Creating a library of some interesting locations\n",
    "def find_closest_node(G, point):\n",
    "    \"\"\" Find the node on graph G that is closest to the given \n",
    "    shapely.geometry.Point point \"\"\"\n",
    "    distance = np.full((len(G.nodes)), fill_value=np.nan)\n",
    "    for ii, n in enumerate(G.nodes):\n",
    "        distance[ii] = point.distance(G.nodes[n]['geometry'])\n",
    "    name_node = list(G.nodes)[np.argmin(distance)]\n",
    "    distance_node = np.min(distance)\n",
    "    return name_node, distance_node\n",
    "\n",
    "# some interesting locations\n",
    "locations = {\n",
    "    'Transferium Maasvlakte': shapely.geometry.Point(4.087406, 51.936737),\n",
    "    'Neusse': shapely.geometry.Point(6.708892, 51.215737),\n",
    "    'Basel': shapely.geometry.Point(7.640572, 47.555449)\n",
    "}\n",
    "\n",
    "# find the closest nodes on the graph\n",
    "locations_nodes = {n: find_closest_node(G, locations[n])[0] for n in locations}\n"
   ]
  },
  {
   "cell_type": "code",
   "execution_count": 43,
   "metadata": {
    "collapsed": true
   },
   "outputs": [],
   "source": [
    "# Find basic route\n",
    "start_point = locations_nodes['Transferium Maasvlakte']\n",
    "end_point = locations_nodes['Basel']\n",
    "path = nx.dijkstra_path(G, start_point, end_point, weight='Length')"
   ]
  },
  {
   "cell_type": "code",
   "execution_count": 76,
   "metadata": {},
   "outputs": [
    {
     "name": "stdout",
     "output_type": "stream",
     "text": [
      "Edges have resources? False\n"
     ]
    }
   ],
   "source": [
    "# define environment\n",
    "env = simpy.Environment()\n",
    "\n",
    "# set time for simulation\n",
    "simulation_start = datetime.datetime(2018, 7, 1)\n",
    "env = simpy.Environment(initial_time = time.mktime(simulation_start.timetuple()))\n",
    "env.epoch = time.mktime(simulation_start.timetuple())\n",
    "\n",
    "# Add graph to environment\n",
    "env.FG = G\n",
    "\n",
    "# quick check on the graph: do the edges have resources?\n",
    "edge = env.FG.edges[8864523.0,8864358.0]\n",
    "print(f'Edges have resources? {\"Resources\" in edge.keys()}')"
   ]
  },
  {
   "cell_type": "code",
   "execution_count": 45,
   "metadata": {
    "collapsed": true
   },
   "outputs": [],
   "source": [
    "# Make a transport resource class out of mix-ins\n",
    "TransportResource = type('TransportResource', \n",
    "                         (opentnsim.core.Identifiable, opentnsim.core.ContainerDependentMovable, \n",
    "                          opentnsim.core.HasResource, opentnsim.core.Routeable), {})\n",
    "\n",
    "# For testing purposes we only want v to be 1, whether empty or loaded\n",
    "def compute_v_provider(v_empty, v_full):\n",
    "    return lambda x: 1\n",
    "\n",
    "# Define vessel data, but do not yet link to env or route\n",
    "data_vessel = {\"env\": None,\n",
    "               \"name\": \"Vessel number 1\",\n",
    "               \"route\": None,\n",
    "               \"geometry\": G.nodes[start_point]['geometry'],  # lon, lat\n",
    "               \"capacity\": 1_000,\n",
    "               \"compute_v\": compute_v_provider(v_empty=1, v_full=1)}\n"
   ]
  },
  {
   "cell_type": "code",
   "execution_count": 46,
   "metadata": {
    "collapsed": true
   },
   "outputs": [],
   "source": [
    "Node = type('Site', (opentnsim.core.Identifiable, opentnsim.core.Log, opentnsim.core.Locatable, opentnsim.core.HasResource), {})\n",
    "\n",
    "data_node_1 = {\"env\": [],\n",
    "               \"name\": \"Node 1\",\n",
    "               \"geometry\": G.nodes[start_point]['geometry']}\n",
    "data_node_2 = {\"env\": [],\n",
    "               \"name\": \"Node 2\",\n",
    "               \"geometry\": G.nodes[end_point]['geometry']}\n",
    "\n",
    "node_1 = Node(**data_node_1)\n",
    "node_2 = Node(**data_node_2)\n",
    "\n",
    "nodes = [node_1, node_2]\n"
   ]
  },
  {
   "cell_type": "code",
   "execution_count": 49,
   "metadata": {},
   "outputs": [],
   "source": [
    "# create the transport processing resource\n",
    "vessel1 = TransportResource(**data_vessel)\n",
    "\n",
    "# Add the vessel to the environment, and define the start and end point\n",
    "vessel1.env = env\n",
    "vessel1.start_loc = start_point\n",
    "vessel1.end_loc = end_point\n",
    "\n",
    "# also define its current location as the start point for now\n",
    "vessel1.current_loc = start_point\n",
    "\n",
    "# add the route\n",
    "vessel1.route = path\n",
    "\n",
    "# check route\n",
    "#vessel1.route"
   ]
  },
  {
   "cell_type": "code",
   "execution_count": 50,
   "metadata": {},
   "outputs": [],
   "source": [
    "# create the transport processing resource\n",
    "vessel2 = TransportResource(**data_vessel)\n",
    "\n",
    "# Add the vessel to the environment, and define the start and end point\n",
    "vessel2.env = env\n",
    "vessel2.start_loc = start_point\n",
    "vessel2.end_loc = end_point\n",
    "\n",
    "# also define its current location as the start point for now\n",
    "vessel2.current_loc = start_point\n",
    "\n",
    "#--> seems as though this path is sailed even though it is updated on the while loop of the start function\n",
    "\n",
    "# add the route (is it needed to add it as an empty list?)\n",
    "#vessel2.route = []\n",
    "\n",
    "# check route\n",
    "#vessel2.route"
   ]
  },
  {
   "cell_type": "code",
   "execution_count": 51,
   "metadata": {
    "collapsed": true
   },
   "outputs": [],
   "source": [
    "# simply move a vessel accross a predefined route\n",
    "def start(env, vessel):\n",
    "    yield from vessel.move()\n",
    "    "
   ]
  },
  {
   "cell_type": "code",
   "execution_count": 52,
   "metadata": {},
   "outputs": [],
   "source": [
    "# function to sail vessel with route decision\n",
    "def start_dynamic(env, vessel):\n",
    "    \"\"\" Have a vessel sail from start_point to end_point, while after every\n",
    "    egde passed checking if the current route is still available\"\"\"\n",
    "    # while vessel.location is not end_location\n",
    "    # bepaal de kortste route van huidige locatie naar eindpunt\n",
    "    # neem eerste edge uit deze route en zet deze als route in de vessel\n",
    "    # move vessel over deze 'route'\n",
    "    # ergens daartussen: if t>100 zet een edge op de nog te volgen route op weight 999999\n",
    "    # schip moet nu een alternatieve route kiezen\n",
    "    while vessel.current_loc != vessel.end_loc:\n",
    "        # determine the shortest path from the current to the end location\n",
    "        shortest_path = nx.dijkstra_path(G, vessel.current_loc, vessel.end_loc, weight='Length')\n",
    "        # make sure the vessel passes only the first edge in the route\n",
    "        vessel.route = [shortest_path[0], shortest_path[1]]\n",
    "        # make sure the current location is now updated\n",
    "        vessel.current_loc = shortest_path[1]\n",
    "        yield from vessel.move()\n"
   ]
  },
  {
   "cell_type": "code",
   "execution_count": 53,
   "metadata": {
    "collapsed": true
   },
   "outputs": [],
   "source": [
    "# add the processes and run the environments\n",
    "env.process(start(env, vessel1))\n",
    "env.process(start_dynamic(env, vessel2))\n",
    "env.run()"
   ]
  },
  {
   "cell_type": "code",
   "execution_count": 55,
   "metadata": {},
   "outputs": [
    {
     "data": {
      "text/html": [
       "<div>\n",
       "<style scoped>\n",
       "    .dataframe tbody tr th:only-of-type {\n",
       "        vertical-align: middle;\n",
       "    }\n",
       "\n",
       "    .dataframe tbody tr th {\n",
       "        vertical-align: top;\n",
       "    }\n",
       "\n",
       "    .dataframe thead th {\n",
       "        text-align: right;\n",
       "    }\n",
       "</style>\n",
       "<table border=\"1\" class=\"dataframe\">\n",
       "  <thead>\n",
       "    <tr style=\"text-align: right;\">\n",
       "      <th></th>\n",
       "      <th>Message</th>\n",
       "      <th>Timestamp</th>\n",
       "      <th>Value</th>\n",
       "      <th>Geometry</th>\n",
       "    </tr>\n",
       "  </thead>\n",
       "  <tbody>\n",
       "    <tr>\n",
       "      <th>0</th>\n",
       "      <td>Sailing from node 22161408.0 to node 22161426....</td>\n",
       "      <td>2018-07-01 00:00:00.000000</td>\n",
       "      <td>0</td>\n",
       "      <td>POINT (4.08441957198572 51.9376698026918)</td>\n",
       "    </tr>\n",
       "    <tr>\n",
       "      <th>1</th>\n",
       "      <td>Sailing from node 22161408.0 to node 22161426....</td>\n",
       "      <td>2018-07-01 00:03:48.775496</td>\n",
       "      <td>0</td>\n",
       "      <td>POINT (4.08575840028067 51.9395520396609)</td>\n",
       "    </tr>\n",
       "    <tr>\n",
       "      <th>2</th>\n",
       "      <td>Sailing from node 22161426.0 to node 8863826.0...</td>\n",
       "      <td>2018-07-01 00:03:48.775496</td>\n",
       "      <td>0</td>\n",
       "      <td>POINT (4.08575840028067 51.9395520396609)</td>\n",
       "    </tr>\n",
       "    <tr>\n",
       "      <th>3</th>\n",
       "      <td>Sailing from node 22161426.0 to node 8863826.0...</td>\n",
       "      <td>2018-07-01 00:05:40.134353</td>\n",
       "      <td>0</td>\n",
       "      <td>POINT (4.08419044915029 51.9398020492115)</td>\n",
       "    </tr>\n",
       "    <tr>\n",
       "      <th>4</th>\n",
       "      <td>Sailing from node 8863826.0 to node 8861217.0 ...</td>\n",
       "      <td>2018-07-01 00:05:40.134353</td>\n",
       "      <td>0</td>\n",
       "      <td>POINT (4.08419044915029 51.9398020492115)</td>\n",
       "    </tr>\n",
       "    <tr>\n",
       "      <th>311</th>\n",
       "      <td>Sailing from node L1291004_A to node L1282583_...</td>\n",
       "      <td>2018-07-09 05:26:10.683577</td>\n",
       "      <td>0</td>\n",
       "      <td>POINT (7.525972546373181 47.65249561253358)</td>\n",
       "    </tr>\n",
       "    <tr>\n",
       "      <th>312</th>\n",
       "      <td>Sailing from node L1282583_B to node L1282583_...</td>\n",
       "      <td>2018-07-09 05:26:10.683577</td>\n",
       "      <td>0</td>\n",
       "      <td>POINT (7.525972546373181 47.65249561253358)</td>\n",
       "    </tr>\n",
       "    <tr>\n",
       "      <th>313</th>\n",
       "      <td>Sailing from node L1282583_B to node L1282583_...</td>\n",
       "      <td>2018-07-09 05:26:50.479620</td>\n",
       "      <td>0</td>\n",
       "      <td>POINT (7.526214770586178 47.65217729283479)</td>\n",
       "    </tr>\n",
       "    <tr>\n",
       "      <th>314</th>\n",
       "      <td>Sailing from node L1282583_A to node FN16 start</td>\n",
       "      <td>2018-07-09 05:26:50.479620</td>\n",
       "      <td>0</td>\n",
       "      <td>POINT (7.526214770586178 47.65217729283479)</td>\n",
       "    </tr>\n",
       "    <tr>\n",
       "      <th>315</th>\n",
       "      <td>Sailing from node L1282583_A to node FN16 stop</td>\n",
       "      <td>2018-07-09 08:06:40.148480</td>\n",
       "      <td>0</td>\n",
       "      <td>POINT (7.584361254015838 47.57540886152157)</td>\n",
       "    </tr>\n",
       "  </tbody>\n",
       "</table>\n",
       "</div>"
      ],
      "text/plain": [
       "                                               Message  \\\n",
       "0    Sailing from node 22161408.0 to node 22161426....   \n",
       "1    Sailing from node 22161408.0 to node 22161426....   \n",
       "2    Sailing from node 22161426.0 to node 8863826.0...   \n",
       "3    Sailing from node 22161426.0 to node 8863826.0...   \n",
       "4    Sailing from node 8863826.0 to node 8861217.0 ...   \n",
       "311  Sailing from node L1291004_A to node L1282583_...   \n",
       "312  Sailing from node L1282583_B to node L1282583_...   \n",
       "313  Sailing from node L1282583_B to node L1282583_...   \n",
       "314    Sailing from node L1282583_A to node FN16 start   \n",
       "315     Sailing from node L1282583_A to node FN16 stop   \n",
       "\n",
       "                     Timestamp  Value  \\\n",
       "0   2018-07-01 00:00:00.000000      0   \n",
       "1   2018-07-01 00:03:48.775496      0   \n",
       "2   2018-07-01 00:03:48.775496      0   \n",
       "3   2018-07-01 00:05:40.134353      0   \n",
       "4   2018-07-01 00:05:40.134353      0   \n",
       "311 2018-07-09 05:26:10.683577      0   \n",
       "312 2018-07-09 05:26:10.683577      0   \n",
       "313 2018-07-09 05:26:50.479620      0   \n",
       "314 2018-07-09 05:26:50.479620      0   \n",
       "315 2018-07-09 08:06:40.148480      0   \n",
       "\n",
       "                                        Geometry  \n",
       "0      POINT (4.08441957198572 51.9376698026918)  \n",
       "1      POINT (4.08575840028067 51.9395520396609)  \n",
       "2      POINT (4.08575840028067 51.9395520396609)  \n",
       "3      POINT (4.08419044915029 51.9398020492115)  \n",
       "4      POINT (4.08419044915029 51.9398020492115)  \n",
       "311  POINT (7.525972546373181 47.65249561253358)  \n",
       "312  POINT (7.525972546373181 47.65249561253358)  \n",
       "313  POINT (7.526214770586178 47.65217729283479)  \n",
       "314  POINT (7.526214770586178 47.65217729283479)  \n",
       "315  POINT (7.584361254015838 47.57540886152157)  "
      ]
     },
     "execution_count": 55,
     "metadata": {},
     "output_type": "execute_result"
    }
   ],
   "source": [
    "# check the log of vessel 1\n",
    "df1 = pd.DataFrame.from_dict(vessel1.log)\n",
    "df1.head(6).append(df1.tail(6))"
   ]
  },
  {
   "cell_type": "code",
   "execution_count": 57,
   "metadata": {},
   "outputs": [
    {
     "data": {
      "text/html": [
       "<div>\n",
       "<style scoped>\n",
       "    .dataframe tbody tr th:only-of-type {\n",
       "        vertical-align: middle;\n",
       "    }\n",
       "\n",
       "    .dataframe tbody tr th {\n",
       "        vertical-align: top;\n",
       "    }\n",
       "\n",
       "    .dataframe thead th {\n",
       "        text-align: right;\n",
       "    }\n",
       "</style>\n",
       "<table border=\"1\" class=\"dataframe\">\n",
       "  <thead>\n",
       "    <tr style=\"text-align: right;\">\n",
       "      <th></th>\n",
       "      <th>Message</th>\n",
       "      <th>Timestamp</th>\n",
       "      <th>Value</th>\n",
       "      <th>Geometry</th>\n",
       "    </tr>\n",
       "  </thead>\n",
       "  <tbody>\n",
       "    <tr>\n",
       "      <th>0</th>\n",
       "      <td>Sailing from node 22161408.0 to node 22161426....</td>\n",
       "      <td>2018-07-01 00:00:00.000000</td>\n",
       "      <td>0</td>\n",
       "      <td>POINT (4.08441957198572 51.9376698026918)</td>\n",
       "    </tr>\n",
       "    <tr>\n",
       "      <th>1</th>\n",
       "      <td>Sailing from node 22161408.0 to node 22161426....</td>\n",
       "      <td>2018-07-01 00:03:48.775496</td>\n",
       "      <td>0</td>\n",
       "      <td>POINT (4.08575840028067 51.9395520396609)</td>\n",
       "    </tr>\n",
       "    <tr>\n",
       "      <th>2</th>\n",
       "      <td>Sailing from node 22161426.0 to node 8863826.0...</td>\n",
       "      <td>2018-07-01 00:03:48.775496</td>\n",
       "      <td>0</td>\n",
       "      <td>POINT (4.08575840028067 51.9395520396609)</td>\n",
       "    </tr>\n",
       "    <tr>\n",
       "      <th>3</th>\n",
       "      <td>Sailing from node 22161426.0 to node 8863826.0...</td>\n",
       "      <td>2018-07-01 00:05:40.134353</td>\n",
       "      <td>0</td>\n",
       "      <td>POINT (4.08419044915029 51.9398020492115)</td>\n",
       "    </tr>\n",
       "    <tr>\n",
       "      <th>4</th>\n",
       "      <td>Sailing from node 8863826.0 to node 8861217.0 ...</td>\n",
       "      <td>2018-07-01 00:05:40.134353</td>\n",
       "      <td>0</td>\n",
       "      <td>POINT (4.08419044915029 51.9398020492115)</td>\n",
       "    </tr>\n",
       "    <tr>\n",
       "      <th>5</th>\n",
       "      <td>Sailing from node 8863826.0 to node 8861217.0 ...</td>\n",
       "      <td>2018-07-01 00:13:00.370939</td>\n",
       "      <td>0</td>\n",
       "      <td>POINT (4.07845167182249 51.94155542604053)</td>\n",
       "    </tr>\n",
       "    <tr>\n",
       "      <th>310</th>\n",
       "      <td>Sailing from node L1291004_A to node L1282583_...</td>\n",
       "      <td>2018-07-09 01:51:22.732756</td>\n",
       "      <td>0</td>\n",
       "      <td>POINT (7.526428831640564 47.76841000341269)</td>\n",
       "    </tr>\n",
       "    <tr>\n",
       "      <th>311</th>\n",
       "      <td>Sailing from node L1291004_A to node L1282583_...</td>\n",
       "      <td>2018-07-09 05:26:10.683577</td>\n",
       "      <td>0</td>\n",
       "      <td>POINT (7.525972546373181 47.65249561253358)</td>\n",
       "    </tr>\n",
       "    <tr>\n",
       "      <th>312</th>\n",
       "      <td>Sailing from node L1282583_B to node L1282583_...</td>\n",
       "      <td>2018-07-09 05:26:10.683577</td>\n",
       "      <td>0</td>\n",
       "      <td>POINT (7.525972546373181 47.65249561253358)</td>\n",
       "    </tr>\n",
       "    <tr>\n",
       "      <th>313</th>\n",
       "      <td>Sailing from node L1282583_B to node L1282583_...</td>\n",
       "      <td>2018-07-09 05:26:50.479620</td>\n",
       "      <td>0</td>\n",
       "      <td>POINT (7.526214770586178 47.65217729283479)</td>\n",
       "    </tr>\n",
       "    <tr>\n",
       "      <th>314</th>\n",
       "      <td>Sailing from node L1282583_A to node FN16 start</td>\n",
       "      <td>2018-07-09 05:26:50.479620</td>\n",
       "      <td>0</td>\n",
       "      <td>POINT (7.526214770586178 47.65217729283479)</td>\n",
       "    </tr>\n",
       "    <tr>\n",
       "      <th>315</th>\n",
       "      <td>Sailing from node L1282583_A to node FN16 stop</td>\n",
       "      <td>2018-07-09 08:06:40.148480</td>\n",
       "      <td>0</td>\n",
       "      <td>POINT (7.584361254015838 47.57540886152157)</td>\n",
       "    </tr>\n",
       "  </tbody>\n",
       "</table>\n",
       "</div>"
      ],
      "text/plain": [
       "                                               Message  \\\n",
       "0    Sailing from node 22161408.0 to node 22161426....   \n",
       "1    Sailing from node 22161408.0 to node 22161426....   \n",
       "2    Sailing from node 22161426.0 to node 8863826.0...   \n",
       "3    Sailing from node 22161426.0 to node 8863826.0...   \n",
       "4    Sailing from node 8863826.0 to node 8861217.0 ...   \n",
       "5    Sailing from node 8863826.0 to node 8861217.0 ...   \n",
       "310  Sailing from node L1291004_A to node L1282583_...   \n",
       "311  Sailing from node L1291004_A to node L1282583_...   \n",
       "312  Sailing from node L1282583_B to node L1282583_...   \n",
       "313  Sailing from node L1282583_B to node L1282583_...   \n",
       "314    Sailing from node L1282583_A to node FN16 start   \n",
       "315     Sailing from node L1282583_A to node FN16 stop   \n",
       "\n",
       "                     Timestamp  Value  \\\n",
       "0   2018-07-01 00:00:00.000000      0   \n",
       "1   2018-07-01 00:03:48.775496      0   \n",
       "2   2018-07-01 00:03:48.775496      0   \n",
       "3   2018-07-01 00:05:40.134353      0   \n",
       "4   2018-07-01 00:05:40.134353      0   \n",
       "5   2018-07-01 00:13:00.370939      0   \n",
       "310 2018-07-09 01:51:22.732756      0   \n",
       "311 2018-07-09 05:26:10.683577      0   \n",
       "312 2018-07-09 05:26:10.683577      0   \n",
       "313 2018-07-09 05:26:50.479620      0   \n",
       "314 2018-07-09 05:26:50.479620      0   \n",
       "315 2018-07-09 08:06:40.148480      0   \n",
       "\n",
       "                                        Geometry  \n",
       "0      POINT (4.08441957198572 51.9376698026918)  \n",
       "1      POINT (4.08575840028067 51.9395520396609)  \n",
       "2      POINT (4.08575840028067 51.9395520396609)  \n",
       "3      POINT (4.08419044915029 51.9398020492115)  \n",
       "4      POINT (4.08419044915029 51.9398020492115)  \n",
       "5     POINT (4.07845167182249 51.94155542604053)  \n",
       "310  POINT (7.526428831640564 47.76841000341269)  \n",
       "311  POINT (7.525972546373181 47.65249561253358)  \n",
       "312  POINT (7.525972546373181 47.65249561253358)  \n",
       "313  POINT (7.526214770586178 47.65217729283479)  \n",
       "314  POINT (7.526214770586178 47.65217729283479)  \n",
       "315  POINT (7.584361254015838 47.57540886152157)  "
      ]
     },
     "execution_count": 57,
     "metadata": {},
     "output_type": "execute_result"
    }
   ],
   "source": [
    "# check the log of vessel 2\n",
    "df2 = pd.DataFrame.from_dict(vessel2.log)\n",
    "df2.head(6).append(df2.tail(6))"
   ]
  },
  {
   "cell_type": "code",
   "execution_count": 58,
   "metadata": {},
   "outputs": [
    {
     "data": {
      "text/plain": [
       "<matplotlib.axes._subplots.AxesSubplot at 0x2a14a016e80>"
      ]
     },
     "execution_count": 58,
     "metadata": {},
     "output_type": "execute_result"
    },
    {
     "data": {
      "image/png": "[encoded data removed]",
      "text/plain": [
       "<Figure size 432x288 with 1 Axes>"
      ]
     },
     "metadata": {},
     "output_type": "display_data"
    }
   ],
   "source": [
    "# get log and plot track of vessel 1\n",
    "df1['x'] = df.Geometry.apply(lambda geom: geom.x)\n",
    "df1['y'] = df.Geometry.apply(lambda geom: geom.y)\n",
    "df1.plot('x', 'y')"
   ]
  },
  {
   "cell_type": "code",
   "execution_count": 59,
   "metadata": {},
   "outputs": [
    {
     "data": {
      "text/plain": [
       "<matplotlib.axes._subplots.AxesSubplot at 0x2a14a0f95c0>"
      ]
     },
     "execution_count": 59,
     "metadata": {},
     "output_type": "execute_result"
    },
    {
     "data": {
      "image/png": "[encoded data removed]",
      "text/plain": [
       "<Figure size 432x288 with 1 Axes>"
      ]
     },
     "metadata": {},
     "output_type": "display_data"
    }
   ],
   "source": [
    "# get log and plot track of vessel 2\n",
    "df2['x'] = df.Geometry.apply(lambda geom: geom.x)\n",
    "df2['y'] = df.Geometry.apply(lambda geom: geom.y)\n",
    "df2.plot('x', 'y')"
   ]
  },
  {
   "cell_type": "code",
   "execution_count": null,
   "metadata": {
    "collapsed": true
   },
   "outputs": [],
   "source": []
  }
 ],
 "metadata": {
  "kernelspec": {
   "display_name": "Python 3",
   "language": "python",
   "name": "python3"
  },
  "language_info": {
   "codemirror_mode": {
    "name": "ipython",
    "version": 3
   },
   "file_extension": ".py",
   "mimetype": "text/x-python",
   "name": "python",
   "nbconvert_exporter": "python",
   "pygments_lexer": "ipython3",
   "version": "3.6.1"
  }
 },
 "nbformat": 4,
 "nbformat_minor": 4
}
