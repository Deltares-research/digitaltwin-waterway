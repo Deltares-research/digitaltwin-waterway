{
 "cells": [
  {
   "cell_type": "code",
   "execution_count": 1,
   "metadata": {
    "collapsed": true
   },
   "outputs": [],
   "source": [
    "# all internal libraries\n",
    "import pathlib\n",
    "import time\n",
    "import datetime\n",
    "import io\n",
    "import urllib\n",
    "import tempfile\n",
    "\n",
    "# dependencies\n",
    "import shapely.geometry\n",
    "import networkx as nx\n",
    "import simpy\n",
    "import numpy as np\n",
    "import pandas as pd\n",
    "import geopandas as gpd\n",
    "import matplotlib.pyplot as plt\n",
    "\n",
    "# our software\n",
    "import opentnsim.core\n",
    "\n",
    "%matplotlib inline"
   ]
  },
  {
   "cell_type": "code",
   "execution_count": 2,
   "metadata": {
    "collapsed": true
   },
   "outputs": [],
   "source": [
    "# link to the latets version of the network\n",
    "url = 'https://zenodo.org/record/3981105/files/network_digital_twin_v0.1.yaml'\n"
   ]
  },
  {
   "cell_type": "code",
   "execution_count": 3,
   "metadata": {
    "collapsed": true
   },
   "outputs": [],
   "source": [
    "# Reading network (might take a few minutes on a slow connection)\n",
    "\n",
    "# Create a temporary file\n",
    "f = tempfile.NamedTemporaryFile()\n",
    "f.close()\n",
    "\n",
    "urllib.request.urlretrieve(url, f.name)\n",
    "G = nx.read_yaml(f.name)\n",
    "\n",
    "# Making geometry really a geometry type\n",
    "for n in G.nodes:\n",
    "    G.nodes[n]['geometry'] = shapely.geometry.Point(G.nodes[n]['X'], G.nodes[n]['Y'])\n",
    "    \n",
    "del f"
   ]
  },
  {
   "cell_type": "markdown",
   "metadata": {},
   "source": [
    "## Repeat for real case"
   ]
  },
  {
   "cell_type": "code",
   "execution_count": 4,
   "metadata": {
    "collapsed": true
   },
   "outputs": [],
   "source": [
    "# Creating a library of some interesting locations\n",
    "def find_closest_node(G, point):\n",
    "    \"\"\" Find the node on graph G that is closest to the given \n",
    "    shapely.geometry.Point point \"\"\"\n",
    "    distance = np.full((len(G.nodes)), fill_value=np.nan)\n",
    "    for ii, n in enumerate(G.nodes):\n",
    "        distance[ii] = point.distance(G.nodes[n]['geometry'])\n",
    "    name_node = list(G.nodes)[np.argmin(distance)]\n",
    "    distance_node = np.min(distance)\n",
    "    return name_node, distance_node\n",
    "\n",
    "# some interesting locations\n",
    "locations = {\n",
    "    'Transferium Maasvlakte': shapely.geometry.Point(4.087406, 51.936737),\n",
    "    'Neusse': shapely.geometry.Point(6.708892, 51.215737),\n",
    "    'Basel': shapely.geometry.Point(7.640572, 47.555449),\n",
    "    'Nijmegen': shapely.geometry.Point(5.8161152, 51.8570535),\n",
    "    'Waal at St. Andries': shapely.geometry.Point(5.350339, 51.803965)\n",
    "}\n",
    "\n",
    "# find the closest nodes on the graph\n",
    "locations_nodes = {n: find_closest_node(G, locations[n])[0] for n in locations}\n"
   ]
  },
  {
   "cell_type": "code",
   "execution_count": 5,
   "metadata": {
    "collapsed": true
   },
   "outputs": [],
   "source": [
    "# define environment\n",
    "env = simpy.Environment()\n",
    "\n",
    "# set time for simulation\n",
    "simulation_start = datetime.datetime(2018, 7, 1)\n",
    "env = simpy.Environment(initial_time = time.mktime(simulation_start.timetuple()))\n",
    "env.epoch = time.mktime(simulation_start.timetuple())\n",
    "\n",
    "# Add graph to environment\n",
    "env.FG = G.copy()"
   ]
  },
  {
   "cell_type": "code",
   "execution_count": 6,
   "metadata": {},
   "outputs": [
    {
     "name": "stdout",
     "output_type": "stream",
     "text": [
      "The blocking is in the path: True\n",
      "Edges have resources? False\n"
     ]
    }
   ],
   "source": [
    "# Find basic route\n",
    "start_point = locations_nodes['Transferium Maasvlakte']\n",
    "end_point = locations_nodes['Nijmegen']\n",
    "path = nx.dijkstra_path(env.FG, start_point, end_point, weight='Length')\n",
    "\n",
    "# blockin at...\n",
    "blocking = locations_nodes['Waal at St. Andries']\n",
    "\n",
    "# assert that the blocking is in the route\n",
    "print(f'The blocking is in the path: {blocking in path}')\n",
    "assert blocking in path, 'Blocking should be in the shortest path'\n",
    "\n",
    "# quick check on the graph: do the edges have resources?\n",
    "edge = list(env.FG.edges(blocking))[0]\n",
    "print(f'Edges have resources? {\"Resources\" in env.FG.edges[edge].keys()}')"
   ]
  },
  {
   "cell_type": "code",
   "execution_count": 7,
   "metadata": {
    "collapsed": true
   },
   "outputs": [],
   "source": [
    "# get all edges connecting to St. Andries\n",
    "blocked_edges = []\n",
    "for edge in env.FG.edges():\n",
    "    if blocking in edge:\n",
    "        blocked_edges.append(edge)\n",
    "\n",
    "# set a trigger (node) for the edge to be blocked 2/4 of the way towards the blocked node\n",
    "index = int(path.index(blocking)*(2/4))\n",
    "trigger_node = path[index]"
   ]
  },
  {
   "cell_type": "code",
   "execution_count": 8,
   "metadata": {
    "collapsed": true
   },
   "outputs": [],
   "source": [
    "# Make a transport resource class out of mix-ins\n",
    "TransportResource = type('TransportResource', \n",
    "                         (opentnsim.core.Identifiable, opentnsim.core.ContainerDependentMovable, \n",
    "                          opentnsim.core.HasResource, opentnsim.core.Routeable), {})\n",
    "\n",
    "# For testing purposes we only want v to be 1, whether empty or loaded\n",
    "def compute_v_provider(v_empty, v_full):\n",
    "    return lambda x: 1\n",
    "\n",
    "# Define vessel data, but do not yet link to env or route\n",
    "data_vessel = {\"env\": None,\n",
    "               \"name\": \"Vessel number 1\",\n",
    "               \"route\": None,\n",
    "               \"geometry\": G.nodes[start_point]['geometry'],  # lon, lat\n",
    "               \"capacity\": 1_000,\n",
    "               \"compute_v\": compute_v_provider(v_empty=1, v_full=1)}\n"
   ]
  },
  {
   "cell_type": "code",
   "execution_count": 9,
   "metadata": {
    "collapsed": true
   },
   "outputs": [],
   "source": [
    "# create the transport processing resource\n",
    "vessel1 = TransportResource(**data_vessel)\n",
    "\n",
    "# Add the vessel to the environment, and define the start and end point\n",
    "vessel1.env = env\n",
    "vessel1.start_loc = start_point\n",
    "vessel1.end_loc = end_point\n",
    "\n",
    "# also define its current location as the start point for now\n",
    "vessel1.current_loc = start_point\n",
    "\n",
    "# add the route\n",
    "vessel1.route = path\n",
    "\n",
    "# check route\n",
    "#vessel1.route"
   ]
  },
  {
   "cell_type": "code",
   "execution_count": 10,
   "metadata": {
    "collapsed": true
   },
   "outputs": [],
   "source": [
    "# create the transport processing resource\n",
    "vessel2 = TransportResource(**data_vessel)\n",
    "\n",
    "# Add the vessel to the environment, and define the start and end point\n",
    "vessel2.env = env\n",
    "vessel2.start_loc = start_point\n",
    "vessel2.end_loc = end_point\n",
    "\n",
    "# also define its current location as the start point for now\n",
    "vessel2.current_loc = start_point\n",
    "\n",
    "#--> seems as though this path is sailed even though it is updated on the while loop of the start function\n",
    "\n",
    "# add the route (is it needed to add it as an empty list?)\n",
    "#vessel2.route = []\n",
    "\n",
    "# check route\n",
    "#vessel2.route"
   ]
  },
  {
   "cell_type": "code",
   "execution_count": 11,
   "metadata": {
    "collapsed": true
   },
   "outputs": [],
   "source": [
    "# simply move a vessel accross a predefined route\n",
    "def start(env, vessel):\n",
    "    yield from vessel.move()\n",
    "    "
   ]
  },
  {
   "cell_type": "code",
   "execution_count": 12,
   "metadata": {
    "collapsed": true
   },
   "outputs": [],
   "source": [
    "# function to sail vessel with route decision\n",
    "def start_dynamic(env, vessel, blocked_edges, trigger_node):\n",
    "    \"\"\" Have a vessel sail from start_point to end_point, while after every\n",
    "    egde passed checking if the current route is still available\"\"\"\n",
    "    # while vessel's current location is not end location\n",
    "    while vessel.current_loc != vessel.end_loc:\n",
    "        # activate blockage if triggered\n",
    "        if vessel.current_loc == trigger_node:\n",
    "            for blocked_edge in blocked_edges:\n",
    "                env.FG.edges[blocked_edge]['Length'] = 999999\n",
    "        # determine the shortest path from the current to the end location given the current conditions\n",
    "        shortest_path = nx.dijkstra_path(env.FG, vessel.current_loc, vessel.end_loc, weight='Length')\n",
    "        # make sure the vessel passes only the first edge in the route\n",
    "        vessel.route = [shortest_path[0], shortest_path[1]]\n",
    "        # make sure the current location is now updated\n",
    "        vessel.current_loc = shortest_path[1]\n",
    "        yield from vessel.move()\n",
    "    "
   ]
  },
  {
   "cell_type": "code",
   "execution_count": 13,
   "metadata": {
    "collapsed": true
   },
   "outputs": [],
   "source": [
    "# add the processes and run the environments\n",
    "env.process(start(env, vessel1))\n",
    "env.process(start_dynamic(env, vessel2, blocked_edges, trigger_node))\n",
    "env.run()"
   ]
  },
  {
   "cell_type": "code",
   "execution_count": 14,
   "metadata": {},
   "outputs": [
    {
     "data": {
      "text/html": [
       "<div>\n",
       "<style scoped>\n",
       "    .dataframe tbody tr th:only-of-type {\n",
       "        vertical-align: middle;\n",
       "    }\n",
       "\n",
       "    .dataframe tbody tr th {\n",
       "        vertical-align: top;\n",
       "    }\n",
       "\n",
       "    .dataframe thead th {\n",
       "        text-align: right;\n",
       "    }\n",
       "</style>\n",
       "<table border=\"1\" class=\"dataframe\">\n",
       "  <thead>\n",
       "    <tr style=\"text-align: right;\">\n",
       "      <th></th>\n",
       "      <th>Message</th>\n",
       "      <th>Timestamp</th>\n",
       "      <th>Value</th>\n",
       "      <th>Geometry</th>\n",
       "    </tr>\n",
       "  </thead>\n",
       "  <tbody>\n",
       "    <tr>\n",
       "      <th>0</th>\n",
       "      <td>Sailing from node 22161408.0 to node 22161426....</td>\n",
       "      <td>2018-07-01 00:00:00.000000</td>\n",
       "      <td>0</td>\n",
       "      <td>POINT (4.08441957198572 51.9376698026918)</td>\n",
       "    </tr>\n",
       "    <tr>\n",
       "      <th>1</th>\n",
       "      <td>Sailing from node 22161408.0 to node 22161426....</td>\n",
       "      <td>2018-07-01 00:03:48.775496</td>\n",
       "      <td>0</td>\n",
       "      <td>POINT (4.08575840028067 51.9395520396609)</td>\n",
       "    </tr>\n",
       "    <tr>\n",
       "      <th>2</th>\n",
       "      <td>Sailing from node 22161426.0 to node 8863826.0...</td>\n",
       "      <td>2018-07-01 00:03:48.775496</td>\n",
       "      <td>0</td>\n",
       "      <td>POINT (4.08575840028067 51.9395520396609)</td>\n",
       "    </tr>\n",
       "    <tr>\n",
       "      <th>3</th>\n",
       "      <td>Sailing from node 22161426.0 to node 8863826.0...</td>\n",
       "      <td>2018-07-01 00:05:40.134353</td>\n",
       "      <td>0</td>\n",
       "      <td>POINT (4.08419044915029 51.9398020492115)</td>\n",
       "    </tr>\n",
       "    <tr>\n",
       "      <th>234</th>\n",
       "      <td>Sailing from node 8864190.0 to node L49032_B s...</td>\n",
       "      <td>2018-07-02 15:33:13.740234</td>\n",
       "      <td>0</td>\n",
       "      <td>POINT (5.82339965181606 51.8543638231455)</td>\n",
       "    </tr>\n",
       "    <tr>\n",
       "      <th>235</th>\n",
       "      <td>Sailing from node 8864190.0 to node L49032_B stop</td>\n",
       "      <td>2018-07-02 15:35:20.274571</td>\n",
       "      <td>0</td>\n",
       "      <td>POINT (5.822588443819979 51.85334354929841)</td>\n",
       "    </tr>\n",
       "    <tr>\n",
       "      <th>236</th>\n",
       "      <td>Sailing from node L49032_B to node L49032_A start</td>\n",
       "      <td>2018-07-02 15:35:20.274571</td>\n",
       "      <td>0</td>\n",
       "      <td>POINT (5.822588443819979 51.85334354929841)</td>\n",
       "    </tr>\n",
       "    <tr>\n",
       "      <th>237</th>\n",
       "      <td>Sailing from node L49032_B to node L49032_A stop</td>\n",
       "      <td>2018-07-02 15:35:59.104869</td>\n",
       "      <td>0</td>\n",
       "      <td>POINT (5.822339504594138 51.85303045304829)</td>\n",
       "    </tr>\n",
       "  </tbody>\n",
       "</table>\n",
       "</div>"
      ],
      "text/plain": [
       "                                               Message  \\\n",
       "0    Sailing from node 22161408.0 to node 22161426....   \n",
       "1    Sailing from node 22161408.0 to node 22161426....   \n",
       "2    Sailing from node 22161426.0 to node 8863826.0...   \n",
       "3    Sailing from node 22161426.0 to node 8863826.0...   \n",
       "234  Sailing from node 8864190.0 to node L49032_B s...   \n",
       "235  Sailing from node 8864190.0 to node L49032_B stop   \n",
       "236  Sailing from node L49032_B to node L49032_A start   \n",
       "237   Sailing from node L49032_B to node L49032_A stop   \n",
       "\n",
       "                     Timestamp  Value  \\\n",
       "0   2018-07-01 00:00:00.000000      0   \n",
       "1   2018-07-01 00:03:48.775496      0   \n",
       "2   2018-07-01 00:03:48.775496      0   \n",
       "3   2018-07-01 00:05:40.134353      0   \n",
       "234 2018-07-02 15:33:13.740234      0   \n",
       "235 2018-07-02 15:35:20.274571      0   \n",
       "236 2018-07-02 15:35:20.274571      0   \n",
       "237 2018-07-02 15:35:59.104869      0   \n",
       "\n",
       "                                        Geometry  \n",
       "0      POINT (4.08441957198572 51.9376698026918)  \n",
       "1      POINT (4.08575840028067 51.9395520396609)  \n",
       "2      POINT (4.08575840028067 51.9395520396609)  \n",
       "3      POINT (4.08419044915029 51.9398020492115)  \n",
       "234    POINT (5.82339965181606 51.8543638231455)  \n",
       "235  POINT (5.822588443819979 51.85334354929841)  \n",
       "236  POINT (5.822588443819979 51.85334354929841)  \n",
       "237  POINT (5.822339504594138 51.85303045304829)  "
      ]
     },
     "execution_count": 14,
     "metadata": {},
     "output_type": "execute_result"
    }
   ],
   "source": [
    "# check the log of vessel 1\n",
    "df1 = pd.DataFrame.from_dict(vessel1.log)\n",
    "df1.head(4).append(df1.tail(4))"
   ]
  },
  {
   "cell_type": "code",
   "execution_count": 15,
   "metadata": {},
   "outputs": [
    {
     "data": {
      "text/html": [
       "<div>\n",
       "<style scoped>\n",
       "    .dataframe tbody tr th:only-of-type {\n",
       "        vertical-align: middle;\n",
       "    }\n",
       "\n",
       "    .dataframe tbody tr th {\n",
       "        vertical-align: top;\n",
       "    }\n",
       "\n",
       "    .dataframe thead th {\n",
       "        text-align: right;\n",
       "    }\n",
       "</style>\n",
       "<table border=\"1\" class=\"dataframe\">\n",
       "  <thead>\n",
       "    <tr style=\"text-align: right;\">\n",
       "      <th></th>\n",
       "      <th>Message</th>\n",
       "      <th>Timestamp</th>\n",
       "      <th>Value</th>\n",
       "      <th>Geometry</th>\n",
       "    </tr>\n",
       "  </thead>\n",
       "  <tbody>\n",
       "    <tr>\n",
       "      <th>0</th>\n",
       "      <td>Sailing from node 22161408.0 to node 22161426....</td>\n",
       "      <td>2018-07-01 00:00:00.000000</td>\n",
       "      <td>0</td>\n",
       "      <td>POINT (4.08441957198572 51.9376698026918)</td>\n",
       "    </tr>\n",
       "    <tr>\n",
       "      <th>1</th>\n",
       "      <td>Sailing from node 22161408.0 to node 22161426....</td>\n",
       "      <td>2018-07-01 00:03:48.775496</td>\n",
       "      <td>0</td>\n",
       "      <td>POINT (4.08575840028067 51.9395520396609)</td>\n",
       "    </tr>\n",
       "    <tr>\n",
       "      <th>2</th>\n",
       "      <td>Sailing from node 22161426.0 to node 8863826.0...</td>\n",
       "      <td>2018-07-01 00:03:48.775496</td>\n",
       "      <td>0</td>\n",
       "      <td>POINT (4.08575840028067 51.9395520396609)</td>\n",
       "    </tr>\n",
       "    <tr>\n",
       "      <th>3</th>\n",
       "      <td>Sailing from node 22161426.0 to node 8863826.0...</td>\n",
       "      <td>2018-07-01 00:05:40.134353</td>\n",
       "      <td>0</td>\n",
       "      <td>POINT (4.08419044915029 51.9398020492115)</td>\n",
       "    </tr>\n",
       "    <tr>\n",
       "      <th>238</th>\n",
       "      <td>Sailing from node 8864190.0 to node L49032_B s...</td>\n",
       "      <td>2018-07-02 14:52:14.382366</td>\n",
       "      <td>0</td>\n",
       "      <td>POINT (5.82339965181606 51.8543638231455)</td>\n",
       "    </tr>\n",
       "    <tr>\n",
       "      <th>239</th>\n",
       "      <td>Sailing from node 8864190.0 to node L49032_B stop</td>\n",
       "      <td>2018-07-02 14:54:20.916704</td>\n",
       "      <td>0</td>\n",
       "      <td>POINT (5.822588443819979 51.85334354929841)</td>\n",
       "    </tr>\n",
       "    <tr>\n",
       "      <th>240</th>\n",
       "      <td>Sailing from node L49032_B to node L49032_A start</td>\n",
       "      <td>2018-07-02 14:54:20.916704</td>\n",
       "      <td>0</td>\n",
       "      <td>POINT (5.822588443819979 51.85334354929841)</td>\n",
       "    </tr>\n",
       "    <tr>\n",
       "      <th>241</th>\n",
       "      <td>Sailing from node L49032_B to node L49032_A stop</td>\n",
       "      <td>2018-07-02 14:54:59.747001</td>\n",
       "      <td>0</td>\n",
       "      <td>POINT (5.822339504594138 51.85303045304829)</td>\n",
       "    </tr>\n",
       "  </tbody>\n",
       "</table>\n",
       "</div>"
      ],
      "text/plain": [
       "                                               Message  \\\n",
       "0    Sailing from node 22161408.0 to node 22161426....   \n",
       "1    Sailing from node 22161408.0 to node 22161426....   \n",
       "2    Sailing from node 22161426.0 to node 8863826.0...   \n",
       "3    Sailing from node 22161426.0 to node 8863826.0...   \n",
       "238  Sailing from node 8864190.0 to node L49032_B s...   \n",
       "239  Sailing from node 8864190.0 to node L49032_B stop   \n",
       "240  Sailing from node L49032_B to node L49032_A start   \n",
       "241   Sailing from node L49032_B to node L49032_A stop   \n",
       "\n",
       "                     Timestamp  Value  \\\n",
       "0   2018-07-01 00:00:00.000000      0   \n",
       "1   2018-07-01 00:03:48.775496      0   \n",
       "2   2018-07-01 00:03:48.775496      0   \n",
       "3   2018-07-01 00:05:40.134353      0   \n",
       "238 2018-07-02 14:52:14.382366      0   \n",
       "239 2018-07-02 14:54:20.916704      0   \n",
       "240 2018-07-02 14:54:20.916704      0   \n",
       "241 2018-07-02 14:54:59.747001      0   \n",
       "\n",
       "                                        Geometry  \n",
       "0      POINT (4.08441957198572 51.9376698026918)  \n",
       "1      POINT (4.08575840028067 51.9395520396609)  \n",
       "2      POINT (4.08575840028067 51.9395520396609)  \n",
       "3      POINT (4.08419044915029 51.9398020492115)  \n",
       "238    POINT (5.82339965181606 51.8543638231455)  \n",
       "239  POINT (5.822588443819979 51.85334354929841)  \n",
       "240  POINT (5.822588443819979 51.85334354929841)  \n",
       "241  POINT (5.822339504594138 51.85303045304829)  "
      ]
     },
     "execution_count": 15,
     "metadata": {},
     "output_type": "execute_result"
    }
   ],
   "source": [
    "# check the log of vessel 2\n",
    "df2 = pd.DataFrame.from_dict(vessel2.log)\n",
    "df2.head(4).append(df2.tail(4))"
   ]
  },
  {
   "cell_type": "code",
   "execution_count": 16,
   "metadata": {},
   "outputs": [
    {
     "data": {
      "text/plain": [
       "<matplotlib.axes._subplots.AxesSubplot at 0x12863032860>"
      ]
     },
     "execution_count": 16,
     "metadata": {},
     "output_type": "execute_result"
    },
    {
     "data": {
      "image/png": "[encoded data removed]",
      "text/plain": [
       "<Figure size 432x288 with 1 Axes>"
      ]
     },
     "metadata": {},
     "output_type": "display_data"
    }
   ],
   "source": [
    "# create figure\n",
    "fix, ax = plt.subplots()\n",
    "\n",
    "# get log and plot track of vessel 1\n",
    "df1['x'] = df1.Geometry.apply(lambda geom: geom.x)\n",
    "df1['y'] = df1.Geometry.apply(lambda geom: geom.y)\n",
    "df1.plot('x', 'y', label='vessel1', ax=ax)\n",
    "\n",
    "# get log and plot track of vessel 2\n",
    "df2['x'] = df2.Geometry.apply(lambda geom: geom.x)\n",
    "df2['y'] = df2.Geometry.apply(lambda geom: geom.y)\n",
    "df2.plot('x', 'y', label='vessel2', ax=ax)"
   ]
  },
  {
   "cell_type": "code",
   "execution_count": 17,
   "metadata": {
    "collapsed": true
   },
   "outputs": [],
   "source": [
    "gdf1 = gpd.GeoDataFrame(df1.rename(columns={'Geometry':'geometry'}), crs=\"EPSG:4326\")\n",
    "gdf2 = gpd.GeoDataFrame(df2.rename(columns={'Geometry':'geometry'}), crs=\"EPSG:4326\")"
   ]
  },
  {
   "cell_type": "code",
   "execution_count": 18,
   "metadata": {},
   "outputs": [
    {
     "data": {
      "text/html": [
       "<div style=\"width:100%;\"><div style=\"position:relative;width:100%;height:0;padding-bottom:60%;\"><iframe src=\"data:text/html;charset=utf-8;base64,PCFET0NUWVBFIGh0bWw+CjxoZWFkPiAgICAKICAgIDxtZXRhIGh0dHAtZXF1aXY9ImNvbnRlbnQtdHlwZSIgY29udGVudD0idGV4dC9odG1sOyBjaGFyc2V0PVVURi04IiAvPgogICAgCiAgICAgICAgPHNjcmlwdD4KICAgICAgICAgICAgTF9OT19UT1VDSCA9IGZhbHNlOwogICAgICAgICAgICBMX0RJU0FCTEVfM0QgPSBmYWxzZTsKICAgICAgICA8L3NjcmlwdD4KICAgIAogICAgPHNjcmlwdCBzcmM9Imh0dHBzOi8vY2RuLmpzZGVsaXZyLm5ldC9ucG0vbGVhZmxldEAxLjUuMS9kaXN0L2xlYWZsZXQuanMiPjwvc2NyaXB0PgogICAgPHNjcmlwdCBzcmM9Imh0dHBzOi8vY29kZS5qcXVlcnkuY29tL2pxdWVyeS0xLjEyLjQubWluLmpzIj48L3NjcmlwdD4KICAgIDxzY3JpcHQgc3JjPSJodHRwczovL21heGNkbi5ib290c3RyYXBjZG4uY29tL2Jvb3RzdHJhcC8zLjIuMC9qcy9ib290c3RyYXAubWluLmpzIj48L3NjcmlwdD4KICAgIDxzY3JpcHQgc3JjPSJodHRwczovL2NkbmpzLmNsb3VkZmxhcmUuY29tL2FqYXgvbGlicy9MZWFmbGV0LmF3ZXNvbWUtbWFya2Vycy8yLjAuMi9sZWFmbGV0LmF3ZXNvbWUtbWFya2Vycy5qcyI+PC9zY3JpcHQ+CiAgICA8bGluayByZWw9InN0eWxlc2hlZXQiIGhyZWY9Imh0dHBzOi8vY2RuLmpzZGVsaXZyLm5ldC9ucG0vbGVhZmxldEAxLjUuMS9kaXN0L2xlYWZsZXQuY3NzIi8+CiAgICA8bGluayByZWw9InN0eWxlc2hlZXQiIGhyZWY9Imh0dHBzOi8vbWF4Y2RuLmJvb3RzdHJhcGNkbi5jb20vYm9vdHN0cmFwLzMuMi4wL2Nzcy9ib290c3RyYXAubWluLmNzcyIvPgogICAgPGxpbmsgcmVsPSJzdHlsZXNoZWV0IiBocmVmPSJodHRwczovL21heGNkbi5ib290c3RyYXBjZG4uY29tL2Jvb3RzdHJhcC8zLjIuMC9jc3MvYm9vdHN0cmFwLXRoZW1lLm1pbi5jc3MiLz4KICAgIDxsaW5rIHJlbD0ic3R5bGVzaGVldCIgaHJlZj0iaHR0cHM6Ly9tYXhjZG4uYm9vdHN0cmFwY2RuLmNvbS9mb250LWF3ZXNvbWUvNC42LjMvY3NzL2ZvbnQtYXdlc29tZS5taW4uY3NzIi8+CiAgICA8bGluayByZWw9InN0eWxlc2hlZXQiIGhyZWY9Imh0dHBzOi8vY2RuanMuY2xvdWRmbGFyZS5jb20vYWpheC9saWJzL0xlYWZsZXQuYXdlc29tZS1tYXJrZXJzLzIuMC4yL2xlYWZsZXQuYXdlc29tZS1tYXJrZXJzLmNzcyIvPgogICAgPGxpbmsgcmVsPSJzdHlsZXNoZWV0IiBocmVmPSJodHRwczovL3Jhd2Nkbi5naXRoYWNrLmNvbS9weXRob24tdmlzdWFsaXphdGlvbi9mb2xpdW0vbWFzdGVyL2ZvbGl1bS90ZW1wbGF0ZXMvbGVhZmxldC5hd2Vzb21lLnJvdGF0ZS5jc3MiLz4KICAgIDxzdHlsZT5odG1sLCBib2R5IHt3aWR0aDogMTAwJTtoZWlnaHQ6IDEwMCU7bWFyZ2luOiAwO3BhZGRpbmc6IDA7fTwvc3R5bGU+CiAgICA8c3R5bGU+I21hcCB7cG9zaXRpb246YWJzb2x1dGU7dG9wOjA7Ym90dG9tOjA7cmlnaHQ6MDtsZWZ0OjA7fTwvc3R5bGU+CiAgICAKICAgICAgICAgICAgPG1ldGEgbmFtZT0idmlld3BvcnQiIGNvbnRlbnQ9IndpZHRoPWRldmljZS13aWR0aCwKICAgICAgICAgICAgICAgIGluaXRpYWwtc2NhbGU9MS4wLCBtYXhpbXVtLXNjYWxlPTEuMCwgdXNlci1zY2FsYWJsZT1ubyIgLz4KICAgICAgICAgICAgPHN0eWxlPgogICAgICAgICAgICAgICAgI21hcF8yNWU2ZjExMzQzZDg0Njg1OTI4ZDVhYzAzNzg1YjNmOSB7CiAgICAgICAgICAgICAgICAgICAgcG9zaXRpb246IHJlbGF0aXZlOwogICAgICAgICAgICAgICAgICAgIHdpZHRoOiAxMDAuMCU7CiAgICAgICAgICAgICAgICAgICAgaGVpZ2h0OiAxMDAuMCU7CiAgICAgICAgICAgICAgICAgICAgbGVmdDogMC4wJTsKICAgICAgICAgICAgICAgICAgICB0b3A6IDAuMCU7CiAgICAgICAgICAgICAgICB9CiAgICAgICAgICAgIDwvc3R5bGU+CiAgICAgICAgCjwvaGVhZD4KPGJvZHk+ICAgIAogICAgCiAgICAgICAgICAgIDxkaXYgY2xhc3M9ImZvbGl1bS1tYXAiIGlkPSJtYXBfMjVlNmYxMTM0M2Q4NDY4NTkyOGQ1YWMwMzc4NWIzZjkiID48L2Rpdj4KICAgICAgICAKPC9ib2R5Pgo8c2NyaXB0PiAgICAKICAgIAogICAgICAgICAgICB2YXIgbWFwXzI1ZTZmMTEzNDNkODQ2ODU5MjhkNWFjMDM3ODViM2Y5ID0gTC5tYXAoCiAgICAgICAgICAgICAgICAibWFwXzI1ZTZmMTEzNDNkODQ2ODU5MjhkNWFjMDM3ODViM2Y5IiwKICAgICAgICAgICAgICAgIHsKICAgICAgICAgICAgICAgICAgICBjZW50ZXI6IFs1Mi4wLCA1LjBdLAogICAgICAgICAgICAgICAgICAgIGNyczogTC5DUlMuRVBTRzM4NTcsCiAgICAgICAgICAgICAgICAgICAgem9vbTogOSwKICAgICAgICAgICAgICAgICAgICB6b29tQ29udHJvbDogdHJ1ZSwKICAgICAgICAgICAgICAgICAgICBwcmVmZXJDYW52YXM6IGZhbHNlLAogICAgICAgICAgICAgICAgfQogICAgICAgICAgICApOwoKICAgICAgICAgICAgCgogICAgICAgIAogICAgCiAgICAgICAgICAgIHZhciB0aWxlX2xheWVyX2IxMDM0NDFiZGQ0ZjQ5NzBhZDNmMjI0MDgyZDJhNjdkID0gTC50aWxlTGF5ZXIoCiAgICAgICAgICAgICAgICAiaHR0cHM6Ly97c30udGlsZS5vcGVuc3RyZWV0bWFwLm9yZy97en0ve3h9L3t5fS5wbmciLAogICAgICAgICAgICAgICAgeyJhdHRyaWJ1dGlvbiI6ICJEYXRhIGJ5IFx1MDAyNmNvcHk7IFx1MDAzY2EgaHJlZj1cImh0dHA6Ly9vcGVuc3RyZWV0bWFwLm9yZ1wiXHUwMDNlT3BlblN0cmVldE1hcFx1MDAzYy9hXHUwMDNlLCB1bmRlciBcdTAwM2NhIGhyZWY9XCJodHRwOi8vd3d3Lm9wZW5zdHJlZXRtYXAub3JnL2NvcHlyaWdodFwiXHUwMDNlT0RiTFx1MDAzYy9hXHUwMDNlLiIsICJkZXRlY3RSZXRpbmEiOiBmYWxzZSwgIm1heE5hdGl2ZVpvb20iOiAxOCwgIm1heFpvb20iOiAxOCwgIm1pblpvb20iOiAwLCAibm9XcmFwIjogZmFsc2UsICJvcGFjaXR5IjogMSwgInN1YmRvbWFpbnMiOiAiYWJjIiwgInRtcyI6IGZhbHNlfQogICAgICAgICAgICApLmFkZFRvKG1hcF8yNWU2ZjExMzQzZDg0Njg1OTI4ZDVhYzAzNzg1YjNmOSk7CiAgICAgICAgCiAgICAKICAgICAgICBmdW5jdGlvbiBnZW9fanNvbl80NTA2MDczYjUxZjE0MjRkYjE0MzUxZGJkYThmZTcwNl9zdHlsZXIoZmVhdHVyZSkgewogICAgICAgICAgICBzd2l0Y2goZmVhdHVyZS5pZCkgewogICAgICAgICAgICAgICAgZGVmYXVsdDoKICAgICAgICAgICAgICAgICAgICByZXR1cm4geyJjb2xvciI6ICIjZmYwMDAwIiwgImZpbGxDb2xvciI6ICIjZmYwMDAwIiwgImxpbmVfb3BhY2l0eSI6IDAuNX07CiAgICAgICAgICAgIH0KICAgICAgICB9CiAgICAgICAgZnVuY3Rpb24gZ2VvX2pzb25fNDUwNjA3M2I1MWYxNDI0ZGIxNDM1MWRiZGE4ZmU3MDZfb25FYWNoRmVhdHVyZShmZWF0dXJlLCBsYXllcikgewogICAgICAgICAgICBsYXllci5vbih7CiAgICAgICAgICAgICAgICBjbGljazogZnVuY3Rpb24oZSkgewogICAgICAgICAgICAgICAgICAgIG1hcF8yNWU2ZjExMzQzZDg0Njg1OTI4ZDVhYzAzNzg1YjNmOS5maXRCb3VuZHMoZS50YXJnZXQuZ2V0Qm91bmRzKCkpOwogICAgICAgICAgICAgICAgfQogICAgICAgICAgICB9KTsKICAgICAgICB9OwogICAgICAgIHZhciBnZW9fanNvbl80NTA2MDczYjUxZjE0MjRkYjE0MzUxZGJkYThmZTcwNiA9IEwuZ2VvSnNvbihudWxsLCB7CiAgICAgICAgICAgICAgICBvbkVhY2hGZWF0dXJlOiBnZW9fanNvbl80NTA2MDczYjUxZjE0MjRkYjE0MzUxZGJkYThmZTcwNl9vbkVhY2hGZWF0dXJlLAogICAgICAgICAgICAKICAgICAgICAgICAgICAgIHN0eWxlOiBnZW9fanNvbl80NTA2MDczYjUxZjE0MjRkYjE0MzUxZGJkYThmZTcwNl9zdHlsZXIsCiAgICAgICAgfSkuYWRkVG8obWFwXzI1ZTZmMTEzNDNkODQ2ODU5MjhkNWFjMDM3ODViM2Y5KTsKICAgICAgICAgICAgZ2VvX2pzb25fNDUwNjA3M2I1MWYxNDI0ZGIxNDM1MWRiZGE4ZmU3MDYuYWRkRGF0YSh7ImZlYXR1cmVzIjogW3siZ2VvbWV0cnkiOiB7ImNvb3JkaW5hdGVzIjogW1s0LjA4NDQxOTU3MTk4NTcyLCA1MS45Mzc2Njk4MDI2OTE4XSwgWzQuMDg1NzU4NDAwMjgwNjcsIDUxLjkzOTU1MjAzOTY2MDldLCBbNC4wODU3NTg0MDAyODA2NywgNTEuOTM5NTUyMDM5NjYwOV0sIFs0LjA4NDE5MDQ0OTE1MDI5LCA1MS45Mzk4MDIwNDkyMTE1XSwgWzQuMDg0MTkwNDQ5MTUwMjksIDUxLjkzOTgwMjA0OTIxMTVdLCBbNC4wNzg0NTE2NzE4MjI0OSwgNTEuOTQxNTU1NDI2MDQwNTNdLCBbNC4wNzg0NTE2NzE4MjI0OSwgNTEuOTQxNTU1NDI2MDQwNTNdLCBbNC4wODE5NDExMjM5NjMyNiwgNTEuOTUwNzY2NjgzNzI3OV0sIFs0LjA4MTk0MTEyMzk2MzI2LCA1MS45NTA3NjY2ODM3Mjc5XSwgWzQuMDgyNzkyMDU1Nzg2MzEsIDUxLjk1MzAyMzQzMTA1ODA5XSwgWzQuMDgyNzkyMDU1Nzg2MzEsIDUxLjk1MzAyMzQzMTA1ODA5XSwgWzQuMDg1ODg3MzMxMjg5MjUsIDUxLjk2MTE3NDk4MDA1NDZdLCBbNC4wODU4ODczMzEyODkyNSwgNTEuOTYxMTc0OTgwMDU0Nl0sIFs0LjA4NzQ1NTUxNTgyOTg0LCA1MS45NjUzMDkzNzQxNTUyXSwgWzQuMDg3NDU1NTE1ODI5ODQsIDUxLjk2NTMwOTM3NDE1NTJdLCBbNC4wOTAwMjM5NzY4Mzc1OCwgNTEuOTcyMTA2NTg3ODYxOV0sIFs0LjA5MDAyMzk3NjgzNzU4LCA1MS45NzIxMDY1ODc4NjE5XSwgWzQuMDkxMTczNzU5NDI1MTksIDUxLjk3NTEzMDYzNjk3MjRdLCBbNC4wOTExNzM3NTk0MjUxOSwgNTEuOTc1MTMwNjM2OTcyNF0sIFs0LjExOTUxMzE0OTQ5NjQsIDUxLjk2NzA3Njc2NDI4NzYwNF0sIFs0LjExOTUxMzE0OTQ5NjQsIDUxLjk2NzA3Njc2NDI4NzYwNF0sIFs0LjEyNDIzNTgyNzE3MDc4LCA1MS45NzM0MzQ3Njk3MTQ0XSwgWzQuMTI0MjM1ODI3MTcwNzgsIDUxLjk3MzQzNDc2OTcxNDRdLCBbNC4xNjUzMjQ0MjU1MDc5MjUsIDUxLjk1MzY5MjcyNzAyODMzXSwgWzQuMTY1MzI0NDI1NTA3OTI1LCA1MS45NTM2OTI3MjcwMjgzM10sIFs0LjE2NTQxMjA3NjQwMzAxNDUsIDUxLjk1MzY0NDU4ODQ3MjE2Nl0sIFs0LjE2NTQxMjA3NjQwMzAxNDUsIDUxLjk1MzY0NDU4ODQ3MjE2Nl0sIFs0LjE2NTcyNjg2MzI3MzYyLCA1MS45NTM0NzQ5MTgyMDI3XSwgWzQuMTY1NzI2ODYzMjczNjIsIDUxLjk1MzQ3NDkxODIwMjddLCBbNC4yNDQ4Mjg1NDEyODI4NDM1LCA1MS45MTM1MTQxMjUyMjM0NjVdLCBbNC4yNDQ4Mjg1NDEyODI4NDM1LCA1MS45MTM1MTQxMjUyMjM0NjVdLCBbNC4zMDk5MjU4Mjg3MDEyNiwgNTEuODk1MTg1NzE3NDcyODM1XSwgWzQuMzA5OTI1ODI4NzAxMjYsIDUxLjg5NTE4NTcxNzQ3MjgzNV0sIFs0LjMyMDAzODQ0NDAwNzYwMywgNTEuODk0NDQ1NzcyOTczMjZdLCBbNC4zMjAwMzg0NDQwMDc2MDMsIDUxLjg5NDQ0NTc3Mjk3MzI2XSwgWzQuMzIzMzk0OTc1ODkwOTYsIDUxLjg5NDE1MzkwNDg2Njc5XSwgWzQuMzIzMzk0OTc1ODkwOTYsIDUxLjg5NDE1MzkwNDg2Njc5XSwgWzQuMzM4MjA4MzY0NzkyNTYwNCwgNTEuODk0NTU0NTMxNTU2NzM2XSwgWzQuMzM4MjA4MzY0NzkyNTYwNCwgNTEuODk0NTU0NTMxNTU2NzM2XSwgWzQuMzUwMTM3ODE4ODY5MTYzLCA1MS44OTc2NTM2ODY3NzczNF0sIFs0LjM1MDEzNzgxODg2OTE2MywgNTEuODk3NjUzNjg2Nzc3MzRdLCBbNC4zNTU0MTkwMzQ4NzAxMSwgNTEuODk4OTA3NDA2Njc3Nl0sIFs0LjM1NTQxOTAzNDg3MDExLCA1MS44OTg5MDc0MDY2Nzc2XSwgWzQuMzY0NDk5MTc3ODEzNTEsIDUxLjg5OTQxNDc0NDEwNl0sIFs0LjM2NDQ5OTE3NzgxMzUxLCA1MS44OTk0MTQ3NDQxMDZdLCBbNC4zNjg5MzQ1MDkxNjkzNCwgNTEuODk5MTU3MzMzNDM3NzldLCBbNC4zNjg5MzQ1MDkxNjkzNCwgNTEuODk5MTU3MzMzNDM3NzldLCBbNC4zODAxNzA0ODIzMzY3NywgNTEuODk3Nzc5MjkzNTE4N10sIFs0LjM4MDE3MDQ4MjMzNjc3LCA1MS44OTc3NzkyOTM1MTg3XSwgWzQuMzg0MjkzNjY0MDAxNTksIDUxLjg5NzI3NTIyNzkxMjM5NV0sIFs0LjM4NDI5MzY2NDAwMTU5LCA1MS44OTcyNzUyMjc5MTIzOTVdLCBbNC4zOTUyNjczMzUwNTUyMSwgNTEuODk2MzQ0MTk5Mzc5MjldLCBbNC4zOTUyNjczMzUwNTUyMSwgNTEuODk2MzQ0MTk5Mzc5MjldLCBbNC4zOTUzOTk1MTE1NjA1NSwgNTEuODk2MzgwNzI1NDIyOF0sIFs0LjM5NTM5OTUxMTU2MDU1LCA1MS44OTYzODA3MjU0MjI4XSwgWzQuNDAyODI4MjQ5NTg5NDksIDUxLjg5ODE3ODA0Njk3NzJdLCBbNC40MDI4MjgyNDk1ODk0OSwgNTEuODk4MTc4MDQ2OTc3Ml0sIFs0LjQxMDA1MzIzNzEzODE2LCA1MS44OTk5MTk3NDQ0NjA3M10sIFs0LjQxMDA1MzIzNzEzODE2LCA1MS44OTk5MTk3NDQ0NjA3M10sIFs0LjQxMTM1ODE5MDY4OTcyLCA1MS45MDAxNDU4NDQ2MTQ1MV0sIFs0LjQxMTM1ODE5MDY4OTcyLCA1MS45MDAxNDU4NDQ2MTQ1MV0sIFs0LjQxNDAzNDAyNTQ4OTc0NiwgNTEuOTAwNjE3OTM2MzY3NjRdLCBbNC40MTQwMzQwMjU0ODk3NDYsIDUxLjkwMDYxNzkzNjM2NzY0XSwgWzQuNDI0NTA0NTQ4OTc2MDcsIDUxLjkwMjM1NzY3MzEyNDM5XSwgWzQuNDI0NTA0NTQ4OTc2MDcsIDUxLjkwMjM1NzY3MzEyNDM5XSwgWzQuNDI3MTkzMzE0NzE0MzUsIDUxLjkwMjMzNDcyNjc3MDZdLCBbNC40MjcxOTMzMTQ3MTQzNSwgNTEuOTAyMzM0NzI2NzcwNl0sIFs0LjQzMjcxOTc1MDc3NTk0LCA1MS45MDIxMTkwNzE3NDc2XSwgWzQuNDMyNzE5NzUwNzc1OTQsIDUxLjkwMjExOTA3MTc0NzZdLCBbNC40MzM4MDg4MzY0MTMzOSwgNTEuOTAyMDgzMjM3OTg0MDJdLCBbNC40MzM4MDg4MzY0MTMzOSwgNTEuOTAyMDgzMjM3OTg0MDJdLCBbNC40NDc5MTgwMjUwNzE1MywgNTEuOTAwMDkzMjIwNjI5ODldLCBbNC40NDc5MTgwMjUwNzE1MywgNTEuOTAwMDkzMjIwNjI5ODldLCBbNC40NDg0NTcwNjI5NTY2LCA1MS45MDAwMjU2MTc5NzcxXSwgWzQuNDQ4NDU3MDYyOTU2NiwgNTEuOTAwMDI1NjE3OTc3MV0sIFs0LjQ1MTE1MjYwMjQ1NjEyLCA1MS44OTk2Njk1OTI5NDQ4XSwgWzQuNDUxMTUyNjAyNDU2MTIsIDUxLjg5OTY2OTU5Mjk0NDhdLCBbNC40NTc2MjYwNzEyODcxOCwgNTEuODk5MzA3NDk5ODg2ODFdLCBbNC40NTc2MjYwNzEyODcxOCwgNTEuODk5MzA3NDk5ODg2ODFdLCBbNC40NjExNTU5NTk0MDgzOCwgNTEuODk5MzUzMzUwMTAwMDldLCBbNC40NjExNTU5NTk0MDgzOCwgNTEuODk5MzUzMzUwMTAwMDldLCBbNC40NjMzNzM1NDgyNDI1OCwgNTEuODk5NjIyNDkyMTMyNF0sIFs0LjQ2MzM3MzU0ODI0MjU4LCA1MS44OTk2MjI0OTIxMzI0XSwgWzQuNDY3NjYxOTYyMTg2NTA3LCA1MS45MDAxNDE3MDQ1MjE1M10sIFs0LjQ2NzY2MTk2MjE4NjUwNywgNTEuOTAwMTQxNzA0NTIxNTNdLCBbNC40Njg4OTE0NDAzODA4NSwgNTEuOTAwNTEwNjkwMTAzMl0sIFs0LjQ2ODg5MTQ0MDM4MDg1LCA1MS45MDA1MTA2OTAxMDMyXSwgWzQuNDc5NTM2MTkzNjIzNDQsIDUxLjkwNDQxMzYyMDIzXSwgWzQuNDc5NTM2MTkzNjIzNDQsIDUxLjkwNDQxMzYyMDIzXSwgWzQuNDgxMTExMzA1NjQ4NTcsIDUxLjkwNTcxOTY1MzAwNzddLCBbNC40ODExMTEzMDU2NDg1NywgNTEuOTA1NzE5NjUzMDA3N10sIFs0LjQ4NDYyMzA0NzYyMjE0LCA1MS45MDg2MzI2OTM1NjgyXSwgWzQuNDg0NjIzMDQ3NjIyMTQsIDUxLjkwODYzMjY5MzU2ODJdLCBbNC40ODU1MjMzNTY1MDE4OTIsIDUxLjkwOTQ2OTQ2ODI0MDA3Nl0sIFs0LjQ4NTUyMzM1NjUwMTg5MiwgNTEuOTA5NDY5NDY4MjQwMDc2XSwgWzQuNDg1NTgyNjU5NzgwNDg4LCA1MS45MDk1NDk5ODYwNzEzMl0sIFs0LjQ4NTU4MjY1OTc4MDQ4OCwgNTEuOTA5NTQ5OTg2MDcxMzJdLCBbNC40ODYxNjAyODc3NTkzOCwgNTEuOTEwMzM0MjQ4ODE3NF0sIFs0LjQ4NjE2MDI4Nzc1OTM4LCA1MS45MTAzMzQyNDg4MTc0XSwgWzQuNDk1NzEyOTQ5ODgzNTEzLCA1MS45MTcxMjAwMzk0NzUxM10sIFs0LjQ5NTcxMjk0OTg4MzUxMywgNTEuOTE3MTIwMDM5NDc1MTNdLCBbNC40OTU4MDkxMDMwNzQyNTEsIDUxLjkxNzE0NzUwODgwMTg2XSwgWzQuNDk1ODA5MTAzMDc0MjUxLCA1MS45MTcxNDc1MDg4MDE4Nl0sIFs0LjUwMDE3NzQwMzUzODg5LCA1MS45MTgwOTkyNzI1MjddLCBbNC41MDAxNzc0MDM1Mzg4OSwgNTEuOTE4MDk5MjcyNTI3XSwgWzQuNTA1OTY0NTA3MTg1NzIsIDUxLjkxNzI3MDg5ODg0NzNdLCBbNC41MDU5NjQ1MDcxODU3MiwgNTEuOTE3MjcwODk4ODQ3M10sIFs0LjUxNzIyNDc2MDM2MzQ2LCA1MS45MDU1MTY2NTYzOTY3MDZdLCBbNC41MTcyMjQ3NjAzNjM0NiwgNTEuOTA1NTE2NjU2Mzk2NzA2XSwgWzQuNTIxNTM4NjQ4NjAzOSwgNTEuOTAxMDk5MTAwNjg2N10sIFs0LjUyMTUzODY0ODYwMzksIDUxLjkwMTA5OTEwMDY4NjddLCBbNC41NDI3ODQzNjQ5NDA3MTI1LCA1MS45MDQwMTEzOTY2NzIzOF0sIFs0LjU0Mjc4NDM2NDk0MDcxMjUsIDUxLjkwNDAxMTM5NjY3MjM4XSwgWzQuNTQyODgyNzE4NzI2NDU3LCA1MS45MDQwMjk0NjY4OTE4XSwgWzQuNTQyODgyNzE4NzI2NDU3LCA1MS45MDQwMjk0NjY4OTE4XSwgWzQuNTQ3Mzc2NjAzNzc0OTUsIDUxLjkwNDg1NTExMzY5NTc5NV0sIFs0LjU0NzM3NjYwMzc3NDk1LCA1MS45MDQ4NTUxMTM2OTU3OTVdLCBbNC41NDg3NTMwODc4ODQ2OSwgNTEuOTA1MDcxNjgyNDYwODldLCBbNC41NDg3NTMwODc4ODQ2OSwgNTEuOTA1MDcxNjgyNDYwODldLCBbNC41NTM2MjAwODQyOTU0NjcsIDUxLjkwNTgzNDE4OTcwODRdLCBbNC41NTM2MjAwODQyOTU0NjcsIDUxLjkwNTgzNDE4OTcwODRdLCBbNC41ODA1NDA3OTIxMTA0LCA1MS45MDIxNzM2MTY3NjExXSwgWzQuNTgwNTQwNzkyMTEwNCwgNTEuOTAyMTczNjE2NzYxMV0sIFs0LjYxOTAwNTQ1NjkwNzIyMiwgNTEuODg5MzcxOTk0NzcyOTZdLCBbNC42MTkwMDU0NTY5MDcyMjIsIDUxLjg4OTM3MTk5NDc3Mjk2XSwgWzQuNjI5ODQ2MDcxODY1MDcxLCA1MS44NzYwODQ0MzI1NDUyN10sIFs0LjYyOTg0NjA3MTg2NTA3MSwgNTEuODc2MDg0NDMyNTQ1MjddLCBbNC42NTA4MzA2MDQ1MTM2NzQsIDUxLjg2MDExODkzNDY4NDgzNF0sIFs0LjY1MDgzMDYwNDUxMzY3NCwgNTEuODYwMTE4OTM0Njg0ODM0XSwgWzQuNjU0MjQ5OTM3OTA0ODk4LCA1MS44NTYzODEwOTUzODE4N10sIFs0LjY1NDI0OTkzNzkwNDg5OCwgNTEuODU2MzgxMDk1MzgxODddLCBbNC42NTQzMTU2MDY4MzgzODYsIDUxLjg1NjMwNTY3OTI2MTc0NV0sIFs0LjY1NDMxNTYwNjgzODM4NiwgNTEuODU2MzA1Njc5MjYxNzQ1XSwgWzQuNjU5MTU1MTc2MjQyMzgsIDUxLjg1MDc1MDYwNjA1MjYzNV0sIFs0LjY1OTE1NTE3NjI0MjM4LCA1MS44NTA3NTA2MDYwNTI2MzVdLCBbNC42NjkxNzcwNTI3MTEyOTM1LCA1MS44MjkzNDcxNjYzODEzM10sIFs0LjY2OTE3NzA1MjcxMTI5MzUsIDUxLjgyOTM0NzE2NjM4MTMzXSwgWzQuNjcxMDE4NjkzMjE0MzU0LCA1MS44MjIwODY1MDg5MTVdLCBbNC42NzEwMTg2OTMyMTQzNTQsIDUxLjgyMjA4NjUwODkxNV0sIFs0LjY3NjE1NzYxMzQ1OTA3NiwgNTEuODIwOTA0MjM3NDY2ODddLCBbNC42NzYxNTc2MTM0NTkwNzYsIDUxLjgyMDkwNDIzNzQ2Njg3XSwgWzQuNjg5NzA1NDAwODA1MzksIDUxLjgyMTY5NDQ4ODE0MTVdLCBbNC42ODk3MDU0MDA4MDUzOSwgNTEuODIxNjk0NDg4MTQxNV0sIFs0LjY5NTY0MTA2NDIwMjU5NywgNTEuODIyNTU3NTk3ODE4M10sIFs0LjY5NTY0MTA2NDIwMjU5NywgNTEuODIyNTU3NTk3ODE4M10sIFs0LjcwNTc1Mjg3NjA2NTA5NSwgNTEuODIzMzc2MzYyMTE4OV0sIFs0LjcwNTc1Mjg3NjA2NTA5NSwgNTEuODIzMzc2MzYyMTE4OV0sIFs0LjcwNTg1Mjg3NDAxMTg5OSwgNTEuODIzMzc1NzIxMzEwODJdLCBbNC43MDU4NTI4NzQwMTE4OTksIDUxLjgyMzM3NTcyMTMxMDgyXSwgWzQuNzA4NDM3MDY4ODM4ODM2LCA1MS44MjMzNjAyOTgxOTI3N10sIFs0LjcwODQzNzA2ODgzODgzNiwgNTEuODIzMzYwMjk4MTkyNzddLCBbNC43MTM2NzY3MDI2MTk0NCwgNTEuODIzMTQ3NzUzMDgwOTFdLCBbNC43MTM2NzY3MDI2MTk0NCwgNTEuODIzMTQ3NzUzMDgwOTFdLCBbNC43MjM0ODc0NTEwNTI1MjQsIDUxLjgyMjc5OTA4NjgzODE0XSwgWzQuNzIzNDg3NDUxMDUyNTI0LCA1MS44MjI3OTkwODY4MzgxNF0sIFs0LjczMzU0Nzk1NjY4MTgyMSwgNTEuODIyNDM5ODE5MDE3OTRdLCBbNC43MzM1NDc5NTY2ODE4MjEsIDUxLjgyMjQzOTgxOTAxNzk0XSwgWzQuNzQxNjUyOTc1MDM1NDg0NiwgNTEuODIyMjQ3MTg3Mzc2MjVdLCBbNC43NDE2NTI5NzUwMzU0ODQ2LCA1MS44MjIyNDcxODczNzYyNV0sIFs0Ljc0MTc1Mjk3NDMyODYzNiwgNTEuODIyMjQ3NTYzMzY3MjJdLCBbNC43NDE3NTI5NzQzMjg2MzYsIDUxLjgyMjI0NzU2MzM2NzIyXSwgWzQuNzU4MjA4NTMyOTI4MzQ1LCA1MS44MTkwMDg3MzkwNDkyNV0sIFs0Ljc1ODIwODUzMjkyODM0NSwgNTEuODE5MDA4NzM5MDQ5MjVdLCBbNC43ODI1MDQwNjIwMDg3NTQsIDUxLjgxNDk0ODg1OTk3Mjk2NV0sIFs0Ljc4MjUwNDA2MjAwODc1NCwgNTEuODE0OTQ4ODU5OTcyOTY1XSwgWzQuODI2NjgyMjcyMDcxNzIzLCA1MS44MTkxNTgzMjU2NzYzN10sIFs0LjgyNjY4MjI3MjA3MTcyMywgNTEuODE5MTU4MzI1Njc2MzddLCBbNC44NTMzMTYxMDgzMTcxMzM0LCA1MS44MTg0OTAwMTc2OTYwN10sIFs0Ljg1MzMxNjEwODMxNzEzMzQsIDUxLjgxODQ5MDAxNzY5NjA3XSwgWzQuODU1MDcyMDIyNTQzNDUzLCA1MS44MTg0MDgwOTc3MzU3MzRdLCBbNC44NTUwNzIwMjI1NDM0NTMsIDUxLjgxODQwODA5NzczNTczNF0sIFs0Ljg3MzA5NDI5MDE5NzIwMiwgNTEuODE3NjQzNDE1NjQxNDA2XSwgWzQuODczMDk0MjkwMTk3MjAyLCA1MS44MTc2NDM0MTU2NDE0MDZdLCBbNC44ODMxMTM2NTA1Njk2MSwgNTEuODE4NDc4ODM2MDQ5OV0sIFs0Ljg4MzExMzY1MDU2OTYxLCA1MS44MTg0Nzg4MzYwNDk5XSwgWzQuODkxNzEzOTc0Njc1OSwgNTEuODE5MzIyMDY1Njk5Ml0sIFs0Ljg5MTcxMzk3NDY3NTksIDUxLjgxOTMyMjA2NTY5OTJdLCBbNC45MzUxMjQ4NTg0NjMwNzQsIDUxLjgyODM3MjYxNDI1MDFdLCBbNC45MzUxMjQ4NTg0NjMwNzQsIDUxLjgyODM3MjYxNDI1MDFdLCBbNC45NDIzNzgyOTg2NjA3OTEsIDUxLjgyNzQ4MDkzMTc2NzIwNV0sIFs0Ljk0MjM3ODI5ODY2MDc5MSwgNTEuODI3NDgwOTMxNzY3MjA1XSwgWzQuOTQyNDc3NDEzMjg1NDQ3LCA1MS44Mjc0Njc2NTQyOTgzNDZdLCBbNC45NDI0Nzc0MTMyODU0NDcsIDUxLjgyNzQ2NzY1NDI5ODM0Nl0sIFs0Ljk1MTk5NTY2MDA3MDM4LCA1MS44MjYxNzUyNDQ0NTEyXSwgWzQuOTUxOTk1NjYwMDcwMzgsIDUxLjgyNjE3NTI0NDQ1MTJdLCBbNC45NTU2OTY4NDUxNDcyMDcsIDUxLjgyNTY3NDY5ODM1OTldLCBbNC45NTU2OTY4NDUxNDcyMDcsIDUxLjgyNTY3NDY5ODM1OTldLCBbNC45NjE2OTAyMjgyNDQ3NSwgNTEuODI0ODYwNzE4MTVdLCBbNC45NjE2OTAyMjgyNDQ3NSwgNTEuODI0ODYwNzE4MTVdLCBbNC45NzQ1MDY2NDQwMjA1OCwgNTEuODIyOTI1MTQ3Mzg1Ml0sIFs0Ljk3NDUwNjY0NDAyMDU4LCA1MS44MjI5MjUxNDczODUyXSwgWzUuMDAxODQ3NDUzNTM5MywgNTEuODIwOTY3NTUxMzU0ODA1XSwgWzUuMDAxODQ3NDUzNTM5MywgNTEuODIwOTY3NTUxMzU0ODA1XSwgWzUuMjI4NTAxMzg1NjU5OTIsIDUxLjgxMjU0NzMxMDA2ODA5XSwgWzUuMjI4NTAxMzg1NjU5OTIsIDUxLjgxMjU0NzMxMDA2ODA5XSwgWzUuMjM1OTAxMDUzOTkzNjMsIDUxLjgxNDc4OTU0MDMxMjJdLCBbNS4yMzU5MDEwNTM5OTM2MywgNTEuODE0Nzg5NTQwMzEyMl0sIFs1LjI0MzIzMTM4NjQyNTQ4LCA1MS44MTY0Nzk2MjkyMjA3XSwgWzUuMjQzMjMxMzg2NDI1NDgsIDUxLjgxNjQ3OTYyOTIyMDddLCBbNS4yNjAwMTg3MDAzNTkwNDcsIDUxLjgxODM2ODQxNjk2NDhdLCBbNS4yNjAwMTg3MDAzNTkwNDcsIDUxLjgxODM2ODQxNjk2NDhdLCBbNS4yNjAxMTg0MjY1MjUyMzg1LCA1MS44MTgzNzU4MTIzNTM2OF0sIFs1LjI2MDExODQyNjUyNTIzODUsIDUxLjgxODM3NTgxMjM1MzY4XSwgWzUuMjYxMzc4OTY2ODI3OTk1LCA1MS44MTg0NjkyOTAxODQ5Ml0sIFs1LjI2MTM3ODk2NjgyNzk5NSwgNTEuODE4NDY5MjkwMTg0OTJdLCBbNS4yNjE0Nzg2OTI5OTQxODcsIDUxLjgxODQ3NjY4NTU3MzhdLCBbNS4yNjE0Nzg2OTI5OTQxODcsIDUxLjgxODQ3NjY4NTU3MzhdLCBbNS4zNDkyMjE1ODUxNjk2MSwgNTEuODA0MDgxMzU5MzY4NF0sIFs1LjM0OTIyMTU4NTE2OTYxLCA1MS44MDQwODEzNTkzNjg0XSwgWzUuNDQ0OTUxNDY3ODYxODgsIDUxLjg4NDAwOTY0NTQ2MzNdLCBbNS40NDQ5NTE0Njc4NjE4OCwgNTEuODg0MDA5NjQ1NDYzM10sIFs1LjQ2MTExMjUzODYxNTU0OTUsIDUxLjg4ODU4ODA1OTMxNTNdLCBbNS40NjExMTI1Mzg2MTU1NDk1LCA1MS44ODg1ODgwNTkzMTUzXSwgWzUuNDk3NTQ5NzQyNzg1OTkxLCA1MS44ODkwMzQwMzkxNjg5NTVdLCBbNS40OTc1NDk3NDI3ODU5OTEsIDUxLjg4OTAzNDAzOTE2ODk1NV0sIFs1LjQ5NzY0OTcxODMyODM3OSwgNTEuODg5MDM2MTM5MzE3NjVdLCBbNS40OTc2NDk3MTgzMjgzNzksIDUxLjg4OTAzNjEzOTMxNzY1XSwgWzUuNTM4NDY1NTA3NTcyMDIsIDUxLjg5NzIzNjM0NTQ0NTldLCBbNS41Mzg0NjU1MDc1NzIwMiwgNTEuODk3MjM2MzQ1NDQ1OV0sIFs1LjczNzgyMDgwMTM4NzI5MywgNTEuODg1Mjg5NTIyNDUyMDhdLCBbNS43Mzc4MjA4MDEzODcyOTMsIDUxLjg4NTI4OTUyMjQ1MjA4XSwgWzUuNzM3OTIwNDk4NzA4ODE2LCA1MS44ODUyODE3NDc4NzI5M10sIFs1LjczNzkyMDQ5ODcwODgxNiwgNTEuODg1MjgxNzQ3ODcyOTNdLCBbNS44MjY5OTM4MzYxMjY2NiwgNTEuODY1Nzk2MTgwMjI1MzFdLCBbNS44MjY5OTM4MzYxMjY2NiwgNTEuODY1Nzk2MTgwMjI1MzFdLCBbNS44MjY3NjIxMzkwNjgxMywgNTEuODY0Mjk2Mzk5MjgxXSwgWzUuODI2NzYyMTM5MDY4MTMsIDUxLjg2NDI5NjM5OTI4MV0sIFs1LjgyNjUzNjkyMjY1Njk3NCwgNTEuODU5Mzc2Nzg5MzgwOF0sIFs1LjgyNjUzNjkyMjY1Njk3NCwgNTEuODU5Mzc2Nzg5MzgwOF0sIFs1LjgyMzY0MTQ3MDI1MzU2LCA1MS44NTQ2NTg4ODkzNjE1NV0sIFs1LjgyMzY0MTQ3MDI1MzU2LCA1MS44NTQ2NTg4ODkzNjE1NV0sIFs1LjgyMzU3ODA4MzU5MTIyMiwgNTEuODU0NTgxNTQ1MTI0MjldLCBbNS44MjM1NzgwODM1OTEyMjIsIDUxLjg1NDU4MTU0NTEyNDI5XSwgWzUuODIzMzk5NjUxODE2MDYsIDUxLjg1NDM2MzgyMzE0NTVdLCBbNS44MjMzOTk2NTE4MTYwNiwgNTEuODU0MzYzODIzMTQ1NV0sIFs1LjgyMjU4ODQ0MzgxOTk3OSwgNTEuODUzMzQzNTQ5Mjk4NDFdLCBbNS44MjI1ODg0NDM4MTk5NzksIDUxLjg1MzM0MzU0OTI5ODQxXSwgWzUuODIyMzM5NTA0NTk0MTM4LCA1MS44NTMwMzA0NTMwNDgyOV1dLCAidHlwZSI6ICJMaW5lU3RyaW5nIn0sICJpZCI6ICIwIiwgInR5cGUiOiAiRmVhdHVyZSJ9XSwgInR5cGUiOiAiRmVhdHVyZUNvbGxlY3Rpb24ifSk7CiAgICAgICAgCiAgICAKICAgICAgICBmdW5jdGlvbiBnZW9fanNvbl81NjQ0MjYzMjAxNjk0ODU2YmUzYTM1ZjZhZWE0ZWYzZF9zdHlsZXIoZmVhdHVyZSkgewogICAgICAgICAgICBzd2l0Y2goZmVhdHVyZS5pZCkgewogICAgICAgICAgICAgICAgZGVmYXVsdDoKICAgICAgICAgICAgICAgICAgICByZXR1cm4geyJjb2xvciI6ICIjMzc4NWI4IiwgImZpbGxDb2xvciI6ICIjMzc4NWI4IiwgIm9wYWNpdHkiOiAwLjh9OwogICAgICAgICAgICB9CiAgICAgICAgfQogICAgICAgIGZ1bmN0aW9uIGdlb19qc29uXzU2NDQyNjMyMDE2OTQ4NTZiZTNhMzVmNmFlYTRlZjNkX29uRWFjaEZlYXR1cmUoZmVhdHVyZSwgbGF5ZXIpIHsKICAgICAgICAgICAgbGF5ZXIub24oewogICAgICAgICAgICAgICAgY2xpY2s6IGZ1bmN0aW9uKGUpIHsKICAgICAgICAgICAgICAgICAgICBtYXBfMjVlNmYxMTM0M2Q4NDY4NTkyOGQ1YWMwMzc4NWIzZjkuZml0Qm91bmRzKGUudGFyZ2V0LmdldEJvdW5kcygpKTsKICAgICAgICAgICAgICAgIH0KICAgICAgICAgICAgfSk7CiAgICAgICAgfTsKICAgICAgICB2YXIgZ2VvX2pzb25fNTY0NDI2MzIwMTY5NDg1NmJlM2EzNWY2YWVhNGVmM2QgPSBMLmdlb0pzb24obnVsbCwgewogICAgICAgICAgICAgICAgb25FYWNoRmVhdHVyZTogZ2VvX2pzb25fNTY0NDI2MzIwMTY5NDg1NmJlM2EzNWY2YWVhNGVmM2Rfb25FYWNoRmVhdHVyZSwKICAgICAgICAgICAgCiAgICAgICAgICAgICAgICBzdHlsZTogZ2VvX2pzb25fNTY0NDI2MzIwMTY5NDg1NmJlM2EzNWY2YWVhNGVmM2Rfc3R5bGVyLAogICAgICAgIH0pLmFkZFRvKG1hcF8yNWU2ZjExMzQzZDg0Njg1OTI4ZDVhYzAzNzg1YjNmOSk7CiAgICAgICAgICAgIGdlb19qc29uXzU2NDQyNjMyMDE2OTQ4NTZiZTNhMzVmNmFlYTRlZjNkLmFkZERhdGEoeyJmZWF0dXJlcyI6IFt7Imdlb21ldHJ5IjogeyJjb29yZGluYXRlcyI6IFtbNC4wODQ0MTk1NzE5ODU3MiwgNTEuOTM3NjY5ODAyNjkxOF0sIFs0LjA4NTc1ODQwMDI4MDY3LCA1MS45Mzk1NTIwMzk2NjA5XSwgWzQuMDg1NzU4NDAwMjgwNjcsIDUxLjkzOTU1MjAzOTY2MDldLCBbNC4wODQxOTA0NDkxNTAyOSwgNTEuOTM5ODAyMDQ5MjExNV0sIFs0LjA4NDE5MDQ0OTE1MDI5LCA1MS45Mzk4MDIwNDkyMTE1XSwgWzQuMDc4NDUxNjcxODIyNDksIDUxLjk0MTU1NTQyNjA0MDUzXSwgWzQuMDc4NDUxNjcxODIyNDksIDUxLjk0MTU1NTQyNjA0MDUzXSwgWzQuMDgxOTQxMTIzOTYzMjYsIDUxLjk1MDc2NjY4MzcyNzldLCBbNC4wODE5NDExMjM5NjMyNiwgNTEuOTUwNzY2NjgzNzI3OV0sIFs0LjA4Mjc5MjA1NTc4NjMxLCA1MS45NTMwMjM0MzEwNTgwOV0sIFs0LjA4Mjc5MjA1NTc4NjMxLCA1MS45NTMwMjM0MzEwNTgwOV0sIFs0LjA4NTg4NzMzMTI4OTI1LCA1MS45NjExNzQ5ODAwNTQ2XSwgWzQuMDg1ODg3MzMxMjg5MjUsIDUxLjk2MTE3NDk4MDA1NDZdLCBbNC4wODc0NTU1MTU4Mjk4NCwgNTEuOTY1MzA5Mzc0MTU1Ml0sIFs0LjA4NzQ1NTUxNTgyOTg0LCA1MS45NjUzMDkzNzQxNTUyXSwgWzQuMDkwMDIzOTc2ODM3NTgsIDUxLjk3MjEwNjU4Nzg2MTldLCBbNC4wOTAwMjM5NzY4Mzc1OCwgNTEuOTcyMTA2NTg3ODYxOV0sIFs0LjA5MTE3Mzc1OTQyNTE5LCA1MS45NzUxMzA2MzY5NzI0XSwgWzQuMDkxMTczNzU5NDI1MTksIDUxLjk3NTEzMDYzNjk3MjRdLCBbNC4xMTk1MTMxNDk0OTY0LCA1MS45NjcwNzY3NjQyODc2MDRdLCBbNC4xMTk1MTMxNDk0OTY0LCA1MS45NjcwNzY3NjQyODc2MDRdLCBbNC4xMjQyMzU4MjcxNzA3OCwgNTEuOTczNDM0NzY5NzE0NF0sIFs0LjEyNDIzNTgyNzE3MDc4LCA1MS45NzM0MzQ3Njk3MTQ0XSwgWzQuMTY1MzI0NDI1NTA3OTI1LCA1MS45NTM2OTI3MjcwMjgzM10sIFs0LjE2NTMyNDQyNTUwNzkyNSwgNTEuOTUzNjkyNzI3MDI4MzNdLCBbNC4xNjU0MTIwNzY0MDMwMTQ1LCA1MS45NTM2NDQ1ODg0NzIxNjZdLCBbNC4xNjU0MTIwNzY0MDMwMTQ1LCA1MS45NTM2NDQ1ODg0NzIxNjZdLCBbNC4xNjU3MjY4NjMyNzM2MiwgNTEuOTUzNDc0OTE4MjAyN10sIFs0LjE2NTcyNjg2MzI3MzYyLCA1MS45NTM0NzQ5MTgyMDI3XSwgWzQuMjQ0ODI4NTQxMjgyODQzNSwgNTEuOTEzNTE0MTI1MjIzNDY1XSwgWzQuMjQ0ODI4NTQxMjgyODQzNSwgNTEuOTEzNTE0MTI1MjIzNDY1XSwgWzQuMzA5OTI1ODI4NzAxMjYsIDUxLjg5NTE4NTcxNzQ3MjgzNV0sIFs0LjMwOTkyNTgyODcwMTI2LCA1MS44OTUxODU3MTc0NzI4MzVdLCBbNC4zMjAwMzg0NDQwMDc2MDMsIDUxLjg5NDQ0NTc3Mjk3MzI2XSwgWzQuMzIwMDM4NDQ0MDA3NjAzLCA1MS44OTQ0NDU3NzI5NzMyNl0sIFs0LjMyMzM5NDk3NTg5MDk2LCA1MS44OTQxNTM5MDQ4NjY3OV0sIFs0LjMyMzM5NDk3NTg5MDk2LCA1MS44OTQxNTM5MDQ4NjY3OV0sIFs0LjMzODIwODM2NDc5MjU2MDQsIDUxLjg5NDU1NDUzMTU1NjczNl0sIFs0LjMzODIwODM2NDc5MjU2MDQsIDUxLjg5NDU1NDUzMTU1NjczNl0sIFs0LjM1MDEzNzgxODg2OTE2MywgNTEuODk3NjUzNjg2Nzc3MzRdLCBbNC4zNTAxMzc4MTg4NjkxNjMsIDUxLjg5NzY1MzY4Njc3NzM0XSwgWzQuMzU1NDE5MDM0ODcwMTEsIDUxLjg5ODkwNzQwNjY3NzZdLCBbNC4zNTU0MTkwMzQ4NzAxMSwgNTEuODk4OTA3NDA2Njc3Nl0sIFs0LjM2NDQ5OTE3NzgxMzUxLCA1MS44OTk0MTQ3NDQxMDZdLCBbNC4zNjQ0OTkxNzc4MTM1MSwgNTEuODk5NDE0NzQ0MTA2XSwgWzQuMzY4OTM0NTA5MTY5MzQsIDUxLjg5OTE1NzMzMzQzNzc5XSwgWzQuMzY4OTM0NTA5MTY5MzQsIDUxLjg5OTE1NzMzMzQzNzc5XSwgWzQuMzgwMTcwNDgyMzM2NzcsIDUxLjg5Nzc3OTI5MzUxODddLCBbNC4zODAxNzA0ODIzMzY3NywgNTEuODk3Nzc5MjkzNTE4N10sIFs0LjM4NDI5MzY2NDAwMTU5LCA1MS44OTcyNzUyMjc5MTIzOTVdLCBbNC4zODQyOTM2NjQwMDE1OSwgNTEuODk3Mjc1MjI3OTEyMzk1XSwgWzQuMzk1MjY3MzM1MDU1MjEsIDUxLjg5NjM0NDE5OTM3OTI5XSwgWzQuMzk1MjY3MzM1MDU1MjEsIDUxLjg5NjM0NDE5OTM3OTI5XSwgWzQuMzk1Mzk5NTExNTYwNTUsIDUxLjg5NjM4MDcyNTQyMjhdLCBbNC4zOTUzOTk1MTE1NjA1NSwgNTEuODk2MzgwNzI1NDIyOF0sIFs0LjQwMjgyODI0OTU4OTQ5LCA1MS44OTgxNzgwNDY5NzcyXSwgWzQuNDAyODI4MjQ5NTg5NDksIDUxLjg5ODE3ODA0Njk3NzJdLCBbNC40MTAwNTMyMzcxMzgxNiwgNTEuODk5OTE5NzQ0NDYwNzNdLCBbNC40MTAwNTMyMzcxMzgxNiwgNTEuODk5OTE5NzQ0NDYwNzNdLCBbNC40MTEzNTgxOTA2ODk3MiwgNTEuOTAwMTQ1ODQ0NjE0NTFdLCBbNC40MTEzNTgxOTA2ODk3MiwgNTEuOTAwMTQ1ODQ0NjE0NTFdLCBbNC40MTQwMzQwMjU0ODk3NDYsIDUxLjkwMDYxNzkzNjM2NzY0XSwgWzQuNDE0MDM0MDI1NDg5NzQ2LCA1MS45MDA2MTc5MzYzNjc2NF0sIFs0LjQyNDUwNDU0ODk3NjA3LCA1MS45MDIzNTc2NzMxMjQzOV0sIFs0LjQyNDUwNDU0ODk3NjA3LCA1MS45MDIzNTc2NzMxMjQzOV0sIFs0LjQyNzE5MzMxNDcxNDM1LCA1MS45MDIzMzQ3MjY3NzA2XSwgWzQuNDI3MTkzMzE0NzE0MzUsIDUxLjkwMjMzNDcyNjc3MDZdLCBbNC40MzI3MTk3NTA3NzU5NCwgNTEuOTAyMTE5MDcxNzQ3Nl0sIFs0LjQzMjcxOTc1MDc3NTk0LCA1MS45MDIxMTkwNzE3NDc2XSwgWzQuNDMzODA4ODM2NDEzMzksIDUxLjkwMjA4MzIzNzk4NDAyXSwgWzQuNDMzODA4ODM2NDEzMzksIDUxLjkwMjA4MzIzNzk4NDAyXSwgWzQuNDQ3OTE4MDI1MDcxNTMsIDUxLjkwMDA5MzIyMDYyOTg5XSwgWzQuNDQ3OTE4MDI1MDcxNTMsIDUxLjkwMDA5MzIyMDYyOTg5XSwgWzQuNDQ4NDU3MDYyOTU2NiwgNTEuOTAwMDI1NjE3OTc3MV0sIFs0LjQ0ODQ1NzA2Mjk1NjYsIDUxLjkwMDAyNTYxNzk3NzFdLCBbNC40NTExNTI2MDI0NTYxMiwgNTEuODk5NjY5NTkyOTQ0OF0sIFs0LjQ1MTE1MjYwMjQ1NjEyLCA1MS44OTk2Njk1OTI5NDQ4XSwgWzQuNDU3NjI2MDcxMjg3MTgsIDUxLjg5OTMwNzQ5OTg4NjgxXSwgWzQuNDU3NjI2MDcxMjg3MTgsIDUxLjg5OTMwNzQ5OTg4NjgxXSwgWzQuNDYxMTU1OTU5NDA4MzgsIDUxLjg5OTM1MzM1MDEwMDA5XSwgWzQuNDYxMTU1OTU5NDA4MzgsIDUxLjg5OTM1MzM1MDEwMDA5XSwgWzQuNDYzMzczNTQ4MjQyNTgsIDUxLjg5OTYyMjQ5MjEzMjRdLCBbNC40NjMzNzM1NDgyNDI1OCwgNTEuODk5NjIyNDkyMTMyNF0sIFs0LjQ2NzY2MTk2MjE4NjUwNywgNTEuOTAwMTQxNzA0NTIxNTNdLCBbNC40Njc2NjE5NjIxODY1MDcsIDUxLjkwMDE0MTcwNDUyMTUzXSwgWzQuNDY4ODkxNDQwMzgwODUsIDUxLjkwMDUxMDY5MDEwMzJdLCBbNC40Njg4OTE0NDAzODA4NSwgNTEuOTAwNTEwNjkwMTAzMl0sIFs0LjQ3OTUzNjE5MzYyMzQ0LCA1MS45MDQ0MTM2MjAyM10sIFs0LjQ3OTUzNjE5MzYyMzQ0LCA1MS45MDQ0MTM2MjAyM10sIFs0LjQ4MTExMTMwNTY0ODU3LCA1MS45MDU3MTk2NTMwMDc3XSwgWzQuNDgxMTExMzA1NjQ4NTcsIDUxLjkwNTcxOTY1MzAwNzddLCBbNC40ODQ2MjMwNDc2MjIxNCwgNTEuOTA4NjMyNjkzNTY4Ml0sIFs0LjQ4NDYyMzA0NzYyMjE0LCA1MS45MDg2MzI2OTM1NjgyXSwgWzQuNDg1NTIzMzU2NTAxODkyLCA1MS45MDk0Njk0NjgyNDAwNzZdLCBbNC40ODU1MjMzNTY1MDE4OTIsIDUxLjkwOTQ2OTQ2ODI0MDA3Nl0sIFs0LjQ4NTU4MjY1OTc4MDQ4OCwgNTEuOTA5NTQ5OTg2MDcxMzJdLCBbNC40ODU1ODI2NTk3ODA0ODgsIDUxLjkwOTU0OTk4NjA3MTMyXSwgWzQuNDg2MTYwMjg3NzU5MzgsIDUxLjkxMDMzNDI0ODgxNzRdLCBbNC40ODYxNjAyODc3NTkzOCwgNTEuOTEwMzM0MjQ4ODE3NF0sIFs0LjQ5NTcxMjk0OTg4MzUxMywgNTEuOTE3MTIwMDM5NDc1MTNdLCBbNC40OTU3MTI5NDk4ODM1MTMsIDUxLjkxNzEyMDAzOTQ3NTEzXSwgWzQuNDk1ODA5MTAzMDc0MjUxLCA1MS45MTcxNDc1MDg4MDE4Nl0sIFs0LjQ5NTgwOTEwMzA3NDI1MSwgNTEuOTE3MTQ3NTA4ODAxODZdLCBbNC41MDAxNzc0MDM1Mzg4OSwgNTEuOTE4MDk5MjcyNTI3XSwgWzQuNTAwMTc3NDAzNTM4ODksIDUxLjkxODA5OTI3MjUyN10sIFs0LjUwNTk2NDUwNzE4NTcyLCA1MS45MTcyNzA4OTg4NDczXSwgWzQuNTA1OTY0NTA3MTg1NzIsIDUxLjkxNzI3MDg5ODg0NzNdLCBbNC41MTcyMjQ3NjAzNjM0NiwgNTEuOTA1NTE2NjU2Mzk2NzA2XSwgWzQuNTE3MjI0NzYwMzYzNDYsIDUxLjkwNTUxNjY1NjM5NjcwNl0sIFs0LjUyMTUzODY0ODYwMzksIDUxLjkwMTA5OTEwMDY4NjddLCBbNC41MjE1Mzg2NDg2MDM5LCA1MS45MDEwOTkxMDA2ODY3XSwgWzQuNTQyNzg0MzY0OTQwNzEyNSwgNTEuOTA0MDExMzk2NjcyMzhdLCBbNC41NDI3ODQzNjQ5NDA3MTI1LCA1MS45MDQwMTEzOTY2NzIzOF0sIFs0LjU0Mjg4MjcxODcyNjQ1NywgNTEuOTA0MDI5NDY2ODkxOF0sIFs0LjU0Mjg4MjcxODcyNjQ1NywgNTEuOTA0MDI5NDY2ODkxOF0sIFs0LjU0NzM3NjYwMzc3NDk1LCA1MS45MDQ4NTUxMTM2OTU3OTVdLCBbNC41NDczNzY2MDM3NzQ5NSwgNTEuOTA0ODU1MTEzNjk1Nzk1XSwgWzQuNTQ4NzUzMDg3ODg0NjksIDUxLjkwNTA3MTY4MjQ2MDg5XSwgWzQuNTQ4NzUzMDg3ODg0NjksIDUxLjkwNTA3MTY4MjQ2MDg5XSwgWzQuNTUzNjIwMDg0Mjk1NDY3LCA1MS45MDU4MzQxODk3MDg0XSwgWzQuNTUzNjIwMDg0Mjk1NDY3LCA1MS45MDU4MzQxODk3MDg0XSwgWzQuNTgwNTQwNzkyMTEwNCwgNTEuOTAyMTczNjE2NzYxMV0sIFs0LjU4MDU0MDc5MjExMDQsIDUxLjkwMjE3MzYxNjc2MTFdLCBbNC42MTkwMDU0NTY5MDcyMjIsIDUxLjg4OTM3MTk5NDc3Mjk2XSwgWzQuNjE5MDA1NDU2OTA3MjIyLCA1MS44ODkzNzE5OTQ3NzI5Nl0sIFs0LjY4NDczMTIwOTc3NDg1LCA1MS44OTM3NTgxODE0MDU5XSwgWzQuNjg0NzMxMjA5Nzc0ODUsIDUxLjg5Mzc1ODE4MTQwNTldLCBbNC42ODgzMjQzNzMyMDYxMywgNTEuODk0MzgxNTQ1NDY4Nl0sIFs0LjY4ODMyNDM3MzIwNjEzLCA1MS44OTQzODE1NDU0Njg2XSwgWzQuNzg2MzUxNTI4ODY5NjIsIDUxLjkxODc4NTkzMTg3NzE3NF0sIFs0Ljc4NjM1MTUyODg2OTYyLCA1MS45MTg3ODU5MzE4NzcxNzRdLCBbNC44NTc2NzgxNzk5Mzg0NDcsIDUxLjk0MTAyNzY0MDQ3MDEwNF0sIFs0Ljg1NzY3ODE3OTkzODQ0NywgNTEuOTQxMDI3NjQwNDcwMTA0XSwgWzQuOTY2NTg3NzQ2MzIxODksIDUxLjk1OTY3ODk4OTE2MjJdLCBbNC45NjY1ODc3NDYzMjE4OSwgNTEuOTU5Njc4OTg5MTYyMl0sIFs1LjA3NzUyOTg4OTk0MzcwOSwgNTEuOTk3NDc3MTk3MjA3NDI0XSwgWzUuMDc3NTI5ODg5OTQzNzA5LCA1MS45OTc0NzcxOTcyMDc0MjRdLCBbNS4wNzc2MjcxNDE1MTYwNzcsIDUxLjk5NzUwMDQ4MDkyODZdLCBbNS4wNzc2MjcxNDE1MTYwNzcsIDUxLjk5NzUwMDQ4MDkyODZdLCBbNS4wNzgzNzEzODE1NTQwODYsIDUxLjk5NzY3ODY2NDk2MzIxXSwgWzUuMDc4MzcxMzgxNTU0MDg2LCA1MS45OTc2Nzg2NjQ5NjMyMV0sIFs1LjA3ODQ2ODYzMzEyNjQ1MzUsIDUxLjk5NzcwMTk0ODY4NDM5XSwgWzUuMDc4NDY4NjMzMTI2NDUzNSwgNTEuOTk3NzAxOTQ4Njg0MzldLCBbNS4wOTE0OTUwOTE5MDIzNSwgNTIuMDAxODk3ODI2OTI4Ml0sIFs1LjA5MTQ5NTA5MTkwMjM1LCA1Mi4wMDE4OTc4MjY5MjgyXSwgWzUuMDk0NzU2MDU5OTA0MDUsIDUyLjAwMjQ3NTI4NDA3MDldLCBbNS4wOTQ3NTYwNTk5MDQwNSwgNTIuMDAyNDc1Mjg0MDcwOV0sIFs1LjEwMzE0MDgzNjI0NDM3NzUsIDUyLjAwMzA2MTQzNjEwNzI5NV0sIFs1LjEwMzE0MDgzNjI0NDM3NzUsIDUyLjAwMzA2MTQzNjEwNzI5NV0sIFs1LjExNDQxNTc3Mjc4MjAxNDUsIDUyLjAwMTU1NzQwNDk5MjI2XSwgWzUuMTE0NDE1NzcyNzgyMDE0NSwgNTIuMDAxNTU3NDA0OTkyMjZdLCBbNS4xMTQ1MTI0MTk3ODY4ODMsIDUyLjAwMTUzMTcyNzA1NTI0XSwgWzUuMTE0NTEyNDE5Nzg2ODgzLCA1Mi4wMDE1MzE3MjcwNTUyNF0sIFs1LjEyMzAyMjU0MTg3OTY5LCA1MS45OTg1MDE5NDE3MzA5XSwgWzUuMTIzMDIyNTQxODc5NjksIDUxLjk5ODUwMTk0MTczMDldLCBbNS4xMzM1NzIwNTE0MTAzMSwgNTEuOTkxMTE0MTY5Mjg4NjJdLCBbNS4xMzM1NzIwNTE0MTAzMSwgNTEuOTkxMTE0MTY5Mjg4NjJdLCBbNS4xMzM2NDY5OTA3MjI5MjEsIDUxLjk5MTA0Nzk2Mzg0MjU3XSwgWzUuMTMzNjQ2OTkwNzIyOTIxLCA1MS45OTEwNDc5NjM4NDI1N10sIFs1LjEzNDEzMjI0NDU2MDY3LCA1MS45OTA2MDExMjEyOTA1XSwgWzUuMTM0MTMyMjQ0NTYwNjcsIDUxLjk5MDYwMTEyMTI5MDVdLCBbNS4xNDI4NzQ0MjcwNTU4MywgNTEuOTgxNjc5MTMxNTc3OF0sIFs1LjE0Mjg3NDQyNzA1NTgzLCA1MS45ODE2NzkxMzE1Nzc4XSwgWzUuMjEzMjU1NzE5NTI3MzA5LCA1MS45NjA1OTM0MDM1NjM1Nl0sIFs1LjIxMzI1NTcxOTUyNzMwOSwgNTEuOTYwNTkzNDAzNTYzNTZdLCBbNS4yMTMzNTI3MTA4NDIwMDEsIDUxLjk2MDYxNzc0ODY4MzY5XSwgWzUuMjEzMzUyNzEwODQyMDAxLCA1MS45NjA2MTc3NDg2ODM2OV0sIFs1LjIxNzg4MjA0ODk1ODc1LCA1MS45NjI3NTcxODAyMTldLCBbNS4yMTc4ODIwNDg5NTg3NSwgNTEuOTYyNzU3MTgwMjE5XSwgWzUuMzM5NjE2NzQ1MTgxNTYsIDUxLjk2MDk0NjkwMzkyMzddLCBbNS4zMzk2MTY3NDUxODE1NiwgNTEuOTYwOTQ2OTAzOTIzN10sIFs1LjM1MjczOTQwNjI1NjE1MSwgNTEuOTU1ODIwNTIwN10sIFs1LjM1MjczOTQwNjI1NjE1MSwgNTEuOTU1ODIwNTIwN10sIFs1LjM1NTgyMDk5OTEzMzQyOCwgNTEuOTU0OTEyNjI3MzA4MjVdLCBbNS4zNTU4MjA5OTkxMzM0MjgsIDUxLjk1NDkxMjYyNzMwODI1XSwgWzUuMzU1OTEyOTk4MzQ4Mjc0LCA1MS45NTQ4NzM0MzM2MjkzM10sIFs1LjM1NTkxMjk5ODM0ODI3NCwgNTEuOTU0ODczNDMzNjI5MzNdLCBbNS4zNTc1MzkxMjAyMzU4MzMsIDUxLjk1NDE4MDY3MDExNzYxNl0sIFs1LjM1NzUzOTEyMDIzNTgzMywgNTEuOTU0MTgwNjcwMTE3NjE2XSwgWzUuMzU3OTA3MTE3MDk1MjIsIDUxLjk1NDAyMzg5NTQwMTkyXSwgWzUuMzU3OTA3MTE3MDk1MjIsIDUxLjk1NDAyMzg5NTQwMTkyXSwgWzUuMzYxOTY0NjkzMTc3MDYsIDUxLjk1MjA5Mjc0MzE5ODVdLCBbNS4zNjE5NjQ2OTMxNzcwNiwgNTEuOTUyMDkyNzQzMTk4NV0sIFs1LjM3NjUyMzUzNDI2MTM2MywgNTEuOTQ2NzEwMjE1NDkzNjRdLCBbNS4zNzY1MjM1MzQyNjEzNjMsIDUxLjk0NjcxMDIxNTQ5MzY0XSwgWzUuMzc2NjE3MzI5MzM5ODE0LCA1MS45NDY2NzU1Mzg2NTMyN10sIFs1LjM3NjYxNzMyOTMzOTgxNCwgNTEuOTQ2Njc1NTM4NjUzMjddLCBbNS40MjYwNTg4NDQwNTkwMDI1LCA1MS45MjM0MTg5MDQ4ODM3MV0sIFs1LjQyNjA1ODg0NDA1OTAwMjUsIDUxLjkyMzQxODkwNDg4MzcxXSwgWzUuNDI2MTQ5MDIzMTYzNDY1NSwgNTEuOTIzMzc1Njg3NjUxOThdLCBbNS40MjYxNDkwMjMxNjM0NjU1LCA1MS45MjMzNzU2ODc2NTE5OF0sIFs1LjQ0MDM4ODUwMTg5MjAwNywgNTEuOTE2NTUwNTA1ODY3NDddLCBbNS40NDAzODg1MDE4OTIwMDcsIDUxLjkxNjU1MDUwNTg2NzQ3XSwgWzUuNDUyNDg5NzMwMDcyNTAzLCA1MS45MDM3MDI4ODI1MDQ2OV0sIFs1LjQ1MjQ4OTczMDA3MjUwMywgNTEuOTAzNzAyODgyNTA0NjldLCBbNS40NTI1NDE1NjI5NzUwNTIsIDUxLjkwMzYxNzM2NDM3NjcxXSwgWzUuNDUyNTQxNTYyOTc1MDUyLCA1MS45MDM2MTczNjQzNzY3MV0sIFs1LjQ1MjY1OTUxNjA0ODUwOCwgNTEuOTAzNDIyNzU1ODI2MjVdLCBbNS40NTI2NTk1MTYwNDg1MDgsIDUxLjkwMzQyMjc1NTgyNjI1XSwgWzUuNDUyNzExMzQ4OTUxMDU3LCA1MS45MDMzMzcyMzc2OTgyN10sIFs1LjQ1MjcxMTM0ODk1MTA1NywgNTEuOTAzMzM3MjM3Njk4MjddLCBbNS40NTI3MzY1MzExMTc3OCwgNTEuOTAzMjk1NjkwMTE2NTFdLCBbNS40NTI3MzY1MzExMTc3OCwgNTEuOTAzMjk1NjkwMTE2NTFdLCBbNS40NTI3ODgzNjQwMjAzMjksIDUxLjkwMzIxMDE3MTk4ODUyNl0sIFs1LjQ1Mjc4ODM2NDAyMDMyOSwgNTEuOTAzMjEwMTcxOTg4NTI2XSwgWzUuNDUyOTE1NjQzNzIwMTcsIDUxLjkwMzAwMDE3NTYxMzE2XSwgWzUuNDUyOTE1NjQzNzIwMTcsIDUxLjkwMzAwMDE3NTYxMzE2XSwgWzUuNDUyOTY3NDc2NjIyNzE5LCA1MS45MDI5MTQ2NTc0ODUxOF0sIFs1LjQ1Mjk2NzQ3NjYyMjcxOSwgNTEuOTAyOTE0NjU3NDg1MThdLCBbNS40NTM5MTE5ODk0NDAzMDQ1LCA1MS45MDEzNTYzMjM2MDc2NV0sIFs1LjQ1MzkxMTk4OTQ0MDMwNDUsIDUxLjkwMTM1NjMyMzYwNzY1XSwgWzUuNDU0MTE5MzIxMDUwNTAyLCA1MS45MDEwMTQyNTEwOTU3M10sIFs1LjQ1NDExOTMyMTA1MDUwMiwgNTEuOTAxMDE0MjUxMDk1NzNdLCBbNS40NjA3MDExNTkxNjc5NywgNTEuODg5NjM1OTc0ODQwNl0sIFs1LjQ2MDcwMTE1OTE2Nzk3LCA1MS44ODk2MzU5NzQ4NDA2XSwgWzUuNDYxMTEyNTM4NjE1NTQ5NSwgNTEuODg4NTg4MDU5MzE1M10sIFs1LjQ2MTExMjUzODYxNTU0OTUsIDUxLjg4ODU4ODA1OTMxNTNdLCBbNS40OTc1NDk3NDI3ODU5OTEsIDUxLjg4OTAzNDAzOTE2ODk1NV0sIFs1LjQ5NzU0OTc0Mjc4NTk5MSwgNTEuODg5MDM0MDM5MTY4OTU1XSwgWzUuNDk3NjQ5NzE4MzI4Mzc5LCA1MS44ODkwMzYxMzkzMTc2NV0sIFs1LjQ5NzY0OTcxODMyODM3OSwgNTEuODg5MDM2MTM5MzE3NjVdLCBbNS41Mzg0NjU1MDc1NzIwMiwgNTEuODk3MjM2MzQ1NDQ1OV0sIFs1LjUzODQ2NTUwNzU3MjAyLCA1MS44OTcyMzYzNDU0NDU5XSwgWzUuNzM3ODIwODAxMzg3MjkzLCA1MS44ODUyODk1MjI0NTIwOF0sIFs1LjczNzgyMDgwMTM4NzI5MywgNTEuODg1Mjg5NTIyNDUyMDhdLCBbNS43Mzc5MjA0OTg3MDg4MTYsIDUxLjg4NTI4MTc0Nzg3MjkzXSwgWzUuNzM3OTIwNDk4NzA4ODE2LCA1MS44ODUyODE3NDc4NzI5M10sIFs1LjgyNjk5MzgzNjEyNjY2LCA1MS44NjU3OTYxODAyMjUzMV0sIFs1LjgyNjk5MzgzNjEyNjY2LCA1MS44NjU3OTYxODAyMjUzMV0sIFs1LjgyNjc2MjEzOTA2ODEzLCA1MS44NjQyOTYzOTkyODFdLCBbNS44MjY3NjIxMzkwNjgxMywgNTEuODY0Mjk2Mzk5MjgxXSwgWzUuODI2NTM2OTIyNjU2OTc0LCA1MS44NTkzNzY3ODkzODA4XSwgWzUuODI2NTM2OTIyNjU2OTc0LCA1MS44NTkzNzY3ODkzODA4XSwgWzUuODIzNjQxNDcwMjUzNTYsIDUxLjg1NDY1ODg4OTM2MTU1XSwgWzUuODIzNjQxNDcwMjUzNTYsIDUxLjg1NDY1ODg4OTM2MTU1XSwgWzUuODIzNTc4MDgzNTkxMjIyLCA1MS44NTQ1ODE1NDUxMjQyOV0sIFs1LjgyMzU3ODA4MzU5MTIyMiwgNTEuODU0NTgxNTQ1MTI0MjldLCBbNS44MjMzOTk2NTE4MTYwNiwgNTEuODU0MzYzODIzMTQ1NV0sIFs1LjgyMzM5OTY1MTgxNjA2LCA1MS44NTQzNjM4MjMxNDU1XSwgWzUuODIyNTg4NDQzODE5OTc5LCA1MS44NTMzNDM1NDkyOTg0MV0sIFs1LjgyMjU4ODQ0MzgxOTk3OSwgNTEuODUzMzQzNTQ5Mjk4NDFdLCBbNS44MjIzMzk1MDQ1OTQxMzgsIDUxLjg1MzAzMDQ1MzA0ODI5XV0sICJ0eXBlIjogIkxpbmVTdHJpbmcifSwgImlkIjogIjAiLCAidHlwZSI6ICJGZWF0dXJlIn1dLCAidHlwZSI6ICJGZWF0dXJlQ29sbGVjdGlvbiJ9KTsKICAgICAgICAKICAgIAogICAgICAgICAgICB2YXIgbWFya2VyXzcwYTAyNGMxM2NkZjQ2MmNiMGY1NmVlZjVkNTkwNGI4ID0gTC5tYXJrZXIoCiAgICAgICAgICAgICAgICBbNTEuODA0MDgxMzU5MzY4NCwgNS4zNDkyMjE1ODUxNjk2MV0sCiAgICAgICAgICAgICAgICB7fQogICAgICAgICAgICApLmFkZFRvKG1hcF8yNWU2ZjExMzQzZDg0Njg1OTI4ZDVhYzAzNzg1YjNmOSk7CiAgICAgICAgCiAgICAKICAgICAgICAgICAgdmFyIGljb25fODBiN2IzN2JiODg1NDc2MThmZDJhMTAwMDYyMmUyNzEgPSBMLkF3ZXNvbWVNYXJrZXJzLmljb24oCiAgICAgICAgICAgICAgICB7ImV4dHJhQ2xhc3NlcyI6ICJmYS1yb3RhdGUtMCIsICJpY29uIjogInRpbWVzIiwgImljb25Db2xvciI6ICJ3aGl0ZSIsICJtYXJrZXJDb2xvciI6ICJyZWQiLCAicHJlZml4IjogImZhIn0KICAgICAgICAgICAgKTsKICAgICAgICAgICAgbWFya2VyXzcwYTAyNGMxM2NkZjQ2MmNiMGY1NmVlZjVkNTkwNGI4LnNldEljb24oaWNvbl84MGI3YjM3YmI4ODU0NzYxOGZkMmExMDAwNjIyZTI3MSk7CiAgICAgICAgCjwvc2NyaXB0Pg==\" style=\"position:absolute;width:100%;height:100%;left:0;top:0;border:none !important;\" allowfullscreen webkitallowfullscreen mozallowfullscreen></iframe></div></div>"
      ],
      "text/plain": [
       "<folium.folium.Map at 0x1285dde25f8>"
      ]
     },
     "execution_count": 18,
     "metadata": {},
     "output_type": "execute_result"
    }
   ],
   "source": [
    "import folium\n",
    "import shapely\n",
    "m = folium.Map(location=[52, 5], zoom_start=9)\n",
    "col1 = '#ff0000'\n",
    "col2 = '#3785b8'\n",
    "\n",
    "style1 = {'fillColor': col1, 'color': col1, 'line_opacity': 0.5}\n",
    "style2 = {'fillColor': col2, 'color': col2, 'opacity': 0.8}\n",
    "\n",
    "folium.GeoJson(shapely.geometry.LineString(gdf1.geometry), style_function=lambda x:style1).add_to(m)\n",
    "folium.GeoJson(shapely.geometry.LineString(gdf2.geometry), style_function=lambda x:style2).add_to(m)\n",
    "\n",
    "folium.Marker([G.nodes[blocking]['Y'],G.nodes[blocking]['X']],\n",
    "          icon = folium.Icon(icon='times', color='red', prefix='fa'),\n",
    "          ).add_to(m)\n",
    "\n",
    "m"
   ]
  },
  {
   "cell_type": "code",
   "execution_count": null,
   "metadata": {
    "collapsed": true
   },
   "outputs": [],
   "source": []
  }
 ],
 "metadata": {
  "kernelspec": {
   "display_name": "Python 3",
   "language": "python",
   "name": "python3"
  },
  "language_info": {
   "codemirror_mode": {
    "name": "ipython",
    "version": 3
   },
   "file_extension": ".py",
   "mimetype": "text/x-python",
   "name": "python",
   "nbconvert_exporter": "python",
   "pygments_lexer": "ipython3",
   "version": "3.6.1"
  }
 },
 "nbformat": 4,
 "nbformat_minor": 4
}
