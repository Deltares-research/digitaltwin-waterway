{
 "cells": [
  {
   "cell_type": "code",
   "execution_count": 34,
   "metadata": {},
   "outputs": [],
   "source": [
    "import pathlib\n",
    "import time\n",
    "import datetime\n",
    "\n",
    "import shapely.geometry\n",
    "import networkx as nx\n",
    "import opentnsim.core\n",
    "import simpy"
   ]
  },
  {
   "cell_type": "code",
   "execution_count": 4,
   "metadata": {},
   "outputs": [
    {
     "data": {
      "text/plain": [
       "PosixPath('/Users/baart_f/data/vaarwegen')"
      ]
     },
     "execution_count": 4,
     "metadata": {},
     "output_type": "execute_result"
    }
   ],
   "source": [
    "data_dir = pathlib.Path('~/data/vaarwegen').expanduser()\n",
    "data_dir"
   ]
  },
  {
   "cell_type": "code",
   "execution_count": 9,
   "metadata": {},
   "outputs": [],
   "source": [
    "network_path = data_dir / 'export_full_network.yaml'"
   ]
  },
  {
   "cell_type": "code",
   "execution_count": 11,
   "metadata": {},
   "outputs": [],
   "source": [
    "G = nx.read_yaml(network_path)"
   ]
  },
  {
   "cell_type": "code",
   "execution_count": 38,
   "metadata": {},
   "outputs": [
    {
     "data": {
      "text/plain": [
       "{'Classification': 'CEMT',\n",
       " 'Code': 'IV',\n",
       " 'CoupledDepth': nan,\n",
       " 'CoupledLength': nan,\n",
       " 'CoupledWidth': nan,\n",
       " 'Description': 'Rijn - Hernekanaalschip, Eenbaksduwstel',\n",
       " 'Direction': 'H',\n",
       " 'EndJunctionId': 8864523.0,\n",
       " 'FairwayId': 1770.0,\n",
       " 'FairwayNumber': nan,\n",
       " 'ForeignCode': nan,\n",
       " 'GeneralDepth': nan,\n",
       " 'GeneralHeight': nan,\n",
       " 'GeneralLength': nan,\n",
       " 'GeneralWidth': nan,\n",
       " 'GeoGeneration': 867,\n",
       " 'GeoType': 'section',\n",
       " 'Id_maximumdimensions': nan,\n",
       " 'Id_navigability': 44833.0,\n",
       " 'Length': 0.187,\n",
       " 'MinimalDepthLowerLimit': nan,\n",
       " 'MinimalDepthUpperLimit': nan,\n",
       " 'Name': 'Vaarwegvak van 0 tot 0 - H',\n",
       " 'Note': nan,\n",
       " 'PushedDepth': nan,\n",
       " 'PushedLength': nan,\n",
       " 'PushedWidth': nan,\n",
       " 'ReferenceLevel': nan,\n",
       " 'RouteId': 55814,\n",
       " 'RouteKmBegin': 0.0,\n",
       " 'RouteKmEnd': 0.187,\n",
       " 'SeaFairingDepth': nan,\n",
       " 'SeaFairingHeight': nan,\n",
       " 'SeaFairingLength': nan,\n",
       " 'SeaFairingWidth': nan,\n",
       " 'StartJunctionId': 8864358.0,\n",
       " 'StatusCode': nan,\n",
       " 'StatusDescription': nan,\n",
       " 'TrajectCode': nan,\n",
       " 'Type': nan,\n",
       " 'TypeDescription': nan,\n",
       " 'TypeId': 'V',\n",
       " 'VinCode': '2285',\n",
       " 'WidePushedDepth': nan,\n",
       " 'WidePushedLength': nan,\n",
       " 'WidePushedWidth': nan,\n",
       " 'Wkt': 'LINESTRING (4.69594354276411 51.7206871440897, 4.69599104281199 51.7190069976013)',\n",
       " 'length': 0.0016808178000737644,\n",
       " 'maximumdimensions_id': nan,\n",
       " 'navigability_id': 44833.0}"
      ]
     },
     "execution_count": 38,
     "metadata": {},
     "output_type": "execute_result"
    }
   ],
   "source": [
    "edge = list(G.edges())[0]\n",
    "G.edges[edge]"
   ]
  },
  {
   "cell_type": "code",
   "execution_count": 70,
   "metadata": {},
   "outputs": [
    {
     "data": {
      "text/plain": [
       "(8864523.0, 8864358.0)"
      ]
     },
     "execution_count": 70,
     "metadata": {},
     "output_type": "execute_result"
    }
   ],
   "source": [
    "G.edges[edge]\n",
    "a = G.nodes[edge[0]]\n",
    "b = G.nodes[edge[1]]\n",
    "a, b\n",
    "a['geometry'] = shapely.geometry.Point(a['X'], a['Y'])\n",
    "b['geometry'] = shapely.geometry.Point(b['X'], b['Y'])\n",
    "a = G.nodes[edge[0]]\n",
    "edge"
   ]
  },
  {
   "cell_type": "code",
   "execution_count": 78,
   "metadata": {},
   "outputs": [],
   "source": [
    "env = simpy.Environment()"
   ]
  },
  {
   "cell_type": "code",
   "execution_count": 79,
   "metadata": {},
   "outputs": [],
   "source": [
    "simulation_start = datetime.datetime(2018, 7, 1)\n",
    "env = simpy.Environment(initial_time = time.mktime(simulation_start.timetuple()))\n",
    "env.epoch = time.mktime(simulation_start.timetuple())\n",
    "# Add graph to environment\n",
    "env.FG = G"
   ]
  },
  {
   "cell_type": "code",
   "execution_count": 80,
   "metadata": {},
   "outputs": [],
   "source": [
    "# Make a class out of mix-ins\n",
    "TransportResource = type('TransportResource', \n",
    "                         (opentnsim.core.Identifiable, opentnsim.core.ContainerDependentMovable, \n",
    "                          opentnsim.core.HasResource, opentnsim.core.Routeable), {})\n",
    "\n",
    "\n",
    "\n",
    "# For testing purposes we only want v to be 1\n",
    "def compute_v_provider(v_empty, v_full):\n",
    "    return lambda x: 1\n",
    "\n",
    "data_vessel = {\"env\": None,\n",
    "               \"name\": \"Vessel number 1\",\n",
    "               \"route\": None,\n",
    "               \"geometry\": a['geometry'],  # lon, lat\n",
    "               \"capacity\": 1_000,\n",
    "               \"compute_v\": compute_v_provider(v_empty=1, v_full=1)}\n",
    "\n",
    "# create the transport processing resource\n",
    "vessel = TransportResource(**data_vessel)\n",
    "\n",
    "\n",
    "# # Start the simulation\n",
    "# env.process(start(env, vessel))\n",
    "# env.run()"
   ]
  },
  {
   "cell_type": "code",
   "execution_count": 81,
   "metadata": {},
   "outputs": [],
   "source": [
    "Node = type('Site', (opentnsim.core.Identifiable, opentnsim.core.Log, opentnsim.core.Locatable, opentnsim.core.HasResource), {})\n",
    "\n",
    "data_node_1 = {\"env\": [],\n",
    "               \"name\": \"Node 1\",\n",
    "               \"geometry\": shapely.geometry.Point(a['X'], a['Y'])}\n",
    "data_node_2 = {\"env\": [],\n",
    "               \"name\": \"Node 2\",\n",
    "               \"geometry\": shapely.geometry.Point(b['X'], b['Y'])}\n",
    "\n",
    "node_1 = Node(**data_node_1)\n",
    "node_2 = Node(**data_node_2)\n",
    "\n",
    "nodes = [node_1, node_2]"
   ]
  },
  {
   "cell_type": "code",
   "execution_count": 82,
   "metadata": {},
   "outputs": [],
   "source": [
    "path = [edge]\n"
   ]
  },
  {
   "cell_type": "code",
   "execution_count": 83,
   "metadata": {},
   "outputs": [
    {
     "data": {
      "text/plain": [
       "(8864523.0, 8864358.0)"
      ]
     },
     "execution_count": 83,
     "metadata": {},
     "output_type": "execute_result"
    }
   ],
   "source": [
    "# # Add environment and path to the vessel\n",
    "vessel.env = env\n",
    "vessel.route = path[0]\n",
    "\n",
    "vessel.route"
   ]
  },
  {
   "cell_type": "code",
   "execution_count": 84,
   "metadata": {},
   "outputs": [],
   "source": [
    "def start(env, vessel):\n",
    "    vessel.log_entry(\"Start sailing\", env.now, \"\", vessel.geometry)\n",
    "    yield from vessel.move()\n",
    "    vessel.log_entry(\"Stop sailing\", env.now, \"\", vessel.geometry)\n",
    "        \n",
    "env.process(start(env, vessel))\n",
    "env.run()\n"
   ]
  },
  {
   "cell_type": "code",
   "execution_count": 85,
   "metadata": {},
   "outputs": [
    {
     "data": {
      "text/plain": [
       "{'Message': ['Start sailing',\n",
       "  'Sailing from node 8864523.0 to node 8864358.0 start',\n",
       "  'Sailing from node 8864523.0 to node 8864358.0 start',\n",
       "  'Stop sailing'],\n",
       " 'Timestamp': [datetime.datetime(2018, 7, 1, 0, 0),\n",
       "  datetime.datetime(2018, 7, 1, 0, 0),\n",
       "  datetime.datetime(2018, 7, 1, 0, 3, 6, 965317),\n",
       "  datetime.datetime(2018, 7, 1, 0, 3, 6, 965317)],\n",
       " 'Value': ['', 0, 0, ''],\n",
       " 'Geometry': [<shapely.geometry.point.Point at 0x159db18b0>,\n",
       "  <shapely.geometry.point.Point at 0x159db18b0>,\n",
       "  <shapely.geometry.point.Point at 0x159db1910>,\n",
       "  <shapely.geometry.point.Point at 0x159db1910>]}"
      ]
     },
     "execution_count": 85,
     "metadata": {},
     "output_type": "execute_result"
    }
   ],
   "source": [
    "vessel.log"
   ]
  },
  {
   "cell_type": "code",
   "execution_count": 86,
   "metadata": {},
   "outputs": [
    {
     "data": {
      "image/svg+xml": [
       "<svg xmlns=\"http://www.w3.org/2000/svg\" xmlns:xlink=\"http://www.w3.org/1999/xlink\" width=\"100.0\" height=\"100.0\" viewBox=\"3.69594354276411 50.7206871440897 2.0 2.0\" preserveAspectRatio=\"xMinYMin meet\"><g transform=\"matrix(1,0,0,-1,0,103.4413742881794)\"><circle cx=\"4.69594354276411\" cy=\"51.7206871440897\" r=\"0.06\" stroke=\"#555555\" stroke-width=\"0.02\" fill=\"#66cc99\" opacity=\"0.6\" /></g></svg>"
      ],
      "text/plain": [
       "<shapely.geometry.point.Point at 0x159db1910>"
      ]
     },
     "execution_count": 86,
     "metadata": {},
     "output_type": "execute_result"
    }
   ],
   "source": [
    "vessel.log[\"Geometry\"][-1]"
   ]
  },
  {
   "cell_type": "code",
   "execution_count": null,
   "metadata": {},
   "outputs": [],
   "source": []
  }
 ],
 "metadata": {
  "kernelspec": {
   "display_name": "Python 3",
   "language": "python",
   "name": "python3"
  },
  "language_info": {
   "codemirror_mode": {
    "name": "ipython",
    "version": 3
   },
   "file_extension": ".py",
   "mimetype": "text/x-python",
   "name": "python",
   "nbconvert_exporter": "python",
   "pygments_lexer": "ipython3",
   "version": "3.8.3"
  }
 },
 "nbformat": 4,
 "nbformat_minor": 4
}
