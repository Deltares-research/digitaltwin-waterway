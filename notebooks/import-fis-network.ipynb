{
 "cells": [
  {
   "cell_type": "code",
   "execution_count": 1,
   "metadata": {},
   "outputs": [],
   "source": [
    "# all internal libraries\n",
    "import time\n",
    "import datetime\n",
    "\n",
    "# dependencies\n",
    "import networkx as nx\n",
    "import simpy\n",
    "import shapely\n",
    "import pandas as pd\n",
    "\n",
    "# our software\n",
    "import dtv_backend.fis\n",
    "import opentnsim.core\n",
    "import openclsim.core\n",
    "\n",
    "%matplotlib inline"
   ]
  },
  {
   "cell_type": "code",
   "execution_count": 2,
   "metadata": {},
   "outputs": [],
   "source": [
    "# link to the latets version of the network\n",
    "url = 'https://zenodo.org/record/3981105/files/network_digital_twin_v0.1.yaml'\n",
    "G = dtv_backend.fis.load_fis_network(url)"
   ]
  },
  {
   "cell_type": "markdown",
   "metadata": {},
   "source": [
    "## Simple test"
   ]
  },
  {
   "cell_type": "markdown",
   "metadata": {},
   "source": [
    "Load the network and create an opentnsim simulation. "
   ]
  },
  {
   "cell_type": "code",
   "execution_count": 3,
   "metadata": {},
   "outputs": [],
   "source": [
    "# get an edge from the network\n",
    "edge = list(G.edges())[0]"
   ]
  },
  {
   "cell_type": "code",
   "execution_count": 4,
   "metadata": {},
   "outputs": [],
   "source": [
    "# we're sailing from A to B\n",
    "a = G.nodes[edge[0]]\n",
    "b = G.nodes[edge[1]]"
   ]
  },
  {
   "cell_type": "code",
   "execution_count": 5,
   "metadata": {},
   "outputs": [],
   "source": [
    "# Define the simulation environment\n",
    "env = simpy.Environment()"
   ]
  },
  {
   "cell_type": "code",
   "execution_count": 6,
   "metadata": {},
   "outputs": [],
   "source": [
    "# use an epoch based time\n",
    "# See: https://en.wikipedia.org/wiki/Epoch_(computing)\n",
    "simulation_start = datetime.datetime(2018, 7, 1)\n",
    "env = simpy.Environment(initial_time = time.mktime(simulation_start.timetuple()))\n",
    "# store the epoch so we can convert back\n",
    "env.epoch = time.mktime(simulation_start.timetuple())\n",
    "\n",
    "# Add graph to environment\n",
    "env.FG = G"
   ]
  },
  {
   "cell_type": "code",
   "execution_count": 7,
   "metadata": {},
   "outputs": [],
   "source": [
    "# Make a general vessel class out of mix-ins\n",
    "TransportResource = type(\n",
    "    'TransportResource', \n",
    "    (\n",
    "        openclsim.core.Identifiable, \n",
    "        opentnsim.core.ContainerDependentMovable, \n",
    "        opentnsim.core.HasResource, \n",
    "        opentnsim.core.Routeable\n",
    "    ), \n",
    "    {}\n",
    ")\n",
    "\n",
    "\n",
    "\n",
    "# For testing purposes we only want v to be 1\n",
    "def compute_v_provider(v_empty, v_full):\n",
    "    return lambda x: 1\n",
    "\n",
    "data_vessel = {\"env\": None,\n",
    "               \"name\": \"Vessel number 1\",\n",
    "               \"route\": None,\n",
    "               \"geometry\": a['geometry'],  # lon, lat\n",
    "               \"capacity\": 1_000,\n",
    "               \"compute_v\": compute_v_provider(v_empty=1, v_full=1)}\n",
    "\n",
    "# create the transport processing resource\n",
    "vessel = TransportResource(**data_vessel)\n"
   ]
  },
  {
   "cell_type": "code",
   "execution_count": 8,
   "metadata": {},
   "outputs": [],
   "source": [
    "# Now define the sites (A and B)\n",
    "Node = type(\n",
    "    'Site', \n",
    "    (\n",
    "        openclsim.core.Identifiable, \n",
    "        opentnsim.core.Log, \n",
    "        opentnsim.core.Locatable, \n",
    "        opentnsim.core.HasResource\n",
    "    ), \n",
    "    {}\n",
    ")\n",
    "\n",
    "data_node_1 = {\"env\": [],\n",
    "               \"name\": \"Node 1\",\n",
    "               \"geometry\": shapely.geometry.Point(a['X'], a['Y'])}\n",
    "data_node_2 = {\"env\": [],\n",
    "               \"name\": \"Node 2\",\n",
    "               \"geometry\": shapely.geometry.Point(b['X'], b['Y'])}\n",
    "\n",
    "node_1 = Node(**data_node_1)\n",
    "node_2 = Node(**data_node_2)\n",
    "\n",
    "nodes = [node_1, node_2]"
   ]
  },
  {
   "cell_type": "code",
   "execution_count": 9,
   "metadata": {},
   "outputs": [],
   "source": [
    "# define the route along which we're going to sail\n",
    "path = [edge]"
   ]
  },
  {
   "cell_type": "code",
   "execution_count": 10,
   "metadata": {},
   "outputs": [
    {
     "data": {
      "text/plain": [
       "(8864523.0, 8864358.0)"
      ]
     },
     "execution_count": 10,
     "metadata": {},
     "output_type": "execute_result"
    }
   ],
   "source": [
    "# # Add environment and path to the vessel\n",
    "vessel.env = env\n",
    "vessel.route = path[0]\n",
    "# these node should be different.\n",
    "vessel.route"
   ]
  },
  {
   "cell_type": "code",
   "execution_count": 11,
   "metadata": {},
   "outputs": [],
   "source": [
    "# Now we can run a first simulation\n",
    "def start(env, vessel):\n",
    "    yield from vessel.move()\n",
    "    vessel.log_entry(\"Stop sailing\", env.now, \"\", vessel.geometry)\n",
    "        \n",
    "env.process(start(env, vessel))\n",
    "env.run()\n"
   ]
  },
  {
   "cell_type": "code",
   "execution_count": 12,
   "metadata": {},
   "outputs": [
    {
     "data": {
      "text/html": [
       "<div>\n",
       "<style scoped>\n",
       "    .dataframe tbody tr th:only-of-type {\n",
       "        vertical-align: middle;\n",
       "    }\n",
       "\n",
       "    .dataframe tbody tr th {\n",
       "        vertical-align: top;\n",
       "    }\n",
       "\n",
       "    .dataframe thead th {\n",
       "        text-align: right;\n",
       "    }\n",
       "</style>\n",
       "<table border=\"1\" class=\"dataframe\">\n",
       "  <thead>\n",
       "    <tr style=\"text-align: right;\">\n",
       "      <th></th>\n",
       "      <th>Message</th>\n",
       "      <th>Timestamp</th>\n",
       "      <th>Value</th>\n",
       "      <th>Geometry</th>\n",
       "    </tr>\n",
       "  </thead>\n",
       "  <tbody>\n",
       "    <tr>\n",
       "      <th>0</th>\n",
       "      <td>Sailing from node 8864523.0 to node 8864358.0 ...</td>\n",
       "      <td>2018-07-01 00:00:00.000000</td>\n",
       "      <td>0</td>\n",
       "      <td>POINT (4.69599104281199 51.7190069976013)</td>\n",
       "    </tr>\n",
       "    <tr>\n",
       "      <th>1</th>\n",
       "      <td>Sailing from node 8864523.0 to node 8864358.0 ...</td>\n",
       "      <td>2018-07-01 00:03:06.483382</td>\n",
       "      <td>0</td>\n",
       "      <td>POINT (4.69594354276411 51.7206871440897)</td>\n",
       "    </tr>\n",
       "    <tr>\n",
       "      <th>2</th>\n",
       "      <td>Stop sailing</td>\n",
       "      <td>2018-07-01 00:03:06.483382</td>\n",
       "      <td></td>\n",
       "      <td>POINT (4.69594354276411 51.7206871440897)</td>\n",
       "    </tr>\n",
       "  </tbody>\n",
       "</table>\n",
       "</div>"
      ],
      "text/plain": [
       "                                             Message  \\\n",
       "0  Sailing from node 8864523.0 to node 8864358.0 ...   \n",
       "1  Sailing from node 8864523.0 to node 8864358.0 ...   \n",
       "2                                       Stop sailing   \n",
       "\n",
       "                   Timestamp Value                                   Geometry  \n",
       "0 2018-07-01 00:00:00.000000     0  POINT (4.69599104281199 51.7190069976013)  \n",
       "1 2018-07-01 00:03:06.483382     0  POINT (4.69594354276411 51.7206871440897)  \n",
       "2 2018-07-01 00:03:06.483382        POINT (4.69594354276411 51.7206871440897)  "
      ]
     },
     "execution_count": 12,
     "metadata": {},
     "output_type": "execute_result"
    }
   ],
   "source": [
    "# The vessel should sail from A to B\n",
    "pd.DataFrame(vessel.log)"
   ]
  },
  {
   "cell_type": "code",
   "execution_count": null,
   "metadata": {},
   "outputs": [],
   "source": []
  }
 ],
 "metadata": {
  "kernelspec": {
   "display_name": "Python 3",
   "language": "python",
   "name": "python3"
  },
  "language_info": {
   "codemirror_mode": {
    "name": "ipython",
    "version": 3
   },
   "file_extension": ".py",
   "mimetype": "text/x-python",
   "name": "python",
   "nbconvert_exporter": "python",
   "pygments_lexer": "ipython3",
   "version": "3.8.6"
  }
 },
 "nbformat": 4,
 "nbformat_minor": 4
}
