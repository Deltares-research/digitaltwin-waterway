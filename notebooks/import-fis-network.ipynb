{
 "cells": [
  {
   "cell_type": "code",
   "execution_count": 59,
   "metadata": {
    "collapsed": true
   },
   "outputs": [],
   "source": [
    "# all internal libraries\n",
    "import pathlib\n",
    "import time\n",
    "import datetime\n",
    "import io\n",
    "import urllib\n",
    "import tempfile\n",
    "\n",
    "# dependencies\n",
    "import shapely.geometry\n",
    "import networkx as nx\n",
    "import simpy\n",
    "import numpy as np\n",
    "import pandas as pd\n",
    "\n",
    "# our software\n",
    "import opentnsim.core\n",
    "\n",
    "%matplotlib inline"
   ]
  },
  {
   "cell_type": "code",
   "execution_count": 8,
   "metadata": {
    "collapsed": true
   },
   "outputs": [],
   "source": [
    "# link to the latets version of the network\n",
    "url = 'https://zenodo.org/record/3981105/files/network_digital_twin_v0.1.yaml'\n"
   ]
  },
  {
   "cell_type": "code",
   "execution_count": 3,
   "metadata": {},
   "outputs": [
    {
     "ename": "PermissionError",
     "evalue": "[Errno 13] Permission denied: 'D:\\\\Users\\\\klef\\\\AppData\\\\Local\\\\Temp\\\\tmpwmnxycng'",
     "output_type": "error",
     "traceback": [
      "\u001b[1;31m---------------------------------------------------------------------------\u001b[0m",
      "\u001b[1;31mPermissionError\u001b[0m                           Traceback (most recent call last)",
      "\u001b[1;32m<ipython-input-3-b5aee8d527f4>\u001b[0m in \u001b[0;36m<module>\u001b[1;34m()\u001b[0m\n\u001b[0;32m      4\u001b[0m \u001b[1;32mwith\u001b[0m \u001b[0mtempfile\u001b[0m\u001b[1;33m.\u001b[0m\u001b[0mNamedTemporaryFile\u001b[0m\u001b[1;33m(\u001b[0m\u001b[1;33m)\u001b[0m \u001b[1;32mas\u001b[0m \u001b[0mf\u001b[0m\u001b[1;33m:\u001b[0m\u001b[1;33m\u001b[0m\u001b[0m\n\u001b[0;32m      5\u001b[0m     \u001b[1;31m# download the network to the temporary file\u001b[0m\u001b[1;33m\u001b[0m\u001b[1;33m\u001b[0m\u001b[0m\n\u001b[1;32m----> 6\u001b[1;33m     \u001b[0murllib\u001b[0m\u001b[1;33m.\u001b[0m\u001b[0mrequest\u001b[0m\u001b[1;33m.\u001b[0m\u001b[0murlretrieve\u001b[0m\u001b[1;33m(\u001b[0m\u001b[0murl\u001b[0m\u001b[1;33m,\u001b[0m \u001b[0mf\u001b[0m\u001b[1;33m.\u001b[0m\u001b[0mname\u001b[0m\u001b[1;33m)\u001b[0m\u001b[1;33m\u001b[0m\u001b[0m\n\u001b[0m\u001b[0;32m      7\u001b[0m     \u001b[0mG\u001b[0m \u001b[1;33m=\u001b[0m \u001b[0mnx\u001b[0m\u001b[1;33m.\u001b[0m\u001b[0mread_yaml\u001b[0m\u001b[1;33m(\u001b[0m\u001b[0mf\u001b[0m\u001b[1;33m.\u001b[0m\u001b[0mname\u001b[0m\u001b[1;33m)\u001b[0m\u001b[1;33m\u001b[0m\u001b[0m\n\u001b[0;32m      8\u001b[0m \u001b[1;33m\u001b[0m\u001b[0m\n",
      "\u001b[1;32mC:\\WinPython\\WinPython-64bit-3.6.1.0Qt5\\python-3.6.1.amd64\\lib\\urllib\\request.py\u001b[0m in \u001b[0;36murlretrieve\u001b[1;34m(url, filename, reporthook, data)\u001b[0m\n\u001b[0;32m    256\u001b[0m         \u001b[1;31m# Handle temporary file setup.\u001b[0m\u001b[1;33m\u001b[0m\u001b[1;33m\u001b[0m\u001b[0m\n\u001b[0;32m    257\u001b[0m         \u001b[1;32mif\u001b[0m \u001b[0mfilename\u001b[0m\u001b[1;33m:\u001b[0m\u001b[1;33m\u001b[0m\u001b[0m\n\u001b[1;32m--> 258\u001b[1;33m             \u001b[0mtfp\u001b[0m \u001b[1;33m=\u001b[0m \u001b[0mopen\u001b[0m\u001b[1;33m(\u001b[0m\u001b[0mfilename\u001b[0m\u001b[1;33m,\u001b[0m \u001b[1;34m'wb'\u001b[0m\u001b[1;33m)\u001b[0m\u001b[1;33m\u001b[0m\u001b[0m\n\u001b[0m\u001b[0;32m    259\u001b[0m         \u001b[1;32melse\u001b[0m\u001b[1;33m:\u001b[0m\u001b[1;33m\u001b[0m\u001b[0m\n\u001b[0;32m    260\u001b[0m             \u001b[0mtfp\u001b[0m \u001b[1;33m=\u001b[0m \u001b[0mtempfile\u001b[0m\u001b[1;33m.\u001b[0m\u001b[0mNamedTemporaryFile\u001b[0m\u001b[1;33m(\u001b[0m\u001b[0mdelete\u001b[0m\u001b[1;33m=\u001b[0m\u001b[1;32mFalse\u001b[0m\u001b[1;33m)\u001b[0m\u001b[1;33m\u001b[0m\u001b[0m\n",
      "\u001b[1;31mPermissionError\u001b[0m: [Errno 13] Permission denied: 'D:\\\\Users\\\\klef\\\\AppData\\\\Local\\\\Temp\\\\tmpwmnxycng'"
     ]
    }
   ],
   "source": [
    "# Reading network (might take a few minutes on a slow connection)\n",
    "\n",
    "# Create a temporary file\n",
    "with tempfile.NamedTemporaryFile() as f:\n",
    "    # download the network to the temporary file\n",
    "    urllib.request.urlretrieve(url, f.name)\n",
    "    G = nx.read_yaml(f.name)\n",
    "\n",
    "# Making geometry really a geometry type\n",
    "for n in G.nodes:\n",
    "    G.nodes[n]['geometry'] = shapely.geometry.Point(G.nodes[n]['X'], G.nodes[n]['Y'])"
   ]
  },
  {
   "cell_type": "code",
   "execution_count": 5,
   "metadata": {},
   "outputs": [],
   "source": [
    "# Reading network (might take a few minutes on a slow connection)\n",
    "\n",
    "# Create a temporary file\n",
    "f = tempfile.NamedTemporaryFile()\n",
    "f.close()\n",
    "\n",
    "urllib.request.urlretrieve(url, f.name)\n",
    "G = nx.read_yaml(f.name)\n",
    "\n",
    "# Making geometry really a geometry type\n",
    "for n in G.nodes:\n",
    "    G.nodes[n]['geometry'] = shapely.geometry.Point(G.nodes[n]['X'], G.nodes[n]['Y'])\n",
    "    \n",
    "del f"
   ]
  },
  {
   "cell_type": "markdown",
   "metadata": {},
   "source": [
    "## Simple test"
   ]
  },
  {
   "cell_type": "code",
   "execution_count": 9,
   "metadata": {},
   "outputs": [],
   "source": [
    "# get an edge from the network\n",
    "edge = list(G.edges())[0]"
   ]
  },
  {
   "cell_type": "code",
   "execution_count": 10,
   "metadata": {
    "collapsed": true
   },
   "outputs": [],
   "source": [
    "# we're sailing from A to B\n",
    "a = G.nodes[edge[0]]\n",
    "b = G.nodes[edge[1]]"
   ]
  },
  {
   "cell_type": "code",
   "execution_count": 11,
   "metadata": {
    "collapsed": true
   },
   "outputs": [],
   "source": [
    "# Define the simulation environment\n",
    "env = simpy.Environment()"
   ]
  },
  {
   "cell_type": "code",
   "execution_count": 12,
   "metadata": {
    "collapsed": true
   },
   "outputs": [],
   "source": [
    "# use an epoch based time\n",
    "# See: https://en.wikipedia.org/wiki/Epoch_(computing)\n",
    "simulation_start = datetime.datetime(2018, 7, 1)\n",
    "env = simpy.Environment(initial_time = time.mktime(simulation_start.timetuple()))\n",
    "# store the epoch so we can convert back\n",
    "env.epoch = time.mktime(simulation_start.timetuple())\n",
    "\n",
    "# Add graph to environment\n",
    "env.FG = G"
   ]
  },
  {
   "cell_type": "code",
   "execution_count": 13,
   "metadata": {
    "collapsed": true
   },
   "outputs": [],
   "source": [
    "# Make a general vessel class out of mix-ins\n",
    "TransportResource = type('TransportResource', \n",
    "                         (opentnsim.core.Identifiable, opentnsim.core.ContainerDependentMovable, \n",
    "                          opentnsim.core.HasResource, opentnsim.core.Routeable), {})\n",
    "\n",
    "\n",
    "\n",
    "# For testing purposes we only want v to be 1\n",
    "def compute_v_provider(v_empty, v_full):\n",
    "    return lambda x: 1\n",
    "\n",
    "data_vessel = {\"env\": None,\n",
    "               \"name\": \"Vessel number 1\",\n",
    "               \"route\": None,\n",
    "               \"geometry\": a['geometry'],  # lon, lat\n",
    "               \"capacity\": 1_000,\n",
    "               \"compute_v\": compute_v_provider(v_empty=1, v_full=1)}\n",
    "\n",
    "# create the transport processing resource\n",
    "vessel = TransportResource(**data_vessel)\n"
   ]
  },
  {
   "cell_type": "code",
   "execution_count": 14,
   "metadata": {
    "collapsed": true
   },
   "outputs": [],
   "source": [
    "# Now define the sites (A and B)\n",
    "Node = type('Site', (opentnsim.core.Identifiable, opentnsim.core.Log, opentnsim.core.Locatable, opentnsim.core.HasResource), {})\n",
    "\n",
    "data_node_1 = {\"env\": [],\n",
    "               \"name\": \"Node 1\",\n",
    "               \"geometry\": shapely.geometry.Point(a['X'], a['Y'])}\n",
    "data_node_2 = {\"env\": [],\n",
    "               \"name\": \"Node 2\",\n",
    "               \"geometry\": shapely.geometry.Point(b['X'], b['Y'])}\n",
    "\n",
    "node_1 = Node(**data_node_1)\n",
    "node_2 = Node(**data_node_2)\n",
    "\n",
    "nodes = [node_1, node_2]"
   ]
  },
  {
   "cell_type": "code",
   "execution_count": 15,
   "metadata": {
    "collapsed": true
   },
   "outputs": [],
   "source": [
    "# define the route along which we're going to sail\n",
    "path = [edge]"
   ]
  },
  {
   "cell_type": "code",
   "execution_count": 16,
   "metadata": {},
   "outputs": [
    {
     "data": {
      "text/plain": [
       "(8864523.0, 8864358.0)"
      ]
     },
     "execution_count": 16,
     "metadata": {},
     "output_type": "execute_result"
    }
   ],
   "source": [
    "# # Add environment and path to the vessel\n",
    "vessel.env = env\n",
    "vessel.route = path[0]\n",
    "vessel.route"
   ]
  },
  {
   "cell_type": "code",
   "execution_count": 17,
   "metadata": {
    "collapsed": true
   },
   "outputs": [],
   "source": [
    "# Now we can run a first simulation\n",
    "def start(env, vessel):\n",
    "    yield from vessel.move()\n",
    "    vessel.log_entry(\"Stop sailing\", env.now, \"\", vessel.geometry)\n",
    "        \n",
    "env.process(start(env, vessel))\n",
    "env.run()\n"
   ]
  },
  {
   "cell_type": "code",
   "execution_count": 18,
   "metadata": {},
   "outputs": [
    {
     "data": {
      "text/plain": [
       "{'Geometry': [<shapely.geometry.point.Point at 0x1fb57265cf8>,\n",
       "  <shapely.geometry.point.Point at 0x1fb573e6f28>,\n",
       "  <shapely.geometry.point.Point at 0x1fb573e6f28>],\n",
       " 'Message': ['Sailing from node 8864523.0 to node 8864358.0 start',\n",
       "  'Sailing from node 8864523.0 to node 8864358.0 stop',\n",
       "  'Stop sailing'],\n",
       " 'Timestamp': [datetime.datetime(2018, 7, 1, 0, 0),\n",
       "  datetime.datetime(2018, 7, 1, 0, 3, 6, 965317),\n",
       "  datetime.datetime(2018, 7, 1, 0, 3, 6, 965317)],\n",
       " 'Value': [0, 0, '']}"
      ]
     },
     "execution_count": 18,
     "metadata": {},
     "output_type": "execute_result"
    }
   ],
   "source": [
    "# The vessel should sail from A to B\n",
    "# seems to be a double message on a move (fix in opentnsim)\n",
    "vessel.log"
   ]
  },
  {
   "cell_type": "markdown",
   "metadata": {},
   "source": [
    "## Repeat for real case"
   ]
  },
  {
   "cell_type": "code",
   "execution_count": 35,
   "metadata": {},
   "outputs": [],
   "source": [
    "# Creating a library of some interesting locations\n",
    "\n",
    "def find_closest_node(G, point):\n",
    "    distance = np.full((len(G.nodes)), fill_value=np.nan)\n",
    "    for ii, n in enumerate(G.nodes):\n",
    "        distance[ii] = point.distance(G.nodes[n]['geometry'])\n",
    "    name_node = list(G.nodes)[np.argmin(distance)]\n",
    "    distance_node = np.min(distance)\n",
    "    return name_node, distance_node\n",
    "\n",
    "locations = {\n",
    "    'Transferium Maasvlakte': shapely.geometry.Point(4.087406, 51.936737),\n",
    "    'Neusse': shapely.geometry.Point(6.708892, 51.215737),\n",
    "    'Basel': shapely.geometry.Point(7.640572, 47.555449)\n",
    "}\n",
    "\n",
    "locations_nodes = {n: find_closest_node(G, locations[n])[0] for n in locations}\n"
   ]
  },
  {
   "cell_type": "code",
   "execution_count": 36,
   "metadata": {
    "collapsed": true
   },
   "outputs": [],
   "source": [
    "# Find basic route\n",
    "start_point = locations_nodes['Transferium Maasvlakte']\n",
    "end_point = locations_nodes['Basel']\n",
    "path = nx.dijkstra_path(G, start_point, end_point, weight='Length')"
   ]
  },
  {
   "cell_type": "code",
   "execution_count": 37,
   "metadata": {
    "collapsed": true
   },
   "outputs": [],
   "source": [
    "env = simpy.Environment()"
   ]
  },
  {
   "cell_type": "code",
   "execution_count": 38,
   "metadata": {
    "collapsed": true
   },
   "outputs": [],
   "source": [
    "simulation_start = datetime.datetime(2018, 7, 1)\n",
    "env = simpy.Environment(initial_time = time.mktime(simulation_start.timetuple()))\n",
    "env.epoch = time.mktime(simulation_start.timetuple())\n",
    "\n",
    "# Add graph to environment\n",
    "env.FG = G"
   ]
  },
  {
   "cell_type": "code",
   "execution_count": 39,
   "metadata": {},
   "outputs": [],
   "source": [
    "# Make a class out of mix-ins\n",
    "TransportResource = type('TransportResource', \n",
    "                         (opentnsim.core.Identifiable, opentnsim.core.ContainerDependentMovable, \n",
    "                          opentnsim.core.HasResource, opentnsim.core.Routeable), {})\n",
    "\n",
    "\n",
    "\n",
    "# For testing purposes we only want v to be 1\n",
    "def compute_v_provider(v_empty, v_full):\n",
    "    return lambda x: 1\n",
    "\n",
    "data_vessel = {\"env\": None,\n",
    "               \"name\": \"Vessel number 1\",\n",
    "               \"route\": None,\n",
    "               \"geometry\": G.nodes[start_point]['geometry'],  # lon, lat\n",
    "               \"capacity\": 1_000,\n",
    "               \"compute_v\": compute_v_provider(v_empty=1, v_full=1)}\n",
    "\n",
    "# create the transport processing resource\n",
    "vessel = TransportResource(**data_vessel)"
   ]
  },
  {
   "cell_type": "code",
   "execution_count": 45,
   "metadata": {},
   "outputs": [],
   "source": [
    "Node = type('Site', (opentnsim.core.Identifiable, opentnsim.core.Log, opentnsim.core.Locatable, opentnsim.core.HasResource), {})\n",
    "\n",
    "data_node_1 = {\"env\": [],\n",
    "               \"name\": \"Node 1\",\n",
    "               \"geometry\": G.nodes[start_point]['geometry']}\n",
    "data_node_2 = {\"env\": [],\n",
    "               \"name\": \"Node 2\",\n",
    "               \"geometry\": G.nodes[end_point]['geometry']}\n",
    "\n",
    "node_1 = Node(**data_node_1)\n",
    "node_2 = Node(**data_node_2)\n",
    "\n",
    "nodes = [node_1, node_2]\n"
   ]
  },
  {
   "cell_type": "code",
   "execution_count": 46,
   "metadata": {
    "collapsed": true
   },
   "outputs": [],
   "source": [
    "# # Add environment and path to the vessel\n",
    "vessel.env = env\n",
    "vessel.route = path"
   ]
  },
  {
   "cell_type": "code",
   "execution_count": 47,
   "metadata": {
    "collapsed": true
   },
   "outputs": [],
   "source": [
    "def start(env, vessel):\n",
    "    vessel.log_entry(\"Start sailing\", env.now, \"\", vessel.geometry)\n",
    "    yield from vessel.move()\n",
    "    vessel.log_entry(\"Stop sailing\", env.now, \"\", vessel.geometry)\n",
    "        \n",
    "env.process(start(env, vessel))\n",
    "env.run()\n"
   ]
  },
  {
   "cell_type": "code",
   "execution_count": 60,
   "metadata": {},
   "outputs": [
    {
     "data": {
      "text/plain": [
       "<matplotlib.axes._subplots.AxesSubplot at 0x1fb587c7a58>"
      ]
     },
     "execution_count": 60,
     "metadata": {},
     "output_type": "execute_result"
    },
    {
     "data": {
      "image/png": "[encoded data removed]",
      "text/plain": [
       "<Figure size 432x288 with 1 Axes>"
      ]
     },
     "metadata": {},
     "output_type": "display_data"
    }
   ],
   "source": [
    "# get log and plot track\n",
    "df = pd.DataFrame.from_dict(vessel.log)\n",
    "df['x'] = df.Geometry.apply(lambda geom: geom.x)\n",
    "df['y'] = df.Geometry.apply(lambda geom: geom.y)\n",
    "df.plot('x', 'y')"
   ]
  },
  {
   "cell_type": "code",
   "execution_count": 63,
   "metadata": {},
   "outputs": [
    {
     "data": {
      "image/png": "[encoded data removed]",
      "text/plain": [
       "<Figure size 864x864 with 1 Axes>"
      ]
     },
     "metadata": {},
     "output_type": "display_data"
    }
   ],
   "source": [
    "# Create plot of results\n",
    "\n",
    "import matplotlib.pyplot as plt\n",
    "import matplotlib.animation as animation\n",
    "\n",
    "\n",
    "# Get the coordinates of every step\n",
    "coordinates = []\n",
    "for i in vessel.log[\"Geometry\"]:\n",
    "    coordinates.append((i.x, i.y))\n",
    "    \n",
    "# Get the time of every step\n",
    "timesteps = []\n",
    "for i in vessel.log[\"Timestamp\"]:\n",
    "    timesteps.append(i.timestamp())\n",
    "\n",
    "    \n",
    "# coordinates = coordinates[:5]\n",
    "# timesteps = timesteps[:5]\n",
    "    \n",
    "# Make the animation\n",
    "fig, ax = plt.subplots(figsize = [12, 12])\n",
    "ax.set_xlim(df['x'].min(), df['x'].max())\n",
    "ax.set_ylim(df['y'].min(), df['y'].max())\n",
    "\n",
    "spatial_pos = {\n",
    "    k: (v['X'], v['Y']) \n",
    "    for k, v \n",
    "    in G.nodes.items()\n",
    "}\n",
    "\n",
    "#nx.draw(G, spatial_pos, \n",
    "#        with_labels = False, \n",
    "#        node_size = 0.5,\n",
    "#        font_size = 2, \n",
    "#        width = 0.2, \n",
    "#        arrowsize = 3)\n",
    "\n",
    "location, = plt.plot([], [], 'kx', markersize=15)\n",
    "path, = plt.plot([], [], 'go', markersize=8)\n",
    "time_text = plt.title(\"\")\n",
    "\n",
    "def init():\n",
    "    location.set_data([], [])\n",
    "    path.set_data([], [])\n",
    "    time_text.set_text(\"Time is 0\")\n",
    "\n",
    "def animate(i):\n",
    "    this_x = [coordinates[i][0]]\n",
    "    this_y = [coordinates[i][1]]\n",
    "    \n",
    "    location.set_data(this_x, this_y)\n",
    "    time_text.set_text(\"Time is {}\".format(int(timesteps[i])))\n",
    "    \n",
    "    if 0 < i:\n",
    "        past_x = [coordinate[0] for coordinate in coordinates[:i]]\n",
    "        past_y = [coordinate[1] for coordinate in coordinates[:i]]\n",
    "        \n",
    "        path.set_data(past_x, past_y)\n",
    "    \n",
    "        return location, path, time_text\n",
    "    \n",
    "    else:\n",
    "        return location, time_text\n",
    "    \n",
    "        \n",
    "ani = animation.FuncAnimation(fig, animate, np.arange(0, len(timesteps)), init_func=init)\n",
    "ani.save('Route.mp4', fps=5)"
   ]
  },
  {
   "cell_type": "code",
   "execution_count": 62,
   "metadata": {
    "collapsed": true
   },
   "outputs": [],
   "source": [
    "!start explorer ."
   ]
  },
  {
   "cell_type": "code",
   "execution_count": null,
   "metadata": {
    "collapsed": true
   },
   "outputs": [],
   "source": []
  }
 ],
 "metadata": {
  "kernelspec": {
   "display_name": "Python 3",
   "language": "python",
   "name": "python3"
  },
  "language_info": {
   "codemirror_mode": {
    "name": "ipython",
    "version": 3
   },
   "file_extension": ".py",
   "mimetype": "text/x-python",
   "name": "python",
   "nbconvert_exporter": "python",
   "pygments_lexer": "ipython3",
   "version": "3.6.1"
  }
 },
 "nbformat": 4,
 "nbformat_minor": 4
}
