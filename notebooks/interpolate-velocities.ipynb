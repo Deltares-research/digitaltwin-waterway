{
 "cells": [
  {
   "cell_type": "code",
   "execution_count": 1,
   "metadata": {},
   "outputs": [],
   "source": [
    "import io\n",
    "\n",
    "import networkx as nx\n",
    "import requests\n",
    "import pandas as pd\n",
    "import geopandas as gpd\n",
    "import numpy as np\n",
    "import shapely.geometry\n",
    "\n",
    "import matplotlib.pyplot as plt\n",
    "%matplotlib inline\n"
   ]
  },
  {
   "cell_type": "code",
   "execution_count": 2,
   "metadata": {},
   "outputs": [],
   "source": [
    "network_url = 'https://zenodo.org/record/4578289/files/network_digital_twin_v0.2.pickle?download=1'\n",
    "velocities_path = 'velocities/velocities.json'"
   ]
  },
  {
   "cell_type": "markdown",
   "metadata": {},
   "source": [
    "# Read the input\n",
    "We have two input files. The velocity geojson dataset with multiple features, one feature per scenario.  We also have the current version of the digital twin network. We will read the velocities as a geodataframe. We will read the network as a graph."
   ]
  },
  {
   "cell_type": "code",
   "execution_count": 3,
   "metadata": {},
   "outputs": [],
   "source": [
    "resp = requests.get(network_url)\n",
    "stream = io.BytesIO(resp.content)\n",
    "G = nx.read_gpickle(stream)"
   ]
  },
  {
   "cell_type": "code",
   "execution_count": 4,
   "metadata": {},
   "outputs": [
    {
     "data": {
      "text/html": [
       "<div>\n",
       "<style scoped>\n",
       "    .dataframe tbody tr th:only-of-type {\n",
       "        vertical-align: middle;\n",
       "    }\n",
       "\n",
       "    .dataframe tbody tr th {\n",
       "        vertical-align: top;\n",
       "    }\n",
       "\n",
       "    .dataframe thead th {\n",
       "        text-align: right;\n",
       "    }\n",
       "</style>\n",
       "<table border=\"1\" class=\"dataframe\">\n",
       "  <thead>\n",
       "    <tr style=\"text-align: right;\">\n",
       "      <th></th>\n",
       "      <th>scenario</th>\n",
       "      <th>velocity</th>\n",
       "      <th>geometry</th>\n",
       "    </tr>\n",
       "    <tr>\n",
       "      <th>id</th>\n",
       "      <th></th>\n",
       "      <th></th>\n",
       "      <th></th>\n",
       "    </tr>\n",
       "  </thead>\n",
       "  <tbody>\n",
       "    <tr>\n",
       "      <th>(22638188, 8861687)</th>\n",
       "      <td>Q1020</td>\n",
       "      <td>0.810</td>\n",
       "      <td>LINESTRING (5.83404 51.86192, 5.83355 51.86220...</td>\n",
       "    </tr>\n",
       "    <tr>\n",
       "      <th>(22638200, 28197686)</th>\n",
       "      <td>Q1020</td>\n",
       "      <td>0.795</td>\n",
       "      <td>LINESTRING (6.08125 51.85749, 6.07880 51.85877...</td>\n",
       "    </tr>\n",
       "    <tr>\n",
       "      <th>(28197686, 8863233)</th>\n",
       "      <td>Q1020</td>\n",
       "      <td>0.770</td>\n",
       "      <td>LINESTRING (6.06350 51.86545, 6.05740 51.86753...</td>\n",
       "    </tr>\n",
       "    <tr>\n",
       "      <th>(28197693, 8862687)</th>\n",
       "      <td>Q1020</td>\n",
       "      <td>0.948</td>\n",
       "      <td>LINESTRING (6.16655 51.84093, 6.16336 51.84184...</td>\n",
       "    </tr>\n",
       "    <tr>\n",
       "      <th>(8860617, 8865603)</th>\n",
       "      <td>Q1020</td>\n",
       "      <td>0.020</td>\n",
       "      <td>LINESTRING (4.96659 51.95968, 4.96592 51.95962...</td>\n",
       "    </tr>\n",
       "  </tbody>\n",
       "</table>\n",
       "</div>"
      ],
      "text/plain": [
       "                     scenario  velocity  \\\n",
       "id                                        \n",
       "(22638188, 8861687)     Q1020     0.810   \n",
       "(22638200, 28197686)    Q1020     0.795   \n",
       "(28197686, 8863233)     Q1020     0.770   \n",
       "(28197693, 8862687)     Q1020     0.948   \n",
       "(8860617, 8865603)      Q1020     0.020   \n",
       "\n",
       "                                                               geometry  \n",
       "id                                                                       \n",
       "(22638188, 8861687)   LINESTRING (5.83404 51.86192, 5.83355 51.86220...  \n",
       "(22638200, 28197686)  LINESTRING (6.08125 51.85749, 6.07880 51.85877...  \n",
       "(28197686, 8863233)   LINESTRING (6.06350 51.86545, 6.05740 51.86753...  \n",
       "(28197693, 8862687)   LINESTRING (6.16655 51.84093, 6.16336 51.84184...  \n",
       "(8860617, 8865603)    LINESTRING (4.96659 51.95968, 4.96592 51.95962...  "
      ]
     },
     "execution_count": 4,
     "metadata": {},
     "output_type": "execute_result"
    }
   ],
   "source": [
    "velocities_df = gpd.read_file(velocities_path)\n",
    "# convert to tuples, do not do this with untrusted data\n",
    "velocities_df['id'] = velocities_df['id'].apply(eval)\n",
    "velocities_df = velocities_df.set_index('id')\n",
    "velocities_df.head()\n"
   ]
  },
  {
   "cell_type": "markdown",
   "metadata": {},
   "source": [
    "# Check network\n",
    "Compare the velocity edges with the full network. "
   ]
  },
  {
   "cell_type": "code",
   "execution_count": 5,
   "metadata": {},
   "outputs": [],
   "source": [
    "# check that all edges are pressent\n",
    "edges = [G.edges[idx] for idx in velocities_df.index]"
   ]
  },
  {
   "cell_type": "code",
   "execution_count": 6,
   "metadata": {},
   "outputs": [],
   "source": [
    "# list all nodes in the velocities data frame\n",
    "nodes = []\n",
    "for e in velocities_df.index:\n",
    "    nodes.extend(e)\n",
    "nodes = set(nodes)\n",
    "\n",
    "# create a subgraph of only the data with velocities\n",
    "G_velocities = G.subgraph(nodes)    "
   ]
  },
  {
   "cell_type": "code",
   "execution_count": 7,
   "metadata": {},
   "outputs": [
    {
     "data": {
      "text/plain": [
       "3"
      ]
     },
     "execution_count": 7,
     "metadata": {},
     "output_type": "execute_result"
    },
    {
     "data": {
      "image/png": "[encoded data removed]",
      "text/plain": [
       "<Figure size 432x288 with 1 Axes>"
      ]
     },
     "metadata": {},
     "output_type": "display_data"
    }
   ],
   "source": [
    "# this should show some gaps\n",
    "fig, ax = plt.subplots()\n",
    "nx.draw(G_velocities, ax=ax)\n",
    "# count the number of cliques, even without cliques some edges maybe missing\n",
    "nx.clique.graph_clique_number(G)"
   ]
  },
  {
   "cell_type": "markdown",
   "metadata": {},
   "source": [
    "# Find edges without velocities\n",
    "We can use several approaches for the missing edges. We could loop over edges of main routes and remember the last velocity and the next velocity and fill it in. Here we are looking from the edges that are missing. From those missing edges we will search left and right until we have 2 velocities. \n",
    "\n",
    "We will first define the boundary nodes of the routes where we expect edges to be filled with velocities. "
   ]
  },
  {
   "cell_type": "code",
   "execution_count": 8,
   "metadata": {},
   "outputs": [],
   "source": [
    "boundary_nodes = {\n",
    "    \"slikkerveer\": \"8865140\",\n",
    "    \"werkendam\": '22638029',\n",
    "    \"emmerich\": '8861160',\n",
    "    \"ketelhaven\": '8863596'\n",
    "}\n"
   ]
  },
  {
   "cell_type": "markdown",
   "metadata": {},
   "source": [
    "Now determine the routes, based on the boundary nodes, by finding the shortest paths."
   ]
  },
  {
   "cell_type": "code",
   "execution_count": 9,
   "metadata": {},
   "outputs": [],
   "source": [
    "# origin destination diagrams\n",
    "ods = [\n",
    "    [boundary_nodes['slikkerveer'], boundary_nodes['emmerich']],\n",
    "    [boundary_nodes['werkendam'], boundary_nodes['emmerich']],\n",
    "    [boundary_nodes['ketelhaven'], boundary_nodes['emmerich']]\n",
    "]"
   ]
  },
  {
   "cell_type": "markdown",
   "metadata": {},
   "source": [
    "Based on these origin destination paths, keep track of all the nodes"
   ]
  },
  {
   "cell_type": "code",
   "execution_count": 10,
   "metadata": {},
   "outputs": [],
   "source": [
    "# lookup all nodes that are in one of our routes of interest\n",
    "od_paths = []\n",
    "for od in ods:\n",
    "    od_path = nx.shortest_path(G, od[0], od[1])\n",
    "    od_paths.extend(od_path)"
   ]
  },
  {
   "cell_type": "markdown",
   "metadata": {},
   "source": [
    "Now we can create a new subgraph with only the nodes that we are interested in."
   ]
  },
  {
   "cell_type": "code",
   "execution_count": 11,
   "metadata": {},
   "outputs": [],
   "source": [
    "G_boundaries = G.subgraph(od_paths)"
   ]
  },
  {
   "cell_type": "code",
   "execution_count": 12,
   "metadata": {},
   "outputs": [
    {
     "data": {
      "image/png": "[encoded data removed]",
      "text/plain": [
       "<Figure size 432x288 with 1 Axes>"
      ]
     },
     "metadata": {},
     "output_type": "display_data"
    }
   ],
   "source": [
    "nx.draw(G_boundaries)"
   ]
  },
  {
   "cell_type": "code",
   "execution_count": 13,
   "metadata": {},
   "outputs": [],
   "source": [
    "# Compute the positions to render for the graph\n",
    "pos = {}\n",
    "for n in G_boundaries.nodes:\n",
    "    node = G_boundaries.nodes[n]\n",
    "    pos[n] = (node['X'], node['Y'])"
   ]
  },
  {
   "cell_type": "code",
   "execution_count": 14,
   "metadata": {},
   "outputs": [
    {
     "data": {
      "image/png": "[encoded data removed]",
      "text/plain": [
       "<Figure size 432x288 with 1 Axes>"
      ]
     },
     "metadata": {},
     "output_type": "display_data"
    }
   ],
   "source": [
    "# plot the subgraph with only the relevant parts\n",
    "nx.draw(G_boundaries, pos)"
   ]
  },
  {
   "cell_type": "markdown",
   "metadata": {},
   "source": [
    "# Search missing edges\n",
    "Now that we know which edges we want velocities. We can lookup the ones that we have velocities. The ones remaining are the missings. \n",
    "\n",
    "We use `e` to refer to an edge id (tuple of node ids) and `e_r` as the reversed version of that edge id. "
   ]
  },
  {
   "cell_type": "code",
   "execution_count": 15,
   "metadata": {},
   "outputs": [],
   "source": [
    "missing_edges = []\n",
    "for e in G_boundaries.edges:\n",
    "    edge = G_boundaries.edges[e]\n",
    "    e_r = tuple(reversed(e))\n",
    "    \n",
    "    # is e in our list of ids\n",
    "    has_e = e in velocities_df.index\n",
    "    # is e reversed in our list\n",
    "    has_e_r = e_r in velocities_df.index\n",
    "    # either one, we already have a velocity\n",
    "    if has_e or has_e_r:\n",
    "        continue\n",
    "        \n",
    "    # if we did not find our edge it is missing and needs interpolation\n",
    "    missing_edges.append(e)"
   ]
  },
  {
   "cell_type": "code",
   "execution_count": 16,
   "metadata": {},
   "outputs": [
    {
     "data": {
      "text/plain": [
       "57"
      ]
     },
     "execution_count": 16,
     "metadata": {},
     "output_type": "execute_result"
    }
   ],
   "source": [
    "# how many edges are we missing\n",
    "len(missing_edges)"
   ]
  },
  {
   "cell_type": "code",
   "execution_count": 17,
   "metadata": {},
   "outputs": [
    {
     "data": {
      "text/plain": [
       "('B9697_A', 'B9697_B')"
      ]
     },
     "execution_count": 17,
     "metadata": {},
     "output_type": "execute_result"
    }
   ],
   "source": [
    "# print one example\n",
    "missing_edge = missing_edges[0]\n",
    "missing_edge"
   ]
  },
  {
   "cell_type": "markdown",
   "metadata": {},
   "source": [
    "# Depth first search back and forth\n",
    "Now for the main logic. Look left down the graph, using depth first predessors. Look right down the graph, using successors. Keep track of the velocities that we find."
   ]
  },
  {
   "cell_type": "code",
   "execution_count": 18,
   "metadata": {},
   "outputs": [],
   "source": [
    "def find_velocities(missing_edge):\n",
    "    \"\"\"find nearest velocities left and right of this edge\"\"\"\n",
    "    \n",
    "    left_velocity = None\n",
    "    prev_n = missing_edge[0]\n",
    "    for n in nx.dfs_predecessors(G, missing_edge[0]):\n",
    "\n",
    "        # edge\n",
    "        e = (prev_n, n)\n",
    "\n",
    "        # reversed edge\n",
    "        e_r = (n, prev_n)\n",
    "\n",
    "        # do we have a velocity in this edge\n",
    "        has_e = e in velocities_df.index\n",
    "        if has_e:\n",
    "            # use a list of 1 tuple so it does not think it should unpack it\n",
    "            left_velocity = velocities_df.loc[[e]]\n",
    "            break\n",
    "        \n",
    "        has_e_r = e_r in velocities_df.index\n",
    "        if has_e_r:\n",
    "            # use a list of 1 tuple so it does not think it should unpack it\n",
    "\n",
    "            left_velocity = velocities_df.loc[[e_r]]\n",
    "            break\n",
    "        prev_n = n\n",
    "        \n",
    "        \n",
    "    right_velocity = None\n",
    "    prev_n = missing_edge[1]\n",
    "    for n in nx.dfs_successors(G, missing_edge[1]):\n",
    "\n",
    "        # edge\n",
    "        e = (prev_n, n)\n",
    "\n",
    "        # reversed edge\n",
    "        e_r = (n, prev_n)\n",
    "\n",
    "        # do we have a velocity in this edge\n",
    "        has_e = e in velocities_df.index\n",
    "        if has_e:\n",
    "            # use a list of 1 tuple so it does not think it should unpack it\n",
    "            right_velocity = velocities_df.loc[[e]]\n",
    "            break\n",
    "        \n",
    "        has_e_r = e_r in velocities_df.index\n",
    "        if has_e_r:\n",
    "            # use a list of 1 tuple so it does not think it should unpack it\n",
    "\n",
    "            right_velocity = velocities_df.loc[[e_r]]\n",
    "            break\n",
    "        prev_n = n\n",
    "        \n",
    "\n",
    "    return left_velocity, right_velocity\n",
    "\n"
   ]
  },
  {
   "cell_type": "markdown",
   "metadata": {},
   "source": [
    "# Merge datasets and interpolate\n",
    "Here we lookup the left and right branch velocities."
   ]
  },
  {
   "cell_type": "code",
   "execution_count": 19,
   "metadata": {},
   "outputs": [],
   "source": [
    "missing_dfs = []\n",
    "for missing_edge in missing_edges:\n",
    "    left_velocities, right_velocities = find_velocities(missing_edge)\n",
    "    # merge left and right dataframe (by scenario)\n",
    "    interpolate_df = pd.merge(\n",
    "        left_velocities.reset_index(), \n",
    "        right_velocities.reset_index(), \n",
    "        left_on='scenario', \n",
    "        right_on='scenario',\n",
    "        suffixes=['_left', '_right']\n",
    "    )\n",
    "    # add edge id\n",
    "    interpolate_df['id'] = [missing_edge for i in range(interpolate_df.shape[0])]\n",
    "    # compute average velocity per scenario\n",
    "    interpolate_df['velocity'] = (interpolate_df['velocity_left'] + interpolate_df['velocity_right']) / 2\n",
    "    # lookup our geometry\n",
    "    geometry = G.edges[missing_edge]['geometry']\n",
    "    # convert it to shapely object\n",
    "    geometry = shapely.geometry.asShape(geometry)\n",
    "    # add it to all rows\n",
    "    interpolate_df['geometry'] = [geometry for i in range(interpolate_df.shape[0])]\n",
    "    # append to the list\n",
    "    missing_dfs.append(\n",
    "        interpolate_df[['id', 'scenario', 'geometry', 'velocity']]\n",
    "    )"
   ]
  },
  {
   "cell_type": "code",
   "execution_count": 20,
   "metadata": {},
   "outputs": [],
   "source": [
    "# merge all dataframes\n",
    "velocities_interpolated_df = pd.concat(\n",
    "    missing_dfs + [velocities_df.reset_index()]\n",
    ").set_index('id')"
   ]
  },
  {
   "cell_type": "code",
   "execution_count": 21,
   "metadata": {},
   "outputs": [
    {
     "data": {
      "text/plain": [
       "<matplotlib.legend.Legend at 0x135077400>"
      ]
     },
     "execution_count": 21,
     "metadata": {},
     "output_type": "execute_result"
    },
    {
     "data": {
      "image/png": "[encoded data removed]",
      "text/plain": [
       "<Figure size 432x288 with 1 Axes>"
      ]
     },
     "metadata": {
      "needs_background": "light"
     },
     "output_type": "display_data"
    }
   ],
   "source": [
    "# check if it looks good...\n",
    "velocities_interpolated_df.query(\"scenario == 'Q2000'\").plot(column='velocity', label='velocity')\n",
    "plt.legend(loc='upper left')"
   ]
  },
  {
   "cell_type": "code",
   "execution_count": null,
   "metadata": {},
   "outputs": [],
   "source": []
  }
 ],
 "metadata": {
  "kernelspec": {
   "display_name": "Python 3",
   "language": "python",
   "name": "python3"
  },
  "language_info": {
   "codemirror_mode": {
    "name": "ipython",
    "version": 3
   },
   "file_extension": ".py",
   "mimetype": "text/x-python",
   "name": "python",
   "nbconvert_exporter": "python",
   "pygments_lexer": "ipython3",
   "version": "3.8.8"
  }
 },
 "nbformat": 4,
 "nbformat_minor": 4
}
