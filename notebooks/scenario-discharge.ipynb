{
 "cells": [
  {
   "cell_type": "code",
   "execution_count": 1,
   "metadata": {},
   "outputs": [],
   "source": [
    "# all internal libraries\n",
    "import pathlib\n",
    "import time\n",
    "import datetime\n",
    "import io\n",
    "import urllib\n",
    "import tempfile\n",
    "\n",
    "# dependencies\n",
    "import shapely.geometry\n",
    "import networkx as nx\n",
    "import simpy\n",
    "import numpy as np\n",
    "import pandas as pd\n",
    "\n",
    "import matplotlib.pyplot as plt\n",
    "import matplotlib.animation as animation\n",
    "\n",
    "\n",
    "\n",
    "# our software\n",
    "import opentnsim.core\n",
    "import dtv_backend.fis\n",
    "%matplotlib inline"
   ]
  },
  {
   "cell_type": "code",
   "execution_count": 2,
   "metadata": {},
   "outputs": [],
   "source": [
    "# link to the latets version of the network\n",
    "url = 'https://zenodo.org/record/3981105/files/network_digital_twin_v0.1.yaml'\n",
    "G = dtv_backend.fis.load_fis_network(url)"
   ]
  },
  {
   "cell_type": "markdown",
   "metadata": {},
   "source": [
    "## Repeat for real case"
   ]
  },
  {
   "cell_type": "code",
   "execution_count": null,
   "metadata": {},
   "outputs": [],
   "source": [
    "# Creating a library of some interesting locations\n",
    "\n",
    "\n",
    "def find_closest_edge(G, point):\n",
    "    distance = np.full((len(G.edges)), fill_value=np.nan)\n",
    "    for ii, e in enumerate(G.edges):\n",
    "        distance[ii] = point.distance(G.edges[e]['geometry'])\n",
    "    name_edge = list(G.edges)[np.argmin(distance)]\n",
    "    distance_edge = np.min(distance)\n",
    "    return name_edge, distance_edge\n",
    "\n",
    "locations = {\n",
    "    'Transferium Maasvlakte': shapely.geometry.Point(4.087406, 51.936737),\n",
    "    'Neusse': shapely.geometry.Point(6.708892, 51.215737),\n",
    "    'Basel': shapely.geometry.Point(7.640572, 47.555449)\n",
    "}\n",
    "\n",
    "locations_nodes = {n: dtv_backend.fis.find_closest_node(G, locations[n])[0] for n in locations}\n"
   ]
  },
  {
   "cell_type": "code",
   "execution_count": null,
   "metadata": {},
   "outputs": [],
   "source": [
    "# Find basic route\n",
    "start_point = locations_nodes['Transferium Maasvlakte']\n",
    "end_point = locations_nodes['Basel']\n",
    "path = nx.dijkstra_path(G, start_point, end_point, weight='Length')"
   ]
  },
  {
   "cell_type": "code",
   "execution_count": null,
   "metadata": {},
   "outputs": [],
   "source": [
    "env = simpy.Environment()"
   ]
  },
  {
   "cell_type": "code",
   "execution_count": null,
   "metadata": {},
   "outputs": [],
   "source": [
    "simulation_start = datetime.datetime(2018, 7, 1)\n",
    "env = simpy.Environment(initial_time = time.mktime(simulation_start.timetuple()))\n",
    "env.epoch = time.mktime(simulation_start.timetuple())\n",
    "\n",
    "# Add graph to environment\n",
    "env.FG = G"
   ]
  },
  {
   "cell_type": "code",
   "execution_count": null,
   "metadata": {},
   "outputs": [],
   "source": [
    "# Make a class out of mix-ins\n",
    "TransportResource = type('TransportResource', \n",
    "                         (opentnsim.core.Identifiable, opentnsim.core.ContainerDependentMovable, \n",
    "                          opentnsim.core.HasResource, opentnsim.core.Routeable), {})\n",
    "\n",
    "\n",
    "\n",
    "# For testing purposes we only want v to be 1\n",
    "def compute_v_provider(v_empty, v_full):\n",
    "    return lambda x: 1\n",
    "\n",
    "data_vessel = {\"env\": None,\n",
    "               \"name\": \"Vessel number 1\",\n",
    "               \"route\": None,\n",
    "               \"geometry\": G.nodes[start_point]['geometry'],  # lon, lat\n",
    "               \"capacity\": 1_000,\n",
    "               \"compute_v\": compute_v_provider(v_empty=1, v_full=1)}\n",
    "\n",
    "# create the transport processing resource\n",
    "vessel = TransportResource(**data_vessel)"
   ]
  },
  {
   "cell_type": "code",
   "execution_count": null,
   "metadata": {},
   "outputs": [],
   "source": [
    "Node = type('Site', (opentnsim.core.Identifiable, opentnsim.core.Log, opentnsim.core.Locatable, opentnsim.core.HasResource), {})\n",
    "\n",
    "data_node_1 = {\"env\": [],\n",
    "               \"name\": \"Node 1\",\n",
    "               \"geometry\": G.nodes[start_point]['geometry']}\n",
    "data_node_2 = {\"env\": [],\n",
    "               \"name\": \"Node 2\",\n",
    "               \"geometry\": G.nodes[end_point]['geometry']}\n",
    "\n",
    "node_1 = Node(**data_node_1)\n",
    "node_2 = Node(**data_node_2)\n",
    "\n",
    "nodes = [node_1, node_2]\n"
   ]
  },
  {
   "cell_type": "code",
   "execution_count": null,
   "metadata": {},
   "outputs": [],
   "source": [
    "# # Add environment and path to the vessel\n",
    "vessel.env = env\n",
    "route = nx.DiGraph(G.subgraph(path))\n",
    "vessel.route = path"
   ]
  },
  {
   "cell_type": "code",
   "execution_count": null,
   "metadata": {},
   "outputs": [],
   "source": [
    "def start(env, vessel):\n",
    "    vessel.log_entry(\"Start sailing\", env.now, \"\", vessel.geometry)\n",
    "    yield from vessel.move()\n",
    "    vessel.log_entry(\"Stop sailing\", env.now, \"\", vessel.geometry)\n",
    "        \n",
    "env.process(start(env, vessel))\n",
    "env.run()\n"
   ]
  },
  {
   "cell_type": "code",
   "execution_count": null,
   "metadata": {},
   "outputs": [],
   "source": [
    "# get log and plot track\n",
    "df = pd.DataFrame.from_dict(vessel.log)\n",
    "df['x'] = df.Geometry.apply(lambda geom: geom.x)\n",
    "df['y'] = df.Geometry.apply(lambda geom: geom.y)\n",
    "df.plot('x', 'y')"
   ]
  },
  {
   "cell_type": "code",
   "execution_count": null,
   "metadata": {},
   "outputs": [],
   "source": [
    "import scipy.interpolate\n",
    "\n",
    "# Waterdiepte uitrekenen op meerdere plekken in het netwerk (Q-waterdiepte-relatie)\n",
    "# Load the depth tables\n",
    "depth_path = pathlib.Path('~/data/vaarwegen/discharge/depth.csv')\n",
    "discharge_df = pd.read_csv(depth_path)\n",
    "\n",
    "# get the discharge interpolation functions\n",
    "discharge_df = discharge_df.rename(columns={'Unnamed: 0': 'Lobith'})\n",
    "discharge_df = discharge_df.set_index('Lobith')\n",
    "F = discharge_df.apply(lambda series: scipy.interpolate.interp1d(series.index, series.values))\n",
    "\n",
    "# add some coordinates\n",
    "coordinates = {\n",
    "    'Kaub': shapely.wkt.loads(\"POINT(7.764967 50.085433)\"),\n",
    "    'Duisburg-Ruhrort': shapely.wkt.loads(\"POINT(6.727933 51.455350)\"),\n",
    "    'Emmerich': shapely.wkt.loads(\"POINT(6.245600 51.829250)\"),\n",
    "    'Erlecom': shapely.wkt.loads(\"POINT(5.95044 51.86054)\"),\n",
    "    'Nijmegen': shapely.wkt.loads(\"POINT(5.84601 51.85651)\"),\n",
    "    'Ophemert': shapely.wkt.loads(\"POINT(5.41371 51.85023)\"),\n",
    "    'St. Andries': shapely.wkt.loads(\"POINT(5.33567 51.80930)\"),\n",
    "    'Zaltbommel': shapely.wkt.loads(\"POINT(5.24990 51.81733)\"),\n",
    "    'Nijmegen (fixed layer)': shapely.wkt.loads(\"POINT(5.85458 51.85264)\")\n",
    "}\n",
    "# store in a DataFrame\n",
    "depth_df = pd.DataFrame(F, columns=['F'])\n",
    "# add the geometry\n",
    "depth_locations_df = pd.DataFrame(data=coordinates.items(), columns=['location', 'geometry']).set_index('location')\n",
    "# merge back together\n",
    "depth_df = pd.merge(depth_df, depth_locations_df, left_index=True, right_index=True)\n",
    "depth_df.loc['Kaub']"
   ]
  },
  {
   "cell_type": "code",
   "execution_count": null,
   "metadata": {},
   "outputs": [],
   "source": [
    "# lookup closest locations\n",
    "location_edge = {}\n",
    "for name, row in depth_df.iterrows():\n",
    "    location_edge[name] = find_closest_edge(G, row.geometry)[0]\n",
    "# merge closest edges with the table\n",
    "edges_df = pd.DataFrame(location_edge).T.rename(columns={0: 'edge_from', 1: 'edge_to'})\n",
    "depth_df = pd.merge(depth_df, edges_df, left_index=True, right_index=True)"
   ]
  },
  {
   "cell_type": "code",
   "execution_count": null,
   "metadata": {},
   "outputs": [],
   "source": [
    "depth_df['on_route'] = depth_df.apply(lambda x: route.has_edge(x.edge_from, x.edge_to), axis=1)\n",
    "depth_df"
   ]
  },
  {
   "cell_type": "code",
   "execution_count": null,
   "metadata": {},
   "outputs": [],
   "source": [
    "# Op gegeven route is de laagste waterdiepte maatgevend\n",
    "\n",
    "lobith_discharge = 1500\n",
    "\n",
    "depth_idx = depth_df.reset_index().rename(columns={'index': 'name'}).set_index(['edge_from', 'edge_to'])\n",
    "fig, ax = plt.subplots()\n",
    "ax.set_title(\"Discharge at Lobith {:.0f}m/s\".format(lobith_discharge))\n",
    "ax.set_xlabel('lon [degrees]')\n",
    "ax.set_ylabel('lat [degrees]')\n",
    "for e in route.edges():\n",
    "    pts = np.array(route.edges[e]['geometry'])\n",
    "    style = 'k-'\n",
    "    if e in depth_idx.index:\n",
    "        style = 'g-o'\n",
    "        row = depth_idx.loc[e]\n",
    "        label = \"{}: mgd: {:.1f}m\".format(row['name'], row.F(lobith_discharge))\n",
    "        ax.text(row.geometry.x, row.geometry.y, label)\n",
    "    ax.plot(pts[:, 0], pts[:, 1], style)"
   ]
  },
  {
   "cell_type": "code",
   "execution_count": null,
   "metadata": {},
   "outputs": [],
   "source": [
    "# Compute minimum depth on the network\n",
    "min_depth = depth_df[depth_df.on_route].apply(lambda x: x.F(lobith_discharge), axis=1).min()\n",
    "min_depth"
   ]
  },
  {
   "cell_type": "code",
   "execution_count": null,
   "metadata": {},
   "outputs": [],
   "source": [
    "# De diepgang is dan bepaalt met [waterdiepte - 0.30 m].\n",
    "underkeel_clearance = 0.30\n",
    "maximum_draught = min_depth - underkeel_clearance\n",
    "maximum_draught"
   ]
  },
  {
   "cell_type": "code",
   "execution_count": null,
   "metadata": {},
   "outputs": [],
   "source": [
    "# De beladingsgraad is dan [(Diepgang - Diepgang_ledig)/(Diepgang_vol - Diepgang_ledig)]\n",
    "# Example ship https://gallemakelaars.nl/justin\n",
    "# Diepgang (M)3,70\n",
    "# Ledig Gemiddeld (M)0,85\n",
    "draught_empty = 0.85\n",
    "draught_full = 3.7\n",
    "load_fraction = (maximum_draught - draught_empty)/(draught_full - draught_empty)\n",
    "load_fraction\n",
    "\n",
    "# Number of extra ships\n",
    "1 / load_fraction\n",
    "\n",
    "# Het aantal schepen dat je nodig hebt voor transport van dezelfde goederen is dan [n=1/beladingsgraad]"
   ]
  },
  {
   "cell_type": "code",
   "execution_count": null,
   "metadata": {},
   "outputs": [],
   "source": [
    "# Interpolate data to 1 hour timeseries\n",
    "\n",
    "df_interpolated = (\n",
    "    df[['x', 'y', 'Timestamp']]\n",
    "    # Get rid of double (start/stop) log entries\n",
    "    .drop_duplicates('Timestamp')\n",
    "    .set_index('Timestamp')\n",
    "    # Resample to hourly data\n",
    "    .resample('H')\n",
    "    # backfill so that we do not have missings at t=0\n",
    "    .bfill(limit=1)\n",
    "    # Interpolate values \n",
    "    .interpolate('linear')\n",
    "    # Get rid of the first/last measurement\n",
    "    .dropna()\n",
    "    # restore the Timestamp as a column\n",
    "    .reset_index()\n",
    ")\n",
    "\n",
    "\n"
   ]
  },
  {
   "cell_type": "code",
   "execution_count": null,
   "metadata": {},
   "outputs": [],
   "source": [
    "# Create plot of results\n",
    "    \n",
    "# Make the animation\n",
    "fig, ax = plt.subplots(figsize = [12, 12])\n",
    "ax.set_xlim(df['x'].min(), df['x'].max())\n",
    "ax.set_ylim(df['y'].min(), df['y'].max())\n",
    "\n",
    "\n",
    "location, = ax.plot([], [], 'kx', markersize=10)\n",
    "path, = ax.plot([], [], 'g-', markersize=8)\n",
    "time_text = ax.set_title(\"\")\n",
    "\n",
    "\n",
    "spatial_pos = {\n",
    "    k: (v['X'], v['Y']) \n",
    "    for k, v \n",
    "    in G.nodes.items()\n",
    "}\n",
    "\n",
    "nx.draw(\n",
    "    G, \n",
    "    spatial_pos, \n",
    "    with_labels = False, \n",
    "    node_size = 0,\n",
    "    font_size = 2, \n",
    "    width = 0.2, \n",
    "    arrowsize = 3\n",
    ")\n",
    "\n",
    "def init():\n",
    "    location.set_data([], [])\n",
    "    path.set_data([], [])\n",
    "    time_text.set_text(\"Time is 0\")\n",
    "    return location, path, time_text\n",
    "\n",
    "def animate(i_row):\n",
    "    i, row = i_row\n",
    "    location.set_data(row.x, row.y)\n",
    "    time_text.set_text(\"Time is {}\".format(row.Timestamp))\n",
    "    history = df_interpolated.iloc[:i]\n",
    "    path.set_data(history.x, history.y)\n",
    "    return location, path, time_text\n",
    "    \n",
    "        \n"
   ]
  },
  {
   "cell_type": "code",
   "execution_count": null,
   "metadata": {},
   "outputs": [],
   "source": [
    "ani = animation.FuncAnimation(fig, animate, list(df_interpolated.iterrows()), init_func=init)\n",
    "ani.save('route.mp4', fps=5)"
   ]
  },
  {
   "cell_type": "code",
   "execution_count": null,
   "metadata": {},
   "outputs": [],
   "source": []
  }
 ],
 "metadata": {
  "kernelspec": {
   "display_name": "Python 3",
   "language": "python",
   "name": "python3"
  },
  "language_info": {
   "codemirror_mode": {
    "name": "ipython",
    "version": 3
   },
   "file_extension": ".py",
   "mimetype": "text/x-python",
   "name": "python",
   "nbconvert_exporter": "python",
   "pygments_lexer": "ipython3",
   "version": "3.8.6"
  }
 },
 "nbformat": 4,
 "nbformat_minor": 4
}
