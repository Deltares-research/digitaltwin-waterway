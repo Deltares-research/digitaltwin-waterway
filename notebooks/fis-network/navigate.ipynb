{
 "cells": [
  {
   "cell_type": "code",
   "execution_count": 1,
   "id": "cdb1f6f2",
   "metadata": {},
   "outputs": [],
   "source": [
    "import functools\n",
    "import json\n",
    "import itertools\n",
    "import re\n",
    "\n",
    "\n",
    "import geopandas as gpd\n",
    "import pandas as pd\n",
    "import shapely.geometry\n",
    "\n",
    "import ipyleaflet \n",
    "\n",
    "\n",
    "import dtv_backend.fis\n",
    "import dtv_backend.network.network_utilities\n",
    "import networkx as nx"
   ]
  },
  {
   "cell_type": "markdown",
   "id": "b8bd2ec2",
   "metadata": {},
   "source": [
    "# Fairway information system\n",
    "The map below shows the fairway information system. You can use it to navigate over the inland waterways. If you zoom in you can find node and edge id's, that will be used later in this notebook."
   ]
  },
  {
   "cell_type": "code",
   "execution_count": 14,
   "id": "34072efc",
   "metadata": {},
   "outputs": [
    {
     "data": {
      "text/html": [
       "<iframe width='100%' height='400px' src=\"https://api.mapbox.com/styles/v1/siggyf/cl1tbrgu8000l14pk5x8jgbyg.html?title=false&access_token=pk.eyJ1Ijoic2lnZ3lmIiwiYSI6Il8xOGdYdlEifQ.3-JZpqwUa3hydjAJFXIlMA&zoomwheel=false#9.87/51.9264/4.3768\" title=\"dtv\" style=\"border:none;\"></iframe>\n"
      ],
      "text/plain": [
       "<IPython.core.display.HTML object>"
      ]
     },
     "metadata": {},
     "output_type": "display_data"
    }
   ],
   "source": [
    "%%html\n",
    "<iframe width='100%' height='400px' src=\"https://api.mapbox.com/styles/v1/siggyf/cl1tbrgu8000l14pk5x8jgbyg.html?title=false&access_token=pk.eyJ1Ijoic2lnZ3lmIiwiYSI6Il8xOGdYdlEifQ.3-JZpqwUa3hydjAJFXIlMA&zoomwheel=false#9.87/51.9264/4.3768\" title=\"dtv\" style=\"border:none;\"></iframe>"
   ]
  },
  {
   "cell_type": "markdown",
   "id": "90680bff",
   "metadata": {},
   "source": [
    "# NetworkX graph\n",
    "The map above showed the visualisation of the graph. We can extract the raw network from the internet. It is stored in zenodo."
   ]
  },
  {
   "cell_type": "code",
   "execution_count": 3,
   "id": "63d0122d",
   "metadata": {},
   "outputs": [],
   "source": [
    "# We can download\n",
    "url = \"https://zenodo.org/record/4578289/files/network_digital_twin_v0.2.pickle?download=1\""
   ]
  },
  {
   "cell_type": "markdown",
   "id": "95c38703",
   "metadata": {},
   "source": [
    "Let's load the network. This gets it from cache or from the internet and transforms geospatial objects into shapely objects."
   ]
  },
  {
   "cell_type": "code",
   "execution_count": 4,
   "id": "e8e55e3b",
   "metadata": {},
   "outputs": [],
   "source": [
    "network = dtv_backend.fis.load_fis_network(url)"
   ]
  },
  {
   "cell_type": "markdown",
   "id": "dbb8265d",
   "metadata": {},
   "source": [
    "Let's define some sites so we can navigate by name. We'll also define function to go from location to closest node/edges. "
   ]
  },
  {
   "cell_type": "code",
   "execution_count": 16,
   "id": "e100bfb8",
   "metadata": {},
   "outputs": [],
   "source": [
    "def add_graph_columns(sites_gdf: gpd.GeoDataFrame, network: nx.Graph):\n",
    "    \"\"\"add node (n) and edge id (e) columns to the sites geodataframe\"\"\"\n",
    "    f = functools.partial(dtv_backend.network.network_utilities.find_closest_node, network)\n",
    "    sites_gdf['n'] = sites_gdf['geometry'].apply(f).apply(lambda x: x[0])\n",
    "    f = functools.partial(dtv_backend.network.network_utilities.find_closest_edge, network)\n",
    "    sites_gdf['e'] = sites_gdf['geometry'].apply(f).apply(lambda x: x[0])\n",
    "    return sites_gdf"
   ]
  },
  {
   "cell_type": "code",
   "execution_count": 7,
   "id": "9de3a200",
   "metadata": {},
   "outputs": [],
   "source": [
    "def waypoint_names_to_waypoints(waypoint_names, sites_gdf):\n",
    "    waypoint_nodes = sites_gdf.set_index(\"name\").loc[waypoint_names]\n",
    "    waypoints = list(waypoint_nodes['n'])\n",
    "    return waypoints\n"
   ]
  },
  {
   "cell_type": "code",
   "execution_count": 8,
   "id": "2adb88db",
   "metadata": {},
   "outputs": [],
   "source": [
    "def make_sites_gdf(sites, network):\n",
    "    sites_df = pd.DataFrame(sites)\n",
    "    sites_df['lat'] = sites_df['latlng'].apply(lambda x: x[0])\n",
    "    sites_df['lon'] = sites_df['latlng'].apply(lambda x: x[1])\n",
    "    sites_gdf = gpd.GeoDataFrame(sites_df, geometry=gpd.points_from_xy(sites_df['lon'], sites_df['lat']))\n",
    "    sites_gdf = add_graph_columns(sites_gdf, network)\n",
    "    return sites_gdf"
   ]
  },
  {
   "cell_type": "code",
   "execution_count": 19,
   "id": "49a1e164",
   "metadata": {},
   "outputs": [],
   "source": [
    "sites = [\n",
    "    {\"name\": \"ECT\", \"latlng\": [51.945874, 4.046348]},\n",
    "    {\"name\": \"Willemsbrug\", \"latlng\": [51.917360, 4.495536]},\n",
    "    {\"name\": \"DP World\", \"latlng\": [51.283516, 4.252585]},\n",
    "    {\"name\": \"Vrasenedok\", \"latlng\": [51.255026, 4.231722]},\n",
    "    {\"name\": \"BCTN\", \"latlng\": [51.861380, 5.830828]},\n",
    "    {\"name\": \"Duisburg\", \"latlng\": [51.447844, 6.751859]},\n",
    "    {\"name\": \"Delfzijl\", \"latlng\": [53.314163, 6.930146]},\n",
    "    {\"name\": \"Houtribsluizen\", \"latlng\": [52.527602, 5.434068]},\n",
    "    {\"name\": \"Burgum\", \"latlng\": [53.185400, 5.989221]},\n",
    "    {\"name\": \"Buiten IJ\", \"latlng\": [52.380512, 4.963281]},\n",
    "    {\"name\": \"Prinses Beatrixsluizen\", \"latlng\": [52.016570, 5.111557]}\n",
    "]\n",
    "sites_gdf = make_sites_gdf(sites, network) "
   ]
  },
  {
   "cell_type": "code",
   "execution_count": 28,
   "id": "d3d92072",
   "metadata": {},
   "outputs": [
    {
     "data": {
      "text/plain": [
       "['Berth4',\n",
       " 'B34914_A',\n",
       " 'L22820_A',\n",
       " '8861427',\n",
       " 'B28367_A',\n",
       " 'B12602_B',\n",
       " '8865973']"
      ]
     },
     "execution_count": 28,
     "metadata": {},
     "output_type": "execute_result"
    }
   ],
   "source": [
    "# We sometimes need to add extra waypoints. \n",
    "# The shortest route from Delfzijl to Rotterdam is through the North Sea.\n",
    "# So we need to add some locations in between (or use more restrictions)\n",
    "waypoint_names = [\"ECT\", \"Willemsbrug\", \"BCTN\"]\n",
    "waypoint_names = [\"Delfzijl\",  \"Buiten IJ\",\"Prinses Beatrixsluizen\", \"ECT\"]\n",
    "waypoint_names = [\"Delfzijl\", \"Burgum\", \"Houtribsluizen\",\"Buiten IJ\", \"Prinses Beatrixsluizen\", \"Willemsbrug\", \"ECT\"]\n",
    "waypoints = waypoint_names_to_waypoints(waypoint_names, sites_gdf=sites_gdf)\n",
    "waypoints"
   ]
  },
  {
   "cell_type": "markdown",
   "id": "3f6e2d98",
   "metadata": {},
   "source": [
    "# Compute the route\n",
    "Now that we have our waypoints defined we can compute the route. This will create a geojson feature collection with general info about the route in the properties. Each feature is an edge in the node. The route is split up into segments. Each segment ends with an empty edge of length 0, so that we have nodes and edges aligned. You can filter them out with the is_stop property. "
   ]
  },
  {
   "cell_type": "code",
   "execution_count": 29,
   "id": "beb0fb3c",
   "metadata": {},
   "outputs": [
    {
     "data": {
      "text/plain": [
       "453304.01536113437"
      ]
     },
     "execution_count": 29,
     "metadata": {},
     "output_type": "execute_result"
    }
   ],
   "source": [
    "route_geojson = dtv_backend.fis.get_route(waypoints, network)\n",
    "route_gdf = gpd.GeoDataFrame.from_features(route_geojson)\n",
    "route_geojson['properties']['total_length_m']"
   ]
  },
  {
   "cell_type": "markdown",
   "id": "a47dd8db",
   "metadata": {},
   "source": [
    "# Visualize results\n",
    "Now that we have our map we can visualize the results"
   ]
  },
  {
   "cell_type": "code",
   "execution_count": 30,
   "id": "d84bef1d",
   "metadata": {
    "scrolled": true
   },
   "outputs": [
    {
     "data": {
      "application/vnd.jupyter.widget-view+json": {
       "model_id": "3c4eff7753e04fc7b0aa2002f37ee1b6",
       "version_major": 2,
       "version_minor": 0
      },
      "text/plain": [
       "Map(center=[52, 5], controls=(ZoomControl(options=['position', 'zoom_in_text', 'zoom_in_title', 'zoom_out_text…"
      ]
     },
     "metadata": {},
     "output_type": "display_data"
    }
   ],
   "source": [
    "center = (52, 5)\n",
    "m = ipyleaflet.Map(center=center, zoom=7)\n",
    "\n",
    "layer = ipyleaflet.GeoData(geo_dataframe=route_gdf.query('not is_stop'))\n",
    "m.add_layer(layer);\n",
    "layer = ipyleaflet.GeoData(geo_dataframe=route_gdf.query('is_stop'))\n",
    "m.add_layer(layer);\n",
    "\n",
    "display(m)"
   ]
  },
  {
   "cell_type": "code",
   "execution_count": 13,
   "id": "ee08be68",
   "metadata": {},
   "outputs": [
    {
     "data": {
      "text/html": [
       "<div>\n",
       "<style scoped>\n",
       "    .dataframe tbody tr th:only-of-type {\n",
       "        vertical-align: middle;\n",
       "    }\n",
       "\n",
       "    .dataframe tbody tr th {\n",
       "        vertical-align: top;\n",
       "    }\n",
       "\n",
       "    .dataframe thead th {\n",
       "        text-align: right;\n",
       "    }\n",
       "</style>\n",
       "<table border=\"1\" class=\"dataframe\">\n",
       "  <thead>\n",
       "    <tr style=\"text-align: right;\">\n",
       "      <th></th>\n",
       "      <th>geometry</th>\n",
       "      <th>e</th>\n",
       "      <th>is_stop</th>\n",
       "      <th>length_m</th>\n",
       "      <th>length_m_cumsum</th>\n",
       "      <th>n</th>\n",
       "      <th>segment</th>\n",
       "      <th>source</th>\n",
       "      <th>step</th>\n",
       "      <th>structure</th>\n",
       "      <th>target</th>\n",
       "    </tr>\n",
       "  </thead>\n",
       "  <tbody>\n",
       "    <tr>\n",
       "      <th>0</th>\n",
       "      <td>LINESTRING (6.93202 53.31348, 6.93114 53.31391...</td>\n",
       "      <td>[Berth4, 8862253]</td>\n",
       "      <td>False</td>\n",
       "      <td>146.387965</td>\n",
       "      <td>146.387965</td>\n",
       "      <td>Berth4</td>\n",
       "      <td>0</td>\n",
       "      <td>Berth4</td>\n",
       "      <td>0</td>\n",
       "      <td>None</td>\n",
       "      <td>8861427</td>\n",
       "    </tr>\n",
       "    <tr>\n",
       "      <th>1</th>\n",
       "      <td>LINESTRING (6.93190 53.31347, 6.93110 53.31309...</td>\n",
       "      <td>[8862253, Berth46]</td>\n",
       "      <td>False</td>\n",
       "      <td>372.058119</td>\n",
       "      <td>518.446084</td>\n",
       "      <td>8862253</td>\n",
       "      <td>0</td>\n",
       "      <td>Berth4</td>\n",
       "      <td>1</td>\n",
       "      <td>None</td>\n",
       "      <td>8861427</td>\n",
       "    </tr>\n",
       "    <tr>\n",
       "      <th>2</th>\n",
       "      <td>LINESTRING (6.92873 53.31238, 6.92755 53.31208...</td>\n",
       "      <td>[Berth46, 8864359]</td>\n",
       "      <td>False</td>\n",
       "      <td>3471.722998</td>\n",
       "      <td>3990.169082</td>\n",
       "      <td>Berth46</td>\n",
       "      <td>0</td>\n",
       "      <td>Berth4</td>\n",
       "      <td>2</td>\n",
       "      <td>None</td>\n",
       "      <td>8861427</td>\n",
       "    </tr>\n",
       "    <tr>\n",
       "      <th>3</th>\n",
       "      <td>LINESTRING (6.89745 53.31335, 6.89315 53.31287...</td>\n",
       "      <td>[8864359, B45431_A]</td>\n",
       "      <td>False</td>\n",
       "      <td>1478.815694</td>\n",
       "      <td>5468.984776</td>\n",
       "      <td>8864359</td>\n",
       "      <td>0</td>\n",
       "      <td>Berth4</td>\n",
       "      <td>3</td>\n",
       "      <td>None</td>\n",
       "      <td>8861427</td>\n",
       "    </tr>\n",
       "    <tr>\n",
       "      <th>4</th>\n",
       "      <td>LINESTRING (6.88422 53.31140, 6.88413 53.31139)</td>\n",
       "      <td>[B45431_A, B45431_B]</td>\n",
       "      <td>False</td>\n",
       "      <td>11.058823</td>\n",
       "      <td>5480.043599</td>\n",
       "      <td>B45431_A</td>\n",
       "      <td>0</td>\n",
       "      <td>Berth4</td>\n",
       "      <td>4</td>\n",
       "      <td>{'structure_code': 'B', 'structure_id': '45431...</td>\n",
       "      <td>8861427</td>\n",
       "    </tr>\n",
       "  </tbody>\n",
       "</table>\n",
       "</div>"
      ],
      "text/plain": [
       "                                            geometry                     e  \\\n",
       "0  LINESTRING (6.93202 53.31348, 6.93114 53.31391...     [Berth4, 8862253]   \n",
       "1  LINESTRING (6.93190 53.31347, 6.93110 53.31309...    [8862253, Berth46]   \n",
       "2  LINESTRING (6.92873 53.31238, 6.92755 53.31208...    [Berth46, 8864359]   \n",
       "3  LINESTRING (6.89745 53.31335, 6.89315 53.31287...   [8864359, B45431_A]   \n",
       "4    LINESTRING (6.88422 53.31140, 6.88413 53.31139)  [B45431_A, B45431_B]   \n",
       "\n",
       "   is_stop     length_m  length_m_cumsum         n  segment  source  step  \\\n",
       "0    False   146.387965       146.387965    Berth4        0  Berth4     0   \n",
       "1    False   372.058119       518.446084   8862253        0  Berth4     1   \n",
       "2    False  3471.722998      3990.169082   Berth46        0  Berth4     2   \n",
       "3    False  1478.815694      5468.984776   8864359        0  Berth4     3   \n",
       "4    False    11.058823      5480.043599  B45431_A        0  Berth4     4   \n",
       "\n",
       "                                           structure   target  \n",
       "0                                               None  8861427  \n",
       "1                                               None  8861427  \n",
       "2                                               None  8861427  \n",
       "3                                               None  8861427  \n",
       "4  {'structure_code': 'B', 'structure_id': '45431...  8861427  "
      ]
     },
     "execution_count": 13,
     "metadata": {},
     "output_type": "execute_result"
    }
   ],
   "source": [
    "route_gdf.head()"
   ]
  }
 ],
 "metadata": {
  "kernelspec": {
   "display_name": "Python 3 (ipykernel)",
   "language": "python",
   "name": "python3"
  },
  "language_info": {
   "codemirror_mode": {
    "name": "ipython",
    "version": 3
   },
   "file_extension": ".py",
   "mimetype": "text/x-python",
   "name": "python",
   "nbconvert_exporter": "python",
   "pygments_lexer": "ipython3",
   "version": "3.9.10"
  }
 },
 "nbformat": 4,
 "nbformat_minor": 5
}
