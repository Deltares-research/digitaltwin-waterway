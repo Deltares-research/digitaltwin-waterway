{
 "cells": [
  {
   "cell_type": "code",
   "execution_count": 5,
   "id": "ccbdda1f",
   "metadata": {},
   "outputs": [],
   "source": [
    "import pathlib\n",
    "\n",
    "import requests\n",
    "import networkx as nx\n",
    "import pandas as pd\n",
    "import geopandas as gpd\n",
    "\n",
    "import dtv_backend.network.network_utilities\n",
    "\n",
    "\n",
    "\n",
    "version = '0.3'\n",
    "output_dir = pathlib.Path('result')\n",
    "network_dir = pathlib.Path(f'~/data/river/dtv/network_digital_twin_v{version}').expanduser()\n"
   ]
  },
  {
   "cell_type": "code",
   "execution_count": 6,
   "id": "b2e6493c",
   "metadata": {},
   "outputs": [
    {
     "name": "stderr",
     "output_type": "stream",
     "text": [
      "/Users/baart_f/src/digitaltwin-waterway/dtv_backend/dtv_backend/network/network_utilities.py:261: ShapelyDeprecationWarning: The array interface is deprecated and will no longer work in Shapely 2.0. Convert the '.coords' to a numpy array instead.\n",
      "  network.edges[e][\"length_m\"] = edge_length(geometry)\n"
     ]
    }
   ],
   "source": [
    "# read the networks\n",
    "network = nx.read_gpickle(network_dir / 'network.pickle')\n",
    "\n",
    "network = dtv_backend.network.network_utilities.add_geometries(network, geometry_type='shapely')"
   ]
  },
  {
   "cell_type": "code",
   "execution_count": 7,
   "id": "966c6d06",
   "metadata": {},
   "outputs": [],
   "source": [
    "edge = next(iter(network.edges.values()))\n"
   ]
  },
  {
   "cell_type": "code",
   "execution_count": 8,
   "id": "cfa4237b",
   "metadata": {},
   "outputs": [],
   "source": [
    "edges = []\n",
    "for e, edge in network.edges.items():\n",
    "    edge['e_0'] = e[0]\n",
    "    edge['e_1'] = e[1]\n",
    "    edges.append(edge)\n",
    "    \n",
    "\n",
    "edge_gdf = gpd.GeoDataFrame(edges, geometry='geometry')\n",
    "\n",
    "nodes = []\n",
    "for n, node in network.nodes.items():\n",
    "    node['n'] = n\n",
    "    nodes.append(node)\n",
    "\n",
    "node_gdf = gpd.GeoDataFrame(nodes, geometry='geometry')\n",
    "\n",
    "    \n",
    "    "
   ]
  },
  {
   "cell_type": "code",
   "execution_count": 11,
   "id": "3a62864c",
   "metadata": {},
   "outputs": [],
   "source": [
    "node_gdf.to_file(output_dir / 'mb_nodes.geojson')\n",
    "edge_gdf.to_file(output_dir / 'mb_edges.geojson')"
   ]
  },
  {
   "cell_type": "code",
   "execution_count": 12,
   "id": "8408ab6d",
   "metadata": {},
   "outputs": [
    {
     "name": "stdout",
     "output_type": "stream",
     "text": [
      "\u001b[?25lUploading data source  [####################################]  100%          \u001b[?25h\n",
      "{\"id\":\"cla2i8oe813im29l9sb5rtxew\",\"name\":\"dtv-nodes\",\"complete\":false,\"error\":null,\"created\":\"2022-11-04T13:00:39.694Z\",\"modified\":\"2022-11-04T13:00:39.694Z\",\"tileset\":\"siggyf.dtv-nodes\",\"owner\":\"siggyf\",\"progress\":0}\n",
      "\u001b[?25lUploading data source  [####################################]  100%          \u001b[?25h\n",
      "{\"id\":\"cla2i8x3m046g26ppr973xx90\",\"name\":\"dtv-edges\",\"complete\":false,\"error\":null,\"created\":\"2022-11-04T13:00:50.997Z\",\"modified\":\"2022-11-04T13:00:50.997Z\",\"tileset\":\"siggyf.dtv-edges\",\"owner\":\"siggyf\",\"progress\":0}\n"
     ]
    }
   ],
   "source": [
    "!mapbox upload siggyf.dtv-nodes $output_dir/mb_nodes.geojson\n",
    "!mapbox upload siggyf.dtv-edges $output_dir/mb_edges.geojson"
   ]
  },
  {
   "cell_type": "code",
   "execution_count": 13,
   "id": "d8744ce6",
   "metadata": {},
   "outputs": [
    {
     "name": "stdout",
     "output_type": "stream",
     "text": [
      "\u001b[?25lUploading data source  [####################################]  100%          \u001b[?25h\n",
      "{\"id\":\"cla2i93rq0dyr26lcsrbldhhq\",\"name\":\"dtv-bridges\",\"complete\":false,\"error\":null,\"created\":\"2022-11-04T13:00:59.621Z\",\"modified\":\"2022-11-04T13:00:59.621Z\",\"tileset\":\"siggyf.dtv-bridges\",\"owner\":\"siggyf\",\"progress\":0}\n"
     ]
    }
   ],
   "source": [
    "!mapbox upload siggyf.dtv-bridges $output_dir/FIS_bridges_grouped.geojson"
   ]
  },
  {
   "cell_type": "code",
   "execution_count": 14,
   "id": "984306ad",
   "metadata": {},
   "outputs": [
    {
     "name": "stdout",
     "output_type": "stream",
     "text": [
      "\u001b[?25lUploading data source  [####################################]  100%          \u001b[?25h\n",
      "{\"id\":\"cla2i99bd2y8h27p6sq4rrjcx\",\"name\":\"dtv-locks\",\"complete\":false,\"error\":null,\"created\":\"2022-11-04T13:01:06.811Z\",\"modified\":\"2022-11-04T13:01:06.811Z\",\"tileset\":\"siggyf.dtv-locks\",\"owner\":\"siggyf\",\"progress\":0}\n",
      "\u001b[?25lUploading data source  [####################################]  100%\u001b[?25h\n",
      "{\"id\":\"cla2i9b7p3irb21mnfeqntgsn\",\"name\":\"dtv-berth\",\"complete\":false,\"error\":null,\"created\":\"2022-11-04T13:01:09.269Z\",\"modified\":\"2022-11-04T13:01:09.269Z\",\"tileset\":\"siggyf.dtv-berth\",\"owner\":\"siggyf\",\"progress\":0}\n",
      "\u001b[?25lUploading data source  [####################################]  100%\u001b[?25h\n",
      "{\"id\":\"cla2i9cuo1cn320sbgv4j39nd\",\"name\":\"dtv-structures\",\"complete\":false,\"error\":null,\"created\":\"2022-11-04T13:01:11.396Z\",\"modified\":\"2022-11-04T13:01:11.396Z\",\"tileset\":\"siggyf.dtv-structures\",\"owner\":\"siggyf\",\"progress\":0}\n"
     ]
    }
   ],
   "source": [
    "!mapbox upload siggyf.dtv-locks $output_dir/FIS_locks_grouped.geojson\n",
    "!mapbox upload siggyf.dtv-berth $output_dir/FIS_berth_grouped.geojson\n",
    "!mapbox upload siggyf.dtv-structures $output_dir/FIS_structures.geojson"
   ]
  },
  {
   "cell_type": "code",
   "execution_count": null,
   "id": "43249bc0",
   "metadata": {},
   "outputs": [],
   "source": []
  }
 ],
 "metadata": {
  "kernelspec": {
   "display_name": "Python 3 (ipykernel)",
   "language": "python",
   "name": "python3"
  },
  "language_info": {
   "codemirror_mode": {
    "name": "ipython",
    "version": 3
   },
   "file_extension": ".py",
   "mimetype": "text/x-python",
   "name": "python",
   "nbconvert_exporter": "python",
   "pygments_lexer": "ipython3",
   "version": "3.9.15"
  }
 },
 "nbformat": 4,
 "nbformat_minor": 5
}
