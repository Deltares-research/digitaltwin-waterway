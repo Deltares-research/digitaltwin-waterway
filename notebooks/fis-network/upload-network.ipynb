{
 "cells": [
  {
   "cell_type": "code",
   "execution_count": 17,
   "id": "ccbdda1f",
   "metadata": {},
   "outputs": [],
   "source": [
    "import pathlib\n",
    "\n",
    "import requests\n",
    "import networkx as nx\n",
    "import pandas as pd\n",
    "import geopandas as gpd\n",
    "\n",
    "import dtv_backend.network.network_utilities\n",
    "\n",
    "\n",
    "\n",
    "version = '0.3'\n",
    "output_dir = pathlib.Path('result')\n",
    "network_dir = pathlib.Path(v'~/data/river/dtv/network_digital_twin_v{version}').expanduser()\n"
   ]
  },
  {
   "cell_type": "code",
   "execution_count": 18,
   "id": "b2e6493c",
   "metadata": {},
   "outputs": [],
   "source": [
    "# read the networks\n",
    "network = nx.read_gpickle(network_dir / 'network.pickle')\n",
    "\n",
    "network = dtv_backend.network.network_utilities.add_geometries(network, geometry_type='shapely')"
   ]
  },
  {
   "cell_type": "code",
   "execution_count": 19,
   "id": "966c6d06",
   "metadata": {},
   "outputs": [],
   "source": [
    "edge = next(iter(network.edges.values()))\n"
   ]
  },
  {
   "cell_type": "code",
   "execution_count": 20,
   "id": "cfa4237b",
   "metadata": {},
   "outputs": [],
   "source": [
    "edges = []\n",
    "for e, edge in network.edges.items():\n",
    "    edge['e_0'] = e[0]\n",
    "    edge['e_1'] = e[1]\n",
    "    edges.append(edge)\n",
    "    \n",
    "\n",
    "edge_gdf = gpd.GeoDataFrame(edges, geometry='geometry')\n",
    "\n",
    "nodes = []\n",
    "for n, node in network.nodes.items():\n",
    "    node['n'] = n\n",
    "    nodes.append(node)\n",
    "\n",
    "node_gdf = gpd.GeoDataFrame(nodes, geometry='geometry')\n",
    "\n",
    "    \n",
    "    "
   ]
  },
  {
   "cell_type": "code",
   "execution_count": 21,
   "id": "3a62864c",
   "metadata": {},
   "outputs": [
    {
     "name": "stderr",
     "output_type": "stream",
     "text": [
      "/Users/baart_f/.virtualenvs/main/lib/python3.9/site-packages/geopandas/io/file.py:362: FutureWarning: pandas.Int64Index is deprecated and will be removed from pandas in a future version. Use pandas.Index with the appropriate dtype instead.\n",
      "  pd.Int64Index,\n",
      "/Users/baart_f/.virtualenvs/main/lib/python3.9/site-packages/geopandas/io/file.py:362: FutureWarning: pandas.Int64Index is deprecated and will be removed from pandas in a future version. Use pandas.Index with the appropriate dtype instead.\n",
      "  pd.Int64Index,\n"
     ]
    }
   ],
   "source": [
    "node_gdf.to_file(output_dir / 'mb_nodes.geojson')\n",
    "edge_gdf.to_file(output_dir / 'mb_edges.geojson')"
   ]
  },
  {
   "cell_type": "code",
   "execution_count": 27,
   "id": "8408ab6d",
   "metadata": {},
   "outputs": [
    {
     "name": "stdout",
     "output_type": "stream",
     "text": [
      "\u001b[?25lUploading data source  [####################################]  100%          \u001b[?25h\n",
      "{\"id\":\"cl1tbpvr301j422us2a49gv9y\",\"name\":\"dtv-nodes\",\"complete\":false,\"error\":null,\"created\":\"2022-04-10T13:30:30.809Z\",\"modified\":\"2022-04-10T13:30:30.809Z\",\"tileset\":\"siggyf.dtv-nodes\",\"owner\":\"siggyf\",\"progress\":0}\n",
      "\u001b[?25lUploading data source  [####################################]  100%          \u001b[?25h\n",
      "{\"id\":\"cl1tbspjx108122plqcf7wze2\",\"name\":\"dtv-edges\",\"complete\":false,\"error\":null,\"created\":\"2022-04-10T13:32:42.739Z\",\"modified\":\"2022-04-10T13:32:42.739Z\",\"tileset\":\"siggyf.dtv-edges\",\"owner\":\"siggyf\",\"progress\":0}\n"
     ]
    }
   ],
   "source": [
    "!mapbox upload siggyf.dtv-nodes $output_dir/mb_nodes.geojson\n",
    "!mapbox upload siggyf.dtv-edges $output_dir/mb_edges.geojson"
   ]
  },
  {
   "cell_type": "code",
   "execution_count": 28,
   "id": "d8744ce6",
   "metadata": {},
   "outputs": [
    {
     "name": "stdout",
     "output_type": "stream",
     "text": [
      "\u001b[?25lUploading data source  [####################################]  100%          \u001b[?25h\n",
      "{\"id\":\"cl1tc14kl010e23rytx9fajck\",\"name\":\"dtv-bridges\",\"complete\":false,\"error\":null,\"created\":\"2022-04-10T13:39:15.440Z\",\"modified\":\"2022-04-10T13:39:15.440Z\",\"tileset\":\"siggyf.dtv-bridges\",\"owner\":\"siggyf\",\"progress\":0}\n"
     ]
    }
   ],
   "source": [
    "!mapbox upload siggyf.dtv-bridges $output_dir/FIS_bridges_grouped.geojson"
   ]
  },
  {
   "cell_type": "code",
   "execution_count": 29,
   "id": "984306ad",
   "metadata": {},
   "outputs": [
    {
     "name": "stdout",
     "output_type": "stream",
     "text": [
      "\u001b[?25lUploading data source  [####################################]  100%          \u001b[?25h\n",
      "{\"id\":\"cl1tci25z01p322us7c6290u4\",\"name\":\"dtv-locks\",\"complete\":false,\"error\":null,\"created\":\"2022-04-10T13:52:25.481Z\",\"modified\":\"2022-04-10T13:52:25.481Z\",\"tileset\":\"siggyf.dtv-locks\",\"owner\":\"siggyf\",\"progress\":0}\n",
      "\u001b[?25lUploading data source  [####################################]  100%\u001b[?25h\n",
      "{\"id\":\"cl1tci4ci01p622use05zevqd\",\"name\":\"dtv-berth\",\"complete\":false,\"error\":null,\"created\":\"2022-04-10T13:52:28.294Z\",\"modified\":\"2022-04-10T13:52:28.294Z\",\"tileset\":\"siggyf.dtv-berth\",\"owner\":\"siggyf\",\"progress\":0}\n",
      "\u001b[?25lUploading data source  [####################################]  100%\u001b[?25h\n",
      "{\"id\":\"cl1tci69804ss22q89cpoqpz0\",\"name\":\"dtv-structures\",\"complete\":false,\"error\":null,\"created\":\"2022-04-10T13:52:30.792Z\",\"modified\":\"2022-04-10T13:52:30.792Z\",\"tileset\":\"siggyf.dtv-structures\",\"owner\":\"siggyf\",\"progress\":0}\n"
     ]
    }
   ],
   "source": [
    "!mapbox upload siggyf.dtv-locks $output_dir/FIS_locks_grouped.geojson\n",
    "!mapbox upload siggyf.dtv-berth $output_dir/FIS_berth_grouped.geojson\n",
    "!mapbox upload siggyf.dtv-structures $output_dir/FIS_structures.geojson"
   ]
  },
  {
   "cell_type": "code",
   "execution_count": null,
   "id": "43249bc0",
   "metadata": {},
   "outputs": [],
   "source": []
  }
 ],
 "metadata": {
  "kernelspec": {
   "display_name": "Python 3 (ipykernel)",
   "language": "python",
   "name": "python3"
  },
  "language_info": {
   "codemirror_mode": {
    "name": "ipython",
    "version": 3
   },
   "file_extension": ".py",
   "mimetype": "text/x-python",
   "name": "python",
   "nbconvert_exporter": "python",
   "pygments_lexer": "ipython3",
   "version": "3.9.13"
  }
 },
 "nbformat": 4,
 "nbformat_minor": 5
}
