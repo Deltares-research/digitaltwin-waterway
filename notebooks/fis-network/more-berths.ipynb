{
 "cells": [
  {
   "cell_type": "code",
   "execution_count": 1,
   "id": "beb2f68a",
   "metadata": {},
   "outputs": [],
   "source": [
    "import pathlib\n",
    "\n",
    "# This a small library that is included. These might move to a seperate repo.\n",
    "import numpy as np\n",
    "import pandas as pd\n",
    "\n",
    "\n",
    "from dtv_backend.network.pyFIS import pyFIS"
   ]
  },
  {
   "cell_type": "markdown",
   "id": "9ee83e20",
   "metadata": {},
   "source": [
    "# More Berths\n",
    "This notebook creates an extra dataset of all berths with original geometry, with all columns, including lists. We add an extra column overnight_accomodation which indicates whether the overnight accomodation category is set. This is used for inspecting the berth dataset. The file is added to the results in `results/FIS_berth_all.geojson`."
   ]
  },
  {
   "cell_type": "code",
   "execution_count": 2,
   "id": "bd895e0a",
   "metadata": {},
   "outputs": [],
   "source": [
    "# store results in this folder\n",
    "outputdir = pathlib.Path('result')"
   ]
  },
  {
   "cell_type": "code",
   "execution_count": 3,
   "id": "da7da3b7",
   "metadata": {},
   "outputs": [],
   "source": [
    "# Connect to FIS\n",
    "FIS = pyFIS()"
   ]
  },
  {
   "cell_type": "code",
   "execution_count": 4,
   "id": "1ade96a6",
   "metadata": {},
   "outputs": [],
   "source": [
    "# Get all berths from FIS\n",
    "berth = FIS.list_objects('berth').set_index('Id')\n",
    "\n",
    "idx = berth.Category.apply(lambda x: \"OVERNIGHT_ACCOMODATION\" in x)\n",
    "berth['overnight_accomodation'] = idx\n",
    "\n",
    "with (outputdir / 'FIS_berth_all.geojson').open('w') as f:\n",
    "    f.write(berth.to_json())\n"
   ]
  }
 ],
 "metadata": {
  "kernelspec": {
   "display_name": "Python 3 (ipykernel)",
   "language": "python",
   "name": "python3"
  },
  "language_info": {
   "codemirror_mode": {
    "name": "ipython",
    "version": 3
   },
   "file_extension": ".py",
   "mimetype": "text/x-python",
   "name": "python",
   "nbconvert_exporter": "python",
   "pygments_lexer": "ipython3",
   "version": "3.9.10"
  }
 },
 "nbformat": 4,
 "nbformat_minor": 5
}
