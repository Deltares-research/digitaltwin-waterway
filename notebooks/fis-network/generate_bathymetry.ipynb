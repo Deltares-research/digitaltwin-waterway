{
 "cells": [
  {
   "cell_type": "code",
   "execution_count": 27,
   "id": "1f719683",
   "metadata": {},
   "outputs": [],
   "source": [
    "import pathlib\n",
    "\n",
    "import requests\n",
    "import networkx as nx\n",
    "import geopandas as gpd\n",
    "import pandas as pd\n",
    "import shapely.geometry\n",
    "import shapely.wkt\n",
    "\n",
    "import dtv_backend.network.build_network_functions as bnf\n",
    "\n",
    "\n",
    "version = '0.3'\n",
    "output_dir = pathlib.Path('result')\n"
   ]
  },
  {
   "cell_type": "markdown",
   "id": "ac9ab22e",
   "metadata": {},
   "source": [
    "# Add bathymetry information\n",
    "TODO: split bathymetry in separate file/notebook\n",
    "In this section we will make a few adjustments to the network. \n",
    "* We will rename the classes to short names for shapefile compatibility\n",
    "* We will upload the shapefile to GEE and add extra information (bathymetry, maybe later other external variables)\n",
    "* We will download the new enriched data and continue from there."
   ]
  },
  {
   "cell_type": "code",
   "execution_count": 3,
   "id": "b811fbe7",
   "metadata": {},
   "outputs": [],
   "source": [
    "# read the networks\n",
    "network = nx.read_gpickle(output_dir / f'network_digital_twin_v{version}.pickle')"
   ]
  },
  {
   "cell_type": "code",
   "execution_count": 4,
   "id": "61d99068",
   "metadata": {},
   "outputs": [],
   "source": [
    "\n",
    "shp_network = bnf.strip_geometries(bnf.rename_keys(network))\n"
   ]
  },
  {
   "cell_type": "code",
   "execution_count": 31,
   "id": "7f50d968",
   "metadata": {},
   "outputs": [],
   "source": [
    "edges_df = nx.to_pandas_edgelist(shp_network)\n",
    "\n",
    "geometry = edges_df['Wkt'].apply(shapely.wkt.loads)\n",
    "edges_gdf = gpd.GeoDataFrame(edges_df, geometry=geometry, crs=4326)\n",
    "\n",
    "nodes_df = pd.DataFrame(shp_network.nodes.values(), index=shp_network.nodes.keys())\n",
    "geometry = nodes_df['Wkt'].apply(shapely.wkt.loads)\n",
    "nodes_gdf = gpd.GeoDataFrame(nodes_df, geometry=geometry, crs=4326)\n",
    "\n"
   ]
  },
  {
   "cell_type": "code",
   "execution_count": 34,
   "id": "a51c7c2f",
   "metadata": {},
   "outputs": [
    {
     "name": "stderr",
     "output_type": "stream",
     "text": [
      "/Users/baart_f/.virtualenvs/main/lib/python3.9/site-packages/geopandas/io/file.py:362: FutureWarning: pandas.Int64Index is deprecated and will be removed from pandas in a future version. Use pandas.Index with the appropriate dtype instead.\n",
      "  pd.Int64Index,\n",
      "/Users/baart_f/.virtualenvs/main/lib/python3.9/site-packages/geopandas/io/file.py:362: FutureWarning: pandas.Int64Index is deprecated and will be removed from pandas in a future version. Use pandas.Index with the appropriate dtype instead.\n",
      "  pd.Int64Index,\n"
     ]
    }
   ],
   "source": [
    "\n",
    "result_dir =  output_dir / f'network_digital_twin_v{version}-intermediate'\n",
    "result_dir.mkdir(exist_ok=True)\n",
    "\n",
    "edges_gdf.to_file(result_dir / 'edges.shp')\n",
    "nodes_gdf.to_file(result_dir / 'nodes.shp')\n",
    "\n",
    "!open $result_dir"
   ]
  },
  {
   "cell_type": "code",
   "execution_count": 38,
   "id": "ecef2b2c",
   "metadata": {},
   "outputs": [
    {
     "name": "stdout",
     "output_type": "stream",
     "text": [
      "Copying file://result/network_digital_twin_v0.3-intermediate/edges.dbf [Content-Type=application/octet-stream]...\n",
      "Copying file://result/network_digital_twin_v0.3-intermediate/nodes.prj [Content-Type=application/octet-stream]...\n",
      "Copying file://result/network_digital_twin_v0.3-intermediate/edges.shp [Content-Type=application/octet-stream]...\n",
      "Copying file://result/network_digital_twin_v0.3-intermediate/edges.cpg [Content-Type=application/octet-stream]...\n",
      "/ [4 files][ 26.7 MiB/ 26.7 MiB]  227.3 KiB/s                                   \n",
      "==> NOTE: You are performing a sequence of gsutil operations that may\n",
      "run significantly faster if you instead use gsutil -m cp ... Please\n",
      "see the -m section under \"gsutil help options\" for further information\n",
      "about when gsutil -m can be advantageous.\n",
      "\n",
      "Copying file://result/network_digital_twin_v0.3-intermediate/edges.shx [Content-Type=application/octet-stream]...\n",
      "Copying file://result/network_digital_twin_v0.3-intermediate/nodes.shx [Content-Type=application/octet-stream]...\n",
      "Copying file://result/network_digital_twin_v0.3-intermediate/nodes.shp [Content-Type=application/octet-stream]...\n",
      "Copying file://result/network_digital_twin_v0.3-intermediate/nodes.cpg [Content-Type=application/octet-stream]...\n",
      "Copying file://result/network_digital_twin_v0.3-intermediate/edges.prj [Content-Type=application/octet-stream]...\n",
      "Copying file://result/network_digital_twin_v0.3-intermediate/nodes.dbf [Content-Type=application/octet-stream]...\n",
      "- [10 files][ 31.6 MiB/ 31.6 MiB]  299.6 KiB/s                                  \n",
      "Operation completed over 10 objects/31.6 MiB.                                    \n"
     ]
    }
   ],
   "source": [
    "# Copy the resulting shapefiles to the google cloud\n",
    "!gsutil cp -r {result_dir} gs://slr/bodemhoogte/{result_dir.name}"
   ]
  },
  {
   "cell_type": "code",
   "execution_count": 39,
   "id": "fae21078",
   "metadata": {},
   "outputs": [
    {
     "name": "stdout",
     "output_type": "stream",
     "text": [
      "gs://slr/bodemhoogte/network_digital_twin_v0.3-intermediate/edges.shp\r\n"
     ]
    }
   ],
   "source": [
    "!gsutil ls gs://slr/bodemhoogte/{result_dir.name}/edges.shp"
   ]
  },
  {
   "cell_type": "code",
   "execution_count": 43,
   "id": "20b5a690",
   "metadata": {},
   "outputs": [
    {
     "name": "stdout",
     "output_type": "stream",
     "text": [
      "/Users/baart_f/.virtualenvs/main/lib/python3.9/site-packages/jax/_src/lib/__init__.py:33: UserWarning: JAX on Mac ARM machines is experimental and minimally tested. Please see https://github.com/google/jax/issues/5501 in the event of problems.\n",
      "  warnings.warn(\"JAX on Mac ARM machines is experimental and minimally tested. \"\n",
      "*** Earth Engine *** FINAL DEADLINE: ee.Authenticate will fail after 2022-06-06. Please upgrade. https://developers.google.com/earth-engine/guides/python_install\n",
      "Started upload task with ID: MYTHEUM76DG64NH2324RYV4K\n",
      "Waiting for the upload task to complete...\n",
      "[16:35:58] Current state for task MYTHEUM76DG64NH2324RYV4K: RUNNING\n",
      "[16:36:29] Current state for task MYTHEUM76DG64NH2324RYV4K: RUNNING\n",
      "Task MYTHEUM76DG64NH2324RYV4K ended at state: COMPLETED after 72.22 seconds\n"
     ]
    }
   ],
   "source": [
    "!earthengine upload table --wait --asset_id=projects/deltares-rws/dmc/edges-{version.replace('.', '_')} gs://slr/bodemhoogte/{result_dir.name}/edges.shp\n"
   ]
  },
  {
   "cell_type": "markdown",
   "id": "98cdeb57",
   "metadata": {},
   "source": [
    "# Add bathymetry info\n",
    "Now that the edges are uploaded to an asset we can add the  [bathymetry](https://maps.rijkswaterstaat.nl/geoweb55/index.html?viewer=Bathymetrie_Nederland) information. Based on thescript [fis-bathy](https://code.earthengine.google.com/d9250d62af8146d05cab278aa83df877) we can now intersect the bathymetry with the gometry. This script will result in a new file, which we can then download from a bucket. \n"
   ]
  },
  {
   "cell_type": "code",
   "execution_count": 82,
   "id": "15d928d3",
   "metadata": {},
   "outputs": [
    {
     "data": {
      "text/plain": [
       "'U77ORHZGD427A45BLBK5YFNK'"
      ]
     },
     "execution_count": 82,
     "metadata": {},
     "output_type": "execute_result"
    }
   ],
   "source": [
    "import ee\n",
    "ee.Initialize()\n",
    "\n",
    "bathy = ee.ImageCollection(\"projects/deltares-rws/dmc/bodemhoogte_1mtr\")\n",
    "edges = ee.FeatureCollection(f\"projects/deltares-rws/dmc/edges-{version.replace('.', '_')}\")\n",
    "\n",
    "RESOLUTION = 1\n",
    "\n",
    "bathy_lat = bathy.filterMetadata('system:index', 'ends_with', 'LAT')\n",
    "bathy_nap = bathy.filterMetadata('system:index', 'ends_with', 'NAP')\n",
    "\n",
    "nap = bathy_nap.mosaic()\n",
    "lat = bathy_lat.mosaic()\n",
    "bands = nap.rename('nap').addBands(lat.rename('lat'))\n",
    "reducer = ee.Reducer.percentile([0, 5, 10, 50, 90, 95, 100])\n",
    "reducer = reducer.combine(**{\n",
    "  \"reducer2\": ee.Reducer.mean(),\n",
    "  \"sharedInputs\": True\n",
    "})\n",
    "reducer = reducer.combine(**{\n",
    "  \"reducer2\": ee.Reducer.stdDev(),\n",
    "  \"sharedInputs\": True,\n",
    "})\n",
    "reducer = reducer.combine(**{\n",
    "  \"reducer2\": ee.Reducer.count(),\n",
    "  \"sharedInputs\": True\n",
    "})\n",
    "\n",
    "result = bands.reduceRegions(edges, reducer, RESOLUTION)\n",
    "\n",
    "task = ee.batch.Export.table.toCloudStorage(**{\n",
    "  \"collection\": result, \n",
    "  \"description\": 'fis-bodemhoogte', \n",
    "  \"bucket\": 'slr', \n",
    "  \"fileNamePrefix\": f'bodemhoogte/edges_{version}_with_bathy', \n",
    "  \"fileFormat\": 'GeoJSON'\n",
    "})\n",
    "task.start()\n",
    "task.id"
   ]
  },
  {
   "cell_type": "code",
   "execution_count": 95,
   "id": "1e9cdde2",
   "metadata": {},
   "outputs": [
    {
     "name": "stdout",
     "output_type": "stream",
     "text": [
      "/Users/baart_f/.virtualenvs/main/lib/python3.9/site-packages/jax/_src/lib/__init__.py:34: UserWarning: JAX on Mac ARM machines is experimental and minimally tested. Please see https://github.com/google/jax/issues/5501 in the event of problems.\n",
      "  warnings.warn(\"JAX on Mac ARM machines is experimental and minimally tested. \"\n",
      "QXQAQF7BG4P47MHTTJSM2MDG:\n",
      "  State: RUNNING\n",
      "  Type: Export.table\n",
      "  Description: fis-bodemhoogte\n",
      "  Created: 2022-06-19 16:45:46.651000\n",
      "  Started: 2022-06-19 16:45:51.215000\n",
      "  Updated: 2022-06-19 17:15:51.233000\n"
     ]
    }
   ],
   "source": [
    "# wait for task to finish (this can take an hour or longer...)\n",
    "# !earthengine task wait {task.id}\n",
    "!earthengine task info QXQAQF7BG4P47MHTTJSM2MDG"
   ]
  },
  {
   "cell_type": "code",
   "execution_count": 92,
   "id": "a03e34c7",
   "metadata": {},
   "outputs": [
    {
     "name": "stdout",
     "output_type": "stream",
     "text": [
      "CommandException: One or more URLs matched no objects.\r\n"
     ]
    }
   ],
   "source": [
    "result_path = f'gs://slr/bodemhoogte/edges_{version}_with_bathy'\n",
    "!gsutil ls {result_path}"
   ]
  },
  {
   "cell_type": "code",
   "execution_count": null,
   "id": "1b5a012a",
   "metadata": {},
   "outputs": [],
   "source": []
  }
 ],
 "metadata": {
  "kernelspec": {
   "display_name": "Python 3 (ipykernel)",
   "language": "python",
   "name": "python3"
  },
  "language_info": {
   "codemirror_mode": {
    "name": "ipython",
    "version": 3
   },
   "file_extension": ".py",
   "mimetype": "text/x-python",
   "name": "python",
   "nbconvert_exporter": "python",
   "pygments_lexer": "ipython3",
   "version": "3.9.13"
  }
 },
 "nbformat": 4,
 "nbformat_minor": 5
}
