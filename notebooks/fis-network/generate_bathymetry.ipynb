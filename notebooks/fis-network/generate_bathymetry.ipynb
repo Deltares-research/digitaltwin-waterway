{
 "cells": [
  {
   "cell_type": "code",
   "execution_count": 2,
   "id": "1f719683",
   "metadata": {},
   "outputs": [],
   "source": [
    "import pathlib\n",
    "\n",
    "import requests\n",
    "import networkx as nx\n",
    "\n",
    "import dtv_backend.network.build_network_functions as bnf\n",
    "\n",
    "\n",
    "version = '0.2'\n",
    "output_dir = pathlib.Path('result')\n",
    "output_dir = pathlib.Path('~/data/river/dtv/network_digital_twin_v0.2').expanduser()\n"
   ]
  },
  {
   "cell_type": "markdown",
   "id": "ac9ab22e",
   "metadata": {},
   "source": [
    "# Add bathymetry information\n",
    "TODO: split bathymetry in separate file/notebook\n",
    "In this section we will make a few adjustments to the network. \n",
    "* We will rename the classes to short names for shapefile compatibility\n",
    "* We will upload the shapefile to GEE and add extra information (bathymetry, maybe later other external variables)\n",
    "* We will download the new enriched data and continue from there."
   ]
  },
  {
   "cell_type": "code",
   "execution_count": 3,
   "id": "b811fbe7",
   "metadata": {},
   "outputs": [],
   "source": [
    "# read the networks\n",
    "network = nx.read_gpickle(output_dir / 'network.pickle')"
   ]
  },
  {
   "cell_type": "code",
   "execution_count": 4,
   "id": "61d99068",
   "metadata": {},
   "outputs": [],
   "source": [
    "\n",
    "shp_network = bnf.strip_geometries(bnf.rename_keys(network))\n"
   ]
  },
  {
   "cell_type": "code",
   "execution_count": 6,
   "id": "a51c7c2f",
   "metadata": {},
   "outputs": [
    {
     "name": "stderr",
     "output_type": "stream",
     "text": [
      "/var/folders/fh/tcbrjg6n28b0lzjzh07b5t6m0000gn/T/ipykernel_58265/3332403591.py:5: DeprecationWarning: write_shp is deprecated and will be removed in 3.0.See https://networkx.org/documentation/latest/auto_examples/index.html#geospatial.\n",
      "  nx.write_shp(shp_network, str(result_dir))\n",
      "Warning 6: Normalized/laundered field name: 'length' to 'length_1'\n"
     ]
    }
   ],
   "source": [
    "output_dir = pathlib.Path('result')\n",
    "\n",
    "result_dir =  output_dir / f'network_digital_twin_v{version}-intermediate'\n",
    "\n",
    "nx.write_shp(shp_network, str(result_dir))\n",
    "!open $result_dir"
   ]
  },
  {
   "cell_type": "markdown",
   "id": "98cdeb57",
   "metadata": {},
   "source": [
    "# Add bathymetry info\n",
    "Now, for now, a manual step. You can now upload the files in the folder above to the google earthengine. At the google earthengine all the [bathymetry](https://maps.rijkswaterstaat.nl/geoweb55/index.html?viewer=Bathymetrie_Nederland) files exists . These can be intersected using the script [fis-bathy](https://code.earthengine.google.com/d9250d62af8146d05cab278aa83df877). This script will result in a new file called [edges.geojson](https://storage.googleapis.com/slr/bodemhoogte/edges.geojson). This file will be used from here.\n"
   ]
  },
  {
   "cell_type": "code",
   "execution_count": 4,
   "id": "cba66bae",
   "metadata": {},
   "outputs": [],
   "source": [
    "# assuming that the above succeeded, we have a network with extra info (stored in geojson)\n",
    "resp = requests.get('https://storage.googleapis.com/slr/bodemhoogte/edges.geojson')\n",
    "extra_info = resp.json()"
   ]
  },
  {
   "cell_type": "code",
   "execution_count": 5,
   "id": "c1ddcf21",
   "metadata": {},
   "outputs": [
    {
     "ename": "NameError",
     "evalue": "name 'network' is not defined",
     "output_type": "error",
     "traceback": [
      "\u001b[0;31m---------------------------------------------------------------------------\u001b[0m",
      "\u001b[0;31mNameError\u001b[0m                                 Traceback (most recent call last)",
      "Input \u001b[0;32mIn [5]\u001b[0m, in \u001b[0;36m<module>\u001b[0;34m\u001b[0m\n\u001b[1;32m      4\u001b[0m end_id \u001b[38;5;241m=\u001b[39m feature[\u001b[38;5;124m'\u001b[39m\u001b[38;5;124mproperties\u001b[39m\u001b[38;5;124m'\u001b[39m][\u001b[38;5;124m'\u001b[39m\u001b[38;5;124mend-id\u001b[39m\u001b[38;5;124m'\u001b[39m]\n\u001b[1;32m      5\u001b[0m \u001b[38;5;66;03m# lookup the existing edge\u001b[39;00m\n\u001b[0;32m----> 6\u001b[0m edge \u001b[38;5;241m=\u001b[39m \u001b[43mnetwork\u001b[49m\u001b[38;5;241m.\u001b[39medges[(start_id, end_id)]\n\u001b[1;32m      7\u001b[0m \u001b[38;5;66;03m# determine which keys to add\u001b[39;00m\n\u001b[1;32m      8\u001b[0m extra_keys \u001b[38;5;241m=\u001b[39m [\n\u001b[1;32m      9\u001b[0m     key \n\u001b[1;32m     10\u001b[0m     \u001b[38;5;28;01mfor\u001b[39;00m key \n\u001b[1;32m     11\u001b[0m     \u001b[38;5;129;01min\u001b[39;00m feature[\u001b[38;5;124m'\u001b[39m\u001b[38;5;124mproperties\u001b[39m\u001b[38;5;124m'\u001b[39m]\u001b[38;5;241m.\u001b[39mkeys() \n\u001b[1;32m     12\u001b[0m     \u001b[38;5;28;01mif\u001b[39;00m key\u001b[38;5;241m.\u001b[39mstartswith(\u001b[38;5;124m'\u001b[39m\u001b[38;5;124mlat\u001b[39m\u001b[38;5;124m'\u001b[39m) \u001b[38;5;129;01mor\u001b[39;00m key\u001b[38;5;241m.\u001b[39mstartswith(\u001b[38;5;124m'\u001b[39m\u001b[38;5;124mnap\u001b[39m\u001b[38;5;124m'\u001b[39m)\n\u001b[1;32m     13\u001b[0m ]\n",
      "\u001b[0;31mNameError\u001b[0m: name 'network' is not defined"
     ]
    }
   ],
   "source": [
    "# extend network with extra info\n",
    "for feature in extra_info['features']:\n",
    "    start_id = feature['properties']['start-id']\n",
    "    end_id = feature['properties']['end-id']\n",
    "    # lookup the existing edge\n",
    "    edge = network.edges[(start_id, end_id)]\n",
    "    # determine which keys to add\n",
    "    extra_keys = [\n",
    "        key \n",
    "        for key \n",
    "        in feature['properties'].keys() \n",
    "        if key.startswith('lat') or key.startswith('nap')\n",
    "    ]\n",
    "    for key in extra_keys:\n",
    "        edge[key] = feature['properties'][key] \n"
   ]
  },
  {
   "cell_type": "code",
   "execution_count": null,
   "id": "1b5a012a",
   "metadata": {},
   "outputs": [],
   "source": []
  }
 ],
 "metadata": {
  "kernelspec": {
   "display_name": "Python 3 (ipykernel)",
   "language": "python",
   "name": "python3"
  },
  "language_info": {
   "codemirror_mode": {
    "name": "ipython",
    "version": 3
   },
   "file_extension": ".py",
   "mimetype": "text/x-python",
   "name": "python",
   "nbconvert_exporter": "python",
   "pygments_lexer": "ipython3",
   "version": "3.9.10"
  }
 },
 "nbformat": 4,
 "nbformat_minor": 5
}
